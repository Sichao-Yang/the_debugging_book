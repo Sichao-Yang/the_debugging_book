{
 "cells": [
  {
   "cell_type": "markdown",
   "metadata": {
    "button": false,
    "new_sheet": false,
    "run_control": {
     "read_only": false
    },
    "slideshow": {
     "slide_type": "slide"
    }
   },
   "source": [
    "# Reducing Failure-Inducing Inputs\n",
    "\n",
    "A standard problem in debugging is this: Your program fails after processing some large input. Only a _part_ of this input, however, is responsible for the failure. _Reducing_ the input to a failure-inducing minimum not only eases debugging – it also helps in understanding why and when the program fails. In this chapter, we present techniques that _automatically reduce and simplify failure-inducing inputs to a minimum_, notably the popular _Delta Debugging_ technique."
   ]
  },
  {
   "cell_type": "code",
   "execution_count": 1,
   "metadata": {
    "execution": {
     "iopub.execute_input": "2023-11-12T12:40:47.682025Z",
     "iopub.status.busy": "2023-11-12T12:40:47.681898Z",
     "iopub.status.idle": "2023-11-12T12:40:47.723987Z",
     "shell.execute_reply": "2023-11-12T12:40:47.723586Z"
    },
    "slideshow": {
     "slide_type": "skip"
    }
   },
   "outputs": [
    {
     "data": {
      "text/html": [
       "\n",
       "        <iframe\n",
       "            width=\"640\"\n",
       "            height=\"360\"\n",
       "            src=\"https://www.youtube-nocookie.com/embed/6fmJ5l257bM\"\n",
       "            frameborder=\"0\"\n",
       "            allowfullscreen\n",
       "            \n",
       "        ></iframe>\n",
       "        "
      ],
      "text/plain": [
       "<IPython.lib.display.IFrame at 0x1050f71f0>"
      ]
     },
     "execution_count": 1,
     "metadata": {},
     "output_type": "execute_result"
    }
   ],
   "source": [
    "from bookutils import YouTubeVideo\n",
    "YouTubeVideo(\"6fmJ5l257bM\")"
   ]
  },
  {
   "cell_type": "markdown",
   "metadata": {
    "button": false,
    "new_sheet": false,
    "run_control": {
     "read_only": false
    },
    "slideshow": {
     "slide_type": "subslide"
    }
   },
   "source": [
    "**Prerequisites**\n",
    "\n",
    "* Using the \"delta debugging\" technique for reduction has no specific prerequisites.\n",
    "* To understand the `DeltaDebugger` implementation, reading [the chapter on tracing](Tracer.ipynb) is recommended."
   ]
  },
  {
   "attachments": {},
   "cell_type": "markdown",
   "metadata": {
    "button": false,
    "new_sheet": false,
    "run_control": {
     "read_only": false
    },
    "slideshow": {
     "slide_type": "fragment"
    }
   },
   "source": [
    "This chapter is adapted from [a similar chapter in \"The Fuzzing Book\"](https://www.fuzzingbook.org/html/Reducer.html). The material has been adapted to be independent of the `fuzzingbook` infrastructure, to build on general delta debugging (`dd`), and to provide a simpler invocation interface."
   ]
  },
  {
   "cell_type": "markdown",
   "metadata": {
    "slideshow": {
     "slide_type": "skip"
    }
   },
   "source": [
    "## Synopsis\n",
    "<!-- Automatically generated. Do not edit. -->\n",
    "\n",
    "To [use the code provided in this chapter](Importing.ipynb), write\n",
    "\n",
    "```python\n",
    ">>> from debuggingbook.DeltaDebugger import <identifier>\n",
    "```\n",
    "\n",
    "and then make use of the following features.\n",
    "\n",
    "\n",
    "A _reducer_ takes a failure-inducing input and reduces it to the minimum that still reproduces the failure.  This chapter provides a `DeltaDebugger` class that implements such a reducer.\n",
    "\n",
    "Here is a simple example: An arithmetic expression causes an error in the Python interpreter:\n",
    "\n",
    "```python\n",
    ">>> def myeval(inp: str) -> Any:\n",
    ">>>     return eval(inp)\n",
    ">>> with ExpectError(ZeroDivisionError):\n",
    ">>>     myeval('1 + 2 * 3 / 0')\n",
    "Traceback (most recent call last):\n",
    "  File \"/var/folders/n2/xd9445p97rb3xh7m1dfx8_4h0006ts/T/ipykernel_25735/4002351332.py\", line 2, in <cell line: 1>\n",
    "    myeval('1 + 2 * 3 / 0')\n",
    "  File \"/var/folders/n2/xd9445p97rb3xh7m1dfx8_4h0006ts/T/ipykernel_25735/2200911420.py\", line 2, in myeval\n",
    "    return eval(inp)\n",
    "  File \"<string>\", line 1, in <module>\n",
    "ZeroDivisionError: division by zero (expected)\n",
    "\n",
    "```\n",
    "Can we reduce this input to a minimum? _Delta Debugging_ is a simple and robust reduction algorithm. We provide a `DeltaDebugger` class that is used in conjunction with a (failing) function call:\n",
    "\n",
    "```python\n",
    "with DeltaDebugger() as dd:\n",
    "    fun(args...)\n",
    "dd\n",
    "```\n",
    "\n",
    "The class automatically determines minimal arguments that cause the function to fail with the same exception as the original. Printing out the class object reveals the minimized call.\n",
    "\n",
    "```python\n",
    ">>> with DeltaDebugger() as dd:\n",
    ">>>     myeval('1 + 2 * 3 / 0')\n",
    ">>> dd\n",
    "myeval(inp='3/0')\n",
    "```\n",
    "The input is reduced to the minimum: We get the essence of the division by zero.\n",
    "\n",
    "There also is an interface to access the reduced input(s) programmatically. The method `min_args()` returns a dictionary in which all function arguments are minimized:\n",
    "\n",
    "```python\n",
    ">>> dd.min_args()\n",
    "{'inp': '3/0'}\n",
    "```\n",
    "In contrast, `max_args()` returns a dictionary in which all function arguments are maximized, but still pass:\n",
    "\n",
    "```python\n",
    ">>> dd.max_args()\n",
    "{'inp': '1 + 2 * 3  '}\n",
    "```\n",
    "The method `min_arg_diff()` returns a triple of \n",
    "* passing input,\n",
    "* failing input, and\n",
    "* their minimal failure-inducing difference:\n",
    "\n",
    "```python\n",
    ">>> dd.min_arg_diff()\n",
    "({'inp': ' 3 '}, {'inp': ' 3 /0'}, {'inp': '/0'})\n",
    "```\n",
    "And you can also access the function itself, as well as its original arguments.\n",
    "\n",
    "```python\n",
    ">>> dd.function().__name__, dd.args()\n",
    "('myeval', {'inp': '1 + 2 * 3 / 0'})\n",
    "```\n",
    "`DeltaDebugger` processes (i.e., minimizes or maximizes) all arguments that support a `len()` operation and that can be indexed – notably _strings_ and _lists_. If a function has multiple arguments, all arguments that can be processed will be processed.\n",
    "\n",
    "This chapter also provides a number of superclasses to `DeltaDebugger`, notably `CallCollector`, which obtains the first function call for `DeltaDebugger`. `CallReducer` classes allow for implementing alternate call reduction strategies.\n",
    "\n",
    "![](PICS/DeltaDebugger-synopsis-1.svg)\n",
    "\n"
   ]
  },
  {
   "cell_type": "markdown",
   "metadata": {
    "button": false,
    "new_sheet": true,
    "run_control": {
     "read_only": false
    },
    "slideshow": {
     "slide_type": "slide"
    }
   },
   "source": [
    "## Why Reducing?\n",
    "\n",
    "A common problem in debugging is that given an input, only a _small part of that input may be responsible for the failure_. A central part of debugging is to _identify_ these parts – and to simplify (or _reduce_) the input to a minimal form that reproduces the failure – but does and contains as little else as possible."
   ]
  },
  {
   "cell_type": "markdown",
   "metadata": {
    "button": false,
    "new_sheet": true,
    "run_control": {
     "read_only": false
    },
    "slideshow": {
     "slide_type": "fragment"
    }
   },
   "source": [
    "Here's an example of such a situation.  We have a `mystery()` method that – given its code – can occasionally fail.  But under which circumstances does this actually happen?  We have deliberately obscured the exact condition in order to make this non-obvious."
   ]
  },
  {
   "cell_type": "code",
   "execution_count": 2,
   "metadata": {
    "button": false,
    "execution": {
     "iopub.execute_input": "2023-11-12T12:40:47.744884Z",
     "iopub.status.busy": "2023-11-12T12:40:47.744593Z",
     "iopub.status.idle": "2023-11-12T12:40:47.747162Z",
     "shell.execute_reply": "2023-11-12T12:40:47.746889Z"
    },
    "new_sheet": false,
    "run_control": {
     "read_only": false
    },
    "slideshow": {
     "slide_type": "skip"
    }
   },
   "outputs": [],
   "source": [
    "import bookutils.setup"
   ]
  },
  {
   "cell_type": "code",
   "execution_count": 3,
   "metadata": {
    "execution": {
     "iopub.execute_input": "2023-11-12T12:40:47.748708Z",
     "iopub.status.busy": "2023-11-12T12:40:47.748577Z",
     "iopub.status.idle": "2023-11-12T12:40:47.847796Z",
     "shell.execute_reply": "2023-11-12T12:40:47.847459Z"
    },
    "slideshow": {
     "slide_type": "skip"
    }
   },
   "outputs": [],
   "source": [
    "import Tracer"
   ]
  },
  {
   "cell_type": "code",
   "execution_count": 4,
   "metadata": {
    "execution": {
     "iopub.execute_input": "2023-11-12T12:40:47.849755Z",
     "iopub.status.busy": "2023-11-12T12:40:47.849613Z",
     "iopub.status.idle": "2023-11-12T12:40:47.851437Z",
     "shell.execute_reply": "2023-11-12T12:40:47.851143Z"
    },
    "slideshow": {
     "slide_type": "skip"
    }
   },
   "outputs": [],
   "source": [
    "from bookutils import quiz"
   ]
  },
  {
   "cell_type": "code",
   "execution_count": 5,
   "metadata": {
    "execution": {
     "iopub.execute_input": "2023-11-12T12:40:47.853113Z",
     "iopub.status.busy": "2023-11-12T12:40:47.853000Z",
     "iopub.status.idle": "2023-11-12T12:40:47.855035Z",
     "shell.execute_reply": "2023-11-12T12:40:47.854740Z"
    },
    "slideshow": {
     "slide_type": "subslide"
    }
   },
   "outputs": [],
   "source": [
    "def mystery(inp: str) -> None:\n",
    "    x = inp.find(chr(0o17 + 0o31))\n",
    "    y = inp.find(chr(0o27 + 0o22))\n",
    "    if x >= 0 and y >= 0 and x < y:\n",
    "        raise ValueError(\"Invalid input\")\n",
    "    else:\n",
    "        pass"
   ]
  },
  {
   "attachments": {},
   "cell_type": "markdown",
   "metadata": {
    "slideshow": {
     "slide_type": "fragment"
    }
   },
   "source": [
    "To find an input that causes the function to fail, let us _fuzz_ it – that is, feed it with random inputs – until we find a failing input. There are [entire books about fuzzing](https://fuzzingbook.org); but here, a very simple `fuzz()` function for this purpose will already suffice."
   ]
  },
  {
   "cell_type": "markdown",
   "metadata": {
    "slideshow": {
     "slide_type": "fragment"
    }
   },
   "source": [
    "To build a fuzzer, we need random inputs – and thus a source for randomness. The function `random.randrange(a, b)` returns a random number in the range (a, b)."
   ]
  },
  {
   "cell_type": "code",
   "execution_count": 6,
   "metadata": {
    "execution": {
     "iopub.execute_input": "2023-11-12T12:40:47.856564Z",
     "iopub.status.busy": "2023-11-12T12:40:47.856454Z",
     "iopub.status.idle": "2023-11-12T12:40:47.858071Z",
     "shell.execute_reply": "2023-11-12T12:40:47.857807Z"
    },
    "slideshow": {
     "slide_type": "skip"
    }
   },
   "outputs": [],
   "source": [
    "import random"
   ]
  },
  {
   "cell_type": "code",
   "execution_count": 7,
   "metadata": {
    "execution": {
     "iopub.execute_input": "2023-11-12T12:40:47.859569Z",
     "iopub.status.busy": "2023-11-12T12:40:47.859457Z",
     "iopub.status.idle": "2023-11-12T12:40:47.861873Z",
     "shell.execute_reply": "2023-11-12T12:40:47.861616Z"
    },
    "slideshow": {
     "slide_type": "subslide"
    }
   },
   "outputs": [
    {
     "data": {
      "text/plain": [
       "107"
      ]
     },
     "execution_count": 7,
     "metadata": {},
     "output_type": "execute_result"
    }
   ],
   "source": [
    "random.randrange(32, 128)"
   ]
  },
  {
   "cell_type": "markdown",
   "metadata": {
    "slideshow": {
     "slide_type": "fragment"
    }
   },
   "source": [
    "We can use `random.randrange()` to compose random (printable) characters:"
   ]
  },
  {
   "cell_type": "code",
   "execution_count": 8,
   "metadata": {
    "execution": {
     "iopub.execute_input": "2023-11-12T12:40:47.863385Z",
     "iopub.status.busy": "2023-11-12T12:40:47.863280Z",
     "iopub.status.idle": "2023-11-12T12:40:47.865218Z",
     "shell.execute_reply": "2023-11-12T12:40:47.864937Z"
    },
    "slideshow": {
     "slide_type": "fragment"
    }
   },
   "outputs": [],
   "source": [
    "def fuzz() -> str:\n",
    "    length = random.randrange(10, 70)\n",
    "    fuzz = \"\"\n",
    "    for i in range(length):\n",
    "        fuzz += chr(random.randrange(32, 127))\n",
    "    return fuzz"
   ]
  },
  {
   "cell_type": "markdown",
   "metadata": {
    "slideshow": {
     "slide_type": "fragment"
    }
   },
   "source": [
    "Here are some random strings produced by our `fuzz()` function:"
   ]
  },
  {
   "cell_type": "code",
   "execution_count": 9,
   "metadata": {
    "execution": {
     "iopub.execute_input": "2023-11-12T12:40:47.866837Z",
     "iopub.status.busy": "2023-11-12T12:40:47.866728Z",
     "iopub.status.idle": "2023-11-12T12:40:47.868826Z",
     "shell.execute_reply": "2023-11-12T12:40:47.868558Z"
    },
    "slideshow": {
     "slide_type": "subslide"
    }
   },
   "outputs": [
    {
     "name": "stdout",
     "output_type": "stream",
     "text": [
      "'N&+slk%hyp5'\n",
      "\"'@[3(rW*M5W]tMFPU4\\\\P@tz%[X?uo\\\\1?b4T;1bDeYtHx #UJ5\"\n",
      "'w}pMmPodJM,_%%BC~dYN6*g|Y*Ou9I<P94}7,99ivb(9`=%jJj*Y*d~OLXk!;J'\n",
      "\"!iOU8]hqg00?u(c);>:\\\\=V<ZV1=*g#UJA'No5QZ)~--[})Sdv#m*L\"\n",
      "'0iHh[-MzS.U.X}fG7aA:G<bEI\\'Ofn[\",Mx{@jfto}i3D?7%V7XdtO6BjYEa#Il)~]'\n",
      "\"E`h7h)ChX0G*m,|sosJ.mu/\\\\c'EpaPi0(n{\"\n"
     ]
    }
   ],
   "source": [
    "for i in range(6):\n",
    "    print(repr(fuzz()))"
   ]
  },
  {
   "cell_type": "markdown",
   "metadata": {
    "slideshow": {
     "slide_type": "fragment"
    }
   },
   "source": [
    "Let us now use `fuzz()` to find an input where `mistery()` fails:"
   ]
  },
  {
   "cell_type": "code",
   "execution_count": 10,
   "metadata": {
    "execution": {
     "iopub.execute_input": "2023-11-12T12:40:47.870527Z",
     "iopub.status.busy": "2023-11-12T12:40:47.870402Z",
     "iopub.status.idle": "2023-11-12T12:40:47.872290Z",
     "shell.execute_reply": "2023-11-12T12:40:47.872028Z"
    },
    "slideshow": {
     "slide_type": "subslide"
    }
   },
   "outputs": [],
   "source": [
    "while True:\n",
    "    fuzz_input = fuzz()\n",
    "    try:\n",
    "        mystery(fuzz_input)\n",
    "    except ValueError:\n",
    "        break"
   ]
  },
  {
   "cell_type": "markdown",
   "metadata": {
    "slideshow": {
     "slide_type": "fragment"
    }
   },
   "source": [
    "This is an input that causes `mystery()` to fail:"
   ]
  },
  {
   "cell_type": "code",
   "execution_count": 11,
   "metadata": {
    "execution": {
     "iopub.execute_input": "2023-11-12T12:40:47.873884Z",
     "iopub.status.busy": "2023-11-12T12:40:47.873765Z",
     "iopub.status.idle": "2023-11-12T12:40:47.875908Z",
     "shell.execute_reply": "2023-11-12T12:40:47.875609Z"
    },
    "slideshow": {
     "slide_type": "fragment"
    }
   },
   "outputs": [
    {
     "data": {
      "text/plain": [
       "'V\"/+!aF-(V4EOz*+s/Q,7)2@0_'"
      ]
     },
     "execution_count": 11,
     "metadata": {},
     "output_type": "execute_result"
    }
   ],
   "source": [
    "failing_input = fuzz_input\n",
    "failing_input"
   ]
  },
  {
   "cell_type": "code",
   "execution_count": 12,
   "metadata": {
    "execution": {
     "iopub.execute_input": "2023-11-12T12:40:47.877517Z",
     "iopub.status.busy": "2023-11-12T12:40:47.877402Z",
     "iopub.status.idle": "2023-11-12T12:40:47.879642Z",
     "shell.execute_reply": "2023-11-12T12:40:47.879352Z"
    },
    "slideshow": {
     "slide_type": "fragment"
    }
   },
   "outputs": [
    {
     "data": {
      "text/plain": [
       "26"
      ]
     },
     "execution_count": 12,
     "metadata": {},
     "output_type": "execute_result"
    }
   ],
   "source": [
    "len(failing_input)"
   ]
  },
  {
   "cell_type": "code",
   "execution_count": 13,
   "metadata": {
    "execution": {
     "iopub.execute_input": "2023-11-12T12:40:47.881145Z",
     "iopub.status.busy": "2023-11-12T12:40:47.881030Z",
     "iopub.status.idle": "2023-11-12T12:40:47.882711Z",
     "shell.execute_reply": "2023-11-12T12:40:47.882445Z"
    },
    "slideshow": {
     "slide_type": "skip"
    }
   },
   "outputs": [],
   "source": [
    "from ExpectError import ExpectError"
   ]
  },
  {
   "cell_type": "code",
   "execution_count": 14,
   "metadata": {
    "execution": {
     "iopub.execute_input": "2023-11-12T12:40:47.884208Z",
     "iopub.status.busy": "2023-11-12T12:40:47.884089Z",
     "iopub.status.idle": "2023-11-12T12:40:47.885823Z",
     "shell.execute_reply": "2023-11-12T12:40:47.885591Z"
    },
    "slideshow": {
     "slide_type": "subslide"
    }
   },
   "outputs": [
    {
     "name": "stderr",
     "output_type": "stream",
     "text": [
      "Traceback (most recent call last):\n",
      "  File \"/var/folders/n2/xd9445p97rb3xh7m1dfx8_4h0006ts/T/ipykernel_25735/3137704634.py\", line 2, in <cell line: 1>\n",
      "    mystery(failing_input)\n",
      "  File \"/var/folders/n2/xd9445p97rb3xh7m1dfx8_4h0006ts/T/ipykernel_25735/4141878445.py\", line 5, in mystery\n",
      "    raise ValueError(\"Invalid input\")\n",
      "ValueError: Invalid input (expected)\n"
     ]
    }
   ],
   "source": [
    "with ExpectError(ValueError):\n",
    "    mystery(failing_input)"
   ]
  },
  {
   "cell_type": "markdown",
   "metadata": {
    "slideshow": {
     "slide_type": "fragment"
    }
   },
   "source": [
    "Something in this input causes `mystery()` to fail.  But what is it?"
   ]
  },
  {
   "cell_type": "markdown",
   "metadata": {
    "button": false,
    "new_sheet": true,
    "run_control": {
     "read_only": false
    },
    "slideshow": {
     "slide_type": "slide"
    }
   },
   "source": [
    "## Manual Input Reduction\n",
    "\n",
    "One important step in the debugging process is _reduction_ – that is, to identify those circumstances of a failure that are relevant for the failure to occur, and to _omit_ (if possible) those parts that are not.  As Kernighan and Pike \\cite{Kernighan1999} put it:\n",
    "\n",
    "> For every circumstance of the problem, check whether it is relevant for the problem to occur.  If it is not, remove it from the problem report or the test case in question."
   ]
  },
  {
   "cell_type": "markdown",
   "metadata": {
    "slideshow": {
     "slide_type": "subslide"
    }
   },
   "source": [
    "Specifically for inputs, they suggest a _divide and conquer_ process:\n",
    "\n",
    "> Proceed by binary search.  Throw away half the input and see if the output is still wrong; if not, go back to the previous state and discard the other half of the input.\n",
    "\n",
    "This is something we can easily try out, using our last generated input:"
   ]
  },
  {
   "cell_type": "code",
   "execution_count": 15,
   "metadata": {
    "execution": {
     "iopub.execute_input": "2023-11-12T12:40:47.887355Z",
     "iopub.status.busy": "2023-11-12T12:40:47.887252Z",
     "iopub.status.idle": "2023-11-12T12:40:47.889296Z",
     "shell.execute_reply": "2023-11-12T12:40:47.889020Z"
    },
    "slideshow": {
     "slide_type": "fragment"
    }
   },
   "outputs": [
    {
     "data": {
      "text/plain": [
       "'V\"/+!aF-(V4EOz*+s/Q,7)2@0_'"
      ]
     },
     "execution_count": 15,
     "metadata": {},
     "output_type": "execute_result"
    }
   ],
   "source": [
    "failing_input"
   ]
  },
  {
   "cell_type": "markdown",
   "metadata": {
    "slideshow": {
     "slide_type": "fragment"
    }
   },
   "source": [
    "For instance, we can see whether the error still occurs if we only feed in the first half:"
   ]
  },
  {
   "cell_type": "code",
   "execution_count": 16,
   "metadata": {
    "execution": {
     "iopub.execute_input": "2023-11-12T12:40:47.890933Z",
     "iopub.status.busy": "2023-11-12T12:40:47.890824Z",
     "iopub.status.idle": "2023-11-12T12:40:47.893037Z",
     "shell.execute_reply": "2023-11-12T12:40:47.892790Z"
    },
    "slideshow": {
     "slide_type": "subslide"
    }
   },
   "outputs": [
    {
     "data": {
      "text/plain": [
       "'V\"/+!aF-(V4EO'"
      ]
     },
     "execution_count": 16,
     "metadata": {},
     "output_type": "execute_result"
    }
   ],
   "source": [
    "half_length = len(failing_input) // 2   # // is integer division\n",
    "first_half = failing_input[:half_length]\n",
    "first_half"
   ]
  },
  {
   "cell_type": "code",
   "execution_count": 17,
   "metadata": {
    "execution": {
     "iopub.execute_input": "2023-11-12T12:40:47.894404Z",
     "iopub.status.busy": "2023-11-12T12:40:47.894293Z",
     "iopub.status.idle": "2023-11-12T12:40:47.895827Z",
     "shell.execute_reply": "2023-11-12T12:40:47.895574Z"
    },
    "slideshow": {
     "slide_type": "fragment"
    }
   },
   "outputs": [],
   "source": [
    "with ExpectError(ValueError):\n",
    "    mystery(first_half)"
   ]
  },
  {
   "cell_type": "markdown",
   "metadata": {
    "slideshow": {
     "slide_type": "fragment"
    }
   },
   "source": [
    "Nope – the first half alone does not suffice.  Maybe the second half?"
   ]
  },
  {
   "cell_type": "code",
   "execution_count": 18,
   "metadata": {
    "execution": {
     "iopub.execute_input": "2023-11-12T12:40:47.897114Z",
     "iopub.status.busy": "2023-11-12T12:40:47.897035Z",
     "iopub.status.idle": "2023-11-12T12:40:47.899474Z",
     "shell.execute_reply": "2023-11-12T12:40:47.899003Z"
    },
    "slideshow": {
     "slide_type": "fragment"
    }
   },
   "outputs": [
    {
     "data": {
      "text/plain": [
       "'z*+s/Q,7)2@0_'"
      ]
     },
     "execution_count": 18,
     "metadata": {},
     "output_type": "execute_result"
    }
   ],
   "source": [
    "second_half = failing_input[half_length:]\n",
    "assert first_half + second_half == failing_input\n",
    "second_half"
   ]
  },
  {
   "cell_type": "code",
   "execution_count": 19,
   "metadata": {
    "execution": {
     "iopub.execute_input": "2023-11-12T12:40:47.901209Z",
     "iopub.status.busy": "2023-11-12T12:40:47.901090Z",
     "iopub.status.idle": "2023-11-12T12:40:47.902800Z",
     "shell.execute_reply": "2023-11-12T12:40:47.902537Z"
    },
    "slideshow": {
     "slide_type": "fragment"
    }
   },
   "outputs": [],
   "source": [
    "with ExpectError(ValueError):\n",
    "    mystery(second_half)"
   ]
  },
  {
   "cell_type": "markdown",
   "metadata": {
    "slideshow": {
     "slide_type": "subslide"
    }
   },
   "source": [
    "This did not go so well either.  We may still proceed by cutting away _smaller chunks_ – say, one character after another.  If our test is deterministic and easily repeated, it is clear that this process eventually will yield a reduced input.  But still, it is a rather inefficient process, especially for long inputs.  What we need is a _strategy_ that effectively minimizes a failure-inducing input – a strategy that can be automated."
   ]
  },
  {
   "cell_type": "markdown",
   "metadata": {
    "slideshow": {
     "slide_type": "slide"
    }
   },
   "source": [
    "## Delta Debugging"
   ]
  },
  {
   "cell_type": "markdown",
   "metadata": {
    "slideshow": {
     "slide_type": "fragment"
    }
   },
   "source": [
    "One strategy to effectively reduce failure-inducing inputs is _delta debugging_ \\cite{Zeller2002}.  Delta Debugging implements the \"binary search\" strategy, as listed above, but with a twist: If neither half fails (also as above), it keeps on cutting away smaller and smaller chunks from the input, until it eliminates individual characters.  Thus, after cutting away the first half, we cut away\n",
    "the first quarter, the second quarter, and so on."
   ]
  },
  {
   "cell_type": "markdown",
   "metadata": {
    "slideshow": {
     "slide_type": "fragment"
    }
   },
   "source": [
    "Let us illustrate this on our example, and see what happens if we cut away the first quarter."
   ]
  },
  {
   "cell_type": "code",
   "execution_count": 20,
   "metadata": {
    "execution": {
     "iopub.execute_input": "2023-11-12T12:40:47.904497Z",
     "iopub.status.busy": "2023-11-12T12:40:47.904369Z",
     "iopub.status.idle": "2023-11-12T12:40:47.906430Z",
     "shell.execute_reply": "2023-11-12T12:40:47.906177Z"
    },
    "slideshow": {
     "slide_type": "fragment"
    }
   },
   "outputs": [
    {
     "data": {
      "text/plain": [
       "'F-(V4EOz*+s/Q,7)2@0_'"
      ]
     },
     "execution_count": 20,
     "metadata": {},
     "output_type": "execute_result"
    }
   ],
   "source": [
    "quarter_length = len(failing_input) // 4\n",
    "input_without_first_quarter = failing_input[quarter_length:]\n",
    "input_without_first_quarter"
   ]
  },
  {
   "cell_type": "code",
   "execution_count": 21,
   "metadata": {
    "execution": {
     "iopub.execute_input": "2023-11-12T12:40:47.908027Z",
     "iopub.status.busy": "2023-11-12T12:40:47.907921Z",
     "iopub.status.idle": "2023-11-12T12:40:47.909966Z",
     "shell.execute_reply": "2023-11-12T12:40:47.909700Z"
    },
    "slideshow": {
     "slide_type": "subslide"
    }
   },
   "outputs": [
    {
     "name": "stderr",
     "output_type": "stream",
     "text": [
      "Traceback (most recent call last):\n",
      "  File \"/var/folders/n2/xd9445p97rb3xh7m1dfx8_4h0006ts/T/ipykernel_25735/2963114098.py\", line 2, in <cell line: 1>\n",
      "    mystery(input_without_first_quarter)\n",
      "  File \"/var/folders/n2/xd9445p97rb3xh7m1dfx8_4h0006ts/T/ipykernel_25735/4141878445.py\", line 5, in mystery\n",
      "    raise ValueError(\"Invalid input\")\n",
      "ValueError: Invalid input (expected)\n"
     ]
    }
   ],
   "source": [
    "with ExpectError(ValueError):\n",
    "    mystery(input_without_first_quarter)"
   ]
  },
  {
   "cell_type": "markdown",
   "metadata": {
    "slideshow": {
     "slide_type": "fragment"
    }
   },
   "source": [
    "Ah! This has failed, and reduced our failing input by 25%.  Let's remove another quarter."
   ]
  },
  {
   "cell_type": "code",
   "execution_count": 22,
   "metadata": {
    "execution": {
     "iopub.execute_input": "2023-11-12T12:40:47.911615Z",
     "iopub.status.busy": "2023-11-12T12:40:47.911508Z",
     "iopub.status.idle": "2023-11-12T12:40:47.913608Z",
     "shell.execute_reply": "2023-11-12T12:40:47.913311Z"
    },
    "slideshow": {
     "slide_type": "fragment"
    }
   },
   "outputs": [
    {
     "data": {
      "text/plain": [
       "'Oz*+s/Q,7)2@0_'"
      ]
     },
     "execution_count": 22,
     "metadata": {},
     "output_type": "execute_result"
    }
   ],
   "source": [
    "input_without_first_and_second_quarter = failing_input[quarter_length * 2:]\n",
    "input_without_first_and_second_quarter"
   ]
  },
  {
   "cell_type": "code",
   "execution_count": 23,
   "metadata": {
    "execution": {
     "iopub.execute_input": "2023-11-12T12:40:47.915046Z",
     "iopub.status.busy": "2023-11-12T12:40:47.914941Z",
     "iopub.status.idle": "2023-11-12T12:40:47.916655Z",
     "shell.execute_reply": "2023-11-12T12:40:47.916428Z"
    },
    "slideshow": {
     "slide_type": "subslide"
    }
   },
   "outputs": [],
   "source": [
    "with ExpectError(ValueError):\n",
    "    mystery(input_without_first_and_second_quarter)"
   ]
  },
  {
   "cell_type": "markdown",
   "metadata": {
    "slideshow": {
     "slide_type": "fragment"
    }
   },
   "source": [
    "This is not too surprising, as we had that one before:"
   ]
  },
  {
   "cell_type": "code",
   "execution_count": 24,
   "metadata": {
    "execution": {
     "iopub.execute_input": "2023-11-12T12:40:47.918247Z",
     "iopub.status.busy": "2023-11-12T12:40:47.918127Z",
     "iopub.status.idle": "2023-11-12T12:40:47.920115Z",
     "shell.execute_reply": "2023-11-12T12:40:47.919844Z"
    },
    "slideshow": {
     "slide_type": "fragment"
    }
   },
   "outputs": [
    {
     "data": {
      "text/plain": [
       "'z*+s/Q,7)2@0_'"
      ]
     },
     "execution_count": 24,
     "metadata": {},
     "output_type": "execute_result"
    }
   ],
   "source": [
    "second_half"
   ]
  },
  {
   "cell_type": "code",
   "execution_count": 25,
   "metadata": {
    "execution": {
     "iopub.execute_input": "2023-11-12T12:40:47.921587Z",
     "iopub.status.busy": "2023-11-12T12:40:47.921471Z",
     "iopub.status.idle": "2023-11-12T12:40:47.923497Z",
     "shell.execute_reply": "2023-11-12T12:40:47.923234Z"
    },
    "slideshow": {
     "slide_type": "fragment"
    }
   },
   "outputs": [
    {
     "data": {
      "text/plain": [
       "'Oz*+s/Q,7)2@0_'"
      ]
     },
     "execution_count": 25,
     "metadata": {},
     "output_type": "execute_result"
    }
   ],
   "source": [
    "input_without_first_and_second_quarter"
   ]
  },
  {
   "cell_type": "markdown",
   "metadata": {
    "slideshow": {
     "slide_type": "fragment"
    }
   },
   "source": [
    "How about removing the third quarter, then?"
   ]
  },
  {
   "cell_type": "code",
   "execution_count": 26,
   "metadata": {
    "execution": {
     "iopub.execute_input": "2023-11-12T12:40:47.925002Z",
     "iopub.status.busy": "2023-11-12T12:40:47.924894Z",
     "iopub.status.idle": "2023-11-12T12:40:47.927119Z",
     "shell.execute_reply": "2023-11-12T12:40:47.926863Z"
    },
    "slideshow": {
     "slide_type": "fragment"
    }
   },
   "outputs": [
    {
     "data": {
      "text/plain": [
       "'F-(V4EQ,7)2@0_'"
      ]
     },
     "execution_count": 26,
     "metadata": {},
     "output_type": "execute_result"
    }
   ],
   "source": [
    "input_without_first_and_third_quarter = failing_input[quarter_length:\n",
    "                                                      quarter_length * 2] + failing_input[quarter_length * 3:]\n",
    "input_without_first_and_third_quarter"
   ]
  },
  {
   "cell_type": "code",
   "execution_count": 27,
   "metadata": {
    "execution": {
     "iopub.execute_input": "2023-11-12T12:40:47.928669Z",
     "iopub.status.busy": "2023-11-12T12:40:47.928549Z",
     "iopub.status.idle": "2023-11-12T12:40:47.930334Z",
     "shell.execute_reply": "2023-11-12T12:40:47.930062Z"
    },
    "slideshow": {
     "slide_type": "subslide"
    }
   },
   "outputs": [
    {
     "name": "stderr",
     "output_type": "stream",
     "text": [
      "Traceback (most recent call last):\n",
      "  File \"/var/folders/n2/xd9445p97rb3xh7m1dfx8_4h0006ts/T/ipykernel_25735/4218135276.py\", line 2, in <cell line: 1>\n",
      "    mystery(input_without_first_and_third_quarter)\n",
      "  File \"/var/folders/n2/xd9445p97rb3xh7m1dfx8_4h0006ts/T/ipykernel_25735/4141878445.py\", line 5, in mystery\n",
      "    raise ValueError(\"Invalid input\")\n",
      "ValueError: Invalid input (expected)\n"
     ]
    }
   ],
   "source": [
    "with ExpectError(ValueError):\n",
    "    mystery(input_without_first_and_third_quarter)"
   ]
  },
  {
   "cell_type": "markdown",
   "metadata": {
    "slideshow": {
     "slide_type": "fragment"
    }
   },
   "source": [
    "Yes!  This has succeeded.  Our input is now 50% smaller."
   ]
  },
  {
   "cell_type": "markdown",
   "metadata": {
    "slideshow": {
     "slide_type": "fragment"
    }
   },
   "source": [
    "We have now tried to remove pieces that make up $\\frac{1}{2}$ and $\\frac{1}{4}$ of the original failing string.  In the next iteration, we would go and remove even smaller pieces – $\\frac{1}{8}$, $\\frac{1}{16}$ and so on.  We continue until we are down to $\\frac{1}{26}$ – that is, individual characters."
   ]
  },
  {
   "cell_type": "markdown",
   "metadata": {
    "slideshow": {
     "slide_type": "subslide"
    }
   },
   "source": [
    "However, this is something we happily let a computer do for us – and this is what the _Delta Debugging_ algorithm does.  Delta Debugging implements the strategy sketched above: It first removes larger chunks of size $\\frac{1}{2}$; if this does not fail, then we proceed to chunks of size $\\frac{1}{4}$, then $\\frac{1}{8}$ and so on."
   ]
  },
  {
   "cell_type": "markdown",
   "metadata": {
    "slideshow": {
     "slide_type": "fragment"
    }
   },
   "source": [
    "Our `ddmin()` implementation uses the exact same Python code as Zeller in \\cite{Zeller2002}; the only difference is that it has been adapted to work on Python 3.  The variable `n` (initially 2) indicates the granularity – in each step, chunks of size $\\frac{1}{n}$ are cut away.  If none of the test fails (`some_complement_is_failing` is False), then `n` is doubled – until it reaches the length of the input."
   ]
  },
  {
   "cell_type": "code",
   "execution_count": 28,
   "metadata": {
    "execution": {
     "iopub.execute_input": "2023-11-12T12:40:47.931873Z",
     "iopub.status.busy": "2023-11-12T12:40:47.931768Z",
     "iopub.status.idle": "2023-11-12T12:40:47.933392Z",
     "shell.execute_reply": "2023-11-12T12:40:47.933144Z"
    },
    "slideshow": {
     "slide_type": "fragment"
    }
   },
   "outputs": [],
   "source": [
    "PASS = 'PASS'\n",
    "FAIL = 'FAIL'\n",
    "UNRESOLVED = 'UNRESOLVED'"
   ]
  },
  {
   "cell_type": "code",
   "execution_count": 29,
   "metadata": {
    "execution": {
     "iopub.execute_input": "2023-11-12T12:40:47.934761Z",
     "iopub.status.busy": "2023-11-12T12:40:47.934668Z",
     "iopub.status.idle": "2023-11-12T12:40:47.936442Z",
     "shell.execute_reply": "2023-11-12T12:40:47.936184Z"
    },
    "slideshow": {
     "slide_type": "subslide"
    }
   },
   "outputs": [],
   "source": [
    "# ignore\n",
    "from typing import Sequence, Any, Callable, Optional, Type, Tuple\n",
    "from typing import Dict, Union, Set, List, FrozenSet, cast"
   ]
  },
  {
   "cell_type": "code",
   "execution_count": 30,
   "metadata": {
    "execution": {
     "iopub.execute_input": "2023-11-12T12:40:47.937780Z",
     "iopub.status.busy": "2023-11-12T12:40:47.937696Z",
     "iopub.status.idle": "2023-11-12T12:40:47.940771Z",
     "shell.execute_reply": "2023-11-12T12:40:47.940492Z"
    },
    "slideshow": {
     "slide_type": "subslide"
    }
   },
   "outputs": [],
   "source": [
    "def ddmin(test: Callable, inp: Sequence, *test_args: Any) -> Sequence:\n",
    "    \"\"\"Reduce the input inp, using the outcome of test(fun, inp).\"\"\"\n",
    "    assert test(inp, *test_args) != PASS\n",
    "\n",
    "    n = 2     # Initial granularity\n",
    "    while len(inp) >= 2:\n",
    "        start = 0\n",
    "        subset_length = int(len(inp) / n)\n",
    "        some_complement_is_failing = False\n",
    "\n",
    "        while start < len(inp):\n",
    "            complement = (inp[:int(start)] + inp[int(start + subset_length):])  # type: ignore\n",
    "\n",
    "            if test(complement, *test_args) == FAIL:\n",
    "                inp = complement\n",
    "                n = max(n - 1, 2)\n",
    "                some_complement_is_failing = True\n",
    "                break\n",
    "\n",
    "            start += subset_length\n",
    "\n",
    "        if not some_complement_is_failing:\n",
    "            if n == len(inp):\n",
    "                break\n",
    "            n = min(n * 2, len(inp))\n",
    "\n",
    "    return inp"
   ]
  },
  {
   "cell_type": "markdown",
   "metadata": {
    "slideshow": {
     "slide_type": "subslide"
    }
   },
   "source": [
    "To see how `ddmin()` works, let us run it on our failing input. We need to define a `test` function that returns PASS or FAIL, depending on the test outcome. This `generic_test()` assumes that the function fails if it raises an exception (such as an `AssertException`), and passes otherwise. The optional argument `expected_exc` specifies the name of exception to be checked for; this ensures we reduce only for the kind of error raised in the original failure."
   ]
  },
  {
   "cell_type": "code",
   "execution_count": 31,
   "metadata": {
    "execution": {
     "iopub.execute_input": "2023-11-12T12:40:47.942277Z",
     "iopub.status.busy": "2023-11-12T12:40:47.942179Z",
     "iopub.status.idle": "2023-11-12T12:40:47.944760Z",
     "shell.execute_reply": "2023-11-12T12:40:47.944511Z"
    },
    "slideshow": {
     "slide_type": "subslide"
    }
   },
   "outputs": [],
   "source": [
    "def generic_test(inp: Sequence, fun: Callable,\n",
    "                 expected_exc: Optional[Type] = None) -> str:\n",
    "    result = None\n",
    "    detail = \"\"\n",
    "    try:\n",
    "        result = fun(inp)\n",
    "        outcome = PASS\n",
    "    except Exception as exc:\n",
    "        detail = f\" ({type(exc).__name__}: {str(exc)})\"\n",
    "        if expected_exc is None:\n",
    "            outcome = FAIL\n",
    "        elif type(exc) == type(expected_exc) and str(exc) == str(expected_exc):\n",
    "            outcome = FAIL\n",
    "        else:\n",
    "            outcome = UNRESOLVED\n",
    "\n",
    "    print(f\"{fun.__name__}({repr(inp)}): {outcome}{detail}\")\n",
    "    return outcome"
   ]
  },
  {
   "cell_type": "markdown",
   "metadata": {
    "slideshow": {
     "slide_type": "subslide"
    }
   },
   "source": [
    "We can now invoke `ddmin()` in our setting. With each step, we see how the remaining input gets smaller and smaller, until only two characters remain:"
   ]
  },
  {
   "cell_type": "code",
   "execution_count": 32,
   "metadata": {
    "execution": {
     "iopub.execute_input": "2023-11-12T12:40:47.946306Z",
     "iopub.status.busy": "2023-11-12T12:40:47.946197Z",
     "iopub.status.idle": "2023-11-12T12:40:47.948571Z",
     "shell.execute_reply": "2023-11-12T12:40:47.948276Z"
    },
    "slideshow": {
     "slide_type": "subslide"
    }
   },
   "outputs": [
    {
     "name": "stdout",
     "output_type": "stream",
     "text": [
      "mystery('V\"/+!aF-(V4EOz*+s/Q,7)2@0_'): FAIL (ValueError: Invalid input)\n",
      "mystery('z*+s/Q,7)2@0_'): PASS\n",
      "mystery('V\"/+!aF-(V4EO'): PASS\n",
      "mystery('F-(V4EOz*+s/Q,7)2@0_'): FAIL (ValueError: Invalid input)\n",
      "mystery('Oz*+s/Q,7)2@0_'): PASS\n",
      "mystery('F-(V4EQ,7)2@0_'): FAIL (ValueError: Invalid input)\n",
      "mystery(',7)2@0_'): PASS\n",
      "mystery('F-(V4EQ'): PASS\n",
      "mystery('V4EQ,7)2@0_'): PASS\n",
      "mystery('F-(Q,7)2@0_'): FAIL (ValueError: Invalid input)\n",
      "mystery('Q,7)2@0_'): PASS\n",
      "mystery('F-()2@0_'): FAIL (ValueError: Invalid input)\n",
      "mystery('2@0_'): PASS\n",
      "mystery('F-()'): FAIL (ValueError: Invalid input)\n",
      "mystery('()'): FAIL (ValueError: Invalid input)\n",
      "mystery(')'): PASS\n",
      "mystery('('): PASS\n"
     ]
    },
    {
     "data": {
      "text/plain": [
       "'()'"
      ]
     },
     "execution_count": 32,
     "metadata": {},
     "output_type": "execute_result"
    }
   ],
   "source": [
    "ddmin(generic_test, failing_input, mystery, ValueError('Invalid input'))"
   ]
  },
  {
   "cell_type": "markdown",
   "metadata": {
    "slideshow": {
     "slide_type": "subslide"
    }
   },
   "source": [
    "Now we know why `mystery()` fails – it suffices that the input contains two matching parentheses.  Delta Debugging determines this in 25 steps.  Its result is _1-minimal_, meaning that every character contained is required to produce the error; removing any (as seen in the last two tests, above) no longer causes the test to fail.  This property is guaranteed by the delta debugging algorithm, which in its last stage always tries to delete characters one by one."
   ]
  },
  {
   "cell_type": "markdown",
   "metadata": {
    "button": false,
    "new_sheet": true,
    "run_control": {
     "read_only": false
    },
    "slideshow": {
     "slide_type": "subslide"
    }
   },
   "source": [
    "A reduced test case such as the one above has many advantages:\n",
    "\n",
    "* A reduced test case __reduces the _cognitive load_ of the programmer__.  The test case is shorter and focused, and thus does not burden the programmer with irrelevant details.  A reduced input typically leads to shorter executions and smaller program states, both of which reduce the search space as it comes to understanding the bug.  In our case, we have eliminated lots of irrelevant input – only the two characters the reduced input contains are relevant.\n",
    "\n",
    "* A reduced test case __is easier to communicate__.  All one needs here is the summary: `mystery() fails on \"()\"`, which is much better than `mystery() fails on a 4100-character input (attached)`.\n",
    "\n",
    "* A reduced test case helps in __identifying duplicates__.  If similar bugs have been reported already, and all of them have been reduced to the same cause (namely that the input contains matching parentheses), then it becomes obvious that all these bugs are different symptoms of the same underlying cause – and would all be resolved at once with one code fix."
   ]
  },
  {
   "attachments": {},
   "cell_type": "markdown",
   "metadata": {
    "slideshow": {
     "slide_type": "subslide"
    }
   },
   "source": [
    "How effective is delta debugging?  In the best case (when the left half or the right half fails), the number of tests is logarithmic proportional to the length $n$ of an input (i.e., $O(\\log_2 n)$); this is the same complexity as binary search.  In the worst case, though, delta debugging can require a number of tests proportional to $n^2$ (i.e., $O(n^2)$) – this happens in the case when we are down to character granularity, and we have to repeatedly tried to delete all characters, only to find that deleting the last character results in a failure \\cite{Zeller2002}.  (This is a pretty pathological situation, though.)"
   ]
  },
  {
   "cell_type": "markdown",
   "metadata": {
    "slideshow": {
     "slide_type": "fragment"
    }
   },
   "source": [
    "In general, delta debugging is a robust algorithm that is easy to implement, easy to deploy, and easy to use – provided that the underlying test case is deterministic and runs quickly enough to warrant a number of experiments. In general, any debugging task should start with simplifying the test case as much as possible – and this is where delta debugging can help."
   ]
  },
  {
   "cell_type": "markdown",
   "metadata": {
    "slideshow": {
     "slide_type": "slide"
    }
   },
   "source": [
    "## A Simple DeltaDebugger Interface\n",
    "\n",
    "As defined above, using `ddmin()` still requires the developer to set up a special testing function – and writing or using even a generic tester (like `generic_test()`) takes some effort.  We want to simplify the setup such that only two lines of Python is required.\n",
    "\n",
    "Our aim is to have a `DeltaDebugger` class that we can use in conjunction with a failing (i.e., exception raising) function call:\n",
    "\n",
    "```python\n",
    "with DeltaDebugger() as dd:\n",
    "    mystery(failing_input)\n",
    "dd\n",
    "```\n",
    "Here, at the end of the `with` statement, printing out `dd` shows us the minimal input that causes the failure."
   ]
  },
  {
   "cell_type": "markdown",
   "metadata": {
    "slideshow": {
     "slide_type": "subslide"
    }
   },
   "source": [
    "### Excursion: Implementing DeltaDebugger"
   ]
  },
  {
   "attachments": {},
   "cell_type": "markdown",
   "metadata": {
    "slideshow": {
     "slide_type": "subslide"
    }
   },
   "source": [
    "Our interface consist of six building blocks:\n",
    "\n",
    "1. We collect the name and args of the first call in the `with` body, as well as the exception it raises.\n",
    "2. We set up an infrastructure such that we can repeat calls with different arguments.\n",
    "3. We make sure that multiple tests with the same arguments can return outcomes from a cache.\n",
    "4. We create a `DeltaDebugger` class that implements the general Delta Debugging algorithm – an algorithm than can minimize failing inputs as well as maximize passing inputs.\n",
    "5. We provide an infrastructure that applies Delta Debugging on multiple arguments.\n",
    "6. Finally, custom methods like `min_args()` allow invoking delta debugging on arguments."
   ]
  },
  {
   "cell_type": "markdown",
   "metadata": {
    "slideshow": {
     "slide_type": "subslide"
    }
   },
   "source": [
    "#### Collecting a Call\n",
    "\n",
    "We start by creating an infrastructure that collects a call. The `CallCollector` class saves the first call observed in `_function`, `_args`, and `_exception` attributes, respectively; it then turns tracing off."
   ]
  },
  {
   "cell_type": "code",
   "execution_count": 33,
   "metadata": {
    "execution": {
     "iopub.execute_input": "2023-11-12T12:40:47.950670Z",
     "iopub.status.busy": "2023-11-12T12:40:47.950459Z",
     "iopub.status.idle": "2023-11-12T12:40:47.952277Z",
     "shell.execute_reply": "2023-11-12T12:40:47.952003Z"
    },
    "slideshow": {
     "slide_type": "skip"
    }
   },
   "outputs": [],
   "source": [
    "import sys"
   ]
  },
  {
   "cell_type": "code",
   "execution_count": 34,
   "metadata": {
    "execution": {
     "iopub.execute_input": "2023-11-12T12:40:47.953818Z",
     "iopub.status.busy": "2023-11-12T12:40:47.953703Z",
     "iopub.status.idle": "2023-11-12T12:40:47.955333Z",
     "shell.execute_reply": "2023-11-12T12:40:47.955084Z"
    },
    "slideshow": {
     "slide_type": "skip"
    }
   },
   "outputs": [],
   "source": [
    "from types import FunctionType, FrameType, TracebackType"
   ]
  },
  {
   "cell_type": "code",
   "execution_count": 35,
   "metadata": {
    "execution": {
     "iopub.execute_input": "2023-11-12T12:40:47.956679Z",
     "iopub.status.busy": "2023-11-12T12:40:47.956593Z",
     "iopub.status.idle": "2023-11-12T12:40:47.958445Z",
     "shell.execute_reply": "2023-11-12T12:40:47.958172Z"
    },
    "slideshow": {
     "slide_type": "skip"
    }
   },
   "outputs": [],
   "source": [
    "from StackInspector import StackInspector"
   ]
  },
  {
   "cell_type": "code",
   "execution_count": 36,
   "metadata": {
    "execution": {
     "iopub.execute_input": "2023-11-12T12:40:47.960148Z",
     "iopub.status.busy": "2023-11-12T12:40:47.960030Z",
     "iopub.status.idle": "2023-11-12T12:40:47.961684Z",
     "shell.execute_reply": "2023-11-12T12:40:47.961446Z"
    },
    "slideshow": {
     "slide_type": "fragment"
    }
   },
   "outputs": [],
   "source": [
    "class NoCallError(ValueError):\n",
    "    pass"
   ]
  },
  {
   "cell_type": "code",
   "execution_count": 37,
   "metadata": {
    "execution": {
     "iopub.execute_input": "2023-11-12T12:40:47.963044Z",
     "iopub.status.busy": "2023-11-12T12:40:47.962959Z",
     "iopub.status.idle": "2023-11-12T12:40:47.967674Z",
     "shell.execute_reply": "2023-11-12T12:40:47.967430Z"
    },
    "slideshow": {
     "slide_type": "subslide"
    }
   },
   "outputs": [],
   "source": [
    "class CallCollector(StackInspector):\n",
    "    \"\"\"\n",
    "    Collect an exception-raising function call f().\n",
    "    Use as `with CallCollector(): f()`\n",
    "    \"\"\"\n",
    "\n",
    "    def __init__(self) -> None:\n",
    "        \"\"\"Initialize collector\"\"\"\n",
    "        self.init()\n",
    "\n",
    "    def init(self) -> None:\n",
    "        \"\"\"Reset for new collection.\"\"\"\n",
    "        self._function: Optional[Callable] = None\n",
    "        self._args: Dict[str, Any] = {}\n",
    "        self._exception: Optional[BaseException] = None\n",
    "        self.original_trace_function: Optional[Callable] = None\n",
    "\n",
    "    def traceit(self, frame: FrameType, event: str, arg: Any) -> None:\n",
    "        \"\"\"Tracing function. Collect first call, then turn tracing off.\"\"\"\n",
    "        if event == 'call':\n",
    "            name = frame.f_code.co_name\n",
    "            if name.startswith('__'):\n",
    "                # Internal function\n",
    "                return\n",
    "            if self._function is not None:\n",
    "                # Already set\n",
    "                return\n",
    "\n",
    "            func = self.search_func(name, frame)\n",
    "            if func:\n",
    "                self._function = func\n",
    "            else:\n",
    "                # Create new function from given code\n",
    "                self._function = self.create_function(frame)\n",
    "\n",
    "            self._args = {}  # Create a local copy of args\n",
    "            for var in frame.f_locals:\n",
    "                if var in frame.f_code.co_freevars:\n",
    "                    continue  # Local var, not an argument\n",
    "                self._args[var] = frame.f_locals[var]\n",
    "\n",
    "            # Turn tracing off\n",
    "            sys.settrace(self.original_trace_function)\n",
    "\n",
    "    def after_collection(self) -> None:\n",
    "        \"\"\"Called after collection. To be defined in subclasses.\"\"\"\n",
    "        pass\n",
    "\n",
    "    def args(self) -> Dict[str, Any]:\n",
    "        \"\"\"Return the dictionary of collected arguments.\"\"\"\n",
    "        return self._args\n",
    "\n",
    "    def function(self) -> Callable:\n",
    "        \"\"\"Return the function called.\"\"\"\n",
    "        if self._function is None:\n",
    "            raise NoCallError(\"No function call collected\")\n",
    "        return self._function\n",
    "\n",
    "    def exception(self) -> Optional[BaseException]:\n",
    "        \"\"\"Return the exception produced, or `None` if none.\"\"\"\n",
    "        return self._exception\n",
    "\n",
    "    def format_call(self, args: Optional[Dict[str, Any]] = None) -> str:  # type: ignore\n",
    "        ...\n",
    "\n",
    "    def format_exception(self, exc: Optional[BaseException] = None) -> str:  # type: ignore\n",
    "        ...\n",
    "\n",
    "    def call(self, new_args: Optional[Dict[str, Any]] = None) -> Any:  # type: ignore\n",
    "        ..."
   ]
  },
  {
   "cell_type": "markdown",
   "metadata": {
    "slideshow": {
     "slide_type": "subslide"
    }
   },
   "source": [
    "A `CallCollector` is used like a `Tracer` from the [chapter on tracing](Tracer.ipynb), using a `with` block to collect a single function call."
   ]
  },
  {
   "cell_type": "code",
   "execution_count": 38,
   "metadata": {
    "execution": {
     "iopub.execute_input": "2023-11-12T12:40:47.969384Z",
     "iopub.status.busy": "2023-11-12T12:40:47.969290Z",
     "iopub.status.idle": "2023-11-12T12:40:47.972012Z",
     "shell.execute_reply": "2023-11-12T12:40:47.971749Z"
    },
    "slideshow": {
     "slide_type": "subslide"
    }
   },
   "outputs": [],
   "source": [
    "class CallCollector(CallCollector):\n",
    "    def __enter__(self) -> Any:\n",
    "        \"\"\"Called at begin of `with` block. Turn tracing on.\"\"\"\n",
    "        self.init()\n",
    "        self.original_trace_function = sys.gettrace()\n",
    "        sys.settrace(self.traceit)\n",
    "        return self\n",
    "\n",
    "    def __exit__(self, exc_tp: Type, exc_value: BaseException,\n",
    "                 exc_traceback: TracebackType) -> Optional[bool]:\n",
    "        \"\"\"Called at end of `with` block. Turn tracing off.\"\"\"\n",
    "        sys.settrace(self.original_trace_function)\n",
    "\n",
    "        if not self._function:\n",
    "            if exc_tp:\n",
    "                return False  # re-raise exception\n",
    "            else:\n",
    "                raise NoCallError(\"No call collected\")\n",
    "\n",
    "        if self.is_internal_error(exc_tp, exc_value, exc_traceback):\n",
    "            return False  # Re-raise exception\n",
    "\n",
    "        self._exception = exc_value\n",
    "        self.after_collection()\n",
    "        return True  # Ignore exception"
   ]
  },
  {
   "cell_type": "markdown",
   "metadata": {
    "slideshow": {
     "slide_type": "subslide"
    }
   },
   "source": [
    "Here are the attributes as collected by `CallCollector` for our `mystery()` function. Note that the `mystery()` exception is \"swallowed\" by the `CallCollector`."
   ]
  },
  {
   "cell_type": "code",
   "execution_count": 39,
   "metadata": {
    "execution": {
     "iopub.execute_input": "2023-11-12T12:40:47.973440Z",
     "iopub.status.busy": "2023-11-12T12:40:47.973338Z",
     "iopub.status.idle": "2023-11-12T12:40:47.974912Z",
     "shell.execute_reply": "2023-11-12T12:40:47.974666Z"
    },
    "slideshow": {
     "slide_type": "fragment"
    }
   },
   "outputs": [],
   "source": [
    "with CallCollector() as call_collector:\n",
    "    mystery(failing_input)"
   ]
  },
  {
   "cell_type": "code",
   "execution_count": 40,
   "metadata": {
    "execution": {
     "iopub.execute_input": "2023-11-12T12:40:47.976261Z",
     "iopub.status.busy": "2023-11-12T12:40:47.976181Z",
     "iopub.status.idle": "2023-11-12T12:40:47.978353Z",
     "shell.execute_reply": "2023-11-12T12:40:47.978077Z"
    },
    "slideshow": {
     "slide_type": "fragment"
    }
   },
   "outputs": [
    {
     "data": {
      "text/plain": [
       "<function __main__.mystery(inp: str) -> None>"
      ]
     },
     "execution_count": 40,
     "metadata": {},
     "output_type": "execute_result"
    }
   ],
   "source": [
    "call_collector.function()"
   ]
  },
  {
   "cell_type": "code",
   "execution_count": 41,
   "metadata": {
    "execution": {
     "iopub.execute_input": "2023-11-12T12:40:47.979915Z",
     "iopub.status.busy": "2023-11-12T12:40:47.979808Z",
     "iopub.status.idle": "2023-11-12T12:40:47.981830Z",
     "shell.execute_reply": "2023-11-12T12:40:47.981559Z"
    },
    "slideshow": {
     "slide_type": "fragment"
    }
   },
   "outputs": [
    {
     "data": {
      "text/plain": [
       "{'inp': 'V\"/+!aF-(V4EOz*+s/Q,7)2@0_'}"
      ]
     },
     "execution_count": 41,
     "metadata": {},
     "output_type": "execute_result"
    }
   ],
   "source": [
    "call_collector.args()"
   ]
  },
  {
   "cell_type": "code",
   "execution_count": 42,
   "metadata": {
    "execution": {
     "iopub.execute_input": "2023-11-12T12:40:47.983559Z",
     "iopub.status.busy": "2023-11-12T12:40:47.983337Z",
     "iopub.status.idle": "2023-11-12T12:40:47.985479Z",
     "shell.execute_reply": "2023-11-12T12:40:47.985244Z"
    },
    "slideshow": {
     "slide_type": "fragment"
    }
   },
   "outputs": [
    {
     "data": {
      "text/plain": [
       "ValueError('Invalid input')"
      ]
     },
     "execution_count": 42,
     "metadata": {},
     "output_type": "execute_result"
    }
   ],
   "source": [
    "call_collector.exception()"
   ]
  },
  {
   "cell_type": "markdown",
   "metadata": {
    "slideshow": {
     "slide_type": "fragment"
    }
   },
   "source": [
    "If an error occurs _before_ the first function call takes place, the exception is simply re-raised."
   ]
  },
  {
   "cell_type": "code",
   "execution_count": 43,
   "metadata": {
    "execution": {
     "iopub.execute_input": "2023-11-12T12:40:47.986930Z",
     "iopub.status.busy": "2023-11-12T12:40:47.986829Z",
     "iopub.status.idle": "2023-11-12T12:40:47.988695Z",
     "shell.execute_reply": "2023-11-12T12:40:47.988433Z"
    },
    "slideshow": {
     "slide_type": "subslide"
    }
   },
   "outputs": [
    {
     "name": "stderr",
     "output_type": "stream",
     "text": [
      "Traceback (most recent call last):\n",
      "  File \"/var/folders/n2/xd9445p97rb3xh7m1dfx8_4h0006ts/T/ipykernel_25735/700237621.py\", line 3, in <cell line: 1>\n",
      "    some_error()  # type: ignore\n",
      "NameError: name 'some_error' is not defined (expected)\n"
     ]
    }
   ],
   "source": [
    "with ExpectError(NameError):\n",
    "    with CallCollector() as c:\n",
    "        some_error()  # type: ignore"
   ]
  },
  {
   "cell_type": "markdown",
   "metadata": {
    "slideshow": {
     "slide_type": "subslide"
    }
   },
   "source": [
    "#### Repeating a Call\n",
    "\n",
    "Our second step is an infrastructure such that we can call the function collected earlier with alternate arguments. We can call the function directly via the collected `_function` attribute:"
   ]
  },
  {
   "cell_type": "code",
   "execution_count": 44,
   "metadata": {
    "execution": {
     "iopub.execute_input": "2023-11-12T12:40:47.990278Z",
     "iopub.status.busy": "2023-11-12T12:40:47.990058Z",
     "iopub.status.idle": "2023-11-12T12:40:47.991957Z",
     "shell.execute_reply": "2023-11-12T12:40:47.991625Z"
    },
    "slideshow": {
     "slide_type": "fragment"
    }
   },
   "outputs": [],
   "source": [
    "call_collector.function()(\"foo\")"
   ]
  },
  {
   "cell_type": "code",
   "execution_count": 45,
   "metadata": {
    "execution": {
     "iopub.execute_input": "2023-11-12T12:40:47.993478Z",
     "iopub.status.busy": "2023-11-12T12:40:47.993359Z",
     "iopub.status.idle": "2023-11-12T12:40:47.995186Z",
     "shell.execute_reply": "2023-11-12T12:40:47.994939Z"
    },
    "slideshow": {
     "slide_type": "subslide"
    }
   },
   "outputs": [
    {
     "name": "stderr",
     "output_type": "stream",
     "text": [
      "Traceback (most recent call last):\n",
      "  File \"/var/folders/n2/xd9445p97rb3xh7m1dfx8_4h0006ts/T/ipykernel_25735/3898025015.py\", line 2, in <cell line: 1>\n",
      "    call_collector.function()(failing_input)\n",
      "  File \"/var/folders/n2/xd9445p97rb3xh7m1dfx8_4h0006ts/T/ipykernel_25735/4141878445.py\", line 5, in mystery\n",
      "    raise ValueError(\"Invalid input\")\n",
      "ValueError: Invalid input (expected)\n"
     ]
    }
   ],
   "source": [
    "with ExpectError(ValueError):\n",
    "    call_collector.function()(failing_input)"
   ]
  },
  {
   "cell_type": "markdown",
   "metadata": {
    "slideshow": {
     "slide_type": "fragment"
    }
   },
   "source": [
    "We can also provide the arguments collected during the call:"
   ]
  },
  {
   "cell_type": "code",
   "execution_count": 46,
   "metadata": {
    "execution": {
     "iopub.execute_input": "2023-11-12T12:40:47.996599Z",
     "iopub.status.busy": "2023-11-12T12:40:47.996486Z",
     "iopub.status.idle": "2023-11-12T12:40:47.998165Z",
     "shell.execute_reply": "2023-11-12T12:40:47.997934Z"
    },
    "slideshow": {
     "slide_type": "subslide"
    }
   },
   "outputs": [
    {
     "name": "stderr",
     "output_type": "stream",
     "text": [
      "Traceback (most recent call last):\n",
      "  File \"/var/folders/n2/xd9445p97rb3xh7m1dfx8_4h0006ts/T/ipykernel_25735/1915817655.py\", line 2, in <cell line: 1>\n",
      "    call_collector.function()(**call_collector.args())\n",
      "  File \"/var/folders/n2/xd9445p97rb3xh7m1dfx8_4h0006ts/T/ipykernel_25735/4141878445.py\", line 5, in mystery\n",
      "    raise ValueError(\"Invalid input\")\n",
      "ValueError: Invalid input (expected)\n"
     ]
    }
   ],
   "source": [
    "with ExpectError(ValueError):\n",
    "    call_collector.function()(**call_collector.args())"
   ]
  },
  {
   "attachments": {},
   "cell_type": "markdown",
   "metadata": {
    "slideshow": {
     "slide_type": "fragment"
    }
   },
   "source": [
    "Our `call()` method calls the collected function using this construct. It also allows changing_ individual arguments by providing a `new_args` dictionary of variable names to new values."
   ]
  },
  {
   "cell_type": "code",
   "execution_count": 47,
   "metadata": {
    "execution": {
     "iopub.execute_input": "2023-11-12T12:40:47.999703Z",
     "iopub.status.busy": "2023-11-12T12:40:47.999569Z",
     "iopub.status.idle": "2023-11-12T12:40:48.001941Z",
     "shell.execute_reply": "2023-11-12T12:40:48.001693Z"
    },
    "slideshow": {
     "slide_type": "subslide"
    }
   },
   "outputs": [],
   "source": [
    "class CallCollector(CallCollector):\n",
    "    def call(self, new_args: Optional[Dict[str, Any]] = None) -> Any:\n",
    "        \"\"\"\n",
    "        Call collected function. If `new_args` is given,\n",
    "        override arguments from its {var: value} entries.\n",
    "        \"\"\"\n",
    "\n",
    "        if new_args is None:\n",
    "            new_args = {}\n",
    "\n",
    "        args = {}  # Create local copy\n",
    "        for var in self.args():\n",
    "            args[var] = self.args()[var]\n",
    "        for var in new_args:\n",
    "            args[var] = new_args[var]\n",
    "\n",
    "        return self.function()(**args)"
   ]
  },
  {
   "cell_type": "markdown",
   "metadata": {
    "slideshow": {
     "slide_type": "subslide"
    }
   },
   "source": [
    "Using simply `call()` without arguments reproduces the failure:"
   ]
  },
  {
   "cell_type": "code",
   "execution_count": 48,
   "metadata": {
    "execution": {
     "iopub.execute_input": "2023-11-12T12:40:48.003331Z",
     "iopub.status.busy": "2023-11-12T12:40:48.003224Z",
     "iopub.status.idle": "2023-11-12T12:40:48.005256Z",
     "shell.execute_reply": "2023-11-12T12:40:48.005022Z"
    },
    "slideshow": {
     "slide_type": "fragment"
    }
   },
   "outputs": [
    {
     "name": "stderr",
     "output_type": "stream",
     "text": [
      "Traceback (most recent call last):\n",
      "  File \"/var/folders/n2/xd9445p97rb3xh7m1dfx8_4h0006ts/T/ipykernel_25735/460230734.py\", line 4, in <cell line: 3>\n",
      "    call_collector.call()\n",
      "  File \"/var/folders/n2/xd9445p97rb3xh7m1dfx8_4h0006ts/T/ipykernel_25735/3952656613.py\", line 17, in call\n",
      "    return self.function()(**args)\n",
      "  File \"/var/folders/n2/xd9445p97rb3xh7m1dfx8_4h0006ts/T/ipykernel_25735/4141878445.py\", line 5, in mystery\n",
      "    raise ValueError(\"Invalid input\")\n",
      "ValueError: Invalid input (expected)\n"
     ]
    }
   ],
   "source": [
    "with CallCollector() as call_collector:\n",
    "    mystery(failing_input)\n",
    "with ExpectError(ValueError):\n",
    "    call_collector.call()"
   ]
  },
  {
   "cell_type": "markdown",
   "metadata": {
    "slideshow": {
     "slide_type": "fragment"
    }
   },
   "source": [
    "We can also supply alternate arguments (and get alternate outcomes):"
   ]
  },
  {
   "cell_type": "code",
   "execution_count": 49,
   "metadata": {
    "execution": {
     "iopub.execute_input": "2023-11-12T12:40:48.006742Z",
     "iopub.status.busy": "2023-11-12T12:40:48.006641Z",
     "iopub.status.idle": "2023-11-12T12:40:48.008225Z",
     "shell.execute_reply": "2023-11-12T12:40:48.007969Z"
    },
    "slideshow": {
     "slide_type": "subslide"
    }
   },
   "outputs": [],
   "source": [
    "call_collector.call({'inp': 'foo'})"
   ]
  },
  {
   "cell_type": "markdown",
   "metadata": {
    "slideshow": {
     "slide_type": "fragment"
    }
   },
   "source": [
    "We close with two helper functions that come handy for logging and error messages:"
   ]
  },
  {
   "cell_type": "code",
   "execution_count": 50,
   "metadata": {
    "execution": {
     "iopub.execute_input": "2023-11-12T12:40:48.009677Z",
     "iopub.status.busy": "2023-11-12T12:40:48.009587Z",
     "iopub.status.idle": "2023-11-12T12:40:48.012189Z",
     "shell.execute_reply": "2023-11-12T12:40:48.011878Z"
    },
    "slideshow": {
     "slide_type": "subslide"
    }
   },
   "outputs": [],
   "source": [
    "class CallCollector(CallCollector):\n",
    "    def format_call(self, args: Optional[Dict[str, Any]] = None) -> str:\n",
    "        \"\"\"Return a string representing a call of the function with given args.\"\"\"\n",
    "        if args is None:\n",
    "            args = self.args()\n",
    "        return self.function().__name__ + \"(\" + \\\n",
    "            \", \".join(f\"{arg}={repr(args[arg])}\" for arg in args) + \")\"\n",
    "\n",
    "    def format_exception(self, exc: Optional[BaseException] = None) -> str:\n",
    "        \"\"\"Return a string representing the given exception.\"\"\"\n",
    "        if exc is None:\n",
    "            exc = self.exception()\n",
    "        s = type(exc).__name__\n",
    "        if str(exc):\n",
    "            s += \": \" + str(exc)\n",
    "        return s"
   ]
  },
  {
   "cell_type": "code",
   "execution_count": 51,
   "metadata": {
    "execution": {
     "iopub.execute_input": "2023-11-12T12:40:48.013664Z",
     "iopub.status.busy": "2023-11-12T12:40:48.013559Z",
     "iopub.status.idle": "2023-11-12T12:40:48.015186Z",
     "shell.execute_reply": "2023-11-12T12:40:48.014921Z"
    },
    "slideshow": {
     "slide_type": "subslide"
    }
   },
   "outputs": [],
   "source": [
    "with CallCollector() as call_collector:\n",
    "    mystery(failing_input)"
   ]
  },
  {
   "cell_type": "code",
   "execution_count": 52,
   "metadata": {
    "execution": {
     "iopub.execute_input": "2023-11-12T12:40:48.016698Z",
     "iopub.status.busy": "2023-11-12T12:40:48.016596Z",
     "iopub.status.idle": "2023-11-12T12:40:48.018543Z",
     "shell.execute_reply": "2023-11-12T12:40:48.018274Z"
    },
    "slideshow": {
     "slide_type": "fragment"
    }
   },
   "outputs": [
    {
     "data": {
      "text/plain": [
       "'mystery(inp=\\'V\"/+!aF-(V4EOz*+s/Q,7)2@0_\\')'"
      ]
     },
     "execution_count": 52,
     "metadata": {},
     "output_type": "execute_result"
    }
   ],
   "source": [
    "call_collector.format_call()"
   ]
  },
  {
   "cell_type": "code",
   "execution_count": 53,
   "metadata": {
    "execution": {
     "iopub.execute_input": "2023-11-12T12:40:48.020151Z",
     "iopub.status.busy": "2023-11-12T12:40:48.020042Z",
     "iopub.status.idle": "2023-11-12T12:40:48.022048Z",
     "shell.execute_reply": "2023-11-12T12:40:48.021754Z"
    },
    "slideshow": {
     "slide_type": "fragment"
    }
   },
   "outputs": [
    {
     "data": {
      "text/plain": [
       "'ValueError: Invalid input'"
      ]
     },
     "execution_count": 53,
     "metadata": {},
     "output_type": "execute_result"
    }
   ],
   "source": [
    "call_collector.format_exception()"
   ]
  },
  {
   "cell_type": "markdown",
   "metadata": {
    "slideshow": {
     "slide_type": "subslide"
    }
   },
   "source": [
    "#### Testing, Logging, and Caching\n",
    "\n",
    "Our next to last step is an infrastructure that implements delta debugging for the collected call."
   ]
  },
  {
   "cell_type": "markdown",
   "metadata": {
    "slideshow": {
     "slide_type": "fragment"
    }
   },
   "source": [
    "We first introduce a `CallReducer` class as an abstract superclass for all kinds of reducers.\n",
    "Its `run()` method tests the function and returns PASS, FAIL, or UNRESOLVED. As with `generic_test()`, above, we check for exception type and exact error message."
   ]
  },
  {
   "cell_type": "code",
   "execution_count": 54,
   "metadata": {
    "execution": {
     "iopub.execute_input": "2023-11-12T12:40:48.023596Z",
     "iopub.status.busy": "2023-11-12T12:40:48.023489Z",
     "iopub.status.idle": "2023-11-12T12:40:48.026424Z",
     "shell.execute_reply": "2023-11-12T12:40:48.026160Z"
    },
    "slideshow": {
     "slide_type": "subslide"
    }
   },
   "outputs": [],
   "source": [
    "class CallReducer(CallCollector):\n",
    "    def __init__(self, *, log: Union[bool, int] = False) -> None:\n",
    "        \"\"\"Initialize. If `log` is True, enable logging.\"\"\"\n",
    "        super().__init__()\n",
    "        self.log = log\n",
    "        self.reset()\n",
    "\n",
    "    def reset(self) -> None:\n",
    "        \"\"\"Reset the number of tests.\"\"\"\n",
    "        self.tests = 0\n",
    "\n",
    "    def run(self, args: Dict[str, Any]) -> str:\n",
    "        \"\"\"\n",
    "        Run collected function with `args`. Return\n",
    "        * PASS if no exception occurred\n",
    "        * FAIL if the collected exception occurred\n",
    "        * UNRESOLVED if some other exception occurred.\n",
    "        Not to be used directly; can be overloaded in subclasses.\n",
    "        \"\"\"\n",
    "        try:\n",
    "            result = self.call(args)\n",
    "        except Exception as exc:\n",
    "            self.last_exception = exc\n",
    "            if (type(exc) == type(self.exception()) and\n",
    "                    str(exc) == str(self.exception())):\n",
    "                return FAIL\n",
    "            else:\n",
    "                return UNRESOLVED  # Some other failure\n",
    "\n",
    "        self.last_result = result\n",
    "        return PASS"
   ]
  },
  {
   "cell_type": "markdown",
   "metadata": {
    "slideshow": {
     "slide_type": "subslide"
    }
   },
   "source": [
    "The `test()` method runs a single test (with logging, if wanted); the `reduce_arg()` method will eventually reduce an input to the minimum."
   ]
  },
  {
   "cell_type": "code",
   "execution_count": 55,
   "metadata": {
    "execution": {
     "iopub.execute_input": "2023-11-12T12:40:48.027981Z",
     "iopub.status.busy": "2023-11-12T12:40:48.027853Z",
     "iopub.status.idle": "2023-11-12T12:40:48.030669Z",
     "shell.execute_reply": "2023-11-12T12:40:48.030376Z"
    },
    "slideshow": {
     "slide_type": "subslide"
    }
   },
   "outputs": [],
   "source": [
    "class CallReducer(CallReducer):\n",
    "    def test(self, args: Dict[str, Any]) -> str:\n",
    "        \"\"\"Like run(), but also log detail and keep statistics.\"\"\"\n",
    "        outcome = self.run(args)\n",
    "        if outcome == PASS:\n",
    "            detail = \"\"\n",
    "        else:\n",
    "            detail = f\" ({self.format_exception(self.last_exception)})\"\n",
    "\n",
    "        self.tests += 1\n",
    "        if self.log:\n",
    "            print(f\"Test #{self.tests} {self.format_call(args)}: {outcome}{detail}\")\n",
    "\n",
    "        return outcome\n",
    "\n",
    "    def reduce_arg(self, var_to_be_reduced: str, args: Dict[str, Any]) -> Sequence:\n",
    "        \"\"\"\n",
    "        Determine and return a minimal value for var_to_be_reduced.\n",
    "        To be overloaded in subclasses.\n",
    "        \"\"\"\n",
    "        return args[var_to_be_reduced]"
   ]
  },
  {
   "cell_type": "markdown",
   "metadata": {
    "slideshow": {
     "slide_type": "subslide"
    }
   },
   "source": [
    "Here's some logging output from the `test()` function:"
   ]
  },
  {
   "cell_type": "code",
   "execution_count": 56,
   "metadata": {
    "execution": {
     "iopub.execute_input": "2023-11-12T12:40:48.032141Z",
     "iopub.status.busy": "2023-11-12T12:40:48.032032Z",
     "iopub.status.idle": "2023-11-12T12:40:48.034877Z",
     "shell.execute_reply": "2023-11-12T12:40:48.034564Z"
    },
    "slideshow": {
     "slide_type": "fragment"
    }
   },
   "outputs": [
    {
     "name": "stdout",
     "output_type": "stream",
     "text": [
      "Test #1 mystery(inp='V\"/+!aF-(V4EOz*+s/Q,7)2@0_'): FAIL (ValueError: Invalid input)\n",
      "Test #2 mystery(inp='123'): PASS\n",
      "Test #3 mystery(inp='123'): PASS\n"
     ]
    },
    {
     "data": {
      "text/plain": [
       "'PASS'"
      ]
     },
     "execution_count": 56,
     "metadata": {},
     "output_type": "execute_result"
    }
   ],
   "source": [
    "with CallReducer(log=True) as reducer:\n",
    "    mystery(failing_input)\n",
    "\n",
    "reducer.test({'inp': failing_input})\n",
    "reducer.test({'inp': '123'})\n",
    "reducer.test({'inp': '123'})"
   ]
  },
  {
   "cell_type": "markdown",
   "metadata": {
    "slideshow": {
     "slide_type": "fragment"
    }
   },
   "source": [
    "The `CachingCallReducer` variant saves test results, such that we don't have to run the same tests again and again:"
   ]
  },
  {
   "cell_type": "code",
   "execution_count": 57,
   "metadata": {
    "execution": {
     "iopub.execute_input": "2023-11-12T12:40:48.037453Z",
     "iopub.status.busy": "2023-11-12T12:40:48.037345Z",
     "iopub.status.idle": "2023-11-12T12:40:48.040180Z",
     "shell.execute_reply": "2023-11-12T12:40:48.039851Z"
    },
    "slideshow": {
     "slide_type": "subslide"
    }
   },
   "outputs": [],
   "source": [
    "class CachingCallReducer(CallReducer):\n",
    "    \"\"\"Like CallReducer, but cache test outcomes.\"\"\"\n",
    "\n",
    "    def init(self) -> None:\n",
    "        super().init()\n",
    "        self._cache: Dict[FrozenSet, str] = {}\n",
    "\n",
    "    def test(self, args: Dict[str, Any]) -> str:\n",
    "        # Create a hashable index\n",
    "        try:\n",
    "            index = frozenset((k, v) for k, v in args.items())\n",
    "        except TypeError:\n",
    "            index = frozenset()\n",
    "\n",
    "        if not index:\n",
    "            # Non-hashable value – do not use cache\n",
    "            return super().test(args)\n",
    "\n",
    "        if index in self._cache:\n",
    "            return self._cache[index]\n",
    "\n",
    "        outcome = super().test(args)\n",
    "        self._cache[index] = outcome\n",
    "\n",
    "        return outcome"
   ]
  },
  {
   "cell_type": "markdown",
   "metadata": {
    "slideshow": {
     "slide_type": "subslide"
    }
   },
   "source": [
    "If we now repeat a test with the same argument, its outcome can be found in the cache:"
   ]
  },
  {
   "cell_type": "code",
   "execution_count": 58,
   "metadata": {
    "execution": {
     "iopub.execute_input": "2023-11-12T12:40:48.041902Z",
     "iopub.status.busy": "2023-11-12T12:40:48.041768Z",
     "iopub.status.idle": "2023-11-12T12:40:48.044625Z",
     "shell.execute_reply": "2023-11-12T12:40:48.044376Z"
    },
    "slideshow": {
     "slide_type": "fragment"
    }
   },
   "outputs": [
    {
     "name": "stdout",
     "output_type": "stream",
     "text": [
      "Test #1 mystery(inp='V\"/+!aF-(V4EOz*+s/Q,7)2@0_'): FAIL (ValueError: Invalid input)\n",
      "Test #2 mystery(inp='123'): PASS\n"
     ]
    },
    {
     "data": {
      "text/plain": [
       "'PASS'"
      ]
     },
     "execution_count": 58,
     "metadata": {},
     "output_type": "execute_result"
    }
   ],
   "source": [
    "with CachingCallReducer(log=True) as reducer:\n",
    "    mystery(failing_input)\n",
    "\n",
    "reducer.test({'inp': failing_input})\n",
    "reducer.test({'inp': '123'})\n",
    "reducer.test({'inp': '123'})"
   ]
  },
  {
   "cell_type": "markdown",
   "metadata": {
    "slideshow": {
     "slide_type": "subslide"
    }
   },
   "source": [
    "#### General Delta Debugging\n",
    "\n",
    "The `DeltaDebugger` class finally implements Delta Debugging on arguments. Our implementation uses the _general_ `dd` delta debugging algorithm from \\cite{Zeller2002}. In contrast to `ddmin`, it returns a _pair_ of a maximized passing input and a minimized failing input. The algorithm can be customized, however, to leave the passing input fixed and _only_ to minimize the failing input (as with `ddmin`), or vice versa."
   ]
  },
  {
   "cell_type": "markdown",
   "metadata": {
    "slideshow": {
     "slide_type": "fragment"
    }
   },
   "source": [
    "Internally, `dd` does not directly work on a list of elements; instead, it works on sets of _indices_ into such a list. The function `to_set()` converts a collection into such a set."
   ]
  },
  {
   "cell_type": "code",
   "execution_count": 59,
   "metadata": {
    "execution": {
     "iopub.execute_input": "2023-11-12T12:40:48.046157Z",
     "iopub.status.busy": "2023-11-12T12:40:48.046048Z",
     "iopub.status.idle": "2023-11-12T12:40:48.047746Z",
     "shell.execute_reply": "2023-11-12T12:40:48.047503Z"
    },
    "slideshow": {
     "slide_type": "fragment"
    }
   },
   "outputs": [],
   "source": [
    "def to_set(inp: Sequence) -> Set:\n",
    "    \"\"\"Convert inp into a set of indices\"\"\"\n",
    "    return set(range(len(inp)))"
   ]
  },
  {
   "cell_type": "code",
   "execution_count": 60,
   "metadata": {
    "execution": {
     "iopub.execute_input": "2023-11-12T12:40:48.049069Z",
     "iopub.status.busy": "2023-11-12T12:40:48.048985Z",
     "iopub.status.idle": "2023-11-12T12:40:48.051134Z",
     "shell.execute_reply": "2023-11-12T12:40:48.050889Z"
    },
    "slideshow": {
     "slide_type": "subslide"
    }
   },
   "outputs": [
    {
     "data": {
      "text/plain": [
       "{0, 1, 2, 3}"
      ]
     },
     "execution_count": 60,
     "metadata": {},
     "output_type": "execute_result"
    }
   ],
   "source": [
    "to_set(\"abcd\")"
   ]
  },
  {
   "cell_type": "markdown",
   "metadata": {
    "slideshow": {
     "slide_type": "fragment"
    }
   },
   "source": [
    "The function `from_set()` converts a set of indices back into the original collection. For this, it uses a function `empty()` that returns an empty collection that has the same type as the given input `inp`."
   ]
  },
  {
   "cell_type": "code",
   "execution_count": 61,
   "metadata": {
    "execution": {
     "iopub.execute_input": "2023-11-12T12:40:48.052620Z",
     "iopub.status.busy": "2023-11-12T12:40:48.052518Z",
     "iopub.status.idle": "2023-11-12T12:40:48.054314Z",
     "shell.execute_reply": "2023-11-12T12:40:48.054049Z"
    },
    "slideshow": {
     "slide_type": "fragment"
    }
   },
   "outputs": [],
   "source": [
    "def empty(inp: Any) -> Any:\n",
    "    \"\"\"Return an \"empty\" element of the same type as inp\"\"\"\n",
    "    return type(inp)()"
   ]
  },
  {
   "cell_type": "code",
   "execution_count": 62,
   "metadata": {
    "execution": {
     "iopub.execute_input": "2023-11-12T12:40:48.056157Z",
     "iopub.status.busy": "2023-11-12T12:40:48.055990Z",
     "iopub.status.idle": "2023-11-12T12:40:48.058676Z",
     "shell.execute_reply": "2023-11-12T12:40:48.058325Z"
    },
    "slideshow": {
     "slide_type": "fragment"
    }
   },
   "outputs": [
    {
     "data": {
      "text/plain": [
       "('', [], set())"
      ]
     },
     "execution_count": 62,
     "metadata": {},
     "output_type": "execute_result"
    }
   ],
   "source": [
    "empty(\"abc\"), empty([1, 2, 3]), empty({0, -1, -2})"
   ]
  },
  {
   "cell_type": "markdown",
   "metadata": {
    "slideshow": {
     "slide_type": "fragment"
    }
   },
   "source": [
    "The function `add_to()` tries out various ways to add an element to a given collection."
   ]
  },
  {
   "cell_type": "code",
   "execution_count": 63,
   "metadata": {
    "execution": {
     "iopub.execute_input": "2023-11-12T12:40:48.060613Z",
     "iopub.status.busy": "2023-11-12T12:40:48.060476Z",
     "iopub.status.idle": "2023-11-12T12:40:48.063538Z",
     "shell.execute_reply": "2023-11-12T12:40:48.063080Z"
    },
    "slideshow": {
     "slide_type": "subslide"
    }
   },
   "outputs": [],
   "source": [
    "def add_to(collection: Any, elem: Any) -> Any:\n",
    "    \"\"\"Add element to collection; return new collection.\"\"\"\n",
    "    if isinstance(collection, str):\n",
    "        return collection + elem  # Strings\n",
    "\n",
    "    try:  # Lists and other collections\n",
    "        return collection + type(collection)([elem])\n",
    "    except TypeError:\n",
    "        pass\n",
    "\n",
    "    try:  # Sets\n",
    "        return collection | type(collection)([elem])\n",
    "    except TypeError:\n",
    "        pass\n",
    "\n",
    "    raise ValueError(\"Cannot add element to collection\")"
   ]
  },
  {
   "cell_type": "code",
   "execution_count": 64,
   "metadata": {
    "execution": {
     "iopub.execute_input": "2023-11-12T12:40:48.065412Z",
     "iopub.status.busy": "2023-11-12T12:40:48.065299Z",
     "iopub.status.idle": "2023-11-12T12:40:48.067943Z",
     "shell.execute_reply": "2023-11-12T12:40:48.067700Z"
    },
    "slideshow": {
     "slide_type": "subslide"
    }
   },
   "outputs": [
    {
     "data": {
      "text/plain": [
       "('abcd', [1, 2, 3, 4], {1, 2, 3, 4})"
      ]
     },
     "execution_count": 64,
     "metadata": {},
     "output_type": "execute_result"
    }
   ],
   "source": [
    "add_to(\"abc\", \"d\"), add_to([1, 2, 3], 4), add_to(set([1, 2, 3]), 4)"
   ]
  },
  {
   "cell_type": "markdown",
   "metadata": {
    "slideshow": {
     "slide_type": "fragment"
    }
   },
   "source": [
    "Using `empty()` and `add_to()`, we can now implement `from_set()`:"
   ]
  },
  {
   "cell_type": "code",
   "execution_count": 65,
   "metadata": {
    "execution": {
     "iopub.execute_input": "2023-11-12T12:40:48.069663Z",
     "iopub.status.busy": "2023-11-12T12:40:48.069560Z",
     "iopub.status.idle": "2023-11-12T12:40:48.071604Z",
     "shell.execute_reply": "2023-11-12T12:40:48.071352Z"
    },
    "slideshow": {
     "slide_type": "fragment"
    }
   },
   "outputs": [],
   "source": [
    "def from_set(the_set: Any, inp: Sequence) -> Any:\n",
    "    \"\"\"Convert a set of indices into `inp` back into a collection.\"\"\"\n",
    "    ret = empty(inp)\n",
    "    for i, c in enumerate(inp):\n",
    "        if i in the_set:\n",
    "            ret = add_to(ret, c)\n",
    "\n",
    "    return ret"
   ]
  },
  {
   "cell_type": "code",
   "execution_count": 66,
   "metadata": {
    "execution": {
     "iopub.execute_input": "2023-11-12T12:40:48.073060Z",
     "iopub.status.busy": "2023-11-12T12:40:48.072968Z",
     "iopub.status.idle": "2023-11-12T12:40:48.075429Z",
     "shell.execute_reply": "2023-11-12T12:40:48.075101Z"
    },
    "slideshow": {
     "slide_type": "fragment"
    }
   },
   "outputs": [
    {
     "data": {
      "text/plain": [
       "'bc'"
      ]
     },
     "execution_count": 66,
     "metadata": {},
     "output_type": "execute_result"
    }
   ],
   "source": [
    "from_set({1, 2}, \"abcd\")"
   ]
  },
  {
   "cell_type": "markdown",
   "metadata": {
    "slideshow": {
     "slide_type": "subslide"
    }
   },
   "source": [
    "To split a set of elements into `n` subsets of equal size, we use this helper function, based on [this discussion in StackOverflow](https://stackoverflow.com/questions/2130016/splitting-a-list-into-n-parts-of-approximately-equal-length/37414115#37414115)."
   ]
  },
  {
   "cell_type": "code",
   "execution_count": 67,
   "metadata": {
    "execution": {
     "iopub.execute_input": "2023-11-12T12:40:48.077162Z",
     "iopub.status.busy": "2023-11-12T12:40:48.077043Z",
     "iopub.status.idle": "2023-11-12T12:40:48.080398Z",
     "shell.execute_reply": "2023-11-12T12:40:48.079960Z"
    },
    "slideshow": {
     "slide_type": "subslide"
    }
   },
   "outputs": [],
   "source": [
    "def split(elems: Any, n: int) -> List:\n",
    "    assert 1 <= n <= len(elems)\n",
    "\n",
    "    k, m = divmod(len(elems), n)\n",
    "    try:\n",
    "        subsets = list(elems[i * k + min(i, m):(i + 1) * k + min(i + 1, m)]\n",
    "                       for i in range(n))\n",
    "    except TypeError:\n",
    "        # Convert to list and back\n",
    "        subsets = list(type(elems)(\n",
    "                    list(elems)[i * k + min(i, m):(i + 1) * k + min(i + 1, m)])\n",
    "                       for i in range(n))\n",
    "\n",
    "    assert len(subsets) == n\n",
    "    assert sum(len(subset) for subset in subsets) == len(elems)\n",
    "    assert all(len(subset) > 0 for subset in subsets)\n",
    "\n",
    "    return subsets"
   ]
  },
  {
   "cell_type": "code",
   "execution_count": 68,
   "metadata": {
    "execution": {
     "iopub.execute_input": "2023-11-12T12:40:48.082019Z",
     "iopub.status.busy": "2023-11-12T12:40:48.081915Z",
     "iopub.status.idle": "2023-11-12T12:40:48.084357Z",
     "shell.execute_reply": "2023-11-12T12:40:48.084074Z"
    },
    "slideshow": {
     "slide_type": "subslide"
    }
   },
   "outputs": [
    {
     "name": "stdout",
     "output_type": "stream",
     "text": [
      "[[1, 2, 3, 4, 5, 6, 7]]\n",
      "[[1, 2, 3, 4], [5, 6, 7]]\n",
      "[[1, 2, 3], [4, 5], [6, 7]]\n",
      "[[1, 2], [3, 4], [5, 6], [7]]\n",
      "[[1, 2], [3, 4], [5], [6], [7]]\n",
      "[[1, 2], [3], [4], [5], [6], [7]]\n",
      "[[1], [2], [3], [4], [5], [6], [7]]\n"
     ]
    }
   ],
   "source": [
    "for n in range(1, 8):\n",
    "    print(split([1, 2, 3, 4, 5, 6, 7], n))"
   ]
  },
  {
   "cell_type": "code",
   "execution_count": 69,
   "metadata": {
    "execution": {
     "iopub.execute_input": "2023-11-12T12:40:48.086052Z",
     "iopub.status.busy": "2023-11-12T12:40:48.085939Z",
     "iopub.status.idle": "2023-11-12T12:40:48.088438Z",
     "shell.execute_reply": "2023-11-12T12:40:48.088129Z"
    },
    "slideshow": {
     "slide_type": "fragment"
    }
   },
   "outputs": [
    {
     "data": {
      "text/plain": [
       "['ab', 'c', 'd']"
      ]
     },
     "execution_count": 69,
     "metadata": {},
     "output_type": "execute_result"
    }
   ],
   "source": [
    "split(\"abcd\", 3)"
   ]
  },
  {
   "cell_type": "code",
   "execution_count": 70,
   "metadata": {
    "execution": {
     "iopub.execute_input": "2023-11-12T12:40:48.089976Z",
     "iopub.status.busy": "2023-11-12T12:40:48.089865Z",
     "iopub.status.idle": "2023-11-12T12:40:48.092342Z",
     "shell.execute_reply": "2023-11-12T12:40:48.092013Z"
    },
    "slideshow": {
     "slide_type": "fragment"
    }
   },
   "outputs": [
    {
     "data": {
      "text/plain": [
       "[{1, 2, 3}, {4, 5}, {6, 7}]"
      ]
     },
     "execution_count": 70,
     "metadata": {},
     "output_type": "execute_result"
    }
   ],
   "source": [
    "split({1, 2, 3, 4, 5, 6, 7}, 3)"
   ]
  },
  {
   "cell_type": "markdown",
   "metadata": {
    "slideshow": {
     "slide_type": "subslide"
    }
   },
   "source": [
    "With these, we can now implement general delta debugging. Our implementation follows \\cite{Zeller2002} with the following optimizations:\n",
    "\n",
    "1. We can control whether only to minimize or to maximize (\"mode\")\n",
    "2. The operations \"Reduce to subset\" and \"Increase to subset\" are only taken while the number of subsets is still 2.\n",
    "3. If \"Reduce to subset\" and \"Increase to subset\" are successful, the offset is set to `i` (not `0`) to distribute reduction operations more evenly across the input. (Thanks to Olaf Chitil and Joanna Sharrad to point out this issue!)"
   ]
  },
  {
   "cell_type": "code",
   "execution_count": 71,
   "metadata": {
    "execution": {
     "iopub.execute_input": "2023-11-12T12:40:48.094209Z",
     "iopub.status.busy": "2023-11-12T12:40:48.094039Z",
     "iopub.status.idle": "2023-11-12T12:40:48.096032Z",
     "shell.execute_reply": "2023-11-12T12:40:48.095644Z"
    },
    "slideshow": {
     "slide_type": "fragment"
    }
   },
   "outputs": [],
   "source": [
    "class NotFailingError(ValueError):\n",
    "    pass"
   ]
  },
  {
   "cell_type": "code",
   "execution_count": 72,
   "metadata": {
    "execution": {
     "iopub.execute_input": "2023-11-12T12:40:48.097581Z",
     "iopub.status.busy": "2023-11-12T12:40:48.097472Z",
     "iopub.status.idle": "2023-11-12T12:40:48.099184Z",
     "shell.execute_reply": "2023-11-12T12:40:48.098852Z"
    },
    "slideshow": {
     "slide_type": "subslide"
    }
   },
   "outputs": [],
   "source": [
    "class NotPassingError(ValueError):\n",
    "    pass"
   ]
  },
  {
   "cell_type": "code",
   "execution_count": 73,
   "metadata": {
    "execution": {
     "iopub.execute_input": "2023-11-12T12:40:48.101198Z",
     "iopub.status.busy": "2023-11-12T12:40:48.101055Z",
     "iopub.status.idle": "2023-11-12T12:40:48.108097Z",
     "shell.execute_reply": "2023-11-12T12:40:48.107830Z"
    },
    "slideshow": {
     "slide_type": "subslide"
    }
   },
   "outputs": [],
   "source": [
    "class DeltaDebugger(CachingCallReducer):\n",
    "    def dd(self, var_to_be_reduced: str, fail_args: Dict[str, Any], \n",
    "           *, mode: str = '-') -> Tuple[Sequence, Sequence, Sequence]:\n",
    "        \"\"\"General Delta Debugging.\n",
    "        `var_to_be_reduced` - the name of the variable to reduce.\n",
    "        `fail_args` - a dict of (failure-inducing) function arguments, \n",
    "            with `fail_args[var_to_be_reduced]` - the input to apply dd on.\n",
    "        `mode`- how the algorithm should operate:\n",
    "            '-' (default): minimize input (`ddmin`),\n",
    "            '+': maximizing input (`ddmax`),\n",
    "            '+-': minimizing pass/fail difference (`dd`)\n",
    "        Returns a triple (`pass`, `fail`, `diff`) with\n",
    "        * maximized passing input (`pass`), \n",
    "        * minimized failing input (`fail`), and\n",
    "        * their difference `diff`\n",
    "          (elems that are in `fail`, but not in `pass`).\n",
    "        \"\"\"\n",
    "        def test(c: Set) -> str:\n",
    "            # Set up args\n",
    "            test_args = {}\n",
    "            for var in fail_args:\n",
    "                test_args[var] = fail_args[var]\n",
    "            test_args[var_to_be_reduced] = from_set(c, fail_inp)\n",
    "            return self.test(test_args)\n",
    "\n",
    "        def ret(c_pass: Set, c_fail: Set) -> \\\n",
    "            Tuple[Sequence, Sequence, Sequence]:\n",
    "            return (from_set(c_pass, fail_inp),\n",
    "                    from_set(c_fail, fail_inp),\n",
    "                    from_set(c_fail - c_pass, fail_inp))\n",
    "\n",
    "        n = 2  # Initial granularity\n",
    "\n",
    "        fail_inp = fail_args[var_to_be_reduced]\n",
    "\n",
    "        c_pass = to_set([])\n",
    "        c_fail = to_set(fail_inp)\n",
    "        offset = 0\n",
    "\n",
    "        minimize_fail = '-' in mode\n",
    "        maximize_pass = '+' in mode\n",
    "\n",
    "        # Validate inputs\n",
    "        if test(c_pass) == FAIL:\n",
    "            if maximize_pass:\n",
    "                s_pass = repr(from_set(c_pass, fail_inp))\n",
    "                raise NotPassingError(\n",
    "                    f\"Input {s_pass} expected to pass, but fails\")\n",
    "            else:\n",
    "                return ret(c_pass, c_pass)\n",
    "\n",
    "        if test(c_fail) == PASS:\n",
    "            if minimize_fail:\n",
    "                s_fail = repr(from_set(c_fail, fail_inp))\n",
    "                raise NotFailingError(\n",
    "                    f\"Input {s_fail} expected to fail, but passes\")\n",
    "            else:\n",
    "                return ret(c_fail, c_fail)\n",
    "\n",
    "        # Main loop\n",
    "        while True:\n",
    "            if self.log > 1:\n",
    "                print(\"Passing input:\", repr(from_set(c_pass, fail_inp)))\n",
    "                print(\"Failing input:\", repr(from_set(c_fail, fail_inp)))\n",
    "                print(\"Granularity:  \", n)\n",
    "\n",
    "            delta = c_fail - c_pass\n",
    "            if len(delta) < n:\n",
    "                return ret(c_pass, c_fail)\n",
    "\n",
    "            deltas = split(delta, n)\n",
    "\n",
    "            reduction_found = False\n",
    "            j = 0\n",
    "\n",
    "            while j < n:\n",
    "                i = (j + offset) % n\n",
    "                next_c_pass = c_pass | deltas[i]\n",
    "                next_c_fail = c_fail - deltas[i]\n",
    "\n",
    "                if minimize_fail and n == 2 and test(next_c_pass) == FAIL:\n",
    "                    if self.log > 1:\n",
    "                        print(\"Reduce to subset\")\n",
    "                    c_fail = next_c_pass\n",
    "                    offset = i  # was offset = 0 in original dd()\n",
    "                    reduction_found = True\n",
    "                    break\n",
    "\n",
    "                elif maximize_pass and n == 2 and test(next_c_fail) == PASS:\n",
    "                    if self.log > 1:\n",
    "                        print(\"Increase to subset\")\n",
    "                    c_pass = next_c_fail\n",
    "                    offset = i  # was offset = 0 in original dd()\n",
    "                    reduction_found = True\n",
    "                    break\n",
    "\n",
    "                elif minimize_fail and test(next_c_fail) == FAIL:\n",
    "                    if self.log > 1:\n",
    "                        print(\"Reduce to complement\")\n",
    "                    c_fail = next_c_fail\n",
    "                    n = max(n - 1, 2)\n",
    "                    offset = i\n",
    "                    reduction_found = True\n",
    "                    break\n",
    "\n",
    "                elif maximize_pass and test(next_c_pass) == PASS:\n",
    "                    if self.log > 1:\n",
    "                        print(\"Increase to complement\")\n",
    "                    c_pass = next_c_pass\n",
    "                    n = max(n - 1, 2)\n",
    "                    offset = i\n",
    "                    reduction_found = True\n",
    "                    break\n",
    "\n",
    "                else:\n",
    "                    j += 1  # choose next subset\n",
    "\n",
    "            if not reduction_found:\n",
    "                if self.log > 1:\n",
    "                    print(\"No reduction found\")\n",
    "\n",
    "                if n >= len(delta):\n",
    "                    return ret(c_pass, c_fail)\n",
    "\n",
    "                if self.log > 1:\n",
    "                    print(\"Increase granularity\")\n",
    "\n",
    "                n = min(n * 2, len(delta))"
   ]
  },
  {
   "cell_type": "markdown",
   "metadata": {
    "slideshow": {
     "slide_type": "subslide"
    }
   },
   "source": [
    "By default, `dd()` minimizes inputs – just like `ddmin()`."
   ]
  },
  {
   "cell_type": "code",
   "execution_count": 74,
   "metadata": {
    "execution": {
     "iopub.execute_input": "2023-11-12T12:40:48.109695Z",
     "iopub.status.busy": "2023-11-12T12:40:48.109598Z",
     "iopub.status.idle": "2023-11-12T12:40:48.111469Z",
     "shell.execute_reply": "2023-11-12T12:40:48.111151Z"
    },
    "slideshow": {
     "slide_type": "fragment"
    }
   },
   "outputs": [],
   "source": [
    "with DeltaDebugger() as dd:\n",
    "    mystery(failing_input)"
   ]
  },
  {
   "cell_type": "markdown",
   "metadata": {
    "slideshow": {
     "slide_type": "fragment"
    }
   },
   "source": [
    "Its output is a triple of maximized passing input (if wanted), minimized failing input, and difference. Here is this triple for `mystery()`, just as with `ddmin()`:"
   ]
  },
  {
   "cell_type": "code",
   "execution_count": 75,
   "metadata": {
    "execution": {
     "iopub.execute_input": "2023-11-12T12:40:48.113139Z",
     "iopub.status.busy": "2023-11-12T12:40:48.113044Z",
     "iopub.status.idle": "2023-11-12T12:40:48.115038Z",
     "shell.execute_reply": "2023-11-12T12:40:48.114790Z"
    },
    "slideshow": {
     "slide_type": "fragment"
    }
   },
   "outputs": [],
   "source": [
    "mystery_pass, mystery_fail, mystery_diff = dd.dd('inp', {'inp': failing_input})"
   ]
  },
  {
   "cell_type": "markdown",
   "metadata": {
    "slideshow": {
     "slide_type": "fragment"
    }
   },
   "source": [
    "The first element (`mystery_pass`) is the maximal passing input:"
   ]
  },
  {
   "cell_type": "code",
   "execution_count": 76,
   "metadata": {
    "execution": {
     "iopub.execute_input": "2023-11-12T12:40:48.116500Z",
     "iopub.status.busy": "2023-11-12T12:40:48.116402Z",
     "iopub.status.idle": "2023-11-12T12:40:48.118446Z",
     "shell.execute_reply": "2023-11-12T12:40:48.118144Z"
    },
    "slideshow": {
     "slide_type": "fragment"
    }
   },
   "outputs": [
    {
     "data": {
      "text/plain": [
       "''"
      ]
     },
     "execution_count": 76,
     "metadata": {},
     "output_type": "execute_result"
    }
   ],
   "source": [
    "mystery_pass"
   ]
  },
  {
   "cell_type": "markdown",
   "metadata": {
    "slideshow": {
     "slide_type": "fragment"
    }
   },
   "source": [
    "The second element (`mystery_fail`) is the minimal failing input:"
   ]
  },
  {
   "cell_type": "code",
   "execution_count": 77,
   "metadata": {
    "execution": {
     "iopub.execute_input": "2023-11-12T12:40:48.139476Z",
     "iopub.status.busy": "2023-11-12T12:40:48.139327Z",
     "iopub.status.idle": "2023-11-12T12:40:48.141754Z",
     "shell.execute_reply": "2023-11-12T12:40:48.141476Z"
    },
    "slideshow": {
     "slide_type": "fragment"
    }
   },
   "outputs": [
    {
     "data": {
      "text/plain": [
       "'()'"
      ]
     },
     "execution_count": 77,
     "metadata": {},
     "output_type": "execute_result"
    }
   ],
   "source": [
    "mystery_fail"
   ]
  },
  {
   "cell_type": "markdown",
   "metadata": {
    "slideshow": {
     "slide_type": "fragment"
    }
   },
   "source": [
    "And the third element (`mystery_diff`) is the difference between the two:"
   ]
  },
  {
   "cell_type": "code",
   "execution_count": 78,
   "metadata": {
    "execution": {
     "iopub.execute_input": "2023-11-12T12:40:48.143130Z",
     "iopub.status.busy": "2023-11-12T12:40:48.143023Z",
     "iopub.status.idle": "2023-11-12T12:40:48.145002Z",
     "shell.execute_reply": "2023-11-12T12:40:48.144700Z"
    },
    "slideshow": {
     "slide_type": "subslide"
    }
   },
   "outputs": [
    {
     "data": {
      "text/plain": [
       "'()'"
      ]
     },
     "execution_count": 78,
     "metadata": {},
     "output_type": "execute_result"
    }
   ],
   "source": [
    "mystery_diff"
   ]
  },
  {
   "cell_type": "markdown",
   "metadata": {
    "slideshow": {
     "slide_type": "fragment"
    }
   },
   "source": [
    "(Note that we will introduce more comfortable APIs later.)"
   ]
  },
  {
   "cell_type": "markdown",
   "metadata": {
    "slideshow": {
     "slide_type": "fragment"
    }
   },
   "source": [
    "We can follow the operation of `dd()` by increasing the logging level. We see how with every test, the difference between the passing and the failing input gets smaller and smaller."
   ]
  },
  {
   "cell_type": "code",
   "execution_count": 79,
   "metadata": {
    "execution": {
     "iopub.execute_input": "2023-11-12T12:40:48.146730Z",
     "iopub.status.busy": "2023-11-12T12:40:48.146600Z",
     "iopub.status.idle": "2023-11-12T12:40:48.148367Z",
     "shell.execute_reply": "2023-11-12T12:40:48.148112Z"
    },
    "slideshow": {
     "slide_type": "fragment"
    }
   },
   "outputs": [],
   "source": [
    "with DeltaDebugger(log=2) as dd:\n",
    "    mystery(failing_input)"
   ]
  },
  {
   "cell_type": "code",
   "execution_count": 80,
   "metadata": {
    "execution": {
     "iopub.execute_input": "2023-11-12T12:40:48.150103Z",
     "iopub.status.busy": "2023-11-12T12:40:48.149919Z",
     "iopub.status.idle": "2023-11-12T12:40:48.153947Z",
     "shell.execute_reply": "2023-11-12T12:40:48.153648Z"
    },
    "slideshow": {
     "slide_type": "subslide"
    }
   },
   "outputs": [
    {
     "name": "stdout",
     "output_type": "stream",
     "text": [
      "Test #1 mystery(inp=''): PASS\n",
      "Test #2 mystery(inp='V\"/+!aF-(V4EOz*+s/Q,7)2@0_'): FAIL (ValueError: Invalid input)\n",
      "Passing input: ''\n",
      "Failing input: 'V\"/+!aF-(V4EOz*+s/Q,7)2@0_'\n",
      "Granularity:   2\n",
      "Test #3 mystery(inp='V\"/+!aF-(V4EO'): PASS\n",
      "Test #4 mystery(inp='z*+s/Q,7)2@0_'): PASS\n",
      "No reduction found\n",
      "Increase granularity\n",
      "Passing input: ''\n",
      "Failing input: 'V\"/+!aF-(V4EOz*+s/Q,7)2@0_'\n",
      "Granularity:   4\n",
      "Test #5 mystery(inp='-(V4EOz*+s/Q,7)2@0_'): FAIL (ValueError: Invalid input)\n",
      "Reduce to complement\n",
      "Passing input: ''\n",
      "Failing input: '-(V4EOz*+s/Q,7)2@0_'\n",
      "Granularity:   3\n",
      "Test #6 mystery(inp='*+s/Q,7)2@0_'): PASS\n",
      "Test #7 mystery(inp='-(V4EOz7)2@0_'): FAIL (ValueError: Invalid input)\n",
      "Reduce to complement\n",
      "Passing input: ''\n",
      "Failing input: '-(V4EOz7)2@0_'\n",
      "Granularity:   2\n",
      "Test #8 mystery(inp='7)2@0_'): PASS\n",
      "Test #9 mystery(inp='-(V4EOz'): PASS\n",
      "No reduction found\n",
      "Increase granularity\n",
      "Passing input: ''\n",
      "Failing input: '-(V4EOz7)2@0_'\n",
      "Granularity:   4\n",
      "Test #10 mystery(inp='-(V47)2@0_'): FAIL (ValueError: Invalid input)\n",
      "Reduce to complement\n",
      "Passing input: ''\n",
      "Failing input: '-(V47)2@0_'\n",
      "Granularity:   3\n",
      "Test #11 mystery(inp='-(V4@0_'): PASS\n",
      "Test #12 mystery(inp='-(V47)2'): FAIL (ValueError: Invalid input)\n",
      "Reduce to complement\n",
      "Passing input: ''\n",
      "Failing input: '-(V47)2'\n",
      "Granularity:   2\n",
      "Test #13 mystery(inp='-7)2'): PASS\n",
      "Test #14 mystery(inp='(V4'): PASS\n",
      "No reduction found\n",
      "Increase granularity\n",
      "Passing input: ''\n",
      "Failing input: '-(V47)2'\n",
      "Granularity:   4\n",
      "Test #15 mystery(inp='-47)2'): PASS\n",
      "Test #16 mystery(inp='-(V7)2'): FAIL (ValueError: Invalid input)\n",
      "Reduce to complement\n",
      "Passing input: ''\n",
      "Failing input: '-(V7)2'\n",
      "Granularity:   3\n",
      "Test #17 mystery(inp='-(V2'): PASS\n",
      "Test #18 mystery(inp='(V7)'): FAIL (ValueError: Invalid input)\n",
      "Reduce to complement\n",
      "Passing input: ''\n",
      "Failing input: '(V7)'\n",
      "Granularity:   2\n",
      "Test #19 mystery(inp='7)'): PASS\n",
      "Test #20 mystery(inp='(V'): PASS\n",
      "No reduction found\n",
      "Increase granularity\n",
      "Passing input: ''\n",
      "Failing input: '(V7)'\n",
      "Granularity:   4\n",
      "Test #21 mystery(inp='(7)'): FAIL (ValueError: Invalid input)\n",
      "Reduce to complement\n",
      "Passing input: ''\n",
      "Failing input: '(7)'\n",
      "Granularity:   3\n",
      "Test #22 mystery(inp='()'): FAIL (ValueError: Invalid input)\n",
      "Reduce to complement\n",
      "Passing input: ''\n",
      "Failing input: '()'\n",
      "Granularity:   2\n",
      "Test #23 mystery(inp=')'): PASS\n",
      "Test #24 mystery(inp='('): PASS\n",
      "No reduction found\n"
     ]
    },
    {
     "data": {
      "text/plain": [
       "('', '()', '()')"
      ]
     },
     "execution_count": 80,
     "metadata": {},
     "output_type": "execute_result"
    }
   ],
   "source": [
    "dd.dd('inp', {'inp': failing_input})"
   ]
  },
  {
   "cell_type": "markdown",
   "metadata": {
    "slideshow": {
     "slide_type": "subslide"
    }
   },
   "source": [
    "#### Processing Multiple Arguments\n",
    "\n",
    "What happens if a function has multiple arguments? First, we check if they are _reducible_ – that is, they provide a `len()` length function and a way to access indexed elements. This holds for all strings and all lists, as well as other ordered collections."
   ]
  },
  {
   "cell_type": "code",
   "execution_count": 81,
   "metadata": {
    "execution": {
     "iopub.execute_input": "2023-11-12T12:40:48.155521Z",
     "iopub.status.busy": "2023-11-12T12:40:48.155427Z",
     "iopub.status.idle": "2023-11-12T12:40:48.157647Z",
     "shell.execute_reply": "2023-11-12T12:40:48.157329Z"
    },
    "slideshow": {
     "slide_type": "subslide"
    }
   },
   "outputs": [],
   "source": [
    "def is_reducible(value: Any) -> bool:\n",
    "    # Return True if `value` supports len() and indexing.\n",
    "    try:\n",
    "        _ = len(value)\n",
    "    except TypeError:\n",
    "        return False\n",
    "\n",
    "    try:\n",
    "        _ = value[0]\n",
    "    except TypeError:\n",
    "        return False\n",
    "    except IndexError:\n",
    "        return False\n",
    "\n",
    "    return True"
   ]
  },
  {
   "cell_type": "markdown",
   "metadata": {
    "slideshow": {
     "slide_type": "subslide"
    }
   },
   "source": [
    "Our method `process_args()` processes recorded call arguments, one after the one, until all are minimized or maximized. Processing them individually (rather than, say, all at once) allows maintaining a stable _context_ during reduction."
   ]
  },
  {
   "cell_type": "markdown",
   "metadata": {
    "slideshow": {
     "slide_type": "fragment"
    }
   },
   "source": [
    "This method also does all the housekeeping, checking arguments and results, and raising errors if need be."
   ]
  },
  {
   "cell_type": "code",
   "execution_count": 82,
   "metadata": {
    "execution": {
     "iopub.execute_input": "2023-11-12T12:40:48.159396Z",
     "iopub.status.busy": "2023-11-12T12:40:48.159296Z",
     "iopub.status.idle": "2023-11-12T12:40:48.160985Z",
     "shell.execute_reply": "2023-11-12T12:40:48.160683Z"
    },
    "slideshow": {
     "slide_type": "fragment"
    }
   },
   "outputs": [],
   "source": [
    "class FailureNotReproducedError(ValueError):\n",
    "    pass"
   ]
  },
  {
   "cell_type": "code",
   "execution_count": 83,
   "metadata": {
    "execution": {
     "iopub.execute_input": "2023-11-12T12:40:48.162603Z",
     "iopub.status.busy": "2023-11-12T12:40:48.162486Z",
     "iopub.status.idle": "2023-11-12T12:40:48.165221Z",
     "shell.execute_reply": "2023-11-12T12:40:48.164937Z"
    },
    "slideshow": {
     "slide_type": "subslide"
    }
   },
   "outputs": [],
   "source": [
    "class DeltaDebugger(DeltaDebugger):\n",
    "    def check_reproducibility(self) -> None:\n",
    "        # Check whether running the function again fails\n",
    "        assert self._function, \\\n",
    "            \"No call collected. Use `with dd: func()` first.\"\n",
    "        assert self._args, \\\n",
    "            \"No arguments collected. Use `with dd: func(args)` first.\"\n",
    "\n",
    "        self.reset()\n",
    "        outcome = self.test(self.args())\n",
    "        if outcome == UNRESOLVED:\n",
    "            raise FailureNotReproducedError(\n",
    "                \"When called again, \" +\n",
    "                self.format_call(self.args()) + \n",
    "                \" raised \" +\n",
    "                self.format_exception(self.last_exception) +\n",
    "                \" instead of \" +\n",
    "                self.format_exception(self.exception()))\n",
    "\n",
    "        if outcome == PASS:\n",
    "            raise NotFailingError(\"When called again, \" +\n",
    "                                  self.format_call(self.args()) + \n",
    "                                  \" did not fail\")\n",
    "        assert outcome == FAIL"
   ]
  },
  {
   "cell_type": "code",
   "execution_count": 84,
   "metadata": {
    "execution": {
     "iopub.execute_input": "2023-11-12T12:40:48.167003Z",
     "iopub.status.busy": "2023-11-12T12:40:48.166914Z",
     "iopub.status.idle": "2023-11-12T12:40:48.172447Z",
     "shell.execute_reply": "2023-11-12T12:40:48.172183Z"
    },
    "slideshow": {
     "slide_type": "subslide"
    }
   },
   "outputs": [],
   "source": [
    "class DeltaDebugger(DeltaDebugger):\n",
    "    def process_args(self, strategy: Callable, **strategy_args: Any) -> \\\n",
    "        Tuple[Dict[str, Any], Dict[str, Any], Dict[str, Any]]:\n",
    "        \"\"\"\n",
    "        Reduce all reducible arguments, using `strategy`(var, `strategy_args`).\n",
    "        Can be overloaded in subclasses.\n",
    "        \"\"\"\n",
    "\n",
    "        pass_args = {}  # Local copy\n",
    "        fail_args = {}  # Local copy\n",
    "        diff_args = {}\n",
    "        for var in self.args():\n",
    "            fail_args[var] = self.args()[var]\n",
    "            diff_args[var] = self.args()[var]\n",
    "            pass_args[var] = self.args()[var]\n",
    "\n",
    "            if is_reducible(pass_args[var]):\n",
    "                pass_args[var] = empty(pass_args[var])\n",
    "\n",
    "        vars_to_be_processed = set(fail_args.keys())\n",
    "\n",
    "        pass_processed = 0\n",
    "        fail_processed = 0\n",
    "\n",
    "        self.check_reproducibility()\n",
    "\n",
    "        # We take turns in processing variables until all are processed\n",
    "        while len(vars_to_be_processed) > 0:\n",
    "            for var in vars_to_be_processed:\n",
    "                if not is_reducible(fail_args[var]):\n",
    "                    vars_to_be_processed.remove(var)\n",
    "                    break\n",
    "\n",
    "                if self.log:\n",
    "                    print(f\"Processing {var}...\")\n",
    "\n",
    "                maximized_pass_value, minimized_fail_value, diff = \\\n",
    "                    strategy(var, fail_args, **strategy_args)\n",
    "\n",
    "                if (maximized_pass_value is not None and \n",
    "                    len(maximized_pass_value) > len(pass_args[var])):\n",
    "                    pass_args[var] = maximized_pass_value\n",
    "                    # FIXME: diff_args may not be correct for multiple args\n",
    "                    diff_args[var] = diff\n",
    "                    if self.log:\n",
    "                        print(f\"Maximized {var} to\",\n",
    "                              repr(maximized_pass_value))\n",
    "                    vars_to_be_processed = set(fail_args.keys())\n",
    "                    pass_processed += 1\n",
    "\n",
    "                if (minimized_fail_value is not None and \n",
    "                    len(minimized_fail_value) < len(fail_args[var])):\n",
    "                    fail_args[var] = minimized_fail_value\n",
    "                    diff_args[var] = diff\n",
    "                    if self.log:\n",
    "                        print(f\"Minimized {var} to\",\n",
    "                              repr(minimized_fail_value))\n",
    "                    vars_to_be_processed = set(fail_args.keys())\n",
    "                    fail_processed += 1\n",
    "\n",
    "                vars_to_be_processed.remove(var)\n",
    "                break\n",
    "\n",
    "        assert pass_processed == 0 or self.test(pass_args) == PASS, \\\n",
    "            f\"{self.format_call(pass_args)} does not pass\"\n",
    "        assert fail_processed == 0 or self.test(fail_args) == FAIL, \\\n",
    "            f\"{self.format_call(fail_args)} does not fail\"\n",
    "\n",
    "        if self.log and pass_processed > 0:\n",
    "            print(\"Maximized passing call to\",\n",
    "                  self.format_call(pass_args))\n",
    "        if self.log and fail_processed > 0:\n",
    "            print(\"Minimized failing call to\",\n",
    "                  self.format_call(fail_args))\n",
    "\n",
    "        return pass_args, fail_args, diff_args"
   ]
  },
  {
   "cell_type": "markdown",
   "metadata": {
    "slideshow": {
     "slide_type": "subslide"
    }
   },
   "source": [
    "For more housekeeping, we define the `after_collection()` method that will be invoked at the end of the `with` block. It checks for a number of additional preconditions."
   ]
  },
  {
   "cell_type": "code",
   "execution_count": 85,
   "metadata": {
    "execution": {
     "iopub.execute_input": "2023-11-12T12:40:48.174124Z",
     "iopub.status.busy": "2023-11-12T12:40:48.174033Z",
     "iopub.status.idle": "2023-11-12T12:40:48.176446Z",
     "shell.execute_reply": "2023-11-12T12:40:48.176160Z"
    },
    "slideshow": {
     "slide_type": "fragment"
    }
   },
   "outputs": [],
   "source": [
    "class DeltaDebugger(DeltaDebugger):\n",
    "    def after_collection(self) -> None:\n",
    "        # Some post-collection checks\n",
    "        if self._function is None:\n",
    "            raise NoCallError(\"No function call observed\")\n",
    "        if self.exception() is None:\n",
    "            raise NotFailingError(\n",
    "                f\"{self.format_call()} did not raise an exception\")\n",
    "\n",
    "        if self.log:\n",
    "            print(f\"Observed {self.format_call()}\" +\n",
    "                  f\" raising {self.format_exception(self.exception())}\")"
   ]
  },
  {
   "cell_type": "markdown",
   "metadata": {
    "slideshow": {
     "slide_type": "subslide"
    }
   },
   "source": [
    "#### Public API\n",
    "\n",
    "We finish the implementation with public methods that allow users to run delta debugging and obtain the diagnostics."
   ]
  },
  {
   "cell_type": "code",
   "execution_count": 86,
   "metadata": {
    "execution": {
     "iopub.execute_input": "2023-11-12T12:40:48.178169Z",
     "iopub.status.busy": "2023-11-12T12:40:48.178035Z",
     "iopub.status.idle": "2023-11-12T12:40:48.180016Z",
     "shell.execute_reply": "2023-11-12T12:40:48.179783Z"
    },
    "slideshow": {
     "slide_type": "fragment"
    }
   },
   "outputs": [],
   "source": [
    "class DeltaDebugger(DeltaDebugger):\n",
    "    def min_args(self) -> Dict[str, Any]:\n",
    "        \"\"\"Return 1-minimal arguments.\"\"\"\n",
    "        pass_args, fail_args, diff = self.process_args(self.dd, mode='-')\n",
    "        return fail_args"
   ]
  },
  {
   "cell_type": "code",
   "execution_count": 87,
   "metadata": {
    "execution": {
     "iopub.execute_input": "2023-11-12T12:40:48.181881Z",
     "iopub.status.busy": "2023-11-12T12:40:48.181730Z",
     "iopub.status.idle": "2023-11-12T12:40:48.184089Z",
     "shell.execute_reply": "2023-11-12T12:40:48.183849Z"
    },
    "slideshow": {
     "slide_type": "fragment"
    }
   },
   "outputs": [],
   "source": [
    "class DeltaDebugger(DeltaDebugger):\n",
    "    def max_args(self) -> Dict[str, Any]:\n",
    "        \"\"\"Return 1-maximal arguments.\"\"\"\n",
    "        pass_args, fail_args, diff = self.process_args(self.dd, mode='+')\n",
    "        return pass_args"
   ]
  },
  {
   "cell_type": "code",
   "execution_count": 88,
   "metadata": {
    "execution": {
     "iopub.execute_input": "2023-11-12T12:40:48.185851Z",
     "iopub.status.busy": "2023-11-12T12:40:48.185670Z",
     "iopub.status.idle": "2023-11-12T12:40:48.187660Z",
     "shell.execute_reply": "2023-11-12T12:40:48.187432Z"
    },
    "slideshow": {
     "slide_type": "subslide"
    }
   },
   "outputs": [],
   "source": [
    "class DeltaDebugger(DeltaDebugger):\n",
    "    def min_arg_diff(self) -> Tuple[Dict[str, Any], Dict[str, Any], Dict[str, Any]]:\n",
    "        \"\"\"Return 1-minimal difference between arguments.\"\"\"\n",
    "        return self.process_args(self.dd, mode='+-')"
   ]
  },
  {
   "cell_type": "markdown",
   "metadata": {
    "slideshow": {
     "slide_type": "fragment"
    }
   },
   "source": [
    "The `__repr__()` method returns a string representation of the minimized call."
   ]
  },
  {
   "cell_type": "code",
   "execution_count": 89,
   "metadata": {
    "execution": {
     "iopub.execute_input": "2023-11-12T12:40:48.189274Z",
     "iopub.status.busy": "2023-11-12T12:40:48.189107Z",
     "iopub.status.idle": "2023-11-12T12:40:48.190801Z",
     "shell.execute_reply": "2023-11-12T12:40:48.190555Z"
    },
    "slideshow": {
     "slide_type": "fragment"
    }
   },
   "outputs": [],
   "source": [
    "class DeltaDebugger(DeltaDebugger):\n",
    "    def __repr__(self) -> str:\n",
    "        \"\"\"Return a string representation of the minimized call.\"\"\"\n",
    "        return self.format_call(self.min_args())"
   ]
  },
  {
   "cell_type": "markdown",
   "metadata": {
    "slideshow": {
     "slide_type": "subslide"
    }
   },
   "source": [
    "### End of Excursion"
   ]
  },
  {
   "cell_type": "markdown",
   "metadata": {
    "slideshow": {
     "slide_type": "fragment"
    }
   },
   "source": [
    "To see how the `DeltaDebugger` works, let us run it on our failing input. The expected usage is as introduced earlier – we wrap the failing function in a `with` block, and then print out the debugger to see the reduced arguments. We see that `DeltaDebugger` easily reduces the arguments to the minimal failure-inducing input:"
   ]
  },
  {
   "cell_type": "code",
   "execution_count": 90,
   "metadata": {
    "execution": {
     "iopub.execute_input": "2023-11-12T12:40:48.192278Z",
     "iopub.status.busy": "2023-11-12T12:40:48.192152Z",
     "iopub.status.idle": "2023-11-12T12:40:48.194718Z",
     "shell.execute_reply": "2023-11-12T12:40:48.194449Z"
    },
    "slideshow": {
     "slide_type": "fragment"
    }
   },
   "outputs": [
    {
     "data": {
      "text/plain": [
       "mystery(inp='()')"
      ]
     },
     "execution_count": 90,
     "metadata": {},
     "output_type": "execute_result"
    }
   ],
   "source": [
    "with DeltaDebugger() as dd:\n",
    "    mystery(failing_input)\n",
    "dd"
   ]
  },
  {
   "cell_type": "markdown",
   "metadata": {
    "slideshow": {
     "slide_type": "fragment"
    }
   },
   "source": [
    "We can turn on logging for `DeltaDebugger` to see how it proceeds. With each step, we see how the remaining input gets smaller and smaller, until only two characters remain:"
   ]
  },
  {
   "cell_type": "code",
   "execution_count": 91,
   "metadata": {
    "execution": {
     "iopub.execute_input": "2023-11-12T12:40:48.196381Z",
     "iopub.status.busy": "2023-11-12T12:40:48.196226Z",
     "iopub.status.idle": "2023-11-12T12:40:48.199392Z",
     "shell.execute_reply": "2023-11-12T12:40:48.199080Z"
    },
    "slideshow": {
     "slide_type": "subslide"
    }
   },
   "outputs": [
    {
     "name": "stdout",
     "output_type": "stream",
     "text": [
      "Observed mystery(inp='V\"/+!aF-(V4EOz*+s/Q,7)2@0_') raising ValueError: Invalid input\n",
      "Test #1 mystery(inp='V\"/+!aF-(V4EOz*+s/Q,7)2@0_'): FAIL (ValueError: Invalid input)\n",
      "Processing inp...\n",
      "Test #2 mystery(inp=''): PASS\n",
      "Test #3 mystery(inp='V\"/+!aF-(V4EO'): PASS\n",
      "Test #4 mystery(inp='z*+s/Q,7)2@0_'): PASS\n",
      "Test #5 mystery(inp='-(V4EOz*+s/Q,7)2@0_'): FAIL (ValueError: Invalid input)\n",
      "Test #6 mystery(inp='*+s/Q,7)2@0_'): PASS\n",
      "Test #7 mystery(inp='-(V4EOz7)2@0_'): FAIL (ValueError: Invalid input)\n",
      "Test #8 mystery(inp='7)2@0_'): PASS\n",
      "Test #9 mystery(inp='-(V4EOz'): PASS\n",
      "Test #10 mystery(inp='-(V47)2@0_'): FAIL (ValueError: Invalid input)\n",
      "Test #11 mystery(inp='-(V4@0_'): PASS\n",
      "Test #12 mystery(inp='-(V47)2'): FAIL (ValueError: Invalid input)\n",
      "Test #13 mystery(inp='-7)2'): PASS\n",
      "Test #14 mystery(inp='(V4'): PASS\n",
      "Test #15 mystery(inp='-47)2'): PASS\n",
      "Test #16 mystery(inp='-(V7)2'): FAIL (ValueError: Invalid input)\n",
      "Test #17 mystery(inp='-(V2'): PASS\n",
      "Test #18 mystery(inp='(V7)'): FAIL (ValueError: Invalid input)\n",
      "Test #19 mystery(inp='7)'): PASS\n",
      "Test #20 mystery(inp='(V'): PASS\n",
      "Test #21 mystery(inp='(7)'): FAIL (ValueError: Invalid input)\n",
      "Test #22 mystery(inp='()'): FAIL (ValueError: Invalid input)\n",
      "Test #23 mystery(inp=')'): PASS\n",
      "Test #24 mystery(inp='('): PASS\n",
      "Minimized inp to '()'\n",
      "Minimized failing call to mystery(inp='()')\n"
     ]
    },
    {
     "data": {
      "text/plain": [
       "mystery(inp='()')"
      ]
     },
     "execution_count": 91,
     "metadata": {},
     "output_type": "execute_result"
    }
   ],
   "source": [
    "with DeltaDebugger(log=True) as dd:\n",
    "    mystery(failing_input)\n",
    "dd"
   ]
  },
  {
   "cell_type": "markdown",
   "metadata": {
    "slideshow": {
     "slide_type": "subslide"
    }
   },
   "source": [
    "It is also possible to access the debugger programmatically:"
   ]
  },
  {
   "cell_type": "code",
   "execution_count": 92,
   "metadata": {
    "execution": {
     "iopub.execute_input": "2023-11-12T12:40:48.201111Z",
     "iopub.status.busy": "2023-11-12T12:40:48.201008Z",
     "iopub.status.idle": "2023-11-12T12:40:48.202927Z",
     "shell.execute_reply": "2023-11-12T12:40:48.202604Z"
    },
    "slideshow": {
     "slide_type": "fragment"
    }
   },
   "outputs": [],
   "source": [
    "with DeltaDebugger() as dd:\n",
    "    mystery(failing_input)"
   ]
  },
  {
   "cell_type": "code",
   "execution_count": 93,
   "metadata": {
    "execution": {
     "iopub.execute_input": "2023-11-12T12:40:48.204501Z",
     "iopub.status.busy": "2023-11-12T12:40:48.204419Z",
     "iopub.status.idle": "2023-11-12T12:40:48.206514Z",
     "shell.execute_reply": "2023-11-12T12:40:48.206246Z"
    },
    "slideshow": {
     "slide_type": "fragment"
    }
   },
   "outputs": [
    {
     "data": {
      "text/plain": [
       "{'inp': 'V\"/+!aF-(V4EOz*+s/Q,7)2@0_'}"
      ]
     },
     "execution_count": 93,
     "metadata": {},
     "output_type": "execute_result"
    }
   ],
   "source": [
    "dd.args()"
   ]
  },
  {
   "cell_type": "code",
   "execution_count": 94,
   "metadata": {
    "execution": {
     "iopub.execute_input": "2023-11-12T12:40:48.208359Z",
     "iopub.status.busy": "2023-11-12T12:40:48.208271Z",
     "iopub.status.idle": "2023-11-12T12:40:48.210366Z",
     "shell.execute_reply": "2023-11-12T12:40:48.210128Z"
    },
    "slideshow": {
     "slide_type": "fragment"
    }
   },
   "outputs": [
    {
     "data": {
      "text/plain": [
       "{'inp': '()'}"
      ]
     },
     "execution_count": 94,
     "metadata": {},
     "output_type": "execute_result"
    }
   ],
   "source": [
    "dd.min_args()"
   ]
  },
  {
   "cell_type": "code",
   "execution_count": 95,
   "metadata": {
    "execution": {
     "iopub.execute_input": "2023-11-12T12:40:48.212193Z",
     "iopub.status.busy": "2023-11-12T12:40:48.212076Z",
     "iopub.status.idle": "2023-11-12T12:40:48.216929Z",
     "shell.execute_reply": "2023-11-12T12:40:48.216642Z"
    },
    "slideshow": {
     "slide_type": "subslide"
    }
   },
   "outputs": [
    {
     "data": {
      "text/html": [
       "\n",
       "    \n",
       "    <script>\n",
       "    var bad_answers = new Map();\n",
       "\n",
       "    function answer(quiz_id) {\n",
       "        ans = 0;\n",
       "        for (i = 1;; i++) {\n",
       "            checkbox = document.getElementById(quiz_id + \"-\" + i.toString());\n",
       "            if (!checkbox)\n",
       "                break;\n",
       "            if (checkbox.checked)\n",
       "                ans |= (1 << i);\n",
       "        }\n",
       "        return ans;\n",
       "    }\n",
       "    function check_selection(quiz_id, correct_answer, multiple_choice, hint) {\n",
       "        given_answer = answer(quiz_id);\n",
       "        if (given_answer == correct_answer)\n",
       "        {\n",
       "            document.getElementById(quiz_id + \"-submit\").value = \"Correct!\";\n",
       "            document.getElementById(quiz_id + \"-hint\").innerHTML = \"\";\n",
       "\n",
       "            for (i = 1;; i++) {\n",
       "                checkbox = document.getElementById(quiz_id + \"-\" + i.toString());\n",
       "                label = document.getElementById(quiz_id + \"-\" + i.toString() + \"-label\")\n",
       "                if (!checkbox)\n",
       "                    break;\n",
       "    \n",
       "                if (checkbox.checked) {\n",
       "                    label.style.fontWeight = \"bold\";\n",
       "                }\n",
       "                else {\n",
       "                    label.style.textDecoration = \"line-through\";\n",
       "                }\n",
       "            }\n",
       "        }\n",
       "        else \n",
       "        {\n",
       "            document.getElementById(quiz_id + \"-submit\").value = \"Try again\";\n",
       "            \n",
       "            if (!bad_answers.has(quiz_id)) {\n",
       "                bad_answers.set(quiz_id, 1);\n",
       "            }\n",
       "            else {\n",
       "                bad_answers.set(quiz_id, bad_answers.get(quiz_id) + 1);\n",
       "            }\n",
       "\n",
       "            if (bad_answers.get(quiz_id) >= 2 && hint.length > 0) {\n",
       "                document.getElementById(quiz_id + \"-hint\").innerHTML = \n",
       "                    \"&nbsp;&nbsp;(Hint: <code>\" + hint + \"</code>)\";\n",
       "            }\n",
       "\n",
       "            if (!multiple_choice) {\n",
       "                for (i = 1;; i++) {\n",
       "                    checkbox = document.getElementById(quiz_id + \"-\" + i.toString());\n",
       "                    label = document.getElementById(quiz_id + \"-\" + i.toString() + \"-label\")\n",
       "\n",
       "                    if (!checkbox)\n",
       "                        break;\n",
       "                    if (checkbox.checked) {\n",
       "                        label.style.textDecoration = \"line-through\";\n",
       "                    }\n",
       "                }\n",
       "            }\n",
       "        }\n",
       "    }\n",
       "    function clear_selection(quiz_id) {\n",
       "        document.getElementById(quiz_id + \"-submit\").value = \"Submit\";\n",
       "        document.getElementById(quiz_id + \"-hint\").innerHTML = \"\";\n",
       "    }\n",
       "    </script>\n",
       "    \n",
       "    <div class=\"quiz\">\n",
       "    <h3 class=\"quiz_title\">Quiz</h3>\n",
       "    <p>\n",
       "    <div class=\"quiz_question\">What happens if the function under test does not raise an exception?</div>\n",
       "    </p>\n",
       "    <p>\n",
       "    <div class=\"quiz_options\" title=\"Pick a choice.\">\n",
       "    \n",
       "        <input type=\"radio\" name=\"b4997c5c-8158-11ee-8f31-6298cf1a5790\" id=\"b4997c5c-8158-11ee-8f31-6298cf1a5790-1\" onclick=\"clear_selection('b4997c5c-8158-11ee-8f31-6298cf1a5790')\">\n",
       "        <label id=\"b4997c5c-8158-11ee-8f31-6298cf1a5790-1-label\" for=\"b4997c5c-8158-11ee-8f31-6298cf1a5790-1\">Delta debugging searches for the minimal input that produces the same result</label><br>\n",
       "    \n",
       "        <input type=\"radio\" name=\"b4997c5c-8158-11ee-8f31-6298cf1a5790\" id=\"b4997c5c-8158-11ee-8f31-6298cf1a5790-2\" onclick=\"clear_selection('b4997c5c-8158-11ee-8f31-6298cf1a5790')\">\n",
       "        <label id=\"b4997c5c-8158-11ee-8f31-6298cf1a5790-2-label\" for=\"b4997c5c-8158-11ee-8f31-6298cf1a5790-2\">Delta debugging starts a fuzzer to find an exception</label><br>\n",
       "    \n",
       "        <input type=\"radio\" name=\"b4997c5c-8158-11ee-8f31-6298cf1a5790\" id=\"b4997c5c-8158-11ee-8f31-6298cf1a5790-3\" onclick=\"clear_selection('b4997c5c-8158-11ee-8f31-6298cf1a5790')\">\n",
       "        <label id=\"b4997c5c-8158-11ee-8f31-6298cf1a5790-3-label\" for=\"b4997c5c-8158-11ee-8f31-6298cf1a5790-3\">Delta debugging raises an exception</label><br>\n",
       "    \n",
       "        <input type=\"radio\" name=\"b4997c5c-8158-11ee-8f31-6298cf1a5790\" id=\"b4997c5c-8158-11ee-8f31-6298cf1a5790-4\" onclick=\"clear_selection('b4997c5c-8158-11ee-8f31-6298cf1a5790')\">\n",
       "        <label id=\"b4997c5c-8158-11ee-8f31-6298cf1a5790-4-label\" for=\"b4997c5c-8158-11ee-8f31-6298cf1a5790-4\">Delta debugging runs forever in a loop</label><br>\n",
       "    \n",
       "    </div>\n",
       "    </p>\n",
       "    <input id=\"b4997c5c-8158-11ee-8f31-6298cf1a5790-submit\" type=\"submit\" value=\"Submit\" onclick=\"check_selection('b4997c5c-8158-11ee-8f31-6298cf1a5790', 8, 0, '0 ** 0 + 1 ** 0 + 0 ** 1 + 1 ** 1')\">\n",
       "    <span class=\"quiz_hint\" id=\"b4997c5c-8158-11ee-8f31-6298cf1a5790-hint\"></span>\n",
       "    </div>\n",
       "    "
      ],
      "text/plain": [
       "<IPython.core.display.HTML object>"
      ]
     },
     "execution_count": 95,
     "metadata": {},
     "output_type": "execute_result"
    }
   ],
   "source": [
    "quiz(\"What happens if the function under test does not raise an exception?\",\n",
    "    [\n",
    "        \"Delta debugging searches for the minimal input\"\n",
    "        \" that produces the same result\",\n",
    "        \"Delta debugging starts a fuzzer to find an exception\",\n",
    "        \"Delta debugging raises an exception\",\n",
    "        \"Delta debugging runs forever in a loop\",\n",
    "    ], '0 ** 0 + 1 ** 0 + 0 ** 1 + 1 ** 1')"
   ]
  },
  {
   "cell_type": "markdown",
   "metadata": {
    "slideshow": {
     "slide_type": "fragment"
    }
   },
   "source": [
    "Indeed, `DeltaDebugger` checks if an exception occurs. If not, you obtain a `NotFailingError`."
   ]
  },
  {
   "cell_type": "code",
   "execution_count": 96,
   "metadata": {
    "execution": {
     "iopub.execute_input": "2023-11-12T12:40:48.218434Z",
     "iopub.status.busy": "2023-11-12T12:40:48.218324Z",
     "iopub.status.idle": "2023-11-12T12:40:48.220359Z",
     "shell.execute_reply": "2023-11-12T12:40:48.220113Z"
    },
    "slideshow": {
     "slide_type": "subslide"
    }
   },
   "outputs": [
    {
     "name": "stderr",
     "output_type": "stream",
     "text": [
      "Traceback (most recent call last):\n",
      "  File \"/var/folders/n2/xd9445p97rb3xh7m1dfx8_4h0006ts/T/ipykernel_25735/3784387889.py\", line 2, in <cell line: 1>\n",
      "    with DeltaDebugger() as dd:\n",
      "  File \"/var/folders/n2/xd9445p97rb3xh7m1dfx8_4h0006ts/T/ipykernel_25735/4114738534.py\", line 24, in __exit__\n",
      "    self.after_collection()\n",
      "  File \"/var/folders/n2/xd9445p97rb3xh7m1dfx8_4h0006ts/T/ipykernel_25735/1934034330.py\", line 7, in after_collection\n",
      "    raise NotFailingError(\n",
      "NotFailingError: mystery(inp='An input that does not fail') did not raise an exception (expected)\n"
     ]
    }
   ],
   "source": [
    "with ExpectError(NotFailingError):\n",
    "    with DeltaDebugger() as dd:\n",
    "        mystery(\"An input that does not fail\")"
   ]
  },
  {
   "cell_type": "markdown",
   "metadata": {
    "slideshow": {
     "slide_type": "fragment"
    }
   },
   "source": [
    "Delta Debugging also assumes that the function under test is _deterministic_. If it occasionally fails and occasionally passes, you will get random results."
   ]
  },
  {
   "cell_type": "markdown",
   "metadata": {
    "slideshow": {
     "slide_type": "slide"
    }
   },
   "source": [
    "## Usage Examples\n",
    "\n",
    "Let us apply `DeltaDebugger` on a number of examples. "
   ]
  },
  {
   "cell_type": "markdown",
   "metadata": {
    "slideshow": {
     "slide_type": "subslide"
    }
   },
   "source": [
    "### Reducing remove_html_markup()\n",
    "\n",
    "For our ongoing `remove_html_markup()` example, we can reduce the failure-inducing input to a minimum, too:"
   ]
  },
  {
   "cell_type": "code",
   "execution_count": 97,
   "metadata": {
    "execution": {
     "iopub.execute_input": "2023-11-12T12:40:48.221911Z",
     "iopub.status.busy": "2023-11-12T12:40:48.221794Z",
     "iopub.status.idle": "2023-11-12T12:40:48.248652Z",
     "shell.execute_reply": "2023-11-12T12:40:48.248344Z"
    },
    "slideshow": {
     "slide_type": "skip"
    }
   },
   "outputs": [],
   "source": [
    "from Assertions import remove_html_markup  # minor dependency"
   ]
  },
  {
   "cell_type": "code",
   "execution_count": 98,
   "metadata": {
    "execution": {
     "iopub.execute_input": "2023-11-12T12:40:48.250655Z",
     "iopub.status.busy": "2023-11-12T12:40:48.250490Z",
     "iopub.status.idle": "2023-11-12T12:40:48.253046Z",
     "shell.execute_reply": "2023-11-12T12:40:48.252823Z"
    },
    "slideshow": {
     "slide_type": "subslide"
    }
   },
   "outputs": [
    {
     "name": "stdout",
     "output_type": "stream",
     "text": [
      "Observed remove_html_markup(s='\"x > y\"') raising AssertionError\n",
      "Test #1 remove_html_markup(s='\"x > y\"'): FAIL (AssertionError)\n",
      "Processing s...\n",
      "Test #2 remove_html_markup(s=''): PASS\n",
      "Test #3 remove_html_markup(s='\"x >'): FAIL (AssertionError)\n",
      "Test #4 remove_html_markup(s='\"x'): PASS\n",
      "Test #5 remove_html_markup(s=' >'): PASS\n",
      "Test #6 remove_html_markup(s='x >'): PASS\n",
      "Test #7 remove_html_markup(s='\" >'): FAIL (AssertionError)\n",
      "Test #8 remove_html_markup(s='\">'): FAIL (AssertionError)\n",
      "Test #9 remove_html_markup(s='>'): PASS\n",
      "Test #10 remove_html_markup(s='\"'): PASS\n",
      "Minimized s to '\">'\n",
      "Minimized failing call to remove_html_markup(s='\">')\n"
     ]
    },
    {
     "data": {
      "text/plain": [
       "{'s': '\">'}"
      ]
     },
     "execution_count": 98,
     "metadata": {},
     "output_type": "execute_result"
    }
   ],
   "source": [
    "with DeltaDebugger(log=True) as dd:\n",
    "    remove_html_markup('\"x > y\"')\n",
    "dd.min_args()"
   ]
  },
  {
   "cell_type": "markdown",
   "metadata": {
    "slideshow": {
     "slide_type": "subslide"
    }
   },
   "source": [
    "### Reducing Multiple Arguments\n",
    "\n",
    "If a function has multiple reducible variables, they get reduced in turns. This `string_error()` function fails whenever `s1` is a substring of `s2`:"
   ]
  },
  {
   "cell_type": "code",
   "execution_count": 99,
   "metadata": {
    "execution": {
     "iopub.execute_input": "2023-11-12T12:40:48.254870Z",
     "iopub.status.busy": "2023-11-12T12:40:48.254711Z",
     "iopub.status.idle": "2023-11-12T12:40:48.256378Z",
     "shell.execute_reply": "2023-11-12T12:40:48.256140Z"
    },
    "slideshow": {
     "slide_type": "fragment"
    }
   },
   "outputs": [],
   "source": [
    "def string_error(s1: str, s2: str) -> None:\n",
    "    assert s1 not in s2, \"no substrings\""
   ]
  },
  {
   "cell_type": "markdown",
   "metadata": {
    "slideshow": {
     "slide_type": "fragment"
    }
   },
   "source": [
    "Running `DeltaDebugger` on `string_error` shows how first `s1` is reduced, then `s2`, then `s1` again."
   ]
  },
  {
   "cell_type": "code",
   "execution_count": 100,
   "metadata": {
    "execution": {
     "iopub.execute_input": "2023-11-12T12:40:48.257786Z",
     "iopub.status.busy": "2023-11-12T12:40:48.257707Z",
     "iopub.status.idle": "2023-11-12T12:40:48.260433Z",
     "shell.execute_reply": "2023-11-12T12:40:48.260117Z"
    },
    "slideshow": {
     "slide_type": "subslide"
    }
   },
   "outputs": [
    {
     "name": "stdout",
     "output_type": "stream",
     "text": [
      "Observed string_error(s1='foo', s2='foobar') raising AssertionError: no substrings\n",
      "Test #1 string_error(s1='foo', s2='foobar'): FAIL (AssertionError: no substrings)\n",
      "Processing s1...\n",
      "Test #2 string_error(s1='', s2='foobar'): FAIL (AssertionError: no substrings)\n",
      "Minimized s1 to ''\n",
      "Processing s2...\n",
      "Test #3 string_error(s1='', s2=''): FAIL (AssertionError: no substrings)\n",
      "Minimized s2 to ''\n",
      "Minimized failing call to string_error(s1='', s2='')\n"
     ]
    },
    {
     "data": {
      "text/plain": [
       "{'s1': '', 's2': ''}"
      ]
     },
     "execution_count": 100,
     "metadata": {},
     "output_type": "execute_result"
    }
   ],
   "source": [
    "with DeltaDebugger(log=True) as dd:\n",
    "    string_error(\"foo\", \"foobar\")\n",
    "\n",
    "string_error_args = dd.min_args()\n",
    "string_error_args"
   ]
  },
  {
   "cell_type": "markdown",
   "metadata": {
    "slideshow": {
     "slide_type": "subslide"
    }
   },
   "source": [
    "We see that the failure also occurs if both strings are empty:"
   ]
  },
  {
   "cell_type": "code",
   "execution_count": 101,
   "metadata": {
    "execution": {
     "iopub.execute_input": "2023-11-12T12:40:48.262611Z",
     "iopub.status.busy": "2023-11-12T12:40:48.262415Z",
     "iopub.status.idle": "2023-11-12T12:40:48.264329Z",
     "shell.execute_reply": "2023-11-12T12:40:48.264102Z"
    },
    "slideshow": {
     "slide_type": "fragment"
    }
   },
   "outputs": [
    {
     "name": "stderr",
     "output_type": "stream",
     "text": [
      "Traceback (most recent call last):\n",
      "  File \"/var/folders/n2/xd9445p97rb3xh7m1dfx8_4h0006ts/T/ipykernel_25735/3257360882.py\", line 2, in <cell line: 1>\n",
      "    string_error(string_error_args['s1'], string_error_args['s2'])\n",
      "  File \"/var/folders/n2/xd9445p97rb3xh7m1dfx8_4h0006ts/T/ipykernel_25735/773514021.py\", line 2, in string_error\n",
      "    assert s1 not in s2, \"no substrings\"\n",
      "AssertionError: no substrings (expected)\n"
     ]
    }
   ],
   "source": [
    "with ExpectError(AssertionError):\n",
    "    string_error(string_error_args['s1'], string_error_args['s2'])"
   ]
  },
  {
   "attachments": {},
   "cell_type": "markdown",
   "metadata": {
    "slideshow": {
     "slide_type": "subslide"
    }
   },
   "source": [
    "### Invoking an Interactive Debugger\n",
    "\n",
    "The results from delta debugging can be immediately used to invoke an [interactive debugger](Debugger.ipynb) on the minimized input. To this end, we need to turn the dictionary returned by `min_args()` into arguments of the (failing) function call."
   ]
  },
  {
   "cell_type": "markdown",
   "metadata": {
    "slideshow": {
     "slide_type": "subslide"
    }
   },
   "source": [
    "Python provides a simple way to turn dictionaries into function calls. The construct\n",
    "\n",
    "```python\n",
    "fun(**args)\n",
    "```\n",
    "\n",
    "invokes the function `fun`, with all parameters assigned from the respective values in the dictionary. "
   ]
  },
  {
   "cell_type": "markdown",
   "metadata": {
    "slideshow": {
     "slide_type": "fragment"
    }
   },
   "source": [
    "With this, we can immediately invoke a `Debugger` on the failing run with minimized arguments:"
   ]
  },
  {
   "cell_type": "code",
   "execution_count": 102,
   "metadata": {
    "execution": {
     "iopub.execute_input": "2023-11-12T12:40:48.265865Z",
     "iopub.status.busy": "2023-11-12T12:40:48.265749Z",
     "iopub.status.idle": "2023-11-12T12:40:48.280586Z",
     "shell.execute_reply": "2023-11-12T12:40:48.280065Z"
    },
    "slideshow": {
     "slide_type": "skip"
    }
   },
   "outputs": [],
   "source": [
    "from Debugger import Debugger  # minor dependency"
   ]
  },
  {
   "cell_type": "code",
   "execution_count": 103,
   "metadata": {
    "execution": {
     "iopub.execute_input": "2023-11-12T12:40:48.282639Z",
     "iopub.status.busy": "2023-11-12T12:40:48.282411Z",
     "iopub.status.idle": "2023-11-12T12:40:48.284346Z",
     "shell.execute_reply": "2023-11-12T12:40:48.283995Z"
    },
    "slideshow": {
     "slide_type": "fragment"
    }
   },
   "outputs": [],
   "source": [
    "# ignore\n",
    "from bookutils import next_inputs"
   ]
  },
  {
   "cell_type": "code",
   "execution_count": 104,
   "metadata": {
    "execution": {
     "iopub.execute_input": "2023-11-12T12:40:48.285784Z",
     "iopub.status.busy": "2023-11-12T12:40:48.285678Z",
     "iopub.status.idle": "2023-11-12T12:40:48.287712Z",
     "shell.execute_reply": "2023-11-12T12:40:48.287480Z"
    },
    "slideshow": {
     "slide_type": "subslide"
    }
   },
   "outputs": [
    {
     "data": {
      "text/plain": [
       "['print', 'quit']"
      ]
     },
     "execution_count": 104,
     "metadata": {},
     "output_type": "execute_result"
    }
   ],
   "source": [
    "# ignore\n",
    "next_inputs(['print', 'quit'])"
   ]
  },
  {
   "cell_type": "code",
   "execution_count": 105,
   "metadata": {
    "execution": {
     "iopub.execute_input": "2023-11-12T12:40:48.289067Z",
     "iopub.status.busy": "2023-11-12T12:40:48.288968Z",
     "iopub.status.idle": "2023-11-12T12:40:48.292389Z",
     "shell.execute_reply": "2023-11-12T12:40:48.292084Z"
    },
    "slideshow": {
     "slide_type": "subslide"
    }
   },
   "outputs": [
    {
     "name": "stdout",
     "output_type": "stream",
     "text": [
      "Calling string_error(s1 = '', s2 = '')\n"
     ]
    },
    {
     "data": {
      "text/html": [
       "<samp>(debugger) <b>print</b></samp>"
      ],
      "text/plain": [
       "<IPython.core.display.HTML object>"
      ]
     },
     "metadata": {},
     "output_type": "display_data"
    },
    {
     "name": "stdout",
     "output_type": "stream",
     "text": [
      "s1 = ''\n",
      "s2 = ''\n"
     ]
    },
    {
     "data": {
      "text/html": [
       "<samp>(debugger) <b>quit</b></samp>"
      ],
      "text/plain": [
       "<IPython.core.display.HTML object>"
      ]
     },
     "metadata": {},
     "output_type": "display_data"
    },
    {
     "name": "stderr",
     "output_type": "stream",
     "text": [
      "Traceback (most recent call last):\n",
      "  File \"/var/folders/n2/xd9445p97rb3xh7m1dfx8_4h0006ts/T/ipykernel_25735/2680174709.py\", line 3, in <cell line: 1>\n",
      "    string_error(**string_error_args)\n",
      "  File \"/var/folders/n2/xd9445p97rb3xh7m1dfx8_4h0006ts/T/ipykernel_25735/773514021.py\", line 2, in string_error\n",
      "    assert s1 not in s2, \"no substrings\"\n",
      "AssertionError: no substrings (expected)\n"
     ]
    }
   ],
   "source": [
    "with ExpectError(AssertionError):\n",
    "    with Debugger():\n",
    "        string_error(**string_error_args)"
   ]
  },
  {
   "cell_type": "markdown",
   "metadata": {
    "slideshow": {
     "slide_type": "subslide"
    }
   },
   "source": [
    "### Reducing other Collections\n",
    "\n",
    "Our `DeltaDebugger` is not limited to strings. It can reduce any argument `x` for which a `len(x)` operation and an indexing operation `x[i]` is defined – notably lists. Here is how to apply `DeltaDebugger` on a list:"
   ]
  },
  {
   "cell_type": "code",
   "execution_count": 106,
   "metadata": {
    "execution": {
     "iopub.execute_input": "2023-11-12T12:40:48.293902Z",
     "iopub.status.busy": "2023-11-12T12:40:48.293816Z",
     "iopub.status.idle": "2023-11-12T12:40:48.295696Z",
     "shell.execute_reply": "2023-11-12T12:40:48.295448Z"
    },
    "slideshow": {
     "slide_type": "fragment"
    }
   },
   "outputs": [],
   "source": [
    "def list_error(l1: List, l2: List, maxlen: int) -> None:\n",
    "    assert len(l1) < len(l2) < maxlen, \"invalid string length\""
   ]
  },
  {
   "cell_type": "code",
   "execution_count": 107,
   "metadata": {
    "execution": {
     "iopub.execute_input": "2023-11-12T12:40:48.297237Z",
     "iopub.status.busy": "2023-11-12T12:40:48.297126Z",
     "iopub.status.idle": "2023-11-12T12:40:48.299906Z",
     "shell.execute_reply": "2023-11-12T12:40:48.299617Z"
    },
    "slideshow": {
     "slide_type": "fragment"
    }
   },
   "outputs": [
    {
     "data": {
      "text/plain": [
       "list_error(l1=[], l2=[], maxlen=5)"
      ]
     },
     "execution_count": 107,
     "metadata": {},
     "output_type": "execute_result"
    }
   ],
   "source": [
    "with DeltaDebugger() as dd:\n",
    "    list_error(l1=[1, 2, 3, 4, 5, 6, 7, 8, 9, 10], l2=[1, 2, 3], maxlen=5)\n",
    "dd"
   ]
  },
  {
   "cell_type": "markdown",
   "metadata": {
    "slideshow": {
     "slide_type": "slide"
    }
   },
   "source": [
    "## Debugging Inputs\n",
    "\n",
    "Sometimes, it may be useful to not _minimize_ the input, but rather _maximize_ it – that is, to find the _maximum_ input that does _not_ fail. For instance, you may have an input of which you want to _preserve_ as much as possible – to repair it, or to establish a _context_ that is as close as possible to the real input."
   ]
  },
  {
   "cell_type": "markdown",
   "metadata": {
    "slideshow": {
     "slide_type": "fragment"
    }
   },
   "source": [
    "This is possible by using the `max_arg()` method. It implements the `ddmax` variant of the general Delta Debugging algorithm \\cite{Kirschner2020}. With each step, it tries to add more and more characters to the passing input until it is _1-maximal_ – that is, any additional character that would be added from the failing input also would cause the function to fail."
   ]
  },
  {
   "cell_type": "code",
   "execution_count": 108,
   "metadata": {
    "execution": {
     "iopub.execute_input": "2023-11-12T12:40:48.301585Z",
     "iopub.status.busy": "2023-11-12T12:40:48.301492Z",
     "iopub.status.idle": "2023-11-12T12:40:48.304422Z",
     "shell.execute_reply": "2023-11-12T12:40:48.304152Z"
    },
    "slideshow": {
     "slide_type": "subslide"
    }
   },
   "outputs": [
    {
     "name": "stdout",
     "output_type": "stream",
     "text": [
      "Observed mystery(inp='V\"/+!aF-(V4EOz*+s/Q,7)2@0_') raising ValueError: Invalid input\n",
      "Test #1 mystery(inp='V\"/+!aF-(V4EOz*+s/Q,7)2@0_'): FAIL (ValueError: Invalid input)\n",
      "Processing inp...\n",
      "Test #2 mystery(inp=''): PASS\n",
      "Test #3 mystery(inp='z*+s/Q,7)2@0_'): PASS\n",
      "Test #4 mystery(inp='-(V4EOz*+s/Q,7)2@0_'): FAIL (ValueError: Invalid input)\n",
      "Test #5 mystery(inp='V\"/+!aFz*+s/Q,7)2@0_'): PASS\n",
      "Test #6 mystery(inp='V\"/+!aF4EOz*+s/Q,7)2@0_'): PASS\n",
      "Test #7 mystery(inp='V\"/+!aF-4EOz*+s/Q,7)2@0_'): PASS\n",
      "Test #8 mystery(inp='V\"/+!aF-V4EOz*+s/Q,7)2@0_'): PASS\n",
      "Maximized inp to 'V\"/+!aF-V4EOz*+s/Q,7)2@0_'\n",
      "Maximized passing call to mystery(inp='V\"/+!aF-V4EOz*+s/Q,7)2@0_')\n"
     ]
    },
    {
     "data": {
      "text/plain": [
       "'V\"/+!aF-V4EOz*+s/Q,7)2@0_'"
      ]
     },
     "execution_count": 108,
     "metadata": {},
     "output_type": "execute_result"
    }
   ],
   "source": [
    "with DeltaDebugger(log=True) as dd:\n",
    "    mystery(failing_input)\n",
    "max_passing_input = dd.max_args()['inp']\n",
    "max_passing_input"
   ]
  },
  {
   "cell_type": "markdown",
   "metadata": {
    "slideshow": {
     "slide_type": "subslide"
    }
   },
   "source": [
    "Note that this is precisely the failure-inducing input _except_ for the first parenthesis. Adding this single character would cause the input to cause a failure."
   ]
  },
  {
   "cell_type": "markdown",
   "metadata": {
    "slideshow": {
     "slide_type": "slide"
    }
   },
   "source": [
    "## Failure-Inducing Differences"
   ]
  },
  {
   "cell_type": "markdown",
   "metadata": {
    "slideshow": {
     "slide_type": "fragment"
    }
   },
   "source": [
    "If one wants to look for _differences_ that distinguish passing from failing runs, Delta Debugging also has a direct method for this – by both maximizing the passing input and minimizing the failing input until they meet somewhere in the middle. The remaining difference is what makes the difference between passing and failing."
   ]
  },
  {
   "cell_type": "markdown",
   "metadata": {
    "slideshow": {
     "slide_type": "fragment"
    }
   },
   "source": [
    "To compute the failure-inducing differences for `mystery()`, use the `min_arg_diff()` method:"
   ]
  },
  {
   "cell_type": "code",
   "execution_count": 109,
   "metadata": {
    "execution": {
     "iopub.execute_input": "2023-11-12T12:40:48.306096Z",
     "iopub.status.busy": "2023-11-12T12:40:48.305962Z",
     "iopub.status.idle": "2023-11-12T12:40:48.308891Z",
     "shell.execute_reply": "2023-11-12T12:40:48.308560Z"
    },
    "slideshow": {
     "slide_type": "subslide"
    }
   },
   "outputs": [
    {
     "name": "stdout",
     "output_type": "stream",
     "text": [
      "Observed mystery(inp='V\"/+!aF-(V4EOz*+s/Q,7)2@0_') raising ValueError: Invalid input\n",
      "Test #1 mystery(inp='V\"/+!aF-(V4EOz*+s/Q,7)2@0_'): FAIL (ValueError: Invalid input)\n",
      "Processing inp...\n",
      "Test #2 mystery(inp=''): PASS\n",
      "Test #3 mystery(inp='V\"/+!aF-(V4EO'): PASS\n",
      "Test #4 mystery(inp='z*+s/Q,7)2@0_'): PASS\n",
      "Test #5 mystery(inp='V\"/+!aFz*+s/Q,7)2@0_'): PASS\n",
      "Test #6 mystery(inp='-(V4EOz*+s/Q,7)2@0_'): FAIL (ValueError: Invalid input)\n",
      "Test #7 mystery(inp='-(Vz*+s/Q,7)2@0_'): FAIL (ValueError: Invalid input)\n",
      "Test #8 mystery(inp='(Vz*+s/Q,7)2@0_'): FAIL (ValueError: Invalid input)\n",
      "Test #9 mystery(inp='(z*+s/Q,7)2@0_'): FAIL (ValueError: Invalid input)\n",
      "Maximized inp to 'z*+s/Q,7)2@0_'\n",
      "Minimized inp to '(z*+s/Q,7)2@0_'\n",
      "Maximized passing call to mystery(inp='z*+s/Q,7)2@0_')\n",
      "Minimized failing call to mystery(inp='(z*+s/Q,7)2@0_')\n"
     ]
    },
    {
     "data": {
      "text/plain": [
       "('z*+s/Q,7)2@0_', '(z*+s/Q,7)2@0_', '(')"
      ]
     },
     "execution_count": 109,
     "metadata": {},
     "output_type": "execute_result"
    }
   ],
   "source": [
    "with DeltaDebugger(log=True) as dd:\n",
    "    mystery(failing_input)\n",
    "max_passing_args, min_failing_args, diff = dd.min_arg_diff()\n",
    "max_passing_args['inp'], min_failing_args['inp'], diff['inp']"
   ]
  },
  {
   "cell_type": "markdown",
   "metadata": {
    "slideshow": {
     "slide_type": "subslide"
    }
   },
   "source": [
    "Minimizing failure-inducing differences is especially efficient on large inputs, since the number of differences between a passing and a failing input is much smaller than the inputs themselves. Here is the failure-inducing difference as determined by Delta Debugging:"
   ]
  },
  {
   "cell_type": "code",
   "execution_count": 110,
   "metadata": {
    "execution": {
     "iopub.execute_input": "2023-11-12T12:40:48.310738Z",
     "iopub.status.busy": "2023-11-12T12:40:48.310563Z",
     "iopub.status.idle": "2023-11-12T12:40:48.312785Z",
     "shell.execute_reply": "2023-11-12T12:40:48.312541Z"
    },
    "slideshow": {
     "slide_type": "fragment"
    }
   },
   "outputs": [
    {
     "data": {
      "text/plain": [
       "'('"
      ]
     },
     "execution_count": 110,
     "metadata": {},
     "output_type": "execute_result"
    }
   ],
   "source": [
    "diff['inp']"
   ]
  },
  {
   "cell_type": "markdown",
   "metadata": {
    "slideshow": {
     "slide_type": "slide"
    }
   },
   "source": [
    "## Reducing Program Code\n",
    "\n",
    "One particularly fun application of reducers is on _program code_. Technically speaking, program code is just another input to a computation; and we can actually automatically determine which minimum of program code is required to produce a failure, using Delta Debugging. Such minimization of code is typically used as it comes to debugging programs that accept code as their input, such as _compilers_ and _interpreters_. However, it can also pinpoint failure causes in the (input) code itself."
   ]
  },
  {
   "cell_type": "markdown",
   "metadata": {
    "slideshow": {
     "slide_type": "fragment"
    }
   },
   "source": [
    "As an example, let us apply Delta Debugging on the code from [the chapter on assertions](Assertions.html). You do not need to have read the chapter; the important part is that this chapter provides an implementation of `remove_html_markup()` that we want to use."
   ]
  },
  {
   "cell_type": "code",
   "execution_count": 111,
   "metadata": {
    "execution": {
     "iopub.execute_input": "2023-11-12T12:40:48.314687Z",
     "iopub.status.busy": "2023-11-12T12:40:48.314519Z",
     "iopub.status.idle": "2023-11-12T12:40:48.316506Z",
     "shell.execute_reply": "2023-11-12T12:40:48.316202Z"
    },
    "slideshow": {
     "slide_type": "subslide"
    }
   },
   "outputs": [],
   "source": [
    "# ignore\n",
    "try:\n",
    "    del remove_html_markup\n",
    "except NameError:\n",
    "    pass"
   ]
  },
  {
   "cell_type": "code",
   "execution_count": 112,
   "metadata": {
    "execution": {
     "iopub.execute_input": "2023-11-12T12:40:48.318177Z",
     "iopub.status.busy": "2023-11-12T12:40:48.318061Z",
     "iopub.status.idle": "2023-11-12T12:40:48.319640Z",
     "shell.execute_reply": "2023-11-12T12:40:48.319389Z"
    },
    "slideshow": {
     "slide_type": "skip"
    }
   },
   "outputs": [],
   "source": [
    "import Assertions  # minor dependency"
   ]
  },
  {
   "cell_type": "markdown",
   "metadata": {
    "slideshow": {
     "slide_type": "fragment"
    }
   },
   "source": [
    "Here is the source code of all the chapter; this is several hundred lines long."
   ]
  },
  {
   "cell_type": "code",
   "execution_count": 113,
   "metadata": {
    "execution": {
     "iopub.execute_input": "2023-11-12T12:40:48.321050Z",
     "iopub.status.busy": "2023-11-12T12:40:48.320968Z",
     "iopub.status.idle": "2023-11-12T12:40:48.322644Z",
     "shell.execute_reply": "2023-11-12T12:40:48.322399Z"
    },
    "slideshow": {
     "slide_type": "skip"
    }
   },
   "outputs": [],
   "source": [
    "import inspect"
   ]
  },
  {
   "cell_type": "code",
   "execution_count": 114,
   "metadata": {
    "execution": {
     "iopub.execute_input": "2023-11-12T12:40:48.324042Z",
     "iopub.status.busy": "2023-11-12T12:40:48.323942Z",
     "iopub.status.idle": "2023-11-12T12:40:48.326443Z",
     "shell.execute_reply": "2023-11-12T12:40:48.326157Z"
    },
    "slideshow": {
     "slide_type": "subslide"
    }
   },
   "outputs": [
    {
     "data": {
      "text/plain": [
       "['from bookutils import YouTubeVideo\\n',\n",
       " 'YouTubeVideo(\"9mI9sbKFkwU\")\\n',\n",
       " '\\n',\n",
       " 'import bookutils.setup\\n',\n",
       " '\\n',\n",
       " 'from bookutils import quiz\\n',\n",
       " '\\n',\n",
       " 'import Tracer\\n',\n",
       " '\\n',\n",
       " 'from ExpectError import ExpectError\\n']"
      ]
     },
     "execution_count": 114,
     "metadata": {},
     "output_type": "execute_result"
    }
   ],
   "source": [
    "assertions_source_lines, _ = inspect.getsourcelines(Assertions)\n",
    "# print_content(\"\".join(assertions_source_lines), \".py\")\n",
    "assertions_source_lines[:10]"
   ]
  },
  {
   "cell_type": "code",
   "execution_count": 115,
   "metadata": {
    "execution": {
     "iopub.execute_input": "2023-11-12T12:40:48.328316Z",
     "iopub.status.busy": "2023-11-12T12:40:48.328164Z",
     "iopub.status.idle": "2023-11-12T12:40:48.330461Z",
     "shell.execute_reply": "2023-11-12T12:40:48.330188Z"
    },
    "slideshow": {
     "slide_type": "fragment"
    }
   },
   "outputs": [
    {
     "data": {
      "text/plain": [
       "552"
      ]
     },
     "execution_count": 115,
     "metadata": {},
     "output_type": "execute_result"
    }
   ],
   "source": [
    "len(assertions_source_lines)"
   ]
  },
  {
   "cell_type": "markdown",
   "metadata": {
    "slideshow": {
     "slide_type": "subslide"
    }
   },
   "source": [
    "We can take this code and execute it. Nothing particular should happen here, as our imports only import definitions of functions, classes, and global variables."
   ]
  },
  {
   "cell_type": "code",
   "execution_count": 116,
   "metadata": {
    "execution": {
     "iopub.execute_input": "2023-11-12T12:40:48.331964Z",
     "iopub.status.busy": "2023-11-12T12:40:48.331854Z",
     "iopub.status.idle": "2023-11-12T12:40:48.334133Z",
     "shell.execute_reply": "2023-11-12T12:40:48.333782Z"
    },
    "slideshow": {
     "slide_type": "fragment"
    }
   },
   "outputs": [],
   "source": [
    "def compile_and_run(lines: List[str]) -> None:\n",
    "    # To execute 'Assertions' in place, we need to define __name__ and __package__\n",
    "    exec(\"\".join(lines), {'__name__': '<string>',\n",
    "                          '__package__': 'debuggingbook',\n",
    "                          'Any': Any,\n",
    "                         'Type': Type,\n",
    "                         'TracebackType': TracebackType,\n",
    "                         'Optional': Optional},\n",
    "         {})"
   ]
  },
  {
   "cell_type": "code",
   "execution_count": 117,
   "metadata": {
    "execution": {
     "iopub.execute_input": "2023-11-12T12:40:48.335663Z",
     "iopub.status.busy": "2023-11-12T12:40:48.335552Z",
     "iopub.status.idle": "2023-11-12T12:40:48.339925Z",
     "shell.execute_reply": "2023-11-12T12:40:48.339650Z"
    },
    "slideshow": {
     "slide_type": "fragment"
    }
   },
   "outputs": [],
   "source": [
    "compile_and_run(assertions_source_lines)"
   ]
  },
  {
   "cell_type": "code",
   "execution_count": 118,
   "metadata": {
    "execution": {
     "iopub.execute_input": "2023-11-12T12:40:48.341513Z",
     "iopub.status.busy": "2023-11-12T12:40:48.341421Z",
     "iopub.status.idle": "2023-11-12T12:40:48.343290Z",
     "shell.execute_reply": "2023-11-12T12:40:48.342960Z"
    },
    "slideshow": {
     "slide_type": "skip"
    }
   },
   "outputs": [],
   "source": [
    "from Assertions import remove_html_markup  # minor dependency"
   ]
  },
  {
   "cell_type": "markdown",
   "metadata": {
    "slideshow": {
     "slide_type": "subslide"
    }
   },
   "source": [
    "Let us add some code to it – a \"My Test\" assertion that tests that `remove_html_markup()`, applied on a string with double quotes, should keep these in place:"
   ]
  },
  {
   "cell_type": "code",
   "execution_count": 119,
   "metadata": {
    "execution": {
     "iopub.execute_input": "2023-11-12T12:40:48.344975Z",
     "iopub.status.busy": "2023-11-12T12:40:48.344884Z",
     "iopub.status.idle": "2023-11-12T12:40:48.346729Z",
     "shell.execute_reply": "2023-11-12T12:40:48.346467Z"
    },
    "slideshow": {
     "slide_type": "fragment"
    }
   },
   "outputs": [],
   "source": [
    "def compile_and_test_html_markup_simple(lines: List[str]) -> None:\n",
    "    compile_and_run(lines + \n",
    "        [\n",
    "            '''''',\n",
    "            '''assert remove_html_markup('\"foo\"') == '\"foo\"', \"My Test\"\\n'''\n",
    "        ])"
   ]
  },
  {
   "cell_type": "markdown",
   "metadata": {
    "slideshow": {
     "slide_type": "fragment"
    }
   },
   "source": [
    "This assertion fails. (As always, `remove_html_markup()` is buggy.)"
   ]
  },
  {
   "cell_type": "code",
   "execution_count": 120,
   "metadata": {
    "execution": {
     "iopub.execute_input": "2023-11-12T12:40:48.348241Z",
     "iopub.status.busy": "2023-11-12T12:40:48.348149Z",
     "iopub.status.idle": "2023-11-12T12:40:48.352667Z",
     "shell.execute_reply": "2023-11-12T12:40:48.352413Z"
    },
    "slideshow": {
     "slide_type": "subslide"
    }
   },
   "outputs": [
    {
     "name": "stderr",
     "output_type": "stream",
     "text": [
      "Traceback (most recent call last):\n",
      "  File \"/var/folders/n2/xd9445p97rb3xh7m1dfx8_4h0006ts/T/ipykernel_25735/2334363057.py\", line 2, in <cell line: 1>\n",
      "    compile_and_test_html_markup_simple(assertions_source_lines)\n",
      "  File \"/var/folders/n2/xd9445p97rb3xh7m1dfx8_4h0006ts/T/ipykernel_25735/1838190689.py\", line 2, in compile_and_test_html_markup_simple\n",
      "    compile_and_run(lines +\n",
      "  File \"/var/folders/n2/xd9445p97rb3xh7m1dfx8_4h0006ts/T/ipykernel_25735/2075409738.py\", line 3, in compile_and_run\n",
      "    exec(\"\".join(lines), {'__name__': '<string>',\n",
      "  File \"<string>\", line 553, in <module>\n",
      "AssertionError: My Test (expected)\n"
     ]
    }
   ],
   "source": [
    "with ExpectError(AssertionError):\n",
    "    compile_and_test_html_markup_simple(assertions_source_lines)"
   ]
  },
  {
   "cell_type": "markdown",
   "metadata": {
    "slideshow": {
     "slide_type": "subslide"
    }
   },
   "source": [
    "The question we want to address in this section is: Given this assertion, can we automatically determine which part of the `Assertions` code lines in `assertions_source_lines` is relevant for producing the failure?"
   ]
  },
  {
   "cell_type": "markdown",
   "metadata": {
    "slideshow": {
     "slide_type": "subslide"
    }
   },
   "source": [
    "### Reducing Code Lines\n",
    "\n",
    "Since our `Assertions` source code comes as a list of lines, we can apply our `DeltaDebugger` on it. The result will be the list of source lines that is necessary to make the assertion fail."
   ]
  },
  {
   "cell_type": "code",
   "execution_count": 121,
   "metadata": {
    "execution": {
     "iopub.execute_input": "2023-11-12T12:40:48.354091Z",
     "iopub.status.busy": "2023-11-12T12:40:48.354006Z",
     "iopub.status.idle": "2023-11-12T12:40:48.357776Z",
     "shell.execute_reply": "2023-11-12T12:40:48.357521Z"
    },
    "slideshow": {
     "slide_type": "fragment"
    }
   },
   "outputs": [
    {
     "data": {
      "text/html": [
       "\n",
       "    \n",
       "    <script>\n",
       "    var bad_answers = new Map();\n",
       "\n",
       "    function answer(quiz_id) {\n",
       "        ans = 0;\n",
       "        for (i = 1;; i++) {\n",
       "            checkbox = document.getElementById(quiz_id + \"-\" + i.toString());\n",
       "            if (!checkbox)\n",
       "                break;\n",
       "            if (checkbox.checked)\n",
       "                ans |= (1 << i);\n",
       "        }\n",
       "        return ans;\n",
       "    }\n",
       "    function check_selection(quiz_id, correct_answer, multiple_choice, hint) {\n",
       "        given_answer = answer(quiz_id);\n",
       "        if (given_answer == correct_answer)\n",
       "        {\n",
       "            document.getElementById(quiz_id + \"-submit\").value = \"Correct!\";\n",
       "            document.getElementById(quiz_id + \"-hint\").innerHTML = \"\";\n",
       "\n",
       "            for (i = 1;; i++) {\n",
       "                checkbox = document.getElementById(quiz_id + \"-\" + i.toString());\n",
       "                label = document.getElementById(quiz_id + \"-\" + i.toString() + \"-label\")\n",
       "                if (!checkbox)\n",
       "                    break;\n",
       "    \n",
       "                if (checkbox.checked) {\n",
       "                    label.style.fontWeight = \"bold\";\n",
       "                }\n",
       "                else {\n",
       "                    label.style.textDecoration = \"line-through\";\n",
       "                }\n",
       "            }\n",
       "        }\n",
       "        else \n",
       "        {\n",
       "            document.getElementById(quiz_id + \"-submit\").value = \"Try again\";\n",
       "            \n",
       "            if (!bad_answers.has(quiz_id)) {\n",
       "                bad_answers.set(quiz_id, 1);\n",
       "            }\n",
       "            else {\n",
       "                bad_answers.set(quiz_id, bad_answers.get(quiz_id) + 1);\n",
       "            }\n",
       "\n",
       "            if (bad_answers.get(quiz_id) >= 2 && hint.length > 0) {\n",
       "                document.getElementById(quiz_id + \"-hint\").innerHTML = \n",
       "                    \"&nbsp;&nbsp;(Hint: <code>\" + hint + \"</code>)\";\n",
       "            }\n",
       "\n",
       "            if (!multiple_choice) {\n",
       "                for (i = 1;; i++) {\n",
       "                    checkbox = document.getElementById(quiz_id + \"-\" + i.toString());\n",
       "                    label = document.getElementById(quiz_id + \"-\" + i.toString() + \"-label\")\n",
       "\n",
       "                    if (!checkbox)\n",
       "                        break;\n",
       "                    if (checkbox.checked) {\n",
       "                        label.style.textDecoration = \"line-through\";\n",
       "                    }\n",
       "                }\n",
       "            }\n",
       "        }\n",
       "    }\n",
       "    function clear_selection(quiz_id) {\n",
       "        document.getElementById(quiz_id + \"-submit\").value = \"Submit\";\n",
       "        document.getElementById(quiz_id + \"-hint\").innerHTML = \"\";\n",
       "    }\n",
       "    </script>\n",
       "    \n",
       "    <div class=\"quiz\">\n",
       "    <h3 class=\"quiz_title\">Quiz</h3>\n",
       "    <p>\n",
       "    <div class=\"quiz_question\">What will the reduced set of lines contain?</div>\n",
       "    </p>\n",
       "    <p>\n",
       "    <div class=\"quiz_options\" title=\"Pick a choice.\">\n",
       "    \n",
       "        <input type=\"radio\" name=\"b4af2084-8158-11ee-8f31-6298cf1a5790\" id=\"b4af2084-8158-11ee-8f31-6298cf1a5790-1\" onclick=\"clear_selection('b4af2084-8158-11ee-8f31-6298cf1a5790')\">\n",
       "        <label id=\"b4af2084-8158-11ee-8f31-6298cf1a5790-1-label\" for=\"b4af2084-8158-11ee-8f31-6298cf1a5790-1\">All of the source code in the assertions chapter.</label><br>\n",
       "    \n",
       "        <input type=\"radio\" name=\"b4af2084-8158-11ee-8f31-6298cf1a5790\" id=\"b4af2084-8158-11ee-8f31-6298cf1a5790-2\" onclick=\"clear_selection('b4af2084-8158-11ee-8f31-6298cf1a5790')\">\n",
       "        <label id=\"b4af2084-8158-11ee-8f31-6298cf1a5790-2-label\" for=\"b4af2084-8158-11ee-8f31-6298cf1a5790-2\">Only the source code of <code>remove_html_markup()</code></label><br>\n",
       "    \n",
       "        <input type=\"radio\" name=\"b4af2084-8158-11ee-8f31-6298cf1a5790\" id=\"b4af2084-8158-11ee-8f31-6298cf1a5790-3\" onclick=\"clear_selection('b4af2084-8158-11ee-8f31-6298cf1a5790')\">\n",
       "        <label id=\"b4af2084-8158-11ee-8f31-6298cf1a5790-3-label\" for=\"b4af2084-8158-11ee-8f31-6298cf1a5790-3\">Only a subset of <code>remove_html_markup()</code></label><br>\n",
       "    \n",
       "        <input type=\"radio\" name=\"b4af2084-8158-11ee-8f31-6298cf1a5790\" id=\"b4af2084-8158-11ee-8f31-6298cf1a5790-4\" onclick=\"clear_selection('b4af2084-8158-11ee-8f31-6298cf1a5790')\">\n",
       "        <label id=\"b4af2084-8158-11ee-8f31-6298cf1a5790-4-label\" for=\"b4af2084-8158-11ee-8f31-6298cf1a5790-4\">No lines at all.</label><br>\n",
       "    \n",
       "    </div>\n",
       "    </p>\n",
       "    <input id=\"b4af2084-8158-11ee-8f31-6298cf1a5790-submit\" type=\"submit\" value=\"Submit\" onclick=\"check_selection('b4af2084-8158-11ee-8f31-6298cf1a5790', 8, 0, '[x for x in range((1 + 1) ** (1 + 1)) if x % (1 + 1) == 1][1]')\">\n",
       "    <span class=\"quiz_hint\" id=\"b4af2084-8158-11ee-8f31-6298cf1a5790-hint\"></span>\n",
       "    </div>\n",
       "    "
      ],
      "text/plain": [
       "<IPython.core.display.HTML object>"
      ]
     },
     "execution_count": 121,
     "metadata": {},
     "output_type": "execute_result"
    }
   ],
   "source": [
    "quiz(\"What will the reduced set of lines contain?\",\n",
    "     [\n",
    "         \"All of the source code in the assertions chapter.\",\n",
    "         \"Only the source code of `remove_html_markup()`\",\n",
    "         \"Only a subset of `remove_html_markup()`\",\n",
    "         \"No lines at all.\"\n",
    "     ], '[x for x in range((1 + 1) ** (1 + 1)) if x % (1 + 1) == 1][1]')"
   ]
  },
  {
   "cell_type": "markdown",
   "metadata": {
    "slideshow": {
     "slide_type": "fragment"
    }
   },
   "source": [
    "Let us see what the `DeltaDebugger` produces."
   ]
  },
  {
   "cell_type": "code",
   "execution_count": 122,
   "metadata": {
    "execution": {
     "iopub.execute_input": "2023-11-12T12:40:48.359354Z",
     "iopub.status.busy": "2023-11-12T12:40:48.359220Z",
     "iopub.status.idle": "2023-11-12T12:40:48.363548Z",
     "shell.execute_reply": "2023-11-12T12:40:48.363239Z"
    },
    "slideshow": {
     "slide_type": "subslide"
    }
   },
   "outputs": [],
   "source": [
    "with DeltaDebugger(log=False) as dd:\n",
    "    compile_and_test_html_markup_simple(assertions_source_lines)"
   ]
  },
  {
   "cell_type": "markdown",
   "metadata": {
    "slideshow": {
     "slide_type": "fragment"
    }
   },
   "source": [
    "We get exactly _two_ lines of code:"
   ]
  },
  {
   "cell_type": "code",
   "execution_count": 123,
   "metadata": {
    "execution": {
     "iopub.execute_input": "2023-11-12T12:40:48.365625Z",
     "iopub.status.busy": "2023-11-12T12:40:48.365486Z",
     "iopub.status.idle": "2023-11-12T12:40:48.376846Z",
     "shell.execute_reply": "2023-11-12T12:40:48.376516Z"
    },
    "slideshow": {
     "slide_type": "fragment"
    }
   },
   "outputs": [
    {
     "data": {
      "text/plain": [
       "2"
      ]
     },
     "execution_count": 123,
     "metadata": {},
     "output_type": "execute_result"
    }
   ],
   "source": [
    "reduced_lines = dd.min_args()['lines']\n",
    "len(reduced_lines)"
   ]
  },
  {
   "cell_type": "markdown",
   "metadata": {
    "slideshow": {
     "slide_type": "fragment"
    }
   },
   "source": [
    "And these are:"
   ]
  },
  {
   "cell_type": "code",
   "execution_count": 124,
   "metadata": {
    "execution": {
     "iopub.execute_input": "2023-11-12T12:40:48.378468Z",
     "iopub.status.busy": "2023-11-12T12:40:48.378348Z",
     "iopub.status.idle": "2023-11-12T12:40:48.380066Z",
     "shell.execute_reply": "2023-11-12T12:40:48.379741Z"
    },
    "slideshow": {
     "slide_type": "skip"
    }
   },
   "outputs": [],
   "source": [
    "from bookutils import print_content"
   ]
  },
  {
   "cell_type": "code",
   "execution_count": 125,
   "metadata": {
    "execution": {
     "iopub.execute_input": "2023-11-12T12:40:48.381474Z",
     "iopub.status.busy": "2023-11-12T12:40:48.381367Z",
     "iopub.status.idle": "2023-11-12T12:40:48.449101Z",
     "shell.execute_reply": "2023-11-12T12:40:48.448730Z"
    },
    "slideshow": {
     "slide_type": "fragment"
    }
   },
   "outputs": [
    {
     "name": "stdout",
     "output_type": "stream",
     "text": [
      "\u001b[34mdef\u001b[39;49;00m \u001b[32mremove_html_markup\u001b[39;49;00m(s):  \u001b[37m# type: ignore\u001b[39;49;00m\u001b[37m\u001b[39;49;00m\n",
      "    tag = \u001b[34mFalse\u001b[39;49;00m\u001b[37m\u001b[39;49;00m"
     ]
    }
   ],
   "source": [
    "print_content(\"\".join(reduced_lines), \".py\")"
   ]
  },
  {
   "cell_type": "markdown",
   "metadata": {
    "slideshow": {
     "slide_type": "fragment"
    }
   },
   "source": [
    "On these lines, our test actually still fails:"
   ]
  },
  {
   "cell_type": "code",
   "execution_count": 126,
   "metadata": {
    "execution": {
     "iopub.execute_input": "2023-11-12T12:40:48.451034Z",
     "iopub.status.busy": "2023-11-12T12:40:48.450905Z",
     "iopub.status.idle": "2023-11-12T12:40:48.452929Z",
     "shell.execute_reply": "2023-11-12T12:40:48.452652Z"
    },
    "slideshow": {
     "slide_type": "subslide"
    }
   },
   "outputs": [
    {
     "name": "stderr",
     "output_type": "stream",
     "text": [
      "Traceback (most recent call last):\n",
      "  File \"/var/folders/n2/xd9445p97rb3xh7m1dfx8_4h0006ts/T/ipykernel_25735/2457905094.py\", line 2, in <cell line: 1>\n",
      "    compile_and_test_html_markup_simple(reduced_lines)\n",
      "  File \"/var/folders/n2/xd9445p97rb3xh7m1dfx8_4h0006ts/T/ipykernel_25735/1838190689.py\", line 2, in compile_and_test_html_markup_simple\n",
      "    compile_and_run(lines +\n",
      "  File \"/var/folders/n2/xd9445p97rb3xh7m1dfx8_4h0006ts/T/ipykernel_25735/2075409738.py\", line 3, in compile_and_run\n",
      "    exec(\"\".join(lines), {'__name__': '<string>',\n",
      "  File \"<string>\", line 3, in <module>\n",
      "AssertionError: My Test (expected)\n"
     ]
    }
   ],
   "source": [
    "with ExpectError(AssertionError):\n",
    "    compile_and_test_html_markup_simple(reduced_lines)"
   ]
  },
  {
   "cell_type": "markdown",
   "metadata": {
    "slideshow": {
     "slide_type": "subslide"
    }
   },
   "source": [
    "This failure may come as a surprise – `remove_html_markup()` is reduced to a function which does not even return a value. However, this is how it causes our \"My Test\" assertion to fail: In Python, a function without an explicit `return` statement returns `None`. This value is definitely not the string the \"My Test\" assertion expects, so it fails."
   ]
  },
  {
   "cell_type": "markdown",
   "metadata": {
    "slideshow": {
     "slide_type": "fragment"
    }
   },
   "source": [
    "At the same time, we also have a function `test_square_root()` which is equally devoid of any meaning – its code line does not even stem from its original implementation. Note, however, how the set of four lines is actually 1-minimal – removing any further line would result in a syntax error."
   ]
  },
  {
   "cell_type": "markdown",
   "metadata": {
    "slideshow": {
     "slide_type": "fragment"
    }
   },
   "source": [
    "To ensure we do not remove code that actually would be necessary for normal behavior, let us add another check – one that checks for the _normal_ functionality of `remove_html_markup()`. If this one fails (say, after the code has been tampered with too much), it raises an exception – but a _different_ one from the original failure:"
   ]
  },
  {
   "cell_type": "code",
   "execution_count": 127,
   "metadata": {
    "execution": {
     "iopub.execute_input": "2023-11-12T12:40:48.454495Z",
     "iopub.status.busy": "2023-11-12T12:40:48.454376Z",
     "iopub.status.idle": "2023-11-12T12:40:48.456235Z",
     "shell.execute_reply": "2023-11-12T12:40:48.455969Z"
    },
    "slideshow": {
     "slide_type": "subslide"
    }
   },
   "outputs": [],
   "source": [
    "def compile_and_test_html_markup(lines: List[str]) -> None:\n",
    "    compile_and_run(lines +\n",
    "        [\n",
    "            '',\n",
    "            '''if remove_html_markup('<foo>bar</foo>') != 'bar':\\n''',\n",
    "            '''    raise RuntimeError(\"Missing functionality\")\\n''',\n",
    "            '''assert remove_html_markup('\"foo\"') == '\"foo\"', \"My Test\"\\n'''\n",
    "        ])"
   ]
  },
  {
   "cell_type": "markdown",
   "metadata": {
    "slideshow": {
     "slide_type": "fragment"
    }
   },
   "source": [
    "On our \"reduced\" code, we now obtain a different exception."
   ]
  },
  {
   "cell_type": "code",
   "execution_count": 128,
   "metadata": {
    "execution": {
     "iopub.execute_input": "2023-11-12T12:40:48.457806Z",
     "iopub.status.busy": "2023-11-12T12:40:48.457669Z",
     "iopub.status.idle": "2023-11-12T12:40:48.459985Z",
     "shell.execute_reply": "2023-11-12T12:40:48.459653Z"
    },
    "slideshow": {
     "slide_type": "subslide"
    }
   },
   "outputs": [
    {
     "name": "stderr",
     "output_type": "stream",
     "text": [
      "Traceback (most recent call last):\n",
      "  File \"/var/folders/n2/xd9445p97rb3xh7m1dfx8_4h0006ts/T/ipykernel_25735/810405118.py\", line 2, in <cell line: 1>\n",
      "    compile_and_test_html_markup(reduced_lines)\n",
      "  File \"/var/folders/n2/xd9445p97rb3xh7m1dfx8_4h0006ts/T/ipykernel_25735/4067432722.py\", line 2, in compile_and_test_html_markup\n",
      "    compile_and_run(lines +\n",
      "  File \"/var/folders/n2/xd9445p97rb3xh7m1dfx8_4h0006ts/T/ipykernel_25735/2075409738.py\", line 3, in compile_and_run\n",
      "    exec(\"\".join(lines), {'__name__': '<string>',\n",
      "  File \"<string>\", line 4, in <module>\n",
      "RuntimeError: Missing functionality (expected)\n"
     ]
    }
   ],
   "source": [
    "with ExpectError():\n",
    "    compile_and_test_html_markup(reduced_lines)"
   ]
  },
  {
   "cell_type": "markdown",
   "metadata": {
    "slideshow": {
     "slide_type": "subslide"
    }
   },
   "source": [
    "Such an outcome that is different from the original failure causes our `DeltaDebugger` not treating this as a failure, but rather as a `UNRESOLVED` outcome, indicating that the test cannot determine whether it passed or failed. The `ddmin` algorithm treats such unresolved outcomes as if they were passing; hence, the algorithm treats its minimization attempt as unsuccessful."
   ]
  },
  {
   "cell_type": "markdown",
   "metadata": {
    "slideshow": {
     "slide_type": "fragment"
    }
   },
   "source": [
    "How does this change things? When we reduce the `Assertions` source code with the extended assertions, we now get a different result:"
   ]
  },
  {
   "cell_type": "code",
   "execution_count": 129,
   "metadata": {
    "execution": {
     "iopub.execute_input": "2023-11-12T12:40:48.461799Z",
     "iopub.status.busy": "2023-11-12T12:40:48.461672Z",
     "iopub.status.idle": "2023-11-12T12:40:48.482862Z",
     "shell.execute_reply": "2023-11-12T12:40:48.482424Z"
    },
    "slideshow": {
     "slide_type": "fragment"
    }
   },
   "outputs": [],
   "source": [
    "with DeltaDebugger(log=False) as dd:\n",
    "    compile_and_test_html_markup(assertions_source_lines)\n",
    "reduced_assertions_source_lines = dd.min_args()['lines']"
   ]
  },
  {
   "cell_type": "markdown",
   "metadata": {
    "slideshow": {
     "slide_type": "subslide"
    }
   },
   "source": [
    "Our result actually is the source code of `remove_html_markup()` – and _only_ the source code. This is a success, as Delta Debugging has eliminated all the other parts of the `Assertions` source code; these neither contribute to the correct functioning of `remove_html_markup()`, nor to the failure at hand."
   ]
  },
  {
   "cell_type": "code",
   "execution_count": 130,
   "metadata": {
    "execution": {
     "iopub.execute_input": "2023-11-12T12:40:48.484702Z",
     "iopub.status.busy": "2023-11-12T12:40:48.484575Z",
     "iopub.status.idle": "2023-11-12T12:40:48.517981Z",
     "shell.execute_reply": "2023-11-12T12:40:48.517609Z"
    },
    "slideshow": {
     "slide_type": "subslide"
    }
   },
   "outputs": [
    {
     "name": "stdout",
     "output_type": "stream",
     "text": [
      "\u001b[34mdef\u001b[39;49;00m \u001b[32mremove_html_markup\u001b[39;49;00m(s):  \u001b[37m# type: ignore\u001b[39;49;00m\u001b[37m\u001b[39;49;00m\n",
      "    tag = \u001b[34mFalse\u001b[39;49;00m\u001b[37m\u001b[39;49;00m\n",
      "    quote = \u001b[34mFalse\u001b[39;49;00m\u001b[37m\u001b[39;49;00m\n",
      "    out = \u001b[33m\"\u001b[39;49;00m\u001b[33m\"\u001b[39;49;00m\u001b[37m\u001b[39;49;00m\n",
      "    \u001b[34mfor\u001b[39;49;00m c \u001b[35min\u001b[39;49;00m s:\u001b[37m\u001b[39;49;00m\n",
      "        \u001b[34mif\u001b[39;49;00m c == \u001b[33m'\u001b[39;49;00m\u001b[33m<\u001b[39;49;00m\u001b[33m'\u001b[39;49;00m \u001b[35mand\u001b[39;49;00m \u001b[35mnot\u001b[39;49;00m quote:\u001b[37m\u001b[39;49;00m\n",
      "            tag = \u001b[34mTrue\u001b[39;49;00m\u001b[37m\u001b[39;49;00m\n",
      "        \u001b[34melif\u001b[39;49;00m c == \u001b[33m'\u001b[39;49;00m\u001b[33m>\u001b[39;49;00m\u001b[33m'\u001b[39;49;00m \u001b[35mand\u001b[39;49;00m \u001b[35mnot\u001b[39;49;00m quote:\u001b[37m\u001b[39;49;00m\n",
      "            tag = \u001b[34mFalse\u001b[39;49;00m\u001b[37m\u001b[39;49;00m\n",
      "        \u001b[34melif\u001b[39;49;00m c == \u001b[33m'\u001b[39;49;00m\u001b[33m\"\u001b[39;49;00m\u001b[33m'\u001b[39;49;00m \u001b[35mor\u001b[39;49;00m c == \u001b[33m\"\u001b[39;49;00m\u001b[33m'\u001b[39;49;00m\u001b[33m\"\u001b[39;49;00m \u001b[35mand\u001b[39;49;00m tag:\u001b[37m\u001b[39;49;00m\n",
      "            quote = \u001b[35mnot\u001b[39;49;00m quote\u001b[37m\u001b[39;49;00m\n",
      "        \u001b[34melif\u001b[39;49;00m \u001b[35mnot\u001b[39;49;00m tag:\u001b[37m\u001b[39;49;00m\n",
      "            out = out + c\u001b[37m\u001b[39;49;00m\n",
      "    \u001b[34mreturn\u001b[39;49;00m out\u001b[37m\u001b[39;49;00m"
     ]
    }
   ],
   "source": [
    "print_content(''.join(reduced_assertions_source_lines), '.py')"
   ]
  },
  {
   "cell_type": "markdown",
   "metadata": {
    "slideshow": {
     "slide_type": "subslide"
    }
   },
   "source": [
    "All in all, we have reduced the number of relevant lines in `Assertions` to about 3% of the original source code."
   ]
  },
  {
   "cell_type": "code",
   "execution_count": 131,
   "metadata": {
    "execution": {
     "iopub.execute_input": "2023-11-12T12:40:48.519663Z",
     "iopub.status.busy": "2023-11-12T12:40:48.519544Z",
     "iopub.status.idle": "2023-11-12T12:40:48.521875Z",
     "shell.execute_reply": "2023-11-12T12:40:48.521596Z"
    },
    "slideshow": {
     "slide_type": "fragment"
    }
   },
   "outputs": [
    {
     "data": {
      "text/plain": [
       "0.025362318840579712"
      ]
     },
     "execution_count": 131,
     "metadata": {},
     "output_type": "execute_result"
    }
   ],
   "source": [
    "len(reduced_assertions_source_lines) / len(assertions_source_lines)"
   ]
  },
  {
   "cell_type": "markdown",
   "metadata": {
    "slideshow": {
     "slide_type": "fragment"
    }
   },
   "source": [
    "The astute reader may notice that `remove_html_markup()`, as shown above, is slightly different from the original version in the [chapter on assertions](Assertions.ipynb). Here's the original version for comparison:"
   ]
  },
  {
   "cell_type": "code",
   "execution_count": 132,
   "metadata": {
    "execution": {
     "iopub.execute_input": "2023-11-12T12:40:48.523406Z",
     "iopub.status.busy": "2023-11-12T12:40:48.523293Z",
     "iopub.status.idle": "2023-11-12T12:40:48.557455Z",
     "shell.execute_reply": "2023-11-12T12:40:48.557152Z"
    },
    "slideshow": {
     "slide_type": "subslide"
    }
   },
   "outputs": [
    {
     "name": "stdout",
     "output_type": "stream",
     "text": [
      "\u001b[34mdef\u001b[39;49;00m \u001b[32mremove_html_markup\u001b[39;49;00m(s):  \u001b[37m# type: ignore\u001b[39;49;00m\u001b[37m\u001b[39;49;00m\n",
      "    tag = \u001b[34mFalse\u001b[39;49;00m\u001b[37m\u001b[39;49;00m\n",
      "    quote = \u001b[34mFalse\u001b[39;49;00m\u001b[37m\u001b[39;49;00m\n",
      "    out = \u001b[33m\"\u001b[39;49;00m\u001b[33m\"\u001b[39;49;00m\u001b[37m\u001b[39;49;00m\n",
      "\u001b[37m\u001b[39;49;00m\n",
      "    \u001b[34mfor\u001b[39;49;00m c \u001b[35min\u001b[39;49;00m s:\u001b[37m\u001b[39;49;00m\n",
      "        \u001b[34mif\u001b[39;49;00m c == \u001b[33m'\u001b[39;49;00m\u001b[33m<\u001b[39;49;00m\u001b[33m'\u001b[39;49;00m \u001b[35mand\u001b[39;49;00m \u001b[35mnot\u001b[39;49;00m quote:\u001b[37m\u001b[39;49;00m\n",
      "            tag = \u001b[34mTrue\u001b[39;49;00m\u001b[37m\u001b[39;49;00m\n",
      "        \u001b[34melif\u001b[39;49;00m c == \u001b[33m'\u001b[39;49;00m\u001b[33m>\u001b[39;49;00m\u001b[33m'\u001b[39;49;00m \u001b[35mand\u001b[39;49;00m \u001b[35mnot\u001b[39;49;00m quote:\u001b[37m\u001b[39;49;00m\n",
      "            tag = \u001b[34mFalse\u001b[39;49;00m\u001b[37m\u001b[39;49;00m\n",
      "        \u001b[34melif\u001b[39;49;00m c == \u001b[33m'\u001b[39;49;00m\u001b[33m\"\u001b[39;49;00m\u001b[33m'\u001b[39;49;00m \u001b[35mor\u001b[39;49;00m c == \u001b[33m\"\u001b[39;49;00m\u001b[33m'\u001b[39;49;00m\u001b[33m\"\u001b[39;49;00m \u001b[35mand\u001b[39;49;00m tag:\u001b[37m\u001b[39;49;00m\n",
      "            quote = \u001b[35mnot\u001b[39;49;00m quote\u001b[37m\u001b[39;49;00m\n",
      "        \u001b[34melif\u001b[39;49;00m \u001b[35mnot\u001b[39;49;00m tag:\u001b[37m\u001b[39;49;00m\n",
      "            out = out + c\u001b[37m\u001b[39;49;00m\n",
      "\u001b[37m\u001b[39;49;00m\n",
      "    \u001b[37m# postcondition\u001b[39;49;00m\u001b[37m\u001b[39;49;00m\n",
      "    \u001b[34massert\u001b[39;49;00m \u001b[33m'\u001b[39;49;00m\u001b[33m<\u001b[39;49;00m\u001b[33m'\u001b[39;49;00m \u001b[35mnot\u001b[39;49;00m \u001b[35min\u001b[39;49;00m out \u001b[35mand\u001b[39;49;00m \u001b[33m'\u001b[39;49;00m\u001b[33m>\u001b[39;49;00m\u001b[33m'\u001b[39;49;00m \u001b[35mnot\u001b[39;49;00m \u001b[35min\u001b[39;49;00m out\u001b[37m\u001b[39;49;00m\n",
      "\u001b[37m\u001b[39;49;00m\n",
      "    \u001b[34mreturn\u001b[39;49;00m out\u001b[37m\u001b[39;49;00m"
     ]
    }
   ],
   "source": [
    "remove_html_markup_source_lines, _ = inspect.getsourcelines(Assertions.remove_html_markup)\n",
    "print_content(''.join(remove_html_markup_source_lines), '.py')"
   ]
  },
  {
   "cell_type": "code",
   "execution_count": 133,
   "metadata": {
    "execution": {
     "iopub.execute_input": "2023-11-12T12:40:48.559395Z",
     "iopub.status.busy": "2023-11-12T12:40:48.559257Z",
     "iopub.status.idle": "2023-11-12T12:40:48.563851Z",
     "shell.execute_reply": "2023-11-12T12:40:48.563551Z"
    },
    "slideshow": {
     "slide_type": "subslide"
    }
   },
   "outputs": [
    {
     "data": {
      "text/html": [
       "\n",
       "    \n",
       "    <script>\n",
       "    var bad_answers = new Map();\n",
       "\n",
       "    function answer(quiz_id) {\n",
       "        ans = 0;\n",
       "        for (i = 1;; i++) {\n",
       "            checkbox = document.getElementById(quiz_id + \"-\" + i.toString());\n",
       "            if (!checkbox)\n",
       "                break;\n",
       "            if (checkbox.checked)\n",
       "                ans |= (1 << i);\n",
       "        }\n",
       "        return ans;\n",
       "    }\n",
       "    function check_selection(quiz_id, correct_answer, multiple_choice, hint) {\n",
       "        given_answer = answer(quiz_id);\n",
       "        if (given_answer == correct_answer)\n",
       "        {\n",
       "            document.getElementById(quiz_id + \"-submit\").value = \"Correct!\";\n",
       "            document.getElementById(quiz_id + \"-hint\").innerHTML = \"\";\n",
       "\n",
       "            for (i = 1;; i++) {\n",
       "                checkbox = document.getElementById(quiz_id + \"-\" + i.toString());\n",
       "                label = document.getElementById(quiz_id + \"-\" + i.toString() + \"-label\")\n",
       "                if (!checkbox)\n",
       "                    break;\n",
       "    \n",
       "                if (checkbox.checked) {\n",
       "                    label.style.fontWeight = \"bold\";\n",
       "                }\n",
       "                else {\n",
       "                    label.style.textDecoration = \"line-through\";\n",
       "                }\n",
       "            }\n",
       "        }\n",
       "        else \n",
       "        {\n",
       "            document.getElementById(quiz_id + \"-submit\").value = \"Try again\";\n",
       "            \n",
       "            if (!bad_answers.has(quiz_id)) {\n",
       "                bad_answers.set(quiz_id, 1);\n",
       "            }\n",
       "            else {\n",
       "                bad_answers.set(quiz_id, bad_answers.get(quiz_id) + 1);\n",
       "            }\n",
       "\n",
       "            if (bad_answers.get(quiz_id) >= 2 && hint.length > 0) {\n",
       "                document.getElementById(quiz_id + \"-hint\").innerHTML = \n",
       "                    \"&nbsp;&nbsp;(Hint: <code>\" + hint + \"</code>)\";\n",
       "            }\n",
       "\n",
       "            if (!multiple_choice) {\n",
       "                for (i = 1;; i++) {\n",
       "                    checkbox = document.getElementById(quiz_id + \"-\" + i.toString());\n",
       "                    label = document.getElementById(quiz_id + \"-\" + i.toString() + \"-label\")\n",
       "\n",
       "                    if (!checkbox)\n",
       "                        break;\n",
       "                    if (checkbox.checked) {\n",
       "                        label.style.textDecoration = \"line-through\";\n",
       "                    }\n",
       "                }\n",
       "            }\n",
       "        }\n",
       "    }\n",
       "    function clear_selection(quiz_id) {\n",
       "        document.getElementById(quiz_id + \"-submit\").value = \"Submit\";\n",
       "        document.getElementById(quiz_id + \"-hint\").innerHTML = \"\";\n",
       "    }\n",
       "    </script>\n",
       "    \n",
       "    <div class=\"quiz\">\n",
       "    <h3 class=\"quiz_title\">Quiz</h3>\n",
       "    <p>\n",
       "    <div class=\"quiz_question\">In the reduced version, what has changed?</div>\n",
       "    </p>\n",
       "    <p>\n",
       "    <div class=\"quiz_options\" title=\"Check all that apply.\">\n",
       "    \n",
       "        <input type=\"checkbox\" name=\"b4ce75c4-8158-11ee-8f31-6298cf1a5790\" id=\"b4ce75c4-8158-11ee-8f31-6298cf1a5790-1\" onclick=\"clear_selection('b4ce75c4-8158-11ee-8f31-6298cf1a5790')\">\n",
       "        <label id=\"b4ce75c4-8158-11ee-8f31-6298cf1a5790-1-label\" for=\"b4ce75c4-8158-11ee-8f31-6298cf1a5790-1\">Comments are deleted</label><br>\n",
       "    \n",
       "        <input type=\"checkbox\" name=\"b4ce75c4-8158-11ee-8f31-6298cf1a5790\" id=\"b4ce75c4-8158-11ee-8f31-6298cf1a5790-2\" onclick=\"clear_selection('b4ce75c4-8158-11ee-8f31-6298cf1a5790')\">\n",
       "        <label id=\"b4ce75c4-8158-11ee-8f31-6298cf1a5790-2-label\" for=\"b4ce75c4-8158-11ee-8f31-6298cf1a5790-2\">Blank lines are deleted</label><br>\n",
       "    \n",
       "        <input type=\"checkbox\" name=\"b4ce75c4-8158-11ee-8f31-6298cf1a5790\" id=\"b4ce75c4-8158-11ee-8f31-6298cf1a5790-3\" onclick=\"clear_selection('b4ce75c4-8158-11ee-8f31-6298cf1a5790')\">\n",
       "        <label id=\"b4ce75c4-8158-11ee-8f31-6298cf1a5790-3-label\" for=\"b4ce75c4-8158-11ee-8f31-6298cf1a5790-3\">Initializations are deleted</label><br>\n",
       "    \n",
       "        <input type=\"checkbox\" name=\"b4ce75c4-8158-11ee-8f31-6298cf1a5790\" id=\"b4ce75c4-8158-11ee-8f31-6298cf1a5790-4\" onclick=\"clear_selection('b4ce75c4-8158-11ee-8f31-6298cf1a5790')\">\n",
       "        <label id=\"b4ce75c4-8158-11ee-8f31-6298cf1a5790-4-label\" for=\"b4ce75c4-8158-11ee-8f31-6298cf1a5790-4\">The assertion is deleted</label><br>\n",
       "    \n",
       "    </div>\n",
       "    </p>\n",
       "    <input id=\"b4ce75c4-8158-11ee-8f31-6298cf1a5790-submit\" type=\"submit\" value=\"Submit\" onclick=\"check_selection('b4ce75c4-8158-11ee-8f31-6298cf1a5790', 22, 1, '[(1 ** 0 - -1 ** 0) ** n for n in range(0, 3)]')\">\n",
       "    <span class=\"quiz_hint\" id=\"b4ce75c4-8158-11ee-8f31-6298cf1a5790-hint\"></span>\n",
       "    </div>\n",
       "    "
      ],
      "text/plain": [
       "<IPython.core.display.HTML object>"
      ]
     },
     "execution_count": 133,
     "metadata": {},
     "output_type": "execute_result"
    }
   ],
   "source": [
    "quiz(\"In the reduced version, what has changed?\",\n",
    "    [\n",
    "        \"Comments are deleted\",\n",
    "        \"Blank lines are deleted\",\n",
    "        \"Initializations are deleted\",\n",
    "        \"The assertion is deleted\",\n",
    "    ], '[(1 ** 0 - -1 ** 0) ** n for n in range(0, 3)]')"
   ]
  },
  {
   "cell_type": "markdown",
   "metadata": {
    "slideshow": {
     "slide_type": "fragment"
    }
   },
   "source": [
    "Indeed, Delta Debugging has determined all these as being irrelevant for reproducing the failure – and consequently, has deleted them."
   ]
  },
  {
   "cell_type": "markdown",
   "metadata": {
    "slideshow": {
     "slide_type": "subslide"
    }
   },
   "source": [
    "### Reducing Code Characters"
   ]
  },
  {
   "cell_type": "markdown",
   "metadata": {
    "slideshow": {
     "slide_type": "fragment"
    }
   },
   "source": [
    "We can reduce the code further by removing individual _characters_ rather than lines. To this end, we convert our (already reduced) `remove_html_markup()` code into a list of characters."
   ]
  },
  {
   "cell_type": "code",
   "execution_count": 134,
   "metadata": {
    "execution": {
     "iopub.execute_input": "2023-11-12T12:40:48.565460Z",
     "iopub.status.busy": "2023-11-12T12:40:48.565363Z",
     "iopub.status.idle": "2023-11-12T12:40:48.567536Z",
     "shell.execute_reply": "2023-11-12T12:40:48.567197Z"
    },
    "slideshow": {
     "slide_type": "fragment"
    }
   },
   "outputs": [
    {
     "name": "stdout",
     "output_type": "stream",
     "text": [
      "['d', 'e', 'f', ' ', 'r', 'e', 'm', 'o', 'v', 'e', '_', 'h', 't', 'm', 'l', '_', 'm', 'a', 'r', 'k', 'u', 'p', '(', 's', ')', ':', ' ', ' ', '#', ' ']\n"
     ]
    }
   ],
   "source": [
    "reduced_assertions_source_characters = list(\"\".join(reduced_assertions_source_lines))\n",
    "print(reduced_assertions_source_characters[:30])"
   ]
  },
  {
   "cell_type": "markdown",
   "metadata": {
    "slideshow": {
     "slide_type": "fragment"
    }
   },
   "source": [
    "Our `compile_and_test_html_markup()` works (and fails) as before: It still joins the given strings into one and executes them. (Remember that in Python, \"characters\" are simply strings of length one.)"
   ]
  },
  {
   "cell_type": "code",
   "execution_count": 135,
   "metadata": {
    "execution": {
     "iopub.execute_input": "2023-11-12T12:40:48.569165Z",
     "iopub.status.busy": "2023-11-12T12:40:48.569031Z",
     "iopub.status.idle": "2023-11-12T12:40:48.571250Z",
     "shell.execute_reply": "2023-11-12T12:40:48.570986Z"
    },
    "slideshow": {
     "slide_type": "subslide"
    }
   },
   "outputs": [
    {
     "name": "stderr",
     "output_type": "stream",
     "text": [
      "Traceback (most recent call last):\n",
      "  File \"/var/folders/n2/xd9445p97rb3xh7m1dfx8_4h0006ts/T/ipykernel_25735/909985861.py\", line 2, in <cell line: 1>\n",
      "    compile_and_test_html_markup(reduced_assertions_source_characters)\n",
      "  File \"/var/folders/n2/xd9445p97rb3xh7m1dfx8_4h0006ts/T/ipykernel_25735/4067432722.py\", line 2, in compile_and_test_html_markup\n",
      "    compile_and_run(lines +\n",
      "  File \"/var/folders/n2/xd9445p97rb3xh7m1dfx8_4h0006ts/T/ipykernel_25735/2075409738.py\", line 3, in compile_and_run\n",
      "    exec(\"\".join(lines), {'__name__': '<string>',\n",
      "  File \"<string>\", line 17, in <module>\n",
      "AssertionError: My Test (expected)\n"
     ]
    }
   ],
   "source": [
    "with ExpectError(AssertionError):\n",
    "    compile_and_test_html_markup(reduced_assertions_source_characters)"
   ]
  },
  {
   "cell_type": "markdown",
   "metadata": {
    "slideshow": {
     "slide_type": "fragment"
    }
   },
   "source": [
    "Let's see what Delta Debugging makes of that – and also, how long it takes. The `Timer` class gives us a simple means to measure time."
   ]
  },
  {
   "cell_type": "code",
   "execution_count": 136,
   "metadata": {
    "execution": {
     "iopub.execute_input": "2023-11-12T12:40:48.572789Z",
     "iopub.status.busy": "2023-11-12T12:40:48.572680Z",
     "iopub.status.idle": "2023-11-12T12:40:48.574316Z",
     "shell.execute_reply": "2023-11-12T12:40:48.574051Z"
    },
    "slideshow": {
     "slide_type": "skip"
    }
   },
   "outputs": [],
   "source": [
    "from Timer import Timer"
   ]
  },
  {
   "cell_type": "code",
   "execution_count": 137,
   "metadata": {
    "execution": {
     "iopub.execute_input": "2023-11-12T12:40:48.575718Z",
     "iopub.status.busy": "2023-11-12T12:40:48.575633Z",
     "iopub.status.idle": "2023-11-12T12:40:48.577670Z",
     "shell.execute_reply": "2023-11-12T12:40:48.577285Z"
    },
    "slideshow": {
     "slide_type": "subslide"
    }
   },
   "outputs": [],
   "source": [
    "with DeltaDebugger(log=False) as dd:\n",
    "    compile_and_test_html_markup(reduced_assertions_source_characters)"
   ]
  },
  {
   "cell_type": "markdown",
   "metadata": {
    "slideshow": {
     "slide_type": "fragment"
    }
   },
   "source": [
    "Here's the reduced result:"
   ]
  },
  {
   "cell_type": "code",
   "execution_count": 138,
   "metadata": {
    "execution": {
     "iopub.execute_input": "2023-11-12T12:40:48.579753Z",
     "iopub.status.busy": "2023-11-12T12:40:48.579562Z",
     "iopub.status.idle": "2023-11-12T12:40:48.922166Z",
     "shell.execute_reply": "2023-11-12T12:40:48.921781Z"
    },
    "slideshow": {
     "slide_type": "subslide"
    }
   },
   "outputs": [
    {
     "name": "stdout",
     "output_type": "stream",
     "text": [
      "\u001b[34mdef\u001b[39;49;00m \u001b[32mremove_html_markup\u001b[39;49;00m(s):\u001b[37m\u001b[39;49;00m\n",
      "    tag=\u001b[34mFalse\u001b[39;49;00m\u001b[37m\u001b[39;49;00m\n",
      "    quote=\u001b[34mFalse\u001b[39;49;00m\u001b[37m\u001b[39;49;00m\n",
      "    out=\u001b[33m\"\u001b[39;49;00m\u001b[33m\"\u001b[39;49;00m\u001b[37m\u001b[39;49;00m\n",
      "    \u001b[34mfor\u001b[39;49;00m c \u001b[35min\u001b[39;49;00m s:\u001b[37m\u001b[39;49;00m\n",
      "        \u001b[34mif\u001b[39;49;00m c==\u001b[33m'\u001b[39;49;00m\u001b[33m<\u001b[39;49;00m\u001b[33m'\u001b[39;49;00m\u001b[35mand\u001b[39;49;00m \u001b[35mnot\u001b[39;49;00m quote:tag=\u001b[34mTrue\u001b[39;49;00m\u001b[37m\u001b[39;49;00m\n",
      "        \u001b[34mif\u001b[39;49;00m c==\u001b[33m'\u001b[39;49;00m\u001b[33m>\u001b[39;49;00m\u001b[33m'\u001b[39;49;00m\u001b[35mand\u001b[39;49;00m \u001b[35mnot\u001b[39;49;00m quote:tag=\u001b[34mFalse\u001b[39;49;00m\u001b[37m\u001b[39;49;00m\n",
      "        \u001b[34melif\u001b[39;49;00m c==\u001b[33m'\u001b[39;49;00m\u001b[33m\"\u001b[39;49;00m\u001b[33m'\u001b[39;49;00m\u001b[35mor\u001b[39;49;00m c==\u001b[33m\"\u001b[39;49;00m\u001b[33m\"\u001b[39;49;00m\u001b[35mand\u001b[39;49;00m g:\u001b[35mnot\u001b[39;49;00m quote\u001b[37m\u001b[39;49;00m\n",
      "        \u001b[34melif\u001b[39;49;00m \u001b[35mnot\u001b[39;49;00m tag:out=out+c\u001b[37m\u001b[39;49;00m\n",
      "    \u001b[34mreturn\u001b[39;49;00m out\u001b[37m\u001b[39;49;00m"
     ]
    }
   ],
   "source": [
    "with Timer() as t:\n",
    "    further_reduced_assertions_source_characters = dd.min_args()['lines']\n",
    "print_content(\"\".join(further_reduced_assertions_source_characters), \".py\")"
   ]
  },
  {
   "cell_type": "markdown",
   "metadata": {
    "slideshow": {
     "slide_type": "subslide"
    }
   },
   "source": [
    "There's a number of observations we can make about this code.\n",
    "\n",
    "* All superfluous blanks and even newlines have been removed.\n",
    "* As a curiosity, the initialization of `quote` and `out` to `\"\"` is now merged into a single (semantics-preserving) statement.\n",
    "* The semantics and effect of `<` and `>` characters is preserved, as mandated by our `RuntimeError` check.\n",
    "* Double quotes still have the effect of not being included in the returned value: the remaining `quote` has no effect.\n",
    "\n",
    "Semantics-wise, this reduced variant still yields the \"original\" failure; the biggest semantic differences, though, are in the condition and code associated with double quotes – which actually also is the location of the defect to be fixed. This is how reducing code can also point to not only _necessary_ locations, but also _defective_ locations."
   ]
  },
  {
   "cell_type": "markdown",
   "metadata": {
    "slideshow": {
     "slide_type": "subslide"
    }
   },
   "source": [
    "Mind you that reducing code is not cheap, and especially not if you remove by characters. It has taken `DeltaDebugger` several thousand tests to obtain the result above:"
   ]
  },
  {
   "cell_type": "code",
   "execution_count": 139,
   "metadata": {
    "execution": {
     "iopub.execute_input": "2023-11-12T12:40:48.923938Z",
     "iopub.status.busy": "2023-11-12T12:40:48.923810Z",
     "iopub.status.idle": "2023-11-12T12:40:48.926211Z",
     "shell.execute_reply": "2023-11-12T12:40:48.925867Z"
    },
    "slideshow": {
     "slide_type": "fragment"
    }
   },
   "outputs": [
    {
     "data": {
      "text/plain": [
       "1278"
      ]
     },
     "execution_count": 139,
     "metadata": {},
     "output_type": "execute_result"
    }
   ],
   "source": [
    "dd.tests"
   ]
  },
  {
   "cell_type": "markdown",
   "metadata": {
    "slideshow": {
     "slide_type": "fragment"
    }
   },
   "source": [
    "And to do so, it even required _several seconds_. This may be little for a human, but from a CPU standpoint, this is an enormous effort."
   ]
  },
  {
   "cell_type": "code",
   "execution_count": 140,
   "metadata": {
    "execution": {
     "iopub.execute_input": "2023-11-12T12:40:48.928006Z",
     "iopub.status.busy": "2023-11-12T12:40:48.927842Z",
     "iopub.status.idle": "2023-11-12T12:40:48.930226Z",
     "shell.execute_reply": "2023-11-12T12:40:48.929931Z"
    },
    "slideshow": {
     "slide_type": "fragment"
    }
   },
   "outputs": [
    {
     "data": {
      "text/plain": [
       "0.3095454590002191"
      ]
     },
     "execution_count": 140,
     "metadata": {},
     "output_type": "execute_result"
    }
   ],
   "source": [
    "t.elapsed_time()"
   ]
  },
  {
   "cell_type": "markdown",
   "metadata": {
    "slideshow": {
     "slide_type": "subslide"
    }
   },
   "source": [
    "### Reducing Syntax Trees"
   ]
  },
  {
   "cell_type": "markdown",
   "metadata": {
    "slideshow": {
     "slide_type": "fragment"
    }
   },
   "source": [
    "When reducing code (or generally speaking, recursive structures), using a _syntactic_ approach can be a much better alternative to the _line-by-line_ or _character-by-character_ approaches discussed above. The idea is that one represents the input as a _tree_ (rather than a sequence of strings), in which a reducer would work on entire subtrees, deleting or reducing parts of the tree."
   ]
  },
  {
   "cell_type": "markdown",
   "metadata": {
    "slideshow": {
     "slide_type": "subslide"
    }
   },
   "source": [
    "We illustrate this concept on _syntax trees_ representing Python code. Python provides us with simple means to interactively convert code into syntax trees (and back again). So, in order to reduce code, we can\n",
    "\n",
    "1. _parse_ the program code into a syntax tree (called *abstract syntax tree* or *AST*);\n",
    "2. reduce the syntax tree to a minimum, executing it to test reductions; and\n",
    "3. _unparse_ the tree to obtain textual code again.\n",
    "\n",
    "Since transformations on the AST are much less likely to produce syntax errors, reducing ASTs is much more efficient than reducing program code as text."
   ]
  },
  {
   "cell_type": "markdown",
   "metadata": {
    "slideshow": {
     "slide_type": "subslide"
    }
   },
   "source": [
    "In the [chapter on slicing](Slicer.ipynb), we already have seen several examples on how to work with ASTs. In our context, an AST also offers additional possibilities for reducing. Notably, instead of just _deleting_ code fragments, we can also _replace_ them with simpler fragments. For instance, we can replace arithmetic expressions with constants, or conditional statements `if cond: body` with the associated body `body`."
   ]
  },
  {
   "cell_type": "markdown",
   "metadata": {
    "slideshow": {
     "slide_type": "fragment"
    }
   },
   "source": [
    "Let us illustrate how this works, again choosing `remove_html_markup()` as our ongoing example. One more time, we create a function with associated test."
   ]
  },
  {
   "cell_type": "code",
   "execution_count": 141,
   "metadata": {
    "execution": {
     "iopub.execute_input": "2023-11-12T12:40:48.931907Z",
     "iopub.status.busy": "2023-11-12T12:40:48.931779Z",
     "iopub.status.idle": "2023-11-12T12:40:48.934048Z",
     "shell.execute_reply": "2023-11-12T12:40:48.933763Z"
    },
    "slideshow": {
     "slide_type": "fragment"
    }
   },
   "outputs": [],
   "source": [
    "fun_source = inspect.getsource(remove_html_markup)"
   ]
  },
  {
   "cell_type": "code",
   "execution_count": 142,
   "metadata": {
    "execution": {
     "iopub.execute_input": "2023-11-12T12:40:48.935812Z",
     "iopub.status.busy": "2023-11-12T12:40:48.935690Z",
     "iopub.status.idle": "2023-11-12T12:40:48.968605Z",
     "shell.execute_reply": "2023-11-12T12:40:48.968312Z"
    },
    "slideshow": {
     "slide_type": "subslide"
    }
   },
   "outputs": [
    {
     "name": "stdout",
     "output_type": "stream",
     "text": [
      "\u001b[34mdef\u001b[39;49;00m \u001b[32mremove_html_markup\u001b[39;49;00m(s):  \u001b[37m# type: ignore\u001b[39;49;00m\u001b[37m\u001b[39;49;00m\n",
      "    tag = \u001b[34mFalse\u001b[39;49;00m\u001b[37m\u001b[39;49;00m\n",
      "    quote = \u001b[34mFalse\u001b[39;49;00m\u001b[37m\u001b[39;49;00m\n",
      "    out = \u001b[33m\"\u001b[39;49;00m\u001b[33m\"\u001b[39;49;00m\u001b[37m\u001b[39;49;00m\n",
      "\u001b[37m\u001b[39;49;00m\n",
      "    \u001b[34mfor\u001b[39;49;00m c \u001b[35min\u001b[39;49;00m s:\u001b[37m\u001b[39;49;00m\n",
      "        \u001b[34mif\u001b[39;49;00m c == \u001b[33m'\u001b[39;49;00m\u001b[33m<\u001b[39;49;00m\u001b[33m'\u001b[39;49;00m \u001b[35mand\u001b[39;49;00m \u001b[35mnot\u001b[39;49;00m quote:\u001b[37m\u001b[39;49;00m\n",
      "            tag = \u001b[34mTrue\u001b[39;49;00m\u001b[37m\u001b[39;49;00m\n",
      "        \u001b[34melif\u001b[39;49;00m c == \u001b[33m'\u001b[39;49;00m\u001b[33m>\u001b[39;49;00m\u001b[33m'\u001b[39;49;00m \u001b[35mand\u001b[39;49;00m \u001b[35mnot\u001b[39;49;00m quote:\u001b[37m\u001b[39;49;00m\n",
      "            tag = \u001b[34mFalse\u001b[39;49;00m\u001b[37m\u001b[39;49;00m\n",
      "        \u001b[34melif\u001b[39;49;00m c == \u001b[33m'\u001b[39;49;00m\u001b[33m\"\u001b[39;49;00m\u001b[33m'\u001b[39;49;00m \u001b[35mor\u001b[39;49;00m c == \u001b[33m\"\u001b[39;49;00m\u001b[33m'\u001b[39;49;00m\u001b[33m\"\u001b[39;49;00m \u001b[35mand\u001b[39;49;00m tag:\u001b[37m\u001b[39;49;00m\n",
      "            quote = \u001b[35mnot\u001b[39;49;00m quote\u001b[37m\u001b[39;49;00m\n",
      "        \u001b[34melif\u001b[39;49;00m \u001b[35mnot\u001b[39;49;00m tag:\u001b[37m\u001b[39;49;00m\n",
      "            out = out + c\u001b[37m\u001b[39;49;00m\n",
      "\u001b[37m\u001b[39;49;00m\n",
      "    \u001b[37m# postcondition\u001b[39;49;00m\u001b[37m\u001b[39;49;00m\n",
      "    \u001b[34massert\u001b[39;49;00m \u001b[33m'\u001b[39;49;00m\u001b[33m<\u001b[39;49;00m\u001b[33m'\u001b[39;49;00m \u001b[35mnot\u001b[39;49;00m \u001b[35min\u001b[39;49;00m out \u001b[35mand\u001b[39;49;00m \u001b[33m'\u001b[39;49;00m\u001b[33m>\u001b[39;49;00m\u001b[33m'\u001b[39;49;00m \u001b[35mnot\u001b[39;49;00m \u001b[35min\u001b[39;49;00m out\u001b[37m\u001b[39;49;00m\n",
      "\u001b[37m\u001b[39;49;00m\n",
      "    \u001b[34mreturn\u001b[39;49;00m out\u001b[37m\u001b[39;49;00m"
     ]
    }
   ],
   "source": [
    "print_content(fun_source, '.py')"
   ]
  },
  {
   "cell_type": "markdown",
   "metadata": {
    "slideshow": {
     "slide_type": "subslide"
    }
   },
   "source": [
    "#### From Code to Syntax Trees\n",
    "\n",
    "Let us parse this piece of code into an AST. This is done by the `ast.parse()` function."
   ]
  },
  {
   "cell_type": "code",
   "execution_count": 143,
   "metadata": {
    "execution": {
     "iopub.execute_input": "2023-11-12T12:40:48.970261Z",
     "iopub.status.busy": "2023-11-12T12:40:48.970142Z",
     "iopub.status.idle": "2023-11-12T12:40:48.971720Z",
     "shell.execute_reply": "2023-11-12T12:40:48.971435Z"
    },
    "slideshow": {
     "slide_type": "skip"
    }
   },
   "outputs": [],
   "source": [
    "import ast"
   ]
  },
  {
   "cell_type": "code",
   "execution_count": 144,
   "metadata": {
    "execution": {
     "iopub.execute_input": "2023-11-12T12:40:48.973273Z",
     "iopub.status.busy": "2023-11-12T12:40:48.973152Z",
     "iopub.status.idle": "2023-11-12T12:40:48.974976Z",
     "shell.execute_reply": "2023-11-12T12:40:48.974687Z"
    },
    "slideshow": {
     "slide_type": "fragment"
    }
   },
   "outputs": [],
   "source": [
    "fun_tree: ast.Module = ast.parse(fun_source)"
   ]
  },
  {
   "cell_type": "markdown",
   "metadata": {
    "slideshow": {
     "slide_type": "fragment"
    }
   },
   "source": [
    "The parsed tree contains the function definition:"
   ]
  },
  {
   "cell_type": "code",
   "execution_count": 145,
   "metadata": {
    "execution": {
     "iopub.execute_input": "2023-11-12T12:40:48.976554Z",
     "iopub.status.busy": "2023-11-12T12:40:48.976430Z",
     "iopub.status.idle": "2023-11-12T12:40:48.978300Z",
     "shell.execute_reply": "2023-11-12T12:40:48.977990Z"
    },
    "slideshow": {
     "slide_type": "skip"
    }
   },
   "outputs": [],
   "source": [
    "from bookutils import show_ast"
   ]
  },
  {
   "cell_type": "code",
   "execution_count": 146,
   "metadata": {
    "execution": {
     "iopub.execute_input": "2023-11-12T12:40:48.979921Z",
     "iopub.status.busy": "2023-11-12T12:40:48.979793Z",
     "iopub.status.idle": "2023-11-12T12:40:49.500416Z",
     "shell.execute_reply": "2023-11-12T12:40:49.499979Z"
    },
    "slideshow": {
     "slide_type": "fragment"
    }
   },
   "outputs": [
    {
     "data": {
      "image/svg+xml": [
       "<svg xmlns=\"http://www.w3.org/2000/svg\" xmlns:xlink=\"http://www.w3.org/1999/xlink\" width=\"2911pt\" height=\"692pt\" viewBox=\"0.00 0.00 2911.00 692.00\">\n",
       "<g id=\"graph0\" class=\"graph\" transform=\"scale(1 1) rotate(0) translate(4 688)\">\n",
       "<polygon fill=\"white\" stroke=\"none\" points=\"-4,4 -4,-688 2907,-688 2907,4 -4,4\"/>\n",
       "<!-- 0 -->\n",
       "<g id=\"node1\" class=\"node\">\n",
       "<title>0</title>\n",
       "<text text-anchor=\"start\" x=\"509.62\" y=\"-661.95\" font-family=\"Courier,monospace\" font-weight=\"bold\" font-size=\"14.00\" fill=\"#004080\">FunctionDef</text>\n",
       "</g>\n",
       "<!-- 1 -->\n",
       "<g id=\"node2\" class=\"node\">\n",
       "<title>1</title>\n",
       "<text text-anchor=\"middle\" x=\"106\" y=\"-588.95\" font-family=\"Courier,monospace\" font-size=\"14.00\" fill=\"#008040\">&quot;remove_html_markup&quot;</text>\n",
       "</g>\n",
       "<!-- 0&#45;&#45;1 -->\n",
       "<g id=\"edge1\" class=\"edge\">\n",
       "<title>0--1</title>\n",
       "<path fill=\"none\" stroke=\"black\" d=\"M555,-647C555,-647 360.49,-632.85 206,-612 202.86,-611.58 199.66,-611.13 196.44,-610.66\"/>\n",
       "</g>\n",
       "<!-- 2 -->\n",
       "<g id=\"node3\" class=\"node\">\n",
       "<title>2</title>\n",
       "<text text-anchor=\"start\" x=\"222.88\" y=\"-589.95\" font-family=\"Courier,monospace\" font-weight=\"bold\" font-size=\"14.00\" fill=\"#004080\">arguments</text>\n",
       "</g>\n",
       "<!-- 0&#45;&#45;2 -->\n",
       "<g id=\"edge2\" class=\"edge\">\n",
       "<title>0--2</title>\n",
       "<path fill=\"none\" stroke=\"black\" d=\"M555,-647C555,-647 419.52,-636.11 314,-612 311.03,-611.32 307.99,-610.56 304.93,-609.74\"/>\n",
       "</g>\n",
       "<!-- 5 -->\n",
       "<g id=\"node6\" class=\"node\">\n",
       "<title>5</title>\n",
       "<text text-anchor=\"start\" x=\"331.25\" y=\"-589.95\" font-family=\"Courier,monospace\" font-weight=\"bold\" font-size=\"14.00\" fill=\"#004080\">Assign</text>\n",
       "</g>\n",
       "<!-- 0&#45;&#45;5 -->\n",
       "<g id=\"edge5\" class=\"edge\">\n",
       "<title>0--5</title>\n",
       "<path fill=\"none\" stroke=\"black\" d=\"M555,-647C555,-647 444.8,-618.21 388.42,-603.47\"/>\n",
       "</g>\n",
       "<!-- 11 -->\n",
       "<g id=\"node12\" class=\"node\">\n",
       "<title>11</title>\n",
       "<text text-anchor=\"start\" x=\"474.25\" y=\"-589.95\" font-family=\"Courier,monospace\" font-weight=\"bold\" font-size=\"14.00\" fill=\"#004080\">Assign</text>\n",
       "</g>\n",
       "<!-- 0&#45;&#45;11 -->\n",
       "<g id=\"edge11\" class=\"edge\">\n",
       "<title>0--11</title>\n",
       "<path fill=\"none\" stroke=\"black\" d=\"M555,-647C555,-647 533.4,-626.94 517.03,-611.74\"/>\n",
       "</g>\n",
       "<!-- 17 -->\n",
       "<g id=\"node18\" class=\"node\">\n",
       "<title>17</title>\n",
       "<text text-anchor=\"start\" x=\"571.25\" y=\"-589.95\" font-family=\"Courier,monospace\" font-weight=\"bold\" font-size=\"14.00\" fill=\"#004080\">Assign</text>\n",
       "</g>\n",
       "<!-- 0&#45;&#45;17 -->\n",
       "<g id=\"edge17\" class=\"edge\">\n",
       "<title>0--17</title>\n",
       "<path fill=\"none\" stroke=\"black\" d=\"M555,-647C555,-647 570.82,-626.94 582.8,-611.74\"/>\n",
       "</g>\n",
       "<!-- 23 -->\n",
       "<g id=\"node24\" class=\"node\">\n",
       "<title>23</title>\n",
       "<text text-anchor=\"start\" x=\"888.62\" y=\"-589.95\" font-family=\"Courier,monospace\" font-weight=\"bold\" font-size=\"14.00\" fill=\"#004080\">For</text>\n",
       "</g>\n",
       "<!-- 0&#45;&#45;23 -->\n",
       "<g id=\"edge23\" class=\"edge\">\n",
       "<title>0--23</title>\n",
       "<path fill=\"none\" stroke=\"black\" d=\"M555,-647C555,-647 792.84,-611.25 874.14,-599.04\"/>\n",
       "</g>\n",
       "<!-- 121 -->\n",
       "<g id=\"node122\" class=\"node\">\n",
       "<title>121</title>\n",
       "<text text-anchor=\"start\" x=\"1537.25\" y=\"-589.95\" font-family=\"Courier,monospace\" font-weight=\"bold\" font-size=\"14.00\" fill=\"#004080\">Assert</text>\n",
       "</g>\n",
       "<!-- 0&#45;&#45;121 -->\n",
       "<g id=\"edge121\" class=\"edge\">\n",
       "<title>0--121</title>\n",
       "<path fill=\"none\" stroke=\"black\" d=\"M555,-647C555,-647 1356.4,-605.62 1529.35,-596.69\"/>\n",
       "</g>\n",
       "<!-- 138 -->\n",
       "<g id=\"node139\" class=\"node\">\n",
       "<title>138</title>\n",
       "<text text-anchor=\"start\" x=\"1992.25\" y=\"-589.95\" font-family=\"Courier,monospace\" font-weight=\"bold\" font-size=\"14.00\" fill=\"#004080\">Return</text>\n",
       "</g>\n",
       "<!-- 0&#45;&#45;138 -->\n",
       "<g id=\"edge138\" class=\"edge\">\n",
       "<title>0--138</title>\n",
       "<path fill=\"none\" stroke=\"black\" d=\"M555,-647C555,-647 1137.84,-629.37 1604,-612 1745.63,-606.72 1914.54,-599.47 1984.34,-596.43\"/>\n",
       "</g>\n",
       "<!-- 3 -->\n",
       "<g id=\"node4\" class=\"node\">\n",
       "<title>3</title>\n",
       "<text text-anchor=\"start\" x=\"53.62\" y=\"-517.95\" font-family=\"Courier,monospace\" font-weight=\"bold\" font-size=\"14.00\" fill=\"#004080\">arg</text>\n",
       "</g>\n",
       "<!-- 2&#45;&#45;3 -->\n",
       "<g id=\"edge3\" class=\"edge\">\n",
       "<title>2--3</title>\n",
       "<path fill=\"none\" stroke=\"black\" d=\"M215,-576.76C177.17,-563.11 124.35,-544.06 92.82,-532.68\"/>\n",
       "</g>\n",
       "<!-- 4 -->\n",
       "<g id=\"node5\" class=\"node\">\n",
       "<title>4</title>\n",
       "<text text-anchor=\"middle\" x=\"27\" y=\"-444.95\" font-family=\"Courier,monospace\" font-size=\"14.00\" fill=\"#008040\">&quot;s&quot;</text>\n",
       "</g>\n",
       "<!-- 3&#45;&#45;4 -->\n",
       "<g id=\"edge4\" class=\"edge\">\n",
       "<title>3--4</title>\n",
       "<path fill=\"none\" stroke=\"black\" d=\"M56.56,-504.05C50.43,-493.05 42.47,-478.76 36.35,-467.79\"/>\n",
       "</g>\n",
       "<!-- 6 -->\n",
       "<g id=\"node7\" class=\"node\">\n",
       "<title>6</title>\n",
       "<text text-anchor=\"start\" x=\"159.5\" y=\"-517.95\" font-family=\"Courier,monospace\" font-weight=\"bold\" font-size=\"14.00\" fill=\"#004080\">Name</text>\n",
       "</g>\n",
       "<!-- 5&#45;&#45;6 -->\n",
       "<g id=\"edge6\" class=\"edge\">\n",
       "<title>5--6</title>\n",
       "<path fill=\"none\" stroke=\"black\" d=\"M331,-575C331,-575 247.41,-546.96 203,-532.06\"/>\n",
       "</g>\n",
       "<!-- 9 -->\n",
       "<g id=\"node10\" class=\"node\">\n",
       "<title>9</title>\n",
       "<text text-anchor=\"start\" x=\"264\" y=\"-517.95\" font-family=\"Courier,monospace\" font-weight=\"bold\" font-size=\"14.00\" fill=\"#004080\">Constant</text>\n",
       "</g>\n",
       "<!-- 5&#45;&#45;9 -->\n",
       "<g id=\"edge9\" class=\"edge\">\n",
       "<title>5--9</title>\n",
       "<path fill=\"none\" stroke=\"black\" d=\"M331,-575C331,-575 317.88,-554.94 307.94,-539.74\"/>\n",
       "</g>\n",
       "<!-- 7 -->\n",
       "<g id=\"node8\" class=\"node\">\n",
       "<title>7</title>\n",
       "<text text-anchor=\"middle\" x=\"101\" y=\"-444.95\" font-family=\"Courier,monospace\" font-size=\"14.00\" fill=\"#008040\">&quot;tag&quot;</text>\n",
       "</g>\n",
       "<!-- 6&#45;&#45;7 -->\n",
       "<g id=\"edge7\" class=\"edge\">\n",
       "<title>6--7</title>\n",
       "<path fill=\"none\" stroke=\"black\" d=\"M168,-503C168,-503 142.15,-482.94 122.57,-467.74\"/>\n",
       "</g>\n",
       "<!-- 8 -->\n",
       "<g id=\"node9\" class=\"node\">\n",
       "<title>8</title>\n",
       "<text text-anchor=\"middle\" x=\"176\" y=\"-444.95\" font-family=\"Courier,monospace\" font-size=\"14.00\" fill=\"#008040\">Store</text>\n",
       "</g>\n",
       "<!-- 6&#45;&#45;8 -->\n",
       "<g id=\"edge8\" class=\"edge\">\n",
       "<title>6--8</title>\n",
       "<path fill=\"none\" stroke=\"black\" d=\"M168,-503C168,-503 171.09,-482.94 173.42,-467.74\"/>\n",
       "</g>\n",
       "<!-- 10 -->\n",
       "<g id=\"node11\" class=\"node\">\n",
       "<title>10</title>\n",
       "<text text-anchor=\"middle\" x=\"251\" y=\"-444.95\" font-family=\"Courier,monospace\" font-size=\"14.00\" fill=\"#008040\">False</text>\n",
       "</g>\n",
       "<!-- 9&#45;&#45;10 -->\n",
       "<g id=\"edge10\" class=\"edge\">\n",
       "<title>9--10</title>\n",
       "<path fill=\"none\" stroke=\"black\" d=\"M285.86,-504.05C278.63,-493.05 269.24,-478.76 262.03,-467.79\"/>\n",
       "</g>\n",
       "<!-- 12 -->\n",
       "<g id=\"node13\" class=\"node\">\n",
       "<title>12</title>\n",
       "<text text-anchor=\"start\" x=\"396.5\" y=\"-517.95\" font-family=\"Courier,monospace\" font-weight=\"bold\" font-size=\"14.00\" fill=\"#004080\">Name</text>\n",
       "</g>\n",
       "<!-- 11&#45;&#45;12 -->\n",
       "<g id=\"edge12\" class=\"edge\">\n",
       "<title>11--12</title>\n",
       "<path fill=\"none\" stroke=\"black\" d=\"M491,-575C491,-575 460.91,-554.94 438.11,-539.74\"/>\n",
       "</g>\n",
       "<!-- 15 -->\n",
       "<g id=\"node16\" class=\"node\">\n",
       "<title>15</title>\n",
       "<text text-anchor=\"start\" x=\"466\" y=\"-517.95\" font-family=\"Courier,monospace\" font-weight=\"bold\" font-size=\"14.00\" fill=\"#004080\">Constant</text>\n",
       "</g>\n",
       "<!-- 11&#45;&#45;15 -->\n",
       "<g id=\"edge15\" class=\"edge\">\n",
       "<title>11--15</title>\n",
       "<path fill=\"none\" stroke=\"black\" d=\"M491,-575C491,-575 494.09,-554.94 496.42,-539.74\"/>\n",
       "</g>\n",
       "<!-- 13 -->\n",
       "<g id=\"node14\" class=\"node\">\n",
       "<title>13</title>\n",
       "<text text-anchor=\"middle\" x=\"335\" y=\"-444.95\" font-family=\"Courier,monospace\" font-size=\"14.00\" fill=\"#008040\">&quot;quote&quot;</text>\n",
       "</g>\n",
       "<!-- 12&#45;&#45;13 -->\n",
       "<g id=\"edge13\" class=\"edge\">\n",
       "<title>12--13</title>\n",
       "<path fill=\"none\" stroke=\"black\" d=\"M406,-503C406,-503 378.61,-482.94 357.86,-467.74\"/>\n",
       "</g>\n",
       "<!-- 14 -->\n",
       "<g id=\"node15\" class=\"node\">\n",
       "<title>14</title>\n",
       "<text text-anchor=\"middle\" x=\"419\" y=\"-444.95\" font-family=\"Courier,monospace\" font-size=\"14.00\" fill=\"#008040\">Store</text>\n",
       "</g>\n",
       "<!-- 12&#45;&#45;14 -->\n",
       "<g id=\"edge14\" class=\"edge\">\n",
       "<title>12--14</title>\n",
       "<path fill=\"none\" stroke=\"black\" d=\"M406,-503C406,-503 411.01,-482.94 414.82,-467.74\"/>\n",
       "</g>\n",
       "<!-- 16 -->\n",
       "<g id=\"node17\" class=\"node\">\n",
       "<title>16</title>\n",
       "<text text-anchor=\"middle\" x=\"494\" y=\"-444.95\" font-family=\"Courier,monospace\" font-size=\"14.00\" fill=\"#008040\">False</text>\n",
       "</g>\n",
       "<!-- 15&#45;&#45;16 -->\n",
       "<g id=\"edge16\" class=\"edge\">\n",
       "<title>15--16</title>\n",
       "<path fill=\"none\" stroke=\"black\" d=\"M497.79,-504.05C497,-493.05 495.98,-478.76 495.2,-467.79\"/>\n",
       "</g>\n",
       "<!-- 18 -->\n",
       "<g id=\"node19\" class=\"node\">\n",
       "<title>18</title>\n",
       "<text text-anchor=\"start\" x=\"579.5\" y=\"-517.95\" font-family=\"Courier,monospace\" font-weight=\"bold\" font-size=\"14.00\" fill=\"#004080\">Name</text>\n",
       "</g>\n",
       "<!-- 17&#45;&#45;18 -->\n",
       "<g id=\"edge18\" class=\"edge\">\n",
       "<title>17--18</title>\n",
       "<path fill=\"none\" stroke=\"black\" d=\"M606,-575C606,-575 602.14,-554.94 599.22,-539.74\"/>\n",
       "</g>\n",
       "<!-- 21 -->\n",
       "<g id=\"node22\" class=\"node\">\n",
       "<title>21</title>\n",
       "<text text-anchor=\"start\" x=\"675\" y=\"-517.95\" font-family=\"Courier,monospace\" font-weight=\"bold\" font-size=\"14.00\" fill=\"#004080\">Constant</text>\n",
       "</g>\n",
       "<!-- 17&#45;&#45;21 -->\n",
       "<g id=\"edge21\" class=\"edge\">\n",
       "<title>17--21</title>\n",
       "<path fill=\"none\" stroke=\"black\" d=\"M606,-575C606,-575 645.1,-555.07 674.88,-539.88\"/>\n",
       "</g>\n",
       "<!-- 19 -->\n",
       "<g id=\"node20\" class=\"node\">\n",
       "<title>19</title>\n",
       "<text text-anchor=\"middle\" x=\"569\" y=\"-444.95\" font-family=\"Courier,monospace\" font-size=\"14.00\" fill=\"#008040\">&quot;out&quot;</text>\n",
       "</g>\n",
       "<!-- 18&#45;&#45;19 -->\n",
       "<g id=\"edge19\" class=\"edge\">\n",
       "<title>18--19</title>\n",
       "<path fill=\"none\" stroke=\"black\" d=\"M598,-503C598,-503 586.81,-482.94 578.34,-467.74\"/>\n",
       "</g>\n",
       "<!-- 20 -->\n",
       "<g id=\"node21\" class=\"node\">\n",
       "<title>20</title>\n",
       "<text text-anchor=\"middle\" x=\"644\" y=\"-444.95\" font-family=\"Courier,monospace\" font-size=\"14.00\" fill=\"#008040\">Store</text>\n",
       "</g>\n",
       "<!-- 18&#45;&#45;20 -->\n",
       "<g id=\"edge20\" class=\"edge\">\n",
       "<title>18--20</title>\n",
       "<path fill=\"none\" stroke=\"black\" d=\"M598,-503C598,-503 615.74,-482.94 629.19,-467.74\"/>\n",
       "</g>\n",
       "<!-- 22 -->\n",
       "<g id=\"node23\" class=\"node\">\n",
       "<title>22</title>\n",
       "<text text-anchor=\"middle\" x=\"718\" y=\"-444.95\" font-family=\"Courier,monospace\" font-size=\"14.00\" fill=\"#008040\">&quot;&quot;</text>\n",
       "</g>\n",
       "<!-- 21&#45;&#45;22 -->\n",
       "<g id=\"edge22\" class=\"edge\">\n",
       "<title>21--22</title>\n",
       "<path fill=\"none\" stroke=\"black\" d=\"M710.42,-504.05C711.99,-493.05 714.03,-478.76 715.6,-467.79\"/>\n",
       "</g>\n",
       "<!-- 24 -->\n",
       "<g id=\"node25\" class=\"node\">\n",
       "<title>24</title>\n",
       "<text text-anchor=\"start\" x=\"847.5\" y=\"-517.95\" font-family=\"Courier,monospace\" font-weight=\"bold\" font-size=\"14.00\" fill=\"#004080\">Name</text>\n",
       "</g>\n",
       "<!-- 23&#45;&#45;24 -->\n",
       "<g id=\"edge24\" class=\"edge\">\n",
       "<title>23--24</title>\n",
       "<path fill=\"none\" stroke=\"black\" d=\"M909,-575C909,-575 891.64,-554.94 878.49,-539.74\"/>\n",
       "</g>\n",
       "<!-- 27 -->\n",
       "<g id=\"node28\" class=\"node\">\n",
       "<title>27</title>\n",
       "<text text-anchor=\"start\" x=\"921.5\" y=\"-517.95\" font-family=\"Courier,monospace\" font-weight=\"bold\" font-size=\"14.00\" fill=\"#004080\">Name</text>\n",
       "</g>\n",
       "<!-- 23&#45;&#45;27 -->\n",
       "<g id=\"edge27\" class=\"edge\">\n",
       "<title>23--27</title>\n",
       "<path fill=\"none\" stroke=\"black\" d=\"M909,-575C909,-575 920.19,-554.94 928.66,-539.74\"/>\n",
       "</g>\n",
       "<!-- 30 -->\n",
       "<g id=\"node31\" class=\"node\">\n",
       "<title>30</title>\n",
       "<text text-anchor=\"start\" x=\"1121.75\" y=\"-517.95\" font-family=\"Courier,monospace\" font-weight=\"bold\" font-size=\"14.00\" fill=\"#004080\">If</text>\n",
       "</g>\n",
       "<!-- 23&#45;&#45;30 -->\n",
       "<g id=\"edge30\" class=\"edge\">\n",
       "<title>23--30</title>\n",
       "<path fill=\"none\" stroke=\"black\" d=\"M909,-575C909,-575 1044.56,-543.1 1103.34,-529.27\"/>\n",
       "</g>\n",
       "<!-- 25 -->\n",
       "<g id=\"node26\" class=\"node\">\n",
       "<title>25</title>\n",
       "<text text-anchor=\"middle\" x=\"790\" y=\"-444.95\" font-family=\"Courier,monospace\" font-size=\"14.00\" fill=\"#008040\">&quot;c&quot;</text>\n",
       "</g>\n",
       "<!-- 24&#45;&#45;25 -->\n",
       "<g id=\"edge25\" class=\"edge\">\n",
       "<title>24--25</title>\n",
       "<path fill=\"none\" stroke=\"black\" d=\"M856,-503C856,-503 830.54,-482.94 811.25,-467.74\"/>\n",
       "</g>\n",
       "<!-- 26 -->\n",
       "<g id=\"node27\" class=\"node\">\n",
       "<title>26</title>\n",
       "<text text-anchor=\"middle\" x=\"864\" y=\"-444.95\" font-family=\"Courier,monospace\" font-size=\"14.00\" fill=\"#008040\">Store</text>\n",
       "</g>\n",
       "<!-- 24&#45;&#45;26 -->\n",
       "<g id=\"edge26\" class=\"edge\">\n",
       "<title>24--26</title>\n",
       "<path fill=\"none\" stroke=\"black\" d=\"M856,-503C856,-503 859.09,-482.94 861.42,-467.74\"/>\n",
       "</g>\n",
       "<!-- 28 -->\n",
       "<g id=\"node29\" class=\"node\">\n",
       "<title>28</title>\n",
       "<text text-anchor=\"middle\" x=\"938\" y=\"-444.95\" font-family=\"Courier,monospace\" font-size=\"14.00\" fill=\"#008040\">&quot;s&quot;</text>\n",
       "</g>\n",
       "<!-- 27&#45;&#45;28 -->\n",
       "<g id=\"edge28\" class=\"edge\">\n",
       "<title>27--28</title>\n",
       "<path fill=\"none\" stroke=\"black\" d=\"M945,-503C945,-503 942.3,-482.94 940.25,-467.74\"/>\n",
       "</g>\n",
       "<!-- 29 -->\n",
       "<g id=\"node30\" class=\"node\">\n",
       "<title>29</title>\n",
       "<text text-anchor=\"middle\" x=\"1010\" y=\"-444.95\" font-family=\"Courier,monospace\" font-size=\"14.00\" fill=\"#008040\">Load</text>\n",
       "</g>\n",
       "<!-- 27&#45;&#45;29 -->\n",
       "<g id=\"edge29\" class=\"edge\">\n",
       "<title>27--29</title>\n",
       "<path fill=\"none\" stroke=\"black\" d=\"M945,-503C945,-503 970.07,-482.94 989.08,-467.74\"/>\n",
       "</g>\n",
       "<!-- 31 -->\n",
       "<g id=\"node32\" class=\"node\">\n",
       "<title>31</title>\n",
       "<text text-anchor=\"start\" x=\"1063.25\" y=\"-445.95\" font-family=\"Courier,monospace\" font-weight=\"bold\" font-size=\"14.00\" fill=\"#004080\">BoolOp</text>\n",
       "</g>\n",
       "<!-- 30&#45;&#45;31 -->\n",
       "<g id=\"edge31\" class=\"edge\">\n",
       "<title>30--31</title>\n",
       "<path fill=\"none\" stroke=\"black\" d=\"M1139,-503C1139,-503 1119.33,-482.94 1104.42,-467.74\"/>\n",
       "</g>\n",
       "<!-- 45 -->\n",
       "<g id=\"node46\" class=\"node\">\n",
       "<title>45</title>\n",
       "<text text-anchor=\"start\" x=\"1147.25\" y=\"-445.95\" font-family=\"Courier,monospace\" font-weight=\"bold\" font-size=\"14.00\" fill=\"#004080\">Assign</text>\n",
       "</g>\n",
       "<!-- 30&#45;&#45;45 -->\n",
       "<g id=\"edge45\" class=\"edge\">\n",
       "<title>30--45</title>\n",
       "<path fill=\"none\" stroke=\"black\" d=\"M1139,-503C1139,-503 1151.73,-482.94 1161.38,-467.74\"/>\n",
       "</g>\n",
       "<!-- 51 -->\n",
       "<g id=\"node52\" class=\"node\">\n",
       "<title>51</title>\n",
       "<text text-anchor=\"start\" x=\"1447.75\" y=\"-445.95\" font-family=\"Courier,monospace\" font-weight=\"bold\" font-size=\"14.00\" fill=\"#004080\">If</text>\n",
       "</g>\n",
       "<!-- 30&#45;&#45;51 -->\n",
       "<g id=\"edge51\" class=\"edge\">\n",
       "<title>30--51</title>\n",
       "<path fill=\"none\" stroke=\"black\" d=\"M1139,-503C1139,-503 1352.82,-467.93 1429.25,-455.39\"/>\n",
       "</g>\n",
       "<!-- 32 -->\n",
       "<g id=\"node33\" class=\"node\">\n",
       "<title>32</title>\n",
       "<text text-anchor=\"middle\" x=\"752\" y=\"-372.95\" font-family=\"Courier,monospace\" font-size=\"14.00\" fill=\"#008040\">And</text>\n",
       "</g>\n",
       "<!-- 31&#45;&#45;32 -->\n",
       "<g id=\"edge32\" class=\"edge\">\n",
       "<title>31--32</title>\n",
       "<path fill=\"none\" stroke=\"black\" d=\"M1055,-436C1055,-436 1050.21,-433.2 1046,-432 934.68,-400.18 898.95,-429.1 788,-396 784.95,-395.09 781.84,-393.96 778.78,-392.72\"/>\n",
       "</g>\n",
       "<!-- 33 -->\n",
       "<g id=\"node34\" class=\"node\">\n",
       "<title>33</title>\n",
       "<text text-anchor=\"start\" x=\"805.12\" y=\"-373.95\" font-family=\"Courier,monospace\" font-weight=\"bold\" font-size=\"14.00\" fill=\"#004080\">Compare</text>\n",
       "</g>\n",
       "<!-- 31&#45;&#45;33 -->\n",
       "<g id=\"edge33\" class=\"edge\">\n",
       "<title>31--33</title>\n",
       "<path fill=\"none\" stroke=\"black\" d=\"M1055,-436C1055,-436 1050.14,-433.43 1046,-432 985.74,-411.25 913.27,-394.91 870.57,-386.13\"/>\n",
       "</g>\n",
       "<!-- 40 -->\n",
       "<g id=\"node41\" class=\"node\">\n",
       "<title>40</title>\n",
       "<text text-anchor=\"start\" x=\"963.12\" y=\"-373.95\" font-family=\"Courier,monospace\" font-weight=\"bold\" font-size=\"14.00\" fill=\"#004080\">UnaryOp</text>\n",
       "</g>\n",
       "<!-- 31&#45;&#45;40 -->\n",
       "<g id=\"edge40\" class=\"edge\">\n",
       "<title>31--40</title>\n",
       "<path fill=\"none\" stroke=\"black\" d=\"M1055,-436C1055,-436 1029.14,-412.61 1010.56,-395.79\"/>\n",
       "</g>\n",
       "<!-- 34 -->\n",
       "<g id=\"node35\" class=\"node\">\n",
       "<title>34</title>\n",
       "<text text-anchor=\"start\" x=\"659.5\" y=\"-301.95\" font-family=\"Courier,monospace\" font-weight=\"bold\" font-size=\"14.00\" fill=\"#004080\">Name</text>\n",
       "</g>\n",
       "<!-- 33&#45;&#45;34 -->\n",
       "<g id=\"edge34\" class=\"edge\">\n",
       "<title>33--34</title>\n",
       "<path fill=\"none\" stroke=\"black\" d=\"M819,-359C819,-359 758.49,-342.5 712,-324 709.05,-322.82 705.99,-321.52 702.97,-320.18\"/>\n",
       "</g>\n",
       "<!-- 37 -->\n",
       "<g id=\"node38\" class=\"node\">\n",
       "<title>37</title>\n",
       "<text text-anchor=\"middle\" x=\"748\" y=\"-300.95\" font-family=\"Courier,monospace\" font-size=\"14.00\" fill=\"#008040\">Eq</text>\n",
       "</g>\n",
       "<!-- 33&#45;&#45;37 -->\n",
       "<g id=\"edge37\" class=\"edge\">\n",
       "<title>33--37</title>\n",
       "<path fill=\"none\" stroke=\"black\" d=\"M819,-359C819,-359 791.61,-338.94 770.86,-323.74\"/>\n",
       "</g>\n",
       "<!-- 38 -->\n",
       "<g id=\"node39\" class=\"node\">\n",
       "<title>38</title>\n",
       "<text text-anchor=\"start\" x=\"801\" y=\"-301.95\" font-family=\"Courier,monospace\" font-weight=\"bold\" font-size=\"14.00\" fill=\"#004080\">Constant</text>\n",
       "</g>\n",
       "<!-- 33&#45;&#45;38 -->\n",
       "<g id=\"edge38\" class=\"edge\">\n",
       "<title>33--38</title>\n",
       "<path fill=\"none\" stroke=\"black\" d=\"M819,-359C819,-359 824.79,-338.94 829.17,-323.74\"/>\n",
       "</g>\n",
       "<!-- 35 -->\n",
       "<g id=\"node36\" class=\"node\">\n",
       "<title>35</title>\n",
       "<text text-anchor=\"middle\" x=\"640\" y=\"-228.95\" font-family=\"Courier,monospace\" font-size=\"14.00\" fill=\"#008040\">&quot;c&quot;</text>\n",
       "</g>\n",
       "<!-- 34&#45;&#45;35 -->\n",
       "<g id=\"edge35\" class=\"edge\">\n",
       "<title>34--35</title>\n",
       "<path fill=\"none\" stroke=\"black\" d=\"M676,-287C676,-287 662.11,-266.94 651.59,-251.74\"/>\n",
       "</g>\n",
       "<!-- 36 -->\n",
       "<g id=\"node37\" class=\"node\">\n",
       "<title>36</title>\n",
       "<text text-anchor=\"middle\" x=\"712\" y=\"-228.95\" font-family=\"Courier,monospace\" font-size=\"14.00\" fill=\"#008040\">Load</text>\n",
       "</g>\n",
       "<!-- 34&#45;&#45;36 -->\n",
       "<g id=\"edge36\" class=\"edge\">\n",
       "<title>34--36</title>\n",
       "<path fill=\"none\" stroke=\"black\" d=\"M676,-287C676,-287 689.89,-266.94 700.41,-251.74\"/>\n",
       "</g>\n",
       "<!-- 39 -->\n",
       "<g id=\"node40\" class=\"node\">\n",
       "<title>39</title>\n",
       "<text text-anchor=\"middle\" x=\"834\" y=\"-228.95\" font-family=\"Courier,monospace\" font-size=\"14.00\" fill=\"#008040\">&quot;&lt;&quot;</text>\n",
       "</g>\n",
       "<!-- 38&#45;&#45;39 -->\n",
       "<g id=\"edge39\" class=\"edge\">\n",
       "<title>38--39</title>\n",
       "<path fill=\"none\" stroke=\"black\" d=\"M834,-288.05C834,-277.05 834,-262.76 834,-251.79\"/>\n",
       "</g>\n",
       "<!-- 41 -->\n",
       "<g id=\"node42\" class=\"node\">\n",
       "<title>41</title>\n",
       "<text text-anchor=\"middle\" x=\"920\" y=\"-300.95\" font-family=\"Courier,monospace\" font-size=\"14.00\" fill=\"#008040\">Not</text>\n",
       "</g>\n",
       "<!-- 40&#45;&#45;41 -->\n",
       "<g id=\"edge41\" class=\"edge\">\n",
       "<title>40--41</title>\n",
       "<path fill=\"none\" stroke=\"black\" d=\"M985,-359C985,-359 959.93,-338.94 940.92,-323.74\"/>\n",
       "</g>\n",
       "<!-- 42 -->\n",
       "<g id=\"node43\" class=\"node\">\n",
       "<title>42</title>\n",
       "<text text-anchor=\"start\" x=\"975.5\" y=\"-301.95\" font-family=\"Courier,monospace\" font-weight=\"bold\" font-size=\"14.00\" fill=\"#004080\">Name</text>\n",
       "</g>\n",
       "<!-- 40&#45;&#45;42 -->\n",
       "<g id=\"edge42\" class=\"edge\">\n",
       "<title>40--42</title>\n",
       "<path fill=\"none\" stroke=\"black\" d=\"M985,-359C985,-359 987.7,-338.94 989.75,-323.74\"/>\n",
       "</g>\n",
       "<!-- 43 -->\n",
       "<g id=\"node44\" class=\"node\">\n",
       "<title>43</title>\n",
       "<text text-anchor=\"middle\" x=\"954\" y=\"-228.95\" font-family=\"Courier,monospace\" font-size=\"14.00\" fill=\"#008040\">&quot;quote&quot;</text>\n",
       "</g>\n",
       "<!-- 42&#45;&#45;43 -->\n",
       "<g id=\"edge43\" class=\"edge\">\n",
       "<title>42--43</title>\n",
       "<path fill=\"none\" stroke=\"black\" d=\"M993,-287C993,-287 977.96,-266.94 966.55,-251.74\"/>\n",
       "</g>\n",
       "<!-- 44 -->\n",
       "<g id=\"node45\" class=\"node\">\n",
       "<title>44</title>\n",
       "<text text-anchor=\"middle\" x=\"1036\" y=\"-228.95\" font-family=\"Courier,monospace\" font-size=\"14.00\" fill=\"#008040\">Load</text>\n",
       "</g>\n",
       "<!-- 42&#45;&#45;44 -->\n",
       "<g id=\"edge44\" class=\"edge\">\n",
       "<title>42--44</title>\n",
       "<path fill=\"none\" stroke=\"black\" d=\"M993,-287C993,-287 1009.59,-266.94 1022.16,-251.74\"/>\n",
       "</g>\n",
       "<!-- 46 -->\n",
       "<g id=\"node47\" class=\"node\">\n",
       "<title>46</title>\n",
       "<text text-anchor=\"start\" x=\"1112.5\" y=\"-373.95\" font-family=\"Courier,monospace\" font-weight=\"bold\" font-size=\"14.00\" fill=\"#004080\">Name</text>\n",
       "</g>\n",
       "<!-- 45&#45;&#45;46 -->\n",
       "<g id=\"edge46\" class=\"edge\">\n",
       "<title>45--46</title>\n",
       "<path fill=\"none\" stroke=\"black\" d=\"M1172,-431C1172,-431 1155.41,-410.94 1142.84,-395.74\"/>\n",
       "</g>\n",
       "<!-- 49 -->\n",
       "<g id=\"node50\" class=\"node\">\n",
       "<title>49</title>\n",
       "<text text-anchor=\"start\" x=\"1182\" y=\"-373.95\" font-family=\"Courier,monospace\" font-weight=\"bold\" font-size=\"14.00\" fill=\"#004080\">Constant</text>\n",
       "</g>\n",
       "<!-- 45&#45;&#45;49 -->\n",
       "<g id=\"edge49\" class=\"edge\">\n",
       "<title>45--49</title>\n",
       "<path fill=\"none\" stroke=\"black\" d=\"M1172,-431C1172,-431 1188.59,-410.94 1201.16,-395.74\"/>\n",
       "</g>\n",
       "<!-- 47 -->\n",
       "<g id=\"node48\" class=\"node\">\n",
       "<title>47</title>\n",
       "<text text-anchor=\"middle\" x=\"1066\" y=\"-300.95\" font-family=\"Courier,monospace\" font-size=\"14.00\" fill=\"#008040\">&quot;tag&quot;</text>\n",
       "</g>\n",
       "<!-- 46&#45;&#45;47 -->\n",
       "<g id=\"edge47\" class=\"edge\">\n",
       "<title>46--47</title>\n",
       "<path fill=\"none\" stroke=\"black\" d=\"M1124,-359C1124,-359 1101.63,-338.94 1084.67,-323.74\"/>\n",
       "</g>\n",
       "<!-- 48 -->\n",
       "<g id=\"node49\" class=\"node\">\n",
       "<title>48</title>\n",
       "<text text-anchor=\"middle\" x=\"1141\" y=\"-300.95\" font-family=\"Courier,monospace\" font-size=\"14.00\" fill=\"#008040\">Store</text>\n",
       "</g>\n",
       "<!-- 46&#45;&#45;48 -->\n",
       "<g id=\"edge48\" class=\"edge\">\n",
       "<title>46--48</title>\n",
       "<path fill=\"none\" stroke=\"black\" d=\"M1124,-359C1124,-359 1130.56,-338.94 1135.53,-323.74\"/>\n",
       "</g>\n",
       "<!-- 50 -->\n",
       "<g id=\"node51\" class=\"node\">\n",
       "<title>50</title>\n",
       "<text text-anchor=\"middle\" x=\"1215\" y=\"-300.95\" font-family=\"Courier,monospace\" font-size=\"14.00\" fill=\"#008040\">True</text>\n",
       "</g>\n",
       "<!-- 49&#45;&#45;50 -->\n",
       "<g id=\"edge50\" class=\"edge\">\n",
       "<title>49--50</title>\n",
       "<path fill=\"none\" stroke=\"black\" d=\"M1215,-360.05C1215,-349.05 1215,-334.76 1215,-323.79\"/>\n",
       "</g>\n",
       "<!-- 52 -->\n",
       "<g id=\"node53\" class=\"node\">\n",
       "<title>52</title>\n",
       "<text text-anchor=\"start\" x=\"1390.25\" y=\"-373.95\" font-family=\"Courier,monospace\" font-weight=\"bold\" font-size=\"14.00\" fill=\"#004080\">BoolOp</text>\n",
       "</g>\n",
       "<!-- 51&#45;&#45;52 -->\n",
       "<g id=\"edge52\" class=\"edge\">\n",
       "<title>51--52</title>\n",
       "<path fill=\"none\" stroke=\"black\" d=\"M1471,-431C1471,-431 1449.4,-410.94 1433.03,-395.74\"/>\n",
       "</g>\n",
       "<!-- 66 -->\n",
       "<g id=\"node67\" class=\"node\">\n",
       "<title>66</title>\n",
       "<text text-anchor=\"start\" x=\"1532.25\" y=\"-373.95\" font-family=\"Courier,monospace\" font-weight=\"bold\" font-size=\"14.00\" fill=\"#004080\">Assign</text>\n",
       "</g>\n",
       "<!-- 51&#45;&#45;66 -->\n",
       "<g id=\"edge66\" class=\"edge\">\n",
       "<title>51--66</title>\n",
       "<path fill=\"none\" stroke=\"black\" d=\"M1471,-431C1471,-431 1504.18,-410.94 1529.32,-395.74\"/>\n",
       "</g>\n",
       "<!-- 72 -->\n",
       "<g id=\"node73\" class=\"node\">\n",
       "<title>72</title>\n",
       "<text text-anchor=\"start\" x=\"1938.75\" y=\"-373.95\" font-family=\"Courier,monospace\" font-weight=\"bold\" font-size=\"14.00\" fill=\"#004080\">If</text>\n",
       "</g>\n",
       "<!-- 51&#45;&#45;72 -->\n",
       "<g id=\"edge72\" class=\"edge\">\n",
       "<title>51--72</title>\n",
       "<path fill=\"none\" stroke=\"black\" d=\"M1471,-431C1471,-431 1819.35,-392.95 1920.04,-381.94\"/>\n",
       "</g>\n",
       "<!-- 53 -->\n",
       "<g id=\"node54\" class=\"node\">\n",
       "<title>53</title>\n",
       "<text text-anchor=\"middle\" x=\"1287\" y=\"-300.95\" font-family=\"Courier,monospace\" font-size=\"14.00\" fill=\"#008040\">And</text>\n",
       "</g>\n",
       "<!-- 52&#45;&#45;53 -->\n",
       "<g id=\"edge53\" class=\"edge\">\n",
       "<title>52--53</title>\n",
       "<path fill=\"none\" stroke=\"black\" d=\"M1408,-359C1408,-359 1360.37,-340.51 1323,-324 1319.97,-322.66 1316.8,-321.22 1313.67,-319.78\"/>\n",
       "</g>\n",
       "<!-- 54 -->\n",
       "<g id=\"node55\" class=\"node\">\n",
       "<title>54</title>\n",
       "<text text-anchor=\"start\" x=\"1340.12\" y=\"-301.95\" font-family=\"Courier,monospace\" font-weight=\"bold\" font-size=\"14.00\" fill=\"#004080\">Compare</text>\n",
       "</g>\n",
       "<!-- 52&#45;&#45;54 -->\n",
       "<g id=\"edge54\" class=\"edge\">\n",
       "<title>52--54</title>\n",
       "<path fill=\"none\" stroke=\"black\" d=\"M1408,-359C1408,-359 1392.96,-338.94 1381.55,-323.74\"/>\n",
       "</g>\n",
       "<!-- 61 -->\n",
       "<g id=\"node62\" class=\"node\">\n",
       "<title>61</title>\n",
       "<text text-anchor=\"start\" x=\"1432.12\" y=\"-301.95\" font-family=\"Courier,monospace\" font-weight=\"bold\" font-size=\"14.00\" fill=\"#004080\">UnaryOp</text>\n",
       "</g>\n",
       "<!-- 52&#45;&#45;61 -->\n",
       "<g id=\"edge61\" class=\"edge\">\n",
       "<title>52--61</title>\n",
       "<path fill=\"none\" stroke=\"black\" d=\"M1408,-359C1408,-359 1428.45,-338.94 1443.94,-323.74\"/>\n",
       "</g>\n",
       "<!-- 55 -->\n",
       "<g id=\"node56\" class=\"node\">\n",
       "<title>55</title>\n",
       "<text text-anchor=\"start\" x=\"1128.5\" y=\"-229.95\" font-family=\"Courier,monospace\" font-weight=\"bold\" font-size=\"14.00\" fill=\"#004080\">Name</text>\n",
       "</g>\n",
       "<!-- 54&#45;&#45;55 -->\n",
       "<g id=\"edge55\" class=\"edge\">\n",
       "<title>54--55</title>\n",
       "<path fill=\"none\" stroke=\"black\" d=\"M1338,-287C1338,-287 1248.63,-275.18 1181,-252 1177.99,-250.97 1174.9,-249.76 1171.86,-248.47\"/>\n",
       "</g>\n",
       "<!-- 58 -->\n",
       "<g id=\"node59\" class=\"node\">\n",
       "<title>58</title>\n",
       "<text text-anchor=\"middle\" x=\"1217\" y=\"-228.95\" font-family=\"Courier,monospace\" font-size=\"14.00\" fill=\"#008040\">Eq</text>\n",
       "</g>\n",
       "<!-- 54&#45;&#45;58 -->\n",
       "<g id=\"edge58\" class=\"edge\">\n",
       "<title>54--58</title>\n",
       "<path fill=\"none\" stroke=\"black\" d=\"M1338,-287C1338,-287 1290.37,-268.51 1253,-252 1249.97,-250.66 1246.8,-249.22 1243.67,-247.78\"/>\n",
       "</g>\n",
       "<!-- 59 -->\n",
       "<g id=\"node60\" class=\"node\">\n",
       "<title>59</title>\n",
       "<text text-anchor=\"start\" x=\"1270\" y=\"-229.95\" font-family=\"Courier,monospace\" font-weight=\"bold\" font-size=\"14.00\" fill=\"#004080\">Constant</text>\n",
       "</g>\n",
       "<!-- 54&#45;&#45;59 -->\n",
       "<g id=\"edge59\" class=\"edge\">\n",
       "<title>54--59</title>\n",
       "<path fill=\"none\" stroke=\"black\" d=\"M1338,-287C1338,-287 1324.5,-266.94 1314.27,-251.74\"/>\n",
       "</g>\n",
       "<!-- 56 -->\n",
       "<g id=\"node57\" class=\"node\">\n",
       "<title>56</title>\n",
       "<text text-anchor=\"middle\" x=\"1109\" y=\"-156.95\" font-family=\"Courier,monospace\" font-size=\"14.00\" fill=\"#008040\">&quot;c&quot;</text>\n",
       "</g>\n",
       "<!-- 55&#45;&#45;56 -->\n",
       "<g id=\"edge56\" class=\"edge\">\n",
       "<title>55--56</title>\n",
       "<path fill=\"none\" stroke=\"black\" d=\"M1145,-215C1145,-215 1131.11,-194.94 1120.59,-179.74\"/>\n",
       "</g>\n",
       "<!-- 57 -->\n",
       "<g id=\"node58\" class=\"node\">\n",
       "<title>57</title>\n",
       "<text text-anchor=\"middle\" x=\"1181\" y=\"-156.95\" font-family=\"Courier,monospace\" font-size=\"14.00\" fill=\"#008040\">Load</text>\n",
       "</g>\n",
       "<!-- 55&#45;&#45;57 -->\n",
       "<g id=\"edge57\" class=\"edge\">\n",
       "<title>55--57</title>\n",
       "<path fill=\"none\" stroke=\"black\" d=\"M1145,-215C1145,-215 1158.89,-194.94 1169.41,-179.74\"/>\n",
       "</g>\n",
       "<!-- 60 -->\n",
       "<g id=\"node61\" class=\"node\">\n",
       "<title>60</title>\n",
       "<text text-anchor=\"middle\" x=\"1303\" y=\"-156.95\" font-family=\"Courier,monospace\" font-size=\"14.00\" fill=\"#008040\">&quot;&gt;&quot;</text>\n",
       "</g>\n",
       "<!-- 59&#45;&#45;60 -->\n",
       "<g id=\"edge60\" class=\"edge\">\n",
       "<title>59--60</title>\n",
       "<path fill=\"none\" stroke=\"black\" d=\"M1303,-216.05C1303,-205.05 1303,-190.76 1303,-179.79\"/>\n",
       "</g>\n",
       "<!-- 62 -->\n",
       "<g id=\"node63\" class=\"node\">\n",
       "<title>62</title>\n",
       "<text text-anchor=\"middle\" x=\"1389\" y=\"-228.95\" font-family=\"Courier,monospace\" font-size=\"14.00\" fill=\"#008040\">Not</text>\n",
       "</g>\n",
       "<!-- 61&#45;&#45;62 -->\n",
       "<g id=\"edge62\" class=\"edge\">\n",
       "<title>61--62</title>\n",
       "<path fill=\"none\" stroke=\"black\" d=\"M1454,-287C1454,-287 1428.93,-266.94 1409.92,-251.74\"/>\n",
       "</g>\n",
       "<!-- 63 -->\n",
       "<g id=\"node64\" class=\"node\">\n",
       "<title>63</title>\n",
       "<text text-anchor=\"start\" x=\"1444.5\" y=\"-229.95\" font-family=\"Courier,monospace\" font-weight=\"bold\" font-size=\"14.00\" fill=\"#004080\">Name</text>\n",
       "</g>\n",
       "<!-- 61&#45;&#45;63 -->\n",
       "<g id=\"edge63\" class=\"edge\">\n",
       "<title>61--63</title>\n",
       "<path fill=\"none\" stroke=\"black\" d=\"M1454,-287C1454,-287 1456.7,-266.94 1458.75,-251.74\"/>\n",
       "</g>\n",
       "<!-- 64 -->\n",
       "<g id=\"node65\" class=\"node\">\n",
       "<title>64</title>\n",
       "<text text-anchor=\"middle\" x=\"1417\" y=\"-156.95\" font-family=\"Courier,monospace\" font-size=\"14.00\" fill=\"#008040\">&quot;quote&quot;</text>\n",
       "</g>\n",
       "<!-- 63&#45;&#45;64 -->\n",
       "<g id=\"edge64\" class=\"edge\">\n",
       "<title>63--64</title>\n",
       "<path fill=\"none\" stroke=\"black\" d=\"M1460,-215C1460,-215 1443.41,-194.94 1430.84,-179.74\"/>\n",
       "</g>\n",
       "<!-- 65 -->\n",
       "<g id=\"node66\" class=\"node\">\n",
       "<title>65</title>\n",
       "<text text-anchor=\"middle\" x=\"1499\" y=\"-156.95\" font-family=\"Courier,monospace\" font-size=\"14.00\" fill=\"#008040\">Load</text>\n",
       "</g>\n",
       "<!-- 63&#45;&#45;65 -->\n",
       "<g id=\"edge65\" class=\"edge\">\n",
       "<title>63--65</title>\n",
       "<path fill=\"none\" stroke=\"black\" d=\"M1460,-215C1460,-215 1475.04,-194.94 1486.45,-179.74\"/>\n",
       "</g>\n",
       "<!-- 67 -->\n",
       "<g id=\"node68\" class=\"node\">\n",
       "<title>67</title>\n",
       "<text text-anchor=\"start\" x=\"1540.5\" y=\"-301.95\" font-family=\"Courier,monospace\" font-weight=\"bold\" font-size=\"14.00\" fill=\"#004080\">Name</text>\n",
       "</g>\n",
       "<!-- 66&#45;&#45;67 -->\n",
       "<g id=\"edge67\" class=\"edge\">\n",
       "<title>66--67</title>\n",
       "<path fill=\"none\" stroke=\"black\" d=\"M1567,-359C1567,-359 1563.14,-338.94 1560.22,-323.74\"/>\n",
       "</g>\n",
       "<!-- 70 -->\n",
       "<g id=\"node71\" class=\"node\">\n",
       "<title>70</title>\n",
       "<text text-anchor=\"start\" x=\"1638\" y=\"-301.95\" font-family=\"Courier,monospace\" font-weight=\"bold\" font-size=\"14.00\" fill=\"#004080\">Constant</text>\n",
       "</g>\n",
       "<!-- 66&#45;&#45;70 -->\n",
       "<g id=\"edge70\" class=\"edge\">\n",
       "<title>66--70</title>\n",
       "<path fill=\"none\" stroke=\"black\" d=\"M1567,-359C1567,-359 1606.87,-339.07 1637.23,-323.88\"/>\n",
       "</g>\n",
       "<!-- 68 -->\n",
       "<g id=\"node69\" class=\"node\">\n",
       "<title>68</title>\n",
       "<text text-anchor=\"middle\" x=\"1535\" y=\"-228.95\" font-family=\"Courier,monospace\" font-size=\"14.00\" fill=\"#008040\">&quot;tag&quot;</text>\n",
       "</g>\n",
       "<!-- 67&#45;&#45;68 -->\n",
       "<g id=\"edge68\" class=\"edge\">\n",
       "<title>67--68</title>\n",
       "<path fill=\"none\" stroke=\"black\" d=\"M1560,-287C1560,-287 1550.36,-266.94 1543.05,-251.74\"/>\n",
       "</g>\n",
       "<!-- 69 -->\n",
       "<g id=\"node70\" class=\"node\">\n",
       "<title>69</title>\n",
       "<text text-anchor=\"middle\" x=\"1610\" y=\"-228.95\" font-family=\"Courier,monospace\" font-size=\"14.00\" fill=\"#008040\">Store</text>\n",
       "</g>\n",
       "<!-- 67&#45;&#45;69 -->\n",
       "<g id=\"edge69\" class=\"edge\">\n",
       "<title>67--69</title>\n",
       "<path fill=\"none\" stroke=\"black\" d=\"M1560,-287C1560,-287 1579.29,-266.94 1593.9,-251.74\"/>\n",
       "</g>\n",
       "<!-- 71 -->\n",
       "<g id=\"node72\" class=\"node\">\n",
       "<title>71</title>\n",
       "<text text-anchor=\"middle\" x=\"1685\" y=\"-228.95\" font-family=\"Courier,monospace\" font-size=\"14.00\" fill=\"#008040\">False</text>\n",
       "</g>\n",
       "<!-- 70&#45;&#45;71 -->\n",
       "<g id=\"edge71\" class=\"edge\">\n",
       "<title>70--71</title>\n",
       "<path fill=\"none\" stroke=\"black\" d=\"M1674.39,-288.05C1676.59,-277.05 1679.45,-262.76 1681.64,-251.79\"/>\n",
       "</g>\n",
       "<!-- 73 -->\n",
       "<g id=\"node74\" class=\"node\">\n",
       "<title>73</title>\n",
       "<text text-anchor=\"start\" x=\"1854.25\" y=\"-301.95\" font-family=\"Courier,monospace\" font-weight=\"bold\" font-size=\"14.00\" fill=\"#004080\">BoolOp</text>\n",
       "</g>\n",
       "<!-- 72&#45;&#45;73 -->\n",
       "<g id=\"edge73\" class=\"edge\">\n",
       "<title>72--73</title>\n",
       "<path fill=\"none\" stroke=\"black\" d=\"M1958,-359C1958,-359 1927.53,-338.94 1904.43,-323.74\"/>\n",
       "</g>\n",
       "<!-- 94 -->\n",
       "<g id=\"node95\" class=\"node\">\n",
       "<title>94</title>\n",
       "<text text-anchor=\"start\" x=\"2014.25\" y=\"-301.95\" font-family=\"Courier,monospace\" font-weight=\"bold\" font-size=\"14.00\" fill=\"#004080\">Assign</text>\n",
       "</g>\n",
       "<!-- 72&#45;&#45;94 -->\n",
       "<g id=\"edge94\" class=\"edge\">\n",
       "<title>72--94</title>\n",
       "<path fill=\"none\" stroke=\"black\" d=\"M1958,-359C1958,-359 1989.25,-338.94 2012.93,-323.74\"/>\n",
       "</g>\n",
       "<!-- 103 -->\n",
       "<g id=\"node104\" class=\"node\">\n",
       "<title>103</title>\n",
       "<text text-anchor=\"start\" x=\"2108.75\" y=\"-301.95\" font-family=\"Courier,monospace\" font-weight=\"bold\" font-size=\"14.00\" fill=\"#004080\">If</text>\n",
       "</g>\n",
       "<!-- 72&#45;&#45;103 -->\n",
       "<g id=\"edge103\" class=\"edge\">\n",
       "<title>72--103</title>\n",
       "<path fill=\"none\" stroke=\"black\" d=\"M1958,-359C1958,-359 2027.79,-343.98 2081,-324 2083.98,-322.88 2087.05,-321.62 2090.08,-320.29\"/>\n",
       "</g>\n",
       "<!-- 74 -->\n",
       "<g id=\"node75\" class=\"node\">\n",
       "<title>74</title>\n",
       "<text text-anchor=\"middle\" x=\"1759\" y=\"-228.95\" font-family=\"Courier,monospace\" font-size=\"14.00\" fill=\"#008040\">Or</text>\n",
       "</g>\n",
       "<!-- 73&#45;&#45;74 -->\n",
       "<g id=\"edge74\" class=\"edge\">\n",
       "<title>73--74</title>\n",
       "<path fill=\"none\" stroke=\"black\" d=\"M1873,-287C1873,-287 1829.51,-267.89 1795,-252 1791.99,-250.61 1788.84,-249.15 1785.71,-247.68\"/>\n",
       "</g>\n",
       "<!-- 75 -->\n",
       "<g id=\"node76\" class=\"node\">\n",
       "<title>75</title>\n",
       "<text text-anchor=\"start\" x=\"1812.12\" y=\"-229.95\" font-family=\"Courier,monospace\" font-weight=\"bold\" font-size=\"14.00\" fill=\"#004080\">Compare</text>\n",
       "</g>\n",
       "<!-- 73&#45;&#45;75 -->\n",
       "<g id=\"edge75\" class=\"edge\">\n",
       "<title>73--75</title>\n",
       "<path fill=\"none\" stroke=\"black\" d=\"M1873,-287C1873,-287 1860.66,-266.94 1851.3,-251.74\"/>\n",
       "</g>\n",
       "<!-- 82 -->\n",
       "<g id=\"node83\" class=\"node\">\n",
       "<title>82</title>\n",
       "<text text-anchor=\"start\" x=\"1904.25\" y=\"-229.95\" font-family=\"Courier,monospace\" font-weight=\"bold\" font-size=\"14.00\" fill=\"#004080\">BoolOp</text>\n",
       "</g>\n",
       "<!-- 73&#45;&#45;82 -->\n",
       "<g id=\"edge82\" class=\"edge\">\n",
       "<title>73--82</title>\n",
       "<path fill=\"none\" stroke=\"black\" d=\"M1873,-287C1873,-287 1894.6,-266.94 1910.97,-251.74\"/>\n",
       "</g>\n",
       "<!-- 76 -->\n",
       "<g id=\"node77\" class=\"node\">\n",
       "<title>76</title>\n",
       "<text text-anchor=\"start\" x=\"1570.5\" y=\"-157.95\" font-family=\"Courier,monospace\" font-weight=\"bold\" font-size=\"14.00\" fill=\"#004080\">Name</text>\n",
       "</g>\n",
       "<!-- 75&#45;&#45;76 -->\n",
       "<g id=\"edge76\" class=\"edge\">\n",
       "<title>75--76</title>\n",
       "<path fill=\"none\" stroke=\"black\" d=\"M1804,-216C1804,-216 1700.89,-205.7 1623,-180 1619.98,-179 1616.88,-177.82 1613.84,-176.54\"/>\n",
       "</g>\n",
       "<!-- 79 -->\n",
       "<g id=\"node80\" class=\"node\">\n",
       "<title>79</title>\n",
       "<text text-anchor=\"middle\" x=\"1659\" y=\"-156.95\" font-family=\"Courier,monospace\" font-size=\"14.00\" fill=\"#008040\">Eq</text>\n",
       "</g>\n",
       "<!-- 75&#45;&#45;79 -->\n",
       "<g id=\"edge79\" class=\"edge\">\n",
       "<title>75--79</title>\n",
       "<path fill=\"none\" stroke=\"black\" d=\"M1804,-216C1804,-216 1742.38,-198.93 1695,-180 1692.05,-178.82 1688.99,-177.52 1685.97,-176.17\"/>\n",
       "</g>\n",
       "<!-- 80 -->\n",
       "<g id=\"node81\" class=\"node\">\n",
       "<title>80</title>\n",
       "<text text-anchor=\"start\" x=\"1712\" y=\"-157.95\" font-family=\"Courier,monospace\" font-weight=\"bold\" font-size=\"14.00\" fill=\"#004080\">Constant</text>\n",
       "</g>\n",
       "<!-- 75&#45;&#45;80 -->\n",
       "<g id=\"edge80\" class=\"edge\">\n",
       "<title>75--80</title>\n",
       "<path fill=\"none\" stroke=\"black\" d=\"M1804,-216C1804,-216 1780.95,-195.3 1763.67,-179.77\"/>\n",
       "</g>\n",
       "<!-- 77 -->\n",
       "<g id=\"node78\" class=\"node\">\n",
       "<title>77</title>\n",
       "<text text-anchor=\"middle\" x=\"1557\" y=\"-84.95\" font-family=\"Courier,monospace\" font-size=\"14.00\" fill=\"#008040\">&quot;c&quot;</text>\n",
       "</g>\n",
       "<!-- 76&#45;&#45;77 -->\n",
       "<g id=\"edge77\" class=\"edge\">\n",
       "<title>76--77</title>\n",
       "<path fill=\"none\" stroke=\"black\" d=\"M1588,-143C1588,-143 1576.04,-122.94 1566.98,-107.74\"/>\n",
       "</g>\n",
       "<!-- 78 -->\n",
       "<g id=\"node79\" class=\"node\">\n",
       "<title>78</title>\n",
       "<text text-anchor=\"middle\" x=\"1629\" y=\"-84.95\" font-family=\"Courier,monospace\" font-size=\"14.00\" fill=\"#008040\">Load</text>\n",
       "</g>\n",
       "<!-- 76&#45;&#45;78 -->\n",
       "<g id=\"edge78\" class=\"edge\">\n",
       "<title>76--78</title>\n",
       "<path fill=\"none\" stroke=\"black\" d=\"M1588,-143C1588,-143 1603.82,-122.94 1615.8,-107.74\"/>\n",
       "</g>\n",
       "<!-- 81 -->\n",
       "<g id=\"node82\" class=\"node\">\n",
       "<title>81</title>\n",
       "<text text-anchor=\"middle\" x=\"1713\" y=\"-84.95\" font-family=\"Courier,monospace\" font-size=\"14.00\" fill=\"#008040\">&quot;&quot;&quot;</text>\n",
       "</g>\n",
       "<!-- 80&#45;&#45;81 -->\n",
       "<g id=\"edge81\" class=\"edge\">\n",
       "<title>80--81</title>\n",
       "<path fill=\"none\" stroke=\"black\" d=\"M1737.25,-144.05C1732.22,-133.05 1725.69,-118.76 1720.67,-107.79\"/>\n",
       "</g>\n",
       "<!-- 83 -->\n",
       "<g id=\"node84\" class=\"node\">\n",
       "<title>83</title>\n",
       "<text text-anchor=\"middle\" x=\"1831\" y=\"-156.95\" font-family=\"Courier,monospace\" font-size=\"14.00\" fill=\"#008040\">And</text>\n",
       "</g>\n",
       "<!-- 82&#45;&#45;83 -->\n",
       "<g id=\"edge83\" class=\"edge\">\n",
       "<title>82--83</title>\n",
       "<path fill=\"none\" stroke=\"black\" d=\"M1926,-215C1926,-215 1886.06,-193.14 1857.97,-177.76\"/>\n",
       "</g>\n",
       "<!-- 84 -->\n",
       "<g id=\"node85\" class=\"node\">\n",
       "<title>84</title>\n",
       "<text text-anchor=\"start\" x=\"1884.12\" y=\"-157.95\" font-family=\"Courier,monospace\" font-weight=\"bold\" font-size=\"14.00\" fill=\"#004080\">Compare</text>\n",
       "</g>\n",
       "<!-- 82&#45;&#45;84 -->\n",
       "<g id=\"edge84\" class=\"edge\">\n",
       "<title>82--84</title>\n",
       "<path fill=\"none\" stroke=\"black\" d=\"M1926,-215C1926,-215 1920.99,-194.94 1917.18,-179.74\"/>\n",
       "</g>\n",
       "<!-- 91 -->\n",
       "<g id=\"node92\" class=\"node\">\n",
       "<title>91</title>\n",
       "<text text-anchor=\"start\" x=\"1978.5\" y=\"-157.95\" font-family=\"Courier,monospace\" font-weight=\"bold\" font-size=\"14.00\" fill=\"#004080\">Name</text>\n",
       "</g>\n",
       "<!-- 82&#45;&#45;91 -->\n",
       "<g id=\"edge91\" class=\"edge\">\n",
       "<title>82--91</title>\n",
       "<path fill=\"none\" stroke=\"black\" d=\"M1926,-215C1926,-215 1952.62,-194.94 1972.79,-179.74\"/>\n",
       "</g>\n",
       "<!-- 85 -->\n",
       "<g id=\"node86\" class=\"node\">\n",
       "<title>85</title>\n",
       "<text text-anchor=\"start\" x=\"1768.5\" y=\"-85.95\" font-family=\"Courier,monospace\" font-weight=\"bold\" font-size=\"14.00\" fill=\"#004080\">Name</text>\n",
       "</g>\n",
       "<!-- 84&#45;&#45;85 -->\n",
       "<g id=\"edge85\" class=\"edge\">\n",
       "<title>84--85</title>\n",
       "<path fill=\"none\" stroke=\"black\" d=\"M1904,-143C1904,-143 1857.55,-124.33 1821,-108 1817.97,-106.65 1814.81,-105.2 1811.68,-103.75\"/>\n",
       "</g>\n",
       "<!-- 88 -->\n",
       "<g id=\"node89\" class=\"node\">\n",
       "<title>88</title>\n",
       "<text text-anchor=\"middle\" x=\"1857\" y=\"-84.95\" font-family=\"Courier,monospace\" font-size=\"14.00\" fill=\"#008040\">Eq</text>\n",
       "</g>\n",
       "<!-- 84&#45;&#45;88 -->\n",
       "<g id=\"edge88\" class=\"edge\">\n",
       "<title>84--88</title>\n",
       "<path fill=\"none\" stroke=\"black\" d=\"M1904,-143C1904,-143 1885.87,-122.94 1872.13,-107.74\"/>\n",
       "</g>\n",
       "<!-- 89 -->\n",
       "<g id=\"node90\" class=\"node\">\n",
       "<title>89</title>\n",
       "<text text-anchor=\"start\" x=\"1910\" y=\"-85.95\" font-family=\"Courier,monospace\" font-weight=\"bold\" font-size=\"14.00\" fill=\"#004080\">Constant</text>\n",
       "</g>\n",
       "<!-- 84&#45;&#45;89 -->\n",
       "<g id=\"edge89\" class=\"edge\">\n",
       "<title>84--89</title>\n",
       "<path fill=\"none\" stroke=\"black\" d=\"M1904,-143C1904,-143 1919.04,-122.94 1930.45,-107.74\"/>\n",
       "</g>\n",
       "<!-- 86 -->\n",
       "<g id=\"node87\" class=\"node\">\n",
       "<title>86</title>\n",
       "<text text-anchor=\"middle\" x=\"1749\" y=\"-12.95\" font-family=\"Courier,monospace\" font-size=\"14.00\" fill=\"#008040\">&quot;c&quot;</text>\n",
       "</g>\n",
       "<!-- 85&#45;&#45;86 -->\n",
       "<g id=\"edge86\" class=\"edge\">\n",
       "<title>85--86</title>\n",
       "<path fill=\"none\" stroke=\"black\" d=\"M1785,-71C1785,-71 1771.11,-50.94 1760.59,-35.74\"/>\n",
       "</g>\n",
       "<!-- 87 -->\n",
       "<g id=\"node88\" class=\"node\">\n",
       "<title>87</title>\n",
       "<text text-anchor=\"middle\" x=\"1821\" y=\"-12.95\" font-family=\"Courier,monospace\" font-size=\"14.00\" fill=\"#008040\">Load</text>\n",
       "</g>\n",
       "<!-- 85&#45;&#45;87 -->\n",
       "<g id=\"edge87\" class=\"edge\">\n",
       "<title>85--87</title>\n",
       "<path fill=\"none\" stroke=\"black\" d=\"M1785,-71C1785,-71 1798.89,-50.94 1809.41,-35.74\"/>\n",
       "</g>\n",
       "<!-- 90 -->\n",
       "<g id=\"node91\" class=\"node\">\n",
       "<title>90</title>\n",
       "<text text-anchor=\"middle\" x=\"1943\" y=\"-12.95\" font-family=\"Courier,monospace\" font-size=\"14.00\" fill=\"#008040\">&quot;'&quot;</text>\n",
       "</g>\n",
       "<!-- 89&#45;&#45;90 -->\n",
       "<g id=\"edge90\" class=\"edge\">\n",
       "<title>89--90</title>\n",
       "<path fill=\"none\" stroke=\"black\" d=\"M1943,-72.05C1943,-61.05 1943,-46.76 1943,-35.79\"/>\n",
       "</g>\n",
       "<!-- 92 -->\n",
       "<g id=\"node93\" class=\"node\">\n",
       "<title>92</title>\n",
       "<text text-anchor=\"middle\" x=\"2031\" y=\"-84.95\" font-family=\"Courier,monospace\" font-size=\"14.00\" fill=\"#008040\">&quot;tag&quot;</text>\n",
       "</g>\n",
       "<!-- 91&#45;&#45;92 -->\n",
       "<g id=\"edge92\" class=\"edge\">\n",
       "<title>91--92</title>\n",
       "<path fill=\"none\" stroke=\"black\" d=\"M2011,-143C2011,-143 2018.72,-122.94 2024.56,-107.74\"/>\n",
       "</g>\n",
       "<!-- 93 -->\n",
       "<g id=\"node94\" class=\"node\">\n",
       "<title>93</title>\n",
       "<text text-anchor=\"middle\" x=\"2105\" y=\"-84.95\" font-family=\"Courier,monospace\" font-size=\"14.00\" fill=\"#008040\">Load</text>\n",
       "</g>\n",
       "<!-- 91&#45;&#45;93 -->\n",
       "<g id=\"edge93\" class=\"edge\">\n",
       "<title>91--93</title>\n",
       "<path fill=\"none\" stroke=\"black\" d=\"M2011,-143C2011,-143 2050.29,-121.27 2078.06,-105.9\"/>\n",
       "</g>\n",
       "<!-- 95 -->\n",
       "<g id=\"node96\" class=\"node\">\n",
       "<title>95</title>\n",
       "<text text-anchor=\"start\" x=\"2060.5\" y=\"-229.95\" font-family=\"Courier,monospace\" font-weight=\"bold\" font-size=\"14.00\" fill=\"#004080\">Name</text>\n",
       "</g>\n",
       "<!-- 94&#45;&#45;95 -->\n",
       "<g id=\"edge95\" class=\"edge\">\n",
       "<title>94--95</title>\n",
       "<path fill=\"none\" stroke=\"black\" d=\"M2059,-287C2059,-287 2065.94,-266.94 2071.21,-251.74\"/>\n",
       "</g>\n",
       "<!-- 98 -->\n",
       "<g id=\"node99\" class=\"node\">\n",
       "<title>98</title>\n",
       "<text text-anchor=\"start\" x=\"2206.12\" y=\"-229.95\" font-family=\"Courier,monospace\" font-weight=\"bold\" font-size=\"14.00\" fill=\"#004080\">UnaryOp</text>\n",
       "</g>\n",
       "<!-- 94&#45;&#45;98 -->\n",
       "<g id=\"edge98\" class=\"edge\">\n",
       "<title>94--98</title>\n",
       "<path fill=\"none\" stroke=\"black\" d=\"M2059,-287C2059,-287 2146.98,-261.01 2198.53,-245.77\"/>\n",
       "</g>\n",
       "<!-- 96 -->\n",
       "<g id=\"node97\" class=\"node\">\n",
       "<title>96</title>\n",
       "<text text-anchor=\"middle\" x=\"2077\" y=\"-156.95\" font-family=\"Courier,monospace\" font-size=\"14.00\" fill=\"#008040\">&quot;quote&quot;</text>\n",
       "</g>\n",
       "<!-- 95&#45;&#45;96 -->\n",
       "<g id=\"edge96\" class=\"edge\">\n",
       "<title>95--96</title>\n",
       "<path fill=\"none\" stroke=\"black\" d=\"M2085,-215C2085,-215 2081.91,-194.94 2079.58,-179.74\"/>\n",
       "</g>\n",
       "<!-- 97 -->\n",
       "<g id=\"node98\" class=\"node\">\n",
       "<title>97</title>\n",
       "<text text-anchor=\"middle\" x=\"2161\" y=\"-156.95\" font-family=\"Courier,monospace\" font-size=\"14.00\" fill=\"#008040\">Store</text>\n",
       "</g>\n",
       "<!-- 95&#45;&#45;97 -->\n",
       "<g id=\"edge97\" class=\"edge\">\n",
       "<title>95--97</title>\n",
       "<path fill=\"none\" stroke=\"black\" d=\"M2085,-215C2085,-215 2114.32,-194.94 2136.53,-179.74\"/>\n",
       "</g>\n",
       "<!-- 99 -->\n",
       "<g id=\"node100\" class=\"node\">\n",
       "<title>99</title>\n",
       "<text text-anchor=\"middle\" x=\"2235\" y=\"-156.95\" font-family=\"Courier,monospace\" font-size=\"14.00\" fill=\"#008040\">Not</text>\n",
       "</g>\n",
       "<!-- 98&#45;&#45;99 -->\n",
       "<g id=\"edge99\" class=\"edge\">\n",
       "<title>98--99</title>\n",
       "<path fill=\"none\" stroke=\"black\" d=\"M2242,-215C2242,-215 2239.3,-194.94 2237.25,-179.74\"/>\n",
       "</g>\n",
       "<!-- 100 -->\n",
       "<g id=\"node101\" class=\"node\">\n",
       "<title>100</title>\n",
       "<text text-anchor=\"start\" x=\"2290.5\" y=\"-157.95\" font-family=\"Courier,monospace\" font-weight=\"bold\" font-size=\"14.00\" fill=\"#004080\">Name</text>\n",
       "</g>\n",
       "<!-- 98&#45;&#45;100 -->\n",
       "<g id=\"edge100\" class=\"edge\">\n",
       "<title>98--100</title>\n",
       "<path fill=\"none\" stroke=\"black\" d=\"M2242,-215C2242,-215 2267.07,-194.94 2286.08,-179.74\"/>\n",
       "</g>\n",
       "<!-- 101 -->\n",
       "<g id=\"node102\" class=\"node\">\n",
       "<title>101</title>\n",
       "<text text-anchor=\"middle\" x=\"2225\" y=\"-84.95\" font-family=\"Courier,monospace\" font-size=\"14.00\" fill=\"#008040\">&quot;quote&quot;</text>\n",
       "</g>\n",
       "<!-- 100&#45;&#45;101 -->\n",
       "<g id=\"edge101\" class=\"edge\">\n",
       "<title>100--101</title>\n",
       "<path fill=\"none\" stroke=\"black\" d=\"M2299,-143C2299,-143 2270.45,-122.94 2248.82,-107.74\"/>\n",
       "</g>\n",
       "<!-- 102 -->\n",
       "<g id=\"node103\" class=\"node\">\n",
       "<title>102</title>\n",
       "<text text-anchor=\"middle\" x=\"2307\" y=\"-84.95\" font-family=\"Courier,monospace\" font-size=\"14.00\" fill=\"#008040\">Load</text>\n",
       "</g>\n",
       "<!-- 100&#45;&#45;102 -->\n",
       "<g id=\"edge102\" class=\"edge\">\n",
       "<title>100--102</title>\n",
       "<path fill=\"none\" stroke=\"black\" d=\"M2299,-143C2299,-143 2302.09,-122.94 2304.42,-107.74\"/>\n",
       "</g>\n",
       "<!-- 104 -->\n",
       "<g id=\"node105\" class=\"node\">\n",
       "<title>104</title>\n",
       "<text text-anchor=\"start\" x=\"2350.12\" y=\"-229.95\" font-family=\"Courier,monospace\" font-weight=\"bold\" font-size=\"14.00\" fill=\"#004080\">UnaryOp</text>\n",
       "</g>\n",
       "<!-- 103&#45;&#45;104 -->\n",
       "<g id=\"edge104\" class=\"edge\">\n",
       "<title>103--104</title>\n",
       "<path fill=\"none\" stroke=\"black\" d=\"M2144,-299C2144,-299 2147.64,-291.34 2153,-288 2169.03,-278 2282.81,-254.22 2342.56,-242.21\"/>\n",
       "</g>\n",
       "<!-- 109 -->\n",
       "<g id=\"node110\" class=\"node\">\n",
       "<title>109</title>\n",
       "<text text-anchor=\"start\" x=\"2541.25\" y=\"-229.95\" font-family=\"Courier,monospace\" font-weight=\"bold\" font-size=\"14.00\" fill=\"#004080\">Assign</text>\n",
       "</g>\n",
       "<!-- 103&#45;&#45;109 -->\n",
       "<g id=\"edge109\" class=\"edge\">\n",
       "<title>103--109</title>\n",
       "<path fill=\"none\" stroke=\"black\" d=\"M2144,-299C2144,-299 2147.48,-291.06 2153,-288 2157.18,-285.68 2436.35,-251.02 2533.28,-239.04\"/>\n",
       "</g>\n",
       "<!-- 105 -->\n",
       "<g id=\"node106\" class=\"node\">\n",
       "<title>105</title>\n",
       "<text text-anchor=\"middle\" x=\"2379\" y=\"-156.95\" font-family=\"Courier,monospace\" font-size=\"14.00\" fill=\"#008040\">Not</text>\n",
       "</g>\n",
       "<!-- 104&#45;&#45;105 -->\n",
       "<g id=\"edge105\" class=\"edge\">\n",
       "<title>104--105</title>\n",
       "<path fill=\"none\" stroke=\"black\" d=\"M2386,-215C2386,-215 2383.3,-194.94 2381.25,-179.74\"/>\n",
       "</g>\n",
       "<!-- 106 -->\n",
       "<g id=\"node107\" class=\"node\">\n",
       "<title>106</title>\n",
       "<text text-anchor=\"start\" x=\"2434.5\" y=\"-157.95\" font-family=\"Courier,monospace\" font-weight=\"bold\" font-size=\"14.00\" fill=\"#004080\">Name</text>\n",
       "</g>\n",
       "<!-- 104&#45;&#45;106 -->\n",
       "<g id=\"edge106\" class=\"edge\">\n",
       "<title>104--106</title>\n",
       "<path fill=\"none\" stroke=\"black\" d=\"M2386,-215C2386,-215 2411.07,-194.94 2430.08,-179.74\"/>\n",
       "</g>\n",
       "<!-- 107 -->\n",
       "<g id=\"node108\" class=\"node\">\n",
       "<title>107</title>\n",
       "<text text-anchor=\"middle\" x=\"2381\" y=\"-84.95\" font-family=\"Courier,monospace\" font-size=\"14.00\" fill=\"#008040\">&quot;tag&quot;</text>\n",
       "</g>\n",
       "<!-- 106&#45;&#45;107 -->\n",
       "<g id=\"edge107\" class=\"edge\">\n",
       "<title>106--107</title>\n",
       "<path fill=\"none\" stroke=\"black\" d=\"M2444,-143C2444,-143 2419.7,-122.94 2401.28,-107.74\"/>\n",
       "</g>\n",
       "<!-- 108 -->\n",
       "<g id=\"node109\" class=\"node\">\n",
       "<title>108</title>\n",
       "<text text-anchor=\"middle\" x=\"2455\" y=\"-84.95\" font-family=\"Courier,monospace\" font-size=\"14.00\" fill=\"#008040\">Load</text>\n",
       "</g>\n",
       "<!-- 106&#45;&#45;108 -->\n",
       "<g id=\"edge108\" class=\"edge\">\n",
       "<title>106--108</title>\n",
       "<path fill=\"none\" stroke=\"black\" d=\"M2444,-143C2444,-143 2448.24,-122.94 2451.46,-107.74\"/>\n",
       "</g>\n",
       "<!-- 110 -->\n",
       "<g id=\"node111\" class=\"node\">\n",
       "<title>110</title>\n",
       "<text text-anchor=\"start\" x=\"2549.5\" y=\"-157.95\" font-family=\"Courier,monospace\" font-weight=\"bold\" font-size=\"14.00\" fill=\"#004080\">Name</text>\n",
       "</g>\n",
       "<!-- 109&#45;&#45;110 -->\n",
       "<g id=\"edge110\" class=\"edge\">\n",
       "<title>109--110</title>\n",
       "<path fill=\"none\" stroke=\"black\" d=\"M2577,-215C2577,-215 2572.76,-194.94 2569.54,-179.74\"/>\n",
       "</g>\n",
       "<!-- 113 -->\n",
       "<g id=\"node114\" class=\"node\">\n",
       "<title>113</title>\n",
       "<text text-anchor=\"start\" x=\"2693.38\" y=\"-157.95\" font-family=\"Courier,monospace\" font-weight=\"bold\" font-size=\"14.00\" fill=\"#004080\">BinOp</text>\n",
       "</g>\n",
       "<!-- 109&#45;&#45;113 -->\n",
       "<g id=\"edge113\" class=\"edge\">\n",
       "<title>109--113</title>\n",
       "<path fill=\"none\" stroke=\"black\" d=\"M2577,-215C2577,-215 2645.49,-189.01 2685.61,-173.77\"/>\n",
       "</g>\n",
       "<!-- 111 -->\n",
       "<g id=\"node112\" class=\"node\">\n",
       "<title>111</title>\n",
       "<text text-anchor=\"middle\" x=\"2529\" y=\"-84.95\" font-family=\"Courier,monospace\" font-size=\"14.00\" fill=\"#008040\">&quot;out&quot;</text>\n",
       "</g>\n",
       "<!-- 110&#45;&#45;111 -->\n",
       "<g id=\"edge111\" class=\"edge\">\n",
       "<title>110--111</title>\n",
       "<path fill=\"none\" stroke=\"black\" d=\"M2566,-143C2566,-143 2551.73,-122.94 2540.91,-107.74\"/>\n",
       "</g>\n",
       "<!-- 112 -->\n",
       "<g id=\"node113\" class=\"node\">\n",
       "<title>112</title>\n",
       "<text text-anchor=\"middle\" x=\"2604\" y=\"-84.95\" font-family=\"Courier,monospace\" font-size=\"14.00\" fill=\"#008040\">Store</text>\n",
       "</g>\n",
       "<!-- 110&#45;&#45;112 -->\n",
       "<g id=\"edge112\" class=\"edge\">\n",
       "<title>110--112</title>\n",
       "<path fill=\"none\" stroke=\"black\" d=\"M2566,-143C2566,-143 2580.66,-122.94 2591.77,-107.74\"/>\n",
       "</g>\n",
       "<!-- 114 -->\n",
       "<g id=\"node115\" class=\"node\">\n",
       "<title>114</title>\n",
       "<text text-anchor=\"start\" x=\"2661.5\" y=\"-85.95\" font-family=\"Courier,monospace\" font-weight=\"bold\" font-size=\"14.00\" fill=\"#004080\">Name</text>\n",
       "</g>\n",
       "<!-- 113&#45;&#45;114 -->\n",
       "<g id=\"edge114\" class=\"edge\">\n",
       "<title>113--114</title>\n",
       "<path fill=\"none\" stroke=\"black\" d=\"M2720,-143C2720,-143 2703.8,-122.94 2691.52,-107.74\"/>\n",
       "</g>\n",
       "<!-- 117 -->\n",
       "<g id=\"node118\" class=\"node\">\n",
       "<title>117</title>\n",
       "<text text-anchor=\"middle\" x=\"2750\" y=\"-84.95\" font-family=\"Courier,monospace\" font-size=\"14.00\" fill=\"#008040\">Add</text>\n",
       "</g>\n",
       "<!-- 113&#45;&#45;117 -->\n",
       "<g id=\"edge117\" class=\"edge\">\n",
       "<title>113--117</title>\n",
       "<path fill=\"none\" stroke=\"black\" d=\"M2720,-143C2720,-143 2731.57,-122.94 2740.34,-107.74\"/>\n",
       "</g>\n",
       "<!-- 118 -->\n",
       "<g id=\"node119\" class=\"node\">\n",
       "<title>118</title>\n",
       "<text text-anchor=\"start\" x=\"2805.5\" y=\"-85.95\" font-family=\"Courier,monospace\" font-weight=\"bold\" font-size=\"14.00\" fill=\"#004080\">Name</text>\n",
       "</g>\n",
       "<!-- 113&#45;&#45;118 -->\n",
       "<g id=\"edge118\" class=\"edge\">\n",
       "<title>113--118</title>\n",
       "<path fill=\"none\" stroke=\"black\" d=\"M2720,-143C2720,-143 2764.98,-120.07 2795.2,-104.66\"/>\n",
       "</g>\n",
       "<!-- 115 -->\n",
       "<g id=\"node116\" class=\"node\">\n",
       "<title>115</title>\n",
       "<text text-anchor=\"middle\" x=\"2622\" y=\"-12.95\" font-family=\"Courier,monospace\" font-size=\"14.00\" fill=\"#008040\">&quot;out&quot;</text>\n",
       "</g>\n",
       "<!-- 114&#45;&#45;115 -->\n",
       "<g id=\"edge115\" class=\"edge\">\n",
       "<title>114--115</title>\n",
       "<path fill=\"none\" stroke=\"black\" d=\"M2674,-71C2674,-71 2653.94,-50.94 2638.74,-35.74\"/>\n",
       "</g>\n",
       "<!-- 116 -->\n",
       "<g id=\"node117\" class=\"node\">\n",
       "<title>116</title>\n",
       "<text text-anchor=\"middle\" x=\"2696\" y=\"-12.95\" font-family=\"Courier,monospace\" font-size=\"14.00\" fill=\"#008040\">Load</text>\n",
       "</g>\n",
       "<!-- 114&#45;&#45;116 -->\n",
       "<g id=\"edge116\" class=\"edge\">\n",
       "<title>114--116</title>\n",
       "<path fill=\"none\" stroke=\"black\" d=\"M2674,-71C2674,-71 2682.49,-50.94 2688.92,-35.74\"/>\n",
       "</g>\n",
       "<!-- 119 -->\n",
       "<g id=\"node120\" class=\"node\">\n",
       "<title>119</title>\n",
       "<text text-anchor=\"middle\" x=\"2804\" y=\"-12.95\" font-family=\"Courier,monospace\" font-size=\"14.00\" fill=\"#008040\">&quot;c&quot;</text>\n",
       "</g>\n",
       "<!-- 118&#45;&#45;119 -->\n",
       "<g id=\"edge119\" class=\"edge\">\n",
       "<title>118--119</title>\n",
       "<path fill=\"none\" stroke=\"black\" d=\"M2826,-71C2826,-71 2817.51,-50.94 2811.08,-35.74\"/>\n",
       "</g>\n",
       "<!-- 120 -->\n",
       "<g id=\"node121\" class=\"node\">\n",
       "<title>120</title>\n",
       "<text text-anchor=\"middle\" x=\"2876\" y=\"-12.95\" font-family=\"Courier,monospace\" font-size=\"14.00\" fill=\"#008040\">Load</text>\n",
       "</g>\n",
       "<!-- 118&#45;&#45;120 -->\n",
       "<g id=\"edge120\" class=\"edge\">\n",
       "<title>118--120</title>\n",
       "<path fill=\"none\" stroke=\"black\" d=\"M2826,-71C2826,-71 2845.29,-50.94 2859.9,-35.74\"/>\n",
       "</g>\n",
       "<!-- 122 -->\n",
       "<g id=\"node123\" class=\"node\">\n",
       "<title>122</title>\n",
       "<text text-anchor=\"start\" x=\"2153.25\" y=\"-517.95\" font-family=\"Courier,monospace\" font-weight=\"bold\" font-size=\"14.00\" fill=\"#004080\">BoolOp</text>\n",
       "</g>\n",
       "<!-- 121&#45;&#45;122 -->\n",
       "<g id=\"edge122\" class=\"edge\">\n",
       "<title>121--122</title>\n",
       "<path fill=\"none\" stroke=\"black\" d=\"M1594.68,-589.29C1701.39,-577.16 2038.8,-538.82 2145.39,-526.71\"/>\n",
       "</g>\n",
       "<!-- 123 -->\n",
       "<g id=\"node124\" class=\"node\">\n",
       "<title>123</title>\n",
       "<text text-anchor=\"middle\" x=\"2137\" y=\"-444.95\" font-family=\"Courier,monospace\" font-size=\"14.00\" fill=\"#008040\">And</text>\n",
       "</g>\n",
       "<!-- 122&#45;&#45;123 -->\n",
       "<g id=\"edge123\" class=\"edge\">\n",
       "<title>122--123</title>\n",
       "<path fill=\"none\" stroke=\"black\" d=\"M2186,-503C2186,-503 2167.1,-482.94 2152.77,-467.74\"/>\n",
       "</g>\n",
       "<!-- 124 -->\n",
       "<g id=\"node125\" class=\"node\">\n",
       "<title>124</title>\n",
       "<text text-anchor=\"start\" x=\"2190.12\" y=\"-445.95\" font-family=\"Courier,monospace\" font-weight=\"bold\" font-size=\"14.00\" fill=\"#004080\">Compare</text>\n",
       "</g>\n",
       "<!-- 122&#45;&#45;124 -->\n",
       "<g id=\"edge124\" class=\"edge\">\n",
       "<title>122--124</title>\n",
       "<path fill=\"none\" stroke=\"black\" d=\"M2186,-503C2186,-503 2198.73,-482.94 2208.38,-467.74\"/>\n",
       "</g>\n",
       "<!-- 131 -->\n",
       "<g id=\"node132\" class=\"node\">\n",
       "<title>131</title>\n",
       "<text text-anchor=\"start\" x=\"2350.12\" y=\"-445.95\" font-family=\"Courier,monospace\" font-weight=\"bold\" font-size=\"14.00\" fill=\"#004080\">Compare</text>\n",
       "</g>\n",
       "<!-- 122&#45;&#45;131 -->\n",
       "<g id=\"edge131\" class=\"edge\">\n",
       "<title>122--131</title>\n",
       "<path fill=\"none\" stroke=\"black\" d=\"M2186,-503C2186,-503 2286.25,-475.99 2342.24,-460.9\"/>\n",
       "</g>\n",
       "<!-- 125 -->\n",
       "<g id=\"node126\" class=\"node\">\n",
       "<title>125</title>\n",
       "<text text-anchor=\"start\" x=\"2098\" y=\"-373.95\" font-family=\"Courier,monospace\" font-weight=\"bold\" font-size=\"14.00\" fill=\"#004080\">Constant</text>\n",
       "</g>\n",
       "<!-- 124&#45;&#45;125 -->\n",
       "<g id=\"edge125\" class=\"edge\">\n",
       "<title>124--125</title>\n",
       "<path fill=\"none\" stroke=\"black\" d=\"M2219,-431C2219,-431 2185.05,-410.94 2159.33,-395.74\"/>\n",
       "</g>\n",
       "<!-- 127 -->\n",
       "<g id=\"node128\" class=\"node\">\n",
       "<title>127</title>\n",
       "<text text-anchor=\"middle\" x=\"2219\" y=\"-372.95\" font-family=\"Courier,monospace\" font-size=\"14.00\" fill=\"#008040\">NotIn</text>\n",
       "</g>\n",
       "<!-- 124&#45;&#45;127 -->\n",
       "<g id=\"edge127\" class=\"edge\">\n",
       "<title>124--127</title>\n",
       "<path fill=\"none\" stroke=\"black\" d=\"M2219,-431C2219,-431 2219,-410.94 2219,-395.74\"/>\n",
       "</g>\n",
       "<!-- 128 -->\n",
       "<g id=\"node129\" class=\"node\">\n",
       "<title>128</title>\n",
       "<text text-anchor=\"start\" x=\"2276.5\" y=\"-373.95\" font-family=\"Courier,monospace\" font-weight=\"bold\" font-size=\"14.00\" fill=\"#004080\">Name</text>\n",
       "</g>\n",
       "<!-- 124&#45;&#45;128 -->\n",
       "<g id=\"edge128\" class=\"edge\">\n",
       "<title>124--128</title>\n",
       "<path fill=\"none\" stroke=\"black\" d=\"M2219,-431C2219,-431 2247.55,-410.94 2269.18,-395.74\"/>\n",
       "</g>\n",
       "<!-- 126 -->\n",
       "<g id=\"node127\" class=\"node\">\n",
       "<title>126</title>\n",
       "<text text-anchor=\"middle\" x=\"2189\" y=\"-300.95\" font-family=\"Courier,monospace\" font-size=\"14.00\" fill=\"#008040\">&quot;&lt;&quot;</text>\n",
       "</g>\n",
       "<!-- 125&#45;&#45;126 -->\n",
       "<g id=\"edge126\" class=\"edge\">\n",
       "<title>125--126</title>\n",
       "<path fill=\"none\" stroke=\"black\" d=\"M2145.04,-360.05C2154.16,-349.05 2166,-334.76 2175.09,-323.79\"/>\n",
       "</g>\n",
       "<!-- 129 -->\n",
       "<g id=\"node130\" class=\"node\">\n",
       "<title>129</title>\n",
       "<text text-anchor=\"middle\" x=\"2263\" y=\"-300.95\" font-family=\"Courier,monospace\" font-size=\"14.00\" fill=\"#008040\">&quot;out&quot;</text>\n",
       "</g>\n",
       "<!-- 128&#45;&#45;129 -->\n",
       "<g id=\"edge129\" class=\"edge\">\n",
       "<title>128--129</title>\n",
       "<path fill=\"none\" stroke=\"black\" d=\"M2294,-359C2294,-359 2282.04,-338.94 2272.98,-323.74\"/>\n",
       "</g>\n",
       "<!-- 130 -->\n",
       "<g id=\"node131\" class=\"node\">\n",
       "<title>130</title>\n",
       "<text text-anchor=\"middle\" x=\"2337\" y=\"-300.95\" font-family=\"Courier,monospace\" font-size=\"14.00\" fill=\"#008040\">Load</text>\n",
       "</g>\n",
       "<!-- 128&#45;&#45;130 -->\n",
       "<g id=\"edge130\" class=\"edge\">\n",
       "<title>128--130</title>\n",
       "<path fill=\"none\" stroke=\"black\" d=\"M2294,-359C2294,-359 2310.59,-338.94 2323.16,-323.74\"/>\n",
       "</g>\n",
       "<!-- 132 -->\n",
       "<g id=\"node133\" class=\"node\">\n",
       "<title>132</title>\n",
       "<text text-anchor=\"start\" x=\"2346\" y=\"-373.95\" font-family=\"Courier,monospace\" font-weight=\"bold\" font-size=\"14.00\" fill=\"#004080\">Constant</text>\n",
       "</g>\n",
       "<!-- 131&#45;&#45;132 -->\n",
       "<g id=\"edge132\" class=\"edge\">\n",
       "<title>131--132</title>\n",
       "<path fill=\"none\" stroke=\"black\" d=\"M2394,-431C2394,-431 2388.21,-410.94 2383.83,-395.74\"/>\n",
       "</g>\n",
       "<!-- 134 -->\n",
       "<g id=\"node135\" class=\"node\">\n",
       "<title>134</title>\n",
       "<text text-anchor=\"middle\" x=\"2467\" y=\"-372.95\" font-family=\"Courier,monospace\" font-size=\"14.00\" fill=\"#008040\">NotIn</text>\n",
       "</g>\n",
       "<!-- 131&#45;&#45;134 -->\n",
       "<g id=\"edge134\" class=\"edge\">\n",
       "<title>131--134</title>\n",
       "<path fill=\"none\" stroke=\"black\" d=\"M2394,-431C2394,-431 2422.16,-410.94 2443.5,-395.74\"/>\n",
       "</g>\n",
       "<!-- 135 -->\n",
       "<g id=\"node136\" class=\"node\">\n",
       "<title>135</title>\n",
       "<text text-anchor=\"start\" x=\"2524.5\" y=\"-373.95\" font-family=\"Courier,monospace\" font-weight=\"bold\" font-size=\"14.00\" fill=\"#004080\">Name</text>\n",
       "</g>\n",
       "<!-- 131&#45;&#45;135 -->\n",
       "<g id=\"edge135\" class=\"edge\">\n",
       "<title>131--135</title>\n",
       "<path fill=\"none\" stroke=\"black\" d=\"M2394,-431C2394,-431 2456.84,-414.87 2505,-396 2507.96,-394.84 2511.02,-393.55 2514.05,-392.21\"/>\n",
       "</g>\n",
       "<!-- 133 -->\n",
       "<g id=\"node134\" class=\"node\">\n",
       "<title>133</title>\n",
       "<text text-anchor=\"middle\" x=\"2409\" y=\"-300.95\" font-family=\"Courier,monospace\" font-size=\"14.00\" fill=\"#008040\">&quot;&gt;&quot;</text>\n",
       "</g>\n",
       "<!-- 132&#45;&#45;133 -->\n",
       "<g id=\"edge133\" class=\"edge\">\n",
       "<title>132--133</title>\n",
       "<path fill=\"none\" stroke=\"black\" d=\"M2386.26,-360.05C2390.98,-349.05 2397.1,-334.76 2401.8,-323.79\"/>\n",
       "</g>\n",
       "<!-- 136 -->\n",
       "<g id=\"node137\" class=\"node\">\n",
       "<title>136</title>\n",
       "<text text-anchor=\"middle\" x=\"2497\" y=\"-300.95\" font-family=\"Courier,monospace\" font-size=\"14.00\" fill=\"#008040\">&quot;out&quot;</text>\n",
       "</g>\n",
       "<!-- 135&#45;&#45;136 -->\n",
       "<g id=\"edge136\" class=\"edge\">\n",
       "<title>135--136</title>\n",
       "<path fill=\"none\" stroke=\"black\" d=\"M2540,-359C2540,-359 2523.41,-338.94 2510.84,-323.74\"/>\n",
       "</g>\n",
       "<!-- 137 -->\n",
       "<g id=\"node138\" class=\"node\">\n",
       "<title>137</title>\n",
       "<text text-anchor=\"middle\" x=\"2571\" y=\"-300.95\" font-family=\"Courier,monospace\" font-size=\"14.00\" fill=\"#008040\">Load</text>\n",
       "</g>\n",
       "<!-- 135&#45;&#45;137 -->\n",
       "<g id=\"edge137\" class=\"edge\">\n",
       "<title>135--137</title>\n",
       "<path fill=\"none\" stroke=\"black\" d=\"M2540,-359C2540,-359 2551.96,-338.94 2561.02,-323.74\"/>\n",
       "</g>\n",
       "<!-- 139 -->\n",
       "<g id=\"node140\" class=\"node\">\n",
       "<title>139</title>\n",
       "<text text-anchor=\"start\" x=\"2446.5\" y=\"-517.95\" font-family=\"Courier,monospace\" font-weight=\"bold\" font-size=\"14.00\" fill=\"#004080\">Name</text>\n",
       "</g>\n",
       "<!-- 138&#45;&#45;139 -->\n",
       "<g id=\"edge139\" class=\"edge\">\n",
       "<title>138--139</title>\n",
       "<path fill=\"none\" stroke=\"black\" d=\"M2049.43,-587.91C2133.73,-574.68 2358.52,-539.4 2436.17,-527.21\"/>\n",
       "</g>\n",
       "<!-- 140 -->\n",
       "<g id=\"node141\" class=\"node\">\n",
       "<title>140</title>\n",
       "<text text-anchor=\"middle\" x=\"2463\" y=\"-444.95\" font-family=\"Courier,monospace\" font-size=\"14.00\" fill=\"#008040\">&quot;out&quot;</text>\n",
       "</g>\n",
       "<!-- 139&#45;&#45;140 -->\n",
       "<g id=\"edge140\" class=\"edge\">\n",
       "<title>139--140</title>\n",
       "<path fill=\"none\" stroke=\"black\" d=\"M2471,-503C2471,-503 2467.91,-482.94 2465.58,-467.74\"/>\n",
       "</g>\n",
       "<!-- 141 -->\n",
       "<g id=\"node142\" class=\"node\">\n",
       "<title>141</title>\n",
       "<text text-anchor=\"middle\" x=\"2537\" y=\"-444.95\" font-family=\"Courier,monospace\" font-size=\"14.00\" fill=\"#008040\">Load</text>\n",
       "</g>\n",
       "<!-- 139&#45;&#45;141 -->\n",
       "<g id=\"edge141\" class=\"edge\">\n",
       "<title>139--141</title>\n",
       "<path fill=\"none\" stroke=\"black\" d=\"M2471,-503C2471,-503 2496.46,-482.94 2515.75,-467.74\"/>\n",
       "</g>\n",
       "</g>\n",
       "</svg>"
      ],
      "text/plain": [
       "<IPython.core.display.SVG object>"
      ]
     },
     "metadata": {},
     "output_type": "display_data"
    }
   ],
   "source": [
    "show_ast(fun_tree)"
   ]
  },
  {
   "cell_type": "markdown",
   "metadata": {
    "slideshow": {
     "slide_type": "fragment"
    }
   },
   "source": [
    "Let us add some tests to this, using the same scheme:"
   ]
  },
  {
   "cell_type": "code",
   "execution_count": 147,
   "metadata": {
    "execution": {
     "iopub.execute_input": "2023-11-12T12:40:49.502334Z",
     "iopub.status.busy": "2023-11-12T12:40:49.502208Z",
     "iopub.status.idle": "2023-11-12T12:40:49.504010Z",
     "shell.execute_reply": "2023-11-12T12:40:49.503770Z"
    },
    "slideshow": {
     "slide_type": "fragment"
    }
   },
   "outputs": [],
   "source": [
    "test_source = (\n",
    "    '''if remove_html_markup('<foo>bar</foo>') != 'bar':\\n''' +\n",
    "    '''    raise RuntimeError(\"Missing functionality\")\\n''' +\n",
    "    '''assert remove_html_markup('\"foo\"') == '\"foo\"', \"My Test\"'''\n",
    ")"
   ]
  },
  {
   "cell_type": "code",
   "execution_count": 148,
   "metadata": {
    "execution": {
     "iopub.execute_input": "2023-11-12T12:40:49.505757Z",
     "iopub.status.busy": "2023-11-12T12:40:49.505506Z",
     "iopub.status.idle": "2023-11-12T12:40:49.507565Z",
     "shell.execute_reply": "2023-11-12T12:40:49.507217Z"
    },
    "slideshow": {
     "slide_type": "fragment"
    }
   },
   "outputs": [],
   "source": [
    "test_tree: ast.Module = ast.parse(test_source)"
   ]
  },
  {
   "cell_type": "code",
   "execution_count": 149,
   "metadata": {
    "execution": {
     "iopub.execute_input": "2023-11-12T12:40:49.509685Z",
     "iopub.status.busy": "2023-11-12T12:40:49.509467Z",
     "iopub.status.idle": "2023-11-12T12:40:49.543821Z",
     "shell.execute_reply": "2023-11-12T12:40:49.543410Z"
    },
    "slideshow": {
     "slide_type": "subslide"
    }
   },
   "outputs": [
    {
     "name": "stdout",
     "output_type": "stream",
     "text": [
      "\u001b[34mif\u001b[39;49;00m remove_html_markup(\u001b[33m'\u001b[39;49;00m\u001b[33m<foo>bar</foo>\u001b[39;49;00m\u001b[33m'\u001b[39;49;00m) != \u001b[33m'\u001b[39;49;00m\u001b[33mbar\u001b[39;49;00m\u001b[33m'\u001b[39;49;00m:\u001b[37m\u001b[39;49;00m\n",
      "    \u001b[34mraise\u001b[39;49;00m \u001b[36mRuntimeError\u001b[39;49;00m(\u001b[33m'\u001b[39;49;00m\u001b[33mMissing functionality\u001b[39;49;00m\u001b[33m'\u001b[39;49;00m)\u001b[37m\u001b[39;49;00m\n",
      "\u001b[34massert\u001b[39;49;00m remove_html_markup(\u001b[33m'\u001b[39;49;00m\u001b[33m\"\u001b[39;49;00m\u001b[33mfoo\u001b[39;49;00m\u001b[33m\"\u001b[39;49;00m\u001b[33m'\u001b[39;49;00m) == \u001b[33m'\u001b[39;49;00m\u001b[33m\"\u001b[39;49;00m\u001b[33mfoo\u001b[39;49;00m\u001b[33m\"\u001b[39;49;00m\u001b[33m'\u001b[39;49;00m, \u001b[33m'\u001b[39;49;00m\u001b[33mMy Test\u001b[39;49;00m\u001b[33m'\u001b[39;49;00m\u001b[37m\u001b[39;49;00m"
     ]
    }
   ],
   "source": [
    "print_content(ast.unparse(test_tree), '.py')"
   ]
  },
  {
   "cell_type": "markdown",
   "metadata": {
    "slideshow": {
     "slide_type": "fragment"
    }
   },
   "source": [
    "We can merge the function definition tree and the test tree into a single one:"
   ]
  },
  {
   "cell_type": "code",
   "execution_count": 150,
   "metadata": {
    "execution": {
     "iopub.execute_input": "2023-11-12T12:40:49.545614Z",
     "iopub.status.busy": "2023-11-12T12:40:49.545485Z",
     "iopub.status.idle": "2023-11-12T12:40:49.547153Z",
     "shell.execute_reply": "2023-11-12T12:40:49.546878Z"
    },
    "slideshow": {
     "slide_type": "skip"
    }
   },
   "outputs": [],
   "source": [
    "import copy"
   ]
  },
  {
   "cell_type": "code",
   "execution_count": 151,
   "metadata": {
    "execution": {
     "iopub.execute_input": "2023-11-12T12:40:49.548558Z",
     "iopub.status.busy": "2023-11-12T12:40:49.548466Z",
     "iopub.status.idle": "2023-11-12T12:40:49.551049Z",
     "shell.execute_reply": "2023-11-12T12:40:49.550601Z"
    },
    "slideshow": {
     "slide_type": "fragment"
    }
   },
   "outputs": [],
   "source": [
    "fun_test_tree = copy.deepcopy(fun_tree)\n",
    "fun_test_tree.body += test_tree.body"
   ]
  },
  {
   "cell_type": "markdown",
   "metadata": {
    "slideshow": {
     "slide_type": "fragment"
    }
   },
   "source": [
    "Such a tree can be compiled into a code object, using Python's `compile()` function:"
   ]
  },
  {
   "cell_type": "code",
   "execution_count": 152,
   "metadata": {
    "execution": {
     "iopub.execute_input": "2023-11-12T12:40:49.553458Z",
     "iopub.status.busy": "2023-11-12T12:40:49.553334Z",
     "iopub.status.idle": "2023-11-12T12:40:49.555741Z",
     "shell.execute_reply": "2023-11-12T12:40:49.555211Z"
    },
    "slideshow": {
     "slide_type": "fragment"
    }
   },
   "outputs": [],
   "source": [
    "fun_test_code = compile(fun_test_tree, '<string>', 'exec')"
   ]
  },
  {
   "cell_type": "markdown",
   "metadata": {
    "slideshow": {
     "slide_type": "fragment"
    }
   },
   "source": [
    "and the resulting code object can be executed directly, using the Python `exec()` function. We see that our test fails as expected."
   ]
  },
  {
   "cell_type": "code",
   "execution_count": 153,
   "metadata": {
    "execution": {
     "iopub.execute_input": "2023-11-12T12:40:49.558127Z",
     "iopub.status.busy": "2023-11-12T12:40:49.557818Z",
     "iopub.status.idle": "2023-11-12T12:40:49.560142Z",
     "shell.execute_reply": "2023-11-12T12:40:49.559844Z"
    },
    "slideshow": {
     "slide_type": "subslide"
    }
   },
   "outputs": [
    {
     "name": "stderr",
     "output_type": "stream",
     "text": [
      "Traceback (most recent call last):\n",
      "  File \"/var/folders/n2/xd9445p97rb3xh7m1dfx8_4h0006ts/T/ipykernel_25735/1290587190.py\", line 2, in <cell line: 1>\n",
      "    exec(fun_test_code, {}, {})\n",
      "  File \"<string>\", line 3, in <module>\n",
      "AssertionError: My Test (expected)\n"
     ]
    }
   ],
   "source": [
    "with ExpectError(AssertionError):\n",
    "    exec(fun_test_code, {}, {})"
   ]
  },
  {
   "cell_type": "markdown",
   "metadata": {
    "slideshow": {
     "slide_type": "subslide"
    }
   },
   "source": [
    "#### Traversing Syntax Trees\n",
    "\n",
    "Our goal is now to reduce this tree (or at least the subtree with the function definition) to a minimum. \n",
    "To this end, we manipulate the AST through the `ast` Python module. The [official Python `ast` reference](http://docs.python.org/3/library/ast) is complete, but a bit brief; the documentation [\"Green Tree Snakes - the missing Python AST docs\"](https://greentreesnakes.readthedocs.io/en/latest/) provides an excellent introduction."
   ]
  },
  {
   "cell_type": "markdown",
   "metadata": {
    "slideshow": {
     "slide_type": "subslide"
    }
   },
   "source": [
    "The two means for exploring and changing ASTs are the classes `NodeVisitor` and `NodeTransformer`, respectively. We start with creating a list of all nodes in the tree, using a `NodeVisitor` subclass.\n",
    "\n",
    "Its `visit()` method is called for every node in the tree, which we achieve by having it return `self.generic_visit()` for the current node. It saves all visited nodes in the `_all_nodes` attribute."
   ]
  },
  {
   "cell_type": "code",
   "execution_count": 154,
   "metadata": {
    "execution": {
     "iopub.execute_input": "2023-11-12T12:40:49.561904Z",
     "iopub.status.busy": "2023-11-12T12:40:49.561767Z",
     "iopub.status.idle": "2023-11-12T12:40:49.563566Z",
     "shell.execute_reply": "2023-11-12T12:40:49.563223Z"
    },
    "slideshow": {
     "slide_type": "skip"
    }
   },
   "outputs": [],
   "source": [
    "from ast import NodeTransformer, NodeVisitor, AST"
   ]
  },
  {
   "cell_type": "code",
   "execution_count": 155,
   "metadata": {
    "execution": {
     "iopub.execute_input": "2023-11-12T12:40:49.565570Z",
     "iopub.status.busy": "2023-11-12T12:40:49.565444Z",
     "iopub.status.idle": "2023-11-12T12:40:49.568265Z",
     "shell.execute_reply": "2023-11-12T12:40:49.567884Z"
    },
    "slideshow": {
     "slide_type": "subslide"
    }
   },
   "outputs": [],
   "source": [
    "class NodeCollector(NodeVisitor):\n",
    "    \"\"\"Collect all nodes in an AST.\"\"\"\n",
    "\n",
    "    def __init__(self) -> None:\n",
    "        super().__init__()\n",
    "        self._all_nodes: List[AST] = []\n",
    "\n",
    "    def generic_visit(self, node: AST) -> None:\n",
    "        self._all_nodes.append(node)\n",
    "        return super().generic_visit(node)\n",
    "\n",
    "    def collect(self, tree: AST) -> List[AST]:\n",
    "        \"\"\"Return a list of all nodes in tree.\"\"\"\n",
    "        self._all_nodes = []\n",
    "        self.visit(tree)\n",
    "        return self._all_nodes"
   ]
  },
  {
   "cell_type": "markdown",
   "metadata": {
    "slideshow": {
     "slide_type": "subslide"
    }
   },
   "source": [
    "This is how our `NodeCollector()` class produces a list of all nodes:"
   ]
  },
  {
   "cell_type": "code",
   "execution_count": 156,
   "metadata": {
    "execution": {
     "iopub.execute_input": "2023-11-12T12:40:49.570197Z",
     "iopub.status.busy": "2023-11-12T12:40:49.570047Z",
     "iopub.status.idle": "2023-11-12T12:40:49.572654Z",
     "shell.execute_reply": "2023-11-12T12:40:49.572322Z"
    },
    "slideshow": {
     "slide_type": "fragment"
    }
   },
   "outputs": [
    {
     "data": {
      "text/plain": [
       "107"
      ]
     },
     "execution_count": 156,
     "metadata": {},
     "output_type": "execute_result"
    }
   ],
   "source": [
    "fun_nodes = NodeCollector().collect(fun_tree)\n",
    "len(fun_nodes)"
   ]
  },
  {
   "cell_type": "code",
   "execution_count": 157,
   "metadata": {
    "execution": {
     "iopub.execute_input": "2023-11-12T12:40:49.574457Z",
     "iopub.status.busy": "2023-11-12T12:40:49.574295Z",
     "iopub.status.idle": "2023-11-12T12:40:49.576963Z",
     "shell.execute_reply": "2023-11-12T12:40:49.576680Z"
    },
    "slideshow": {
     "slide_type": "subslide"
    }
   },
   "outputs": [
    {
     "data": {
      "text/plain": [
       "[<ast.Module at 0x1061c7a90>,\n",
       " <ast.FunctionDef at 0x1061c7640>,\n",
       " <ast.arguments at 0x1061c5240>,\n",
       " <ast.arg at 0x1061c4af0>,\n",
       " <ast.Assign at 0x1061c75e0>,\n",
       " <ast.Name at 0x1061c6cb0>,\n",
       " <ast.Store at 0x101296410>,\n",
       " <ast.Constant at 0x1061c6c50>,\n",
       " <ast.Assign at 0x1061c4700>,\n",
       " <ast.Name at 0x1061c57e0>,\n",
       " <ast.Store at 0x101296410>,\n",
       " <ast.Constant at 0x1061c6fb0>,\n",
       " <ast.Assign at 0x1061c7460>,\n",
       " <ast.Name at 0x1061c64d0>,\n",
       " <ast.Store at 0x101296410>,\n",
       " <ast.Constant at 0x1061c5540>,\n",
       " <ast.For at 0x1061c7970>,\n",
       " <ast.Name at 0x1061c6380>,\n",
       " <ast.Store at 0x101296410>,\n",
       " <ast.Name at 0x1061c67d0>,\n",
       " <ast.Load at 0x1012963b0>,\n",
       " <ast.If at 0x1061c6590>,\n",
       " <ast.BoolOp at 0x1061c6440>,\n",
       " <ast.And at 0x101296500>,\n",
       " <ast.Compare at 0x1061c4940>,\n",
       " <ast.Name at 0x1061c4ee0>,\n",
       " <ast.Load at 0x1012963b0>,\n",
       " <ast.Eq at 0x101296ce0>,\n",
       " <ast.Constant at 0x1061c4d00>,\n",
       " <ast.UnaryOp at 0x1061c5e40>]"
      ]
     },
     "execution_count": 157,
     "metadata": {},
     "output_type": "execute_result"
    }
   ],
   "source": [
    "fun_nodes[:30]"
   ]
  },
  {
   "cell_type": "markdown",
   "metadata": {
    "slideshow": {
     "slide_type": "subslide"
    }
   },
   "source": [
    "Such a list of nodes is what we can feed into Delta Debugging in order to reduce it. The idea is that with every test, we take the tree and for each node in the tree, we check whether it is still in the list – if not, we remove it. Thus, by reducing the list of nodes, we simultaneously reduce the tree as well."
   ]
  },
  {
   "cell_type": "markdown",
   "metadata": {
    "slideshow": {
     "slide_type": "subslide"
    }
   },
   "source": [
    "#### Deleting Nodes\n",
    "\n",
    "In our next step, we write some code that, given such a list of nodes, _prunes_ the tree such that _only_ elements in the list are still contained. To this end, we proceed in four steps:\n",
    "\n",
    "1. We traverse the original AST, _marking_ all nodes as \"to be deleted\".\n",
    "2. We traverse the given list of nodes, clearing their markers.\n",
    "3. We copy the original tree (including the markers) into a new tree – the one to be reduced.\n",
    "4. We traverse the new tree, now deleting all marked nodes."
   ]
  },
  {
   "cell_type": "markdown",
   "metadata": {
    "slideshow": {
     "slide_type": "subslide"
    }
   },
   "source": [
    "Why do we go through such an extra effort? The reason is that our list of nodes contains references into the _original_ tree – a tree that needs to stay unchanged such that we can reuse it for later. The new tree (the copy) has the same nodes, but at different addresses, so our original references cannot be used anymore. Markers, however, just like any other attributes, are safely copied from the original into the new tree."
   ]
  },
  {
   "cell_type": "markdown",
   "metadata": {
    "slideshow": {
     "slide_type": "fragment"
    }
   },
   "source": [
    "The `NodeMarker()` visitor marks all nodes in a tree:"
   ]
  },
  {
   "cell_type": "code",
   "execution_count": 158,
   "metadata": {
    "execution": {
     "iopub.execute_input": "2023-11-12T12:40:49.578746Z",
     "iopub.status.busy": "2023-11-12T12:40:49.578629Z",
     "iopub.status.idle": "2023-11-12T12:40:49.580698Z",
     "shell.execute_reply": "2023-11-12T12:40:49.580425Z"
    },
    "slideshow": {
     "slide_type": "fragment"
    }
   },
   "outputs": [],
   "source": [
    "class NodeMarker(NodeVisitor):\n",
    "    def visit(self, node: AST) -> AST:\n",
    "        node.marked = True  # type: ignore\n",
    "        return super().generic_visit(node)"
   ]
  },
  {
   "cell_type": "markdown",
   "metadata": {
    "slideshow": {
     "slide_type": "subslide"
    }
   },
   "source": [
    "The `NodeReducer()` transformer reduces all marked nodes. If a method `visit_<node class>()` is defined, it will be invoked; otherwise, `visit_Node()` is invoked, which _deletes_ the node (and its subtree) by returning `None`. "
   ]
  },
  {
   "cell_type": "code",
   "execution_count": 159,
   "metadata": {
    "execution": {
     "iopub.execute_input": "2023-11-12T12:40:49.582529Z",
     "iopub.status.busy": "2023-11-12T12:40:49.582223Z",
     "iopub.status.idle": "2023-11-12T12:40:49.585082Z",
     "shell.execute_reply": "2023-11-12T12:40:49.584792Z"
    },
    "slideshow": {
     "slide_type": "subslide"
    }
   },
   "outputs": [],
   "source": [
    "class NodeReducer(NodeTransformer):\n",
    "    def visit(self, node: AST) -> Any:\n",
    "        method = 'visit_' + node.__class__.__name__\n",
    "        visitor = getattr(self, method, self.visit_Node)\n",
    "        return visitor(node)\n",
    "\n",
    "    def visit_Module(self, node: AST) -> Any:\n",
    "        # Can't remove modules\n",
    "        return super().generic_visit(node)\n",
    "\n",
    "    def visit_Node(self, node: AST) -> Any:\n",
    "        \"\"\"Default visitor for all nodes\"\"\"\n",
    "        if node.marked:  # type: ignore\n",
    "            return None  # delete it\n",
    "        return super().generic_visit(node)"
   ]
  },
  {
   "cell_type": "markdown",
   "metadata": {
    "slideshow": {
     "slide_type": "subslide"
    }
   },
   "source": [
    "Our function `copy_and_reduce()` puts these pieces together:"
   ]
  },
  {
   "cell_type": "code",
   "execution_count": 160,
   "metadata": {
    "execution": {
     "iopub.execute_input": "2023-11-12T12:40:49.586557Z",
     "iopub.status.busy": "2023-11-12T12:40:49.586448Z",
     "iopub.status.idle": "2023-11-12T12:40:49.588616Z",
     "shell.execute_reply": "2023-11-12T12:40:49.588345Z"
    },
    "slideshow": {
     "slide_type": "fragment"
    }
   },
   "outputs": [],
   "source": [
    "def copy_and_reduce(tree: AST, keep_list: List[AST]) -> AST:\n",
    "    \"\"\"Copy tree, reducing all nodes that are not in keep_list.\"\"\"\n",
    "\n",
    "    # Mark all nodes except those in keep_list\n",
    "    NodeMarker().visit(tree)\n",
    "    for node in keep_list:\n",
    "        # print(\"Clearing\", node)\n",
    "        node.marked = False  # type: ignore\n",
    "\n",
    "    # Copy tree and delete marked nodes\n",
    "    new_tree = copy.deepcopy(tree)\n",
    "    NodeReducer().visit(new_tree)\n",
    "    return new_tree"
   ]
  },
  {
   "cell_type": "markdown",
   "metadata": {
    "slideshow": {
     "slide_type": "subslide"
    }
   },
   "source": [
    "Let us apply this in practice. We take the first assignment in our tree..."
   ]
  },
  {
   "cell_type": "code",
   "execution_count": 161,
   "metadata": {
    "execution": {
     "iopub.execute_input": "2023-11-12T12:40:49.590391Z",
     "iopub.status.busy": "2023-11-12T12:40:49.590271Z",
     "iopub.status.idle": "2023-11-12T12:40:49.592929Z",
     "shell.execute_reply": "2023-11-12T12:40:49.592544Z"
    },
    "slideshow": {
     "slide_type": "fragment"
    }
   },
   "outputs": [
    {
     "data": {
      "text/plain": [
       "<ast.Assign at 0x1061c75e0>"
      ]
     },
     "execution_count": 161,
     "metadata": {},
     "output_type": "execute_result"
    }
   ],
   "source": [
    "fun_nodes[4]"
   ]
  },
  {
   "cell_type": "markdown",
   "metadata": {
    "slideshow": {
     "slide_type": "fragment"
    }
   },
   "source": [
    "... whose subtree happens to be the assignment to `tag`:"
   ]
  },
  {
   "cell_type": "code",
   "execution_count": 162,
   "metadata": {
    "execution": {
     "iopub.execute_input": "2023-11-12T12:40:49.594585Z",
     "iopub.status.busy": "2023-11-12T12:40:49.594472Z",
     "iopub.status.idle": "2023-11-12T12:40:49.596573Z",
     "shell.execute_reply": "2023-11-12T12:40:49.596312Z"
    },
    "slideshow": {
     "slide_type": "fragment"
    }
   },
   "outputs": [
    {
     "data": {
      "text/plain": [
       "'tag = False'"
      ]
     },
     "execution_count": 162,
     "metadata": {},
     "output_type": "execute_result"
    }
   ],
   "source": [
    "ast.unparse(fun_nodes[4])"
   ]
  },
  {
   "cell_type": "markdown",
   "metadata": {
    "slideshow": {
     "slide_type": "fragment"
    }
   },
   "source": [
    "We keep all nodes _except_ for this one."
   ]
  },
  {
   "cell_type": "code",
   "execution_count": 163,
   "metadata": {
    "execution": {
     "iopub.execute_input": "2023-11-12T12:40:49.598181Z",
     "iopub.status.busy": "2023-11-12T12:40:49.598055Z",
     "iopub.status.idle": "2023-11-12T12:40:49.599730Z",
     "shell.execute_reply": "2023-11-12T12:40:49.599473Z"
    },
    "slideshow": {
     "slide_type": "fragment"
    }
   },
   "outputs": [],
   "source": [
    "keep_list = fun_nodes.copy()\n",
    "del keep_list[4]"
   ]
  },
  {
   "cell_type": "markdown",
   "metadata": {
    "slideshow": {
     "slide_type": "fragment"
    }
   },
   "source": [
    "Let us now create a copy of the tree in which the assignment is missing:"
   ]
  },
  {
   "cell_type": "code",
   "execution_count": 164,
   "metadata": {
    "execution": {
     "iopub.execute_input": "2023-11-12T12:40:49.601331Z",
     "iopub.status.busy": "2023-11-12T12:40:49.601213Z",
     "iopub.status.idle": "2023-11-12T12:40:50.074728Z",
     "shell.execute_reply": "2023-11-12T12:40:50.074307Z"
    },
    "slideshow": {
     "slide_type": "fragment"
    }
   },
   "outputs": [
    {
     "data": {
      "image/svg+xml": [
       "<svg xmlns=\"http://www.w3.org/2000/svg\" xmlns:xlink=\"http://www.w3.org/1999/xlink\" width=\"2685pt\" height=\"692pt\" viewBox=\"0.00 0.00 2685.00 692.00\">\n",
       "<g id=\"graph0\" class=\"graph\" transform=\"scale(1 1) rotate(0) translate(4 688)\">\n",
       "<polygon fill=\"white\" stroke=\"none\" points=\"-4,4 -4,-688 2681,-688 2681,4 -4,4\"/>\n",
       "<!-- 0 -->\n",
       "<g id=\"node1\" class=\"node\">\n",
       "<title>0</title>\n",
       "<text text-anchor=\"start\" x=\"403.62\" y=\"-661.95\" font-family=\"Courier,monospace\" font-weight=\"bold\" font-size=\"14.00\" fill=\"#004080\">FunctionDef</text>\n",
       "</g>\n",
       "<!-- 1 -->\n",
       "<g id=\"node2\" class=\"node\">\n",
       "<title>1</title>\n",
       "<text text-anchor=\"middle\" x=\"104\" y=\"-588.95\" font-family=\"Courier,monospace\" font-size=\"14.00\" fill=\"#008040\">&quot;remove_html_markup&quot;</text>\n",
       "</g>\n",
       "<!-- 0&#45;&#45;1 -->\n",
       "<g id=\"edge1\" class=\"edge\">\n",
       "<title>0--1</title>\n",
       "<path fill=\"none\" stroke=\"black\" d=\"M451,-647C451,-647 313.55,-629.07 204,-612 200.87,-611.51 197.68,-611.01 194.47,-610.49\"/>\n",
       "</g>\n",
       "<!-- 2 -->\n",
       "<g id=\"node3\" class=\"node\">\n",
       "<title>2</title>\n",
       "<text text-anchor=\"start\" x=\"220.88\" y=\"-589.95\" font-family=\"Courier,monospace\" font-weight=\"bold\" font-size=\"14.00\" fill=\"#004080\">arguments</text>\n",
       "</g>\n",
       "<!-- 0&#45;&#45;2 -->\n",
       "<g id=\"edge2\" class=\"edge\">\n",
       "<title>0--2</title>\n",
       "<path fill=\"none\" stroke=\"black\" d=\"M451,-647C451,-647 373.3,-629.35 312,-612 309.07,-611.17 306.05,-610.29 303.02,-609.39\"/>\n",
       "</g>\n",
       "<!-- 5 -->\n",
       "<g id=\"node6\" class=\"node\">\n",
       "<title>5</title>\n",
       "<text text-anchor=\"start\" x=\"329.25\" y=\"-589.95\" font-family=\"Courier,monospace\" font-weight=\"bold\" font-size=\"14.00\" fill=\"#004080\">Assign</text>\n",
       "</g>\n",
       "<!-- 0&#45;&#45;5 -->\n",
       "<g id=\"edge5\" class=\"edge\">\n",
       "<title>0--5</title>\n",
       "<path fill=\"none\" stroke=\"black\" d=\"M451,-647C451,-647 413.82,-627.07 385.49,-611.88\"/>\n",
       "</g>\n",
       "<!-- 11 -->\n",
       "<g id=\"node12\" class=\"node\">\n",
       "<title>11</title>\n",
       "<text text-anchor=\"start\" x=\"424.25\" y=\"-589.95\" font-family=\"Courier,monospace\" font-weight=\"bold\" font-size=\"14.00\" fill=\"#004080\">Assign</text>\n",
       "</g>\n",
       "<!-- 0&#45;&#45;11 -->\n",
       "<g id=\"edge11\" class=\"edge\">\n",
       "<title>0--11</title>\n",
       "<path fill=\"none\" stroke=\"black\" d=\"M451,-647C451,-647 450.23,-626.94 449.64,-611.74\"/>\n",
       "</g>\n",
       "<!-- 17 -->\n",
       "<g id=\"node18\" class=\"node\">\n",
       "<title>17</title>\n",
       "<text text-anchor=\"start\" x=\"662.62\" y=\"-589.95\" font-family=\"Courier,monospace\" font-weight=\"bold\" font-size=\"14.00\" fill=\"#004080\">For</text>\n",
       "</g>\n",
       "<!-- 0&#45;&#45;17 -->\n",
       "<g id=\"edge17\" class=\"edge\">\n",
       "<title>0--17</title>\n",
       "<path fill=\"none\" stroke=\"black\" d=\"M451,-647C451,-647 589.09,-614.94 648.42,-601.17\"/>\n",
       "</g>\n",
       "<!-- 115 -->\n",
       "<g id=\"node116\" class=\"node\">\n",
       "<title>115</title>\n",
       "<text text-anchor=\"start\" x=\"1311.25\" y=\"-589.95\" font-family=\"Courier,monospace\" font-weight=\"bold\" font-size=\"14.00\" fill=\"#004080\">Assert</text>\n",
       "</g>\n",
       "<!-- 0&#45;&#45;115 -->\n",
       "<g id=\"edge115\" class=\"edge\">\n",
       "<title>0--115</title>\n",
       "<path fill=\"none\" stroke=\"black\" d=\"M451,-647C451,-647 1143.79,-606.29 1303.45,-596.91\"/>\n",
       "</g>\n",
       "<!-- 132 -->\n",
       "<g id=\"node133\" class=\"node\">\n",
       "<title>132</title>\n",
       "<text text-anchor=\"start\" x=\"1766.25\" y=\"-589.95\" font-family=\"Courier,monospace\" font-weight=\"bold\" font-size=\"14.00\" fill=\"#004080\">Return</text>\n",
       "</g>\n",
       "<!-- 0&#45;&#45;132 -->\n",
       "<g id=\"edge132\" class=\"edge\">\n",
       "<title>0--132</title>\n",
       "<path fill=\"none\" stroke=\"black\" d=\"M451,-647C451,-647 966.03,-628.26 1378,-612 1519.62,-606.41 1688.54,-599.33 1758.34,-596.38\"/>\n",
       "</g>\n",
       "<!-- 3 -->\n",
       "<g id=\"node4\" class=\"node\">\n",
       "<title>3</title>\n",
       "<text text-anchor=\"start\" x=\"61.62\" y=\"-517.95\" font-family=\"Courier,monospace\" font-weight=\"bold\" font-size=\"14.00\" fill=\"#004080\">arg</text>\n",
       "</g>\n",
       "<!-- 2&#45;&#45;3 -->\n",
       "<g id=\"edge3\" class=\"edge\">\n",
       "<title>2--3</title>\n",
       "<path fill=\"none\" stroke=\"black\" d=\"M213.46,-576.05C178.25,-562.66 130.28,-544.41 100.76,-533.18\"/>\n",
       "</g>\n",
       "<!-- 4 -->\n",
       "<g id=\"node5\" class=\"node\">\n",
       "<title>4</title>\n",
       "<text text-anchor=\"middle\" x=\"27\" y=\"-444.95\" font-family=\"Courier,monospace\" font-size=\"14.00\" fill=\"#008040\">&quot;s&quot;</text>\n",
       "</g>\n",
       "<!-- 3&#45;&#45;4 -->\n",
       "<g id=\"edge4\" class=\"edge\">\n",
       "<title>3--4</title>\n",
       "<path fill=\"none\" stroke=\"black\" d=\"M62.62,-504.05C55.23,-493.05 45.64,-478.76 38.27,-467.79\"/>\n",
       "</g>\n",
       "<!-- 6 -->\n",
       "<g id=\"node7\" class=\"node\">\n",
       "<title>6</title>\n",
       "<text text-anchor=\"start\" x=\"176.5\" y=\"-517.95\" font-family=\"Courier,monospace\" font-weight=\"bold\" font-size=\"14.00\" fill=\"#004080\">Name</text>\n",
       "</g>\n",
       "<!-- 5&#45;&#45;6 -->\n",
       "<g id=\"edge6\" class=\"edge\">\n",
       "<title>5--6</title>\n",
       "<path fill=\"none\" stroke=\"black\" d=\"M332,-575C332,-575 260.19,-548.14 219.8,-533.03\"/>\n",
       "</g>\n",
       "<!-- 9 -->\n",
       "<g id=\"node10\" class=\"node\">\n",
       "<title>9</title>\n",
       "<text text-anchor=\"start\" x=\"267\" y=\"-517.95\" font-family=\"Courier,monospace\" font-weight=\"bold\" font-size=\"14.00\" fill=\"#004080\">Constant</text>\n",
       "</g>\n",
       "<!-- 5&#45;&#45;9 -->\n",
       "<g id=\"edge9\" class=\"edge\">\n",
       "<title>5--9</title>\n",
       "<path fill=\"none\" stroke=\"black\" d=\"M332,-575C332,-575 319.66,-554.94 310.3,-539.74\"/>\n",
       "</g>\n",
       "<!-- 7 -->\n",
       "<g id=\"node8\" class=\"node\">\n",
       "<title>7</title>\n",
       "<text text-anchor=\"middle\" x=\"109\" y=\"-444.95\" font-family=\"Courier,monospace\" font-size=\"14.00\" fill=\"#008040\">&quot;quote&quot;</text>\n",
       "</g>\n",
       "<!-- 6&#45;&#45;7 -->\n",
       "<g id=\"edge7\" class=\"edge\">\n",
       "<title>6--7</title>\n",
       "<path fill=\"none\" stroke=\"black\" d=\"M185,-503C185,-503 155.68,-482.94 133.47,-467.74\"/>\n",
       "</g>\n",
       "<!-- 8 -->\n",
       "<g id=\"node9\" class=\"node\">\n",
       "<title>8</title>\n",
       "<text text-anchor=\"middle\" x=\"193\" y=\"-444.95\" font-family=\"Courier,monospace\" font-size=\"14.00\" fill=\"#008040\">Store</text>\n",
       "</g>\n",
       "<!-- 6&#45;&#45;8 -->\n",
       "<g id=\"edge8\" class=\"edge\">\n",
       "<title>6--8</title>\n",
       "<path fill=\"none\" stroke=\"black\" d=\"M185,-503C185,-503 188.09,-482.94 190.42,-467.74\"/>\n",
       "</g>\n",
       "<!-- 10 -->\n",
       "<g id=\"node11\" class=\"node\">\n",
       "<title>10</title>\n",
       "<text text-anchor=\"middle\" x=\"268\" y=\"-444.95\" font-family=\"Courier,monospace\" font-size=\"14.00\" fill=\"#008040\">False</text>\n",
       "</g>\n",
       "<!-- 9&#45;&#45;10 -->\n",
       "<g id=\"edge10\" class=\"edge\">\n",
       "<title>9--10</title>\n",
       "<path fill=\"none\" stroke=\"black\" d=\"M292.25,-504.05C287.22,-493.05 280.69,-478.76 275.67,-467.79\"/>\n",
       "</g>\n",
       "<!-- 12 -->\n",
       "<g id=\"node13\" class=\"node\">\n",
       "<title>12</title>\n",
       "<text text-anchor=\"start\" x=\"389.5\" y=\"-517.95\" font-family=\"Courier,monospace\" font-weight=\"bold\" font-size=\"14.00\" fill=\"#004080\">Name</text>\n",
       "</g>\n",
       "<!-- 11&#45;&#45;12 -->\n",
       "<g id=\"edge12\" class=\"edge\">\n",
       "<title>11--12</title>\n",
       "<path fill=\"none\" stroke=\"black\" d=\"M449,-575C449,-575 432.41,-554.94 419.84,-539.74\"/>\n",
       "</g>\n",
       "<!-- 15 -->\n",
       "<g id=\"node16\" class=\"node\">\n",
       "<title>15</title>\n",
       "<text text-anchor=\"start\" x=\"459\" y=\"-517.95\" font-family=\"Courier,monospace\" font-weight=\"bold\" font-size=\"14.00\" fill=\"#004080\">Constant</text>\n",
       "</g>\n",
       "<!-- 11&#45;&#45;15 -->\n",
       "<g id=\"edge15\" class=\"edge\">\n",
       "<title>11--15</title>\n",
       "<path fill=\"none\" stroke=\"black\" d=\"M449,-575C449,-575 465.59,-554.94 478.16,-539.74\"/>\n",
       "</g>\n",
       "<!-- 13 -->\n",
       "<g id=\"node14\" class=\"node\">\n",
       "<title>13</title>\n",
       "<text text-anchor=\"middle\" x=\"343\" y=\"-444.95\" font-family=\"Courier,monospace\" font-size=\"14.00\" fill=\"#008040\">&quot;out&quot;</text>\n",
       "</g>\n",
       "<!-- 12&#45;&#45;13 -->\n",
       "<g id=\"edge13\" class=\"edge\">\n",
       "<title>12--13</title>\n",
       "<path fill=\"none\" stroke=\"black\" d=\"M401,-503C401,-503 378.63,-482.94 361.67,-467.74\"/>\n",
       "</g>\n",
       "<!-- 14 -->\n",
       "<g id=\"node15\" class=\"node\">\n",
       "<title>14</title>\n",
       "<text text-anchor=\"middle\" x=\"418\" y=\"-444.95\" font-family=\"Courier,monospace\" font-size=\"14.00\" fill=\"#008040\">Store</text>\n",
       "</g>\n",
       "<!-- 12&#45;&#45;14 -->\n",
       "<g id=\"edge14\" class=\"edge\">\n",
       "<title>12--14</title>\n",
       "<path fill=\"none\" stroke=\"black\" d=\"M401,-503C401,-503 407.56,-482.94 412.53,-467.74\"/>\n",
       "</g>\n",
       "<!-- 16 -->\n",
       "<g id=\"node17\" class=\"node\">\n",
       "<title>16</title>\n",
       "<text text-anchor=\"middle\" x=\"492\" y=\"-444.95\" font-family=\"Courier,monospace\" font-size=\"14.00\" fill=\"#008040\">&quot;&quot;</text>\n",
       "</g>\n",
       "<!-- 15&#45;&#45;16 -->\n",
       "<g id=\"edge16\" class=\"edge\">\n",
       "<title>15--16</title>\n",
       "<path fill=\"none\" stroke=\"black\" d=\"M492,-504.05C492,-493.05 492,-478.76 492,-467.79\"/>\n",
       "</g>\n",
       "<!-- 18 -->\n",
       "<g id=\"node19\" class=\"node\">\n",
       "<title>18</title>\n",
       "<text text-anchor=\"start\" x=\"621.5\" y=\"-517.95\" font-family=\"Courier,monospace\" font-weight=\"bold\" font-size=\"14.00\" fill=\"#004080\">Name</text>\n",
       "</g>\n",
       "<!-- 17&#45;&#45;18 -->\n",
       "<g id=\"edge18\" class=\"edge\">\n",
       "<title>17--18</title>\n",
       "<path fill=\"none\" stroke=\"black\" d=\"M683,-575C683,-575 665.64,-554.94 652.49,-539.74\"/>\n",
       "</g>\n",
       "<!-- 21 -->\n",
       "<g id=\"node22\" class=\"node\">\n",
       "<title>21</title>\n",
       "<text text-anchor=\"start\" x=\"695.5\" y=\"-517.95\" font-family=\"Courier,monospace\" font-weight=\"bold\" font-size=\"14.00\" fill=\"#004080\">Name</text>\n",
       "</g>\n",
       "<!-- 17&#45;&#45;21 -->\n",
       "<g id=\"edge21\" class=\"edge\">\n",
       "<title>17--21</title>\n",
       "<path fill=\"none\" stroke=\"black\" d=\"M683,-575C683,-575 694.19,-554.94 702.66,-539.74\"/>\n",
       "</g>\n",
       "<!-- 24 -->\n",
       "<g id=\"node25\" class=\"node\">\n",
       "<title>24</title>\n",
       "<text text-anchor=\"start\" x=\"895.75\" y=\"-517.95\" font-family=\"Courier,monospace\" font-weight=\"bold\" font-size=\"14.00\" fill=\"#004080\">If</text>\n",
       "</g>\n",
       "<!-- 17&#45;&#45;24 -->\n",
       "<g id=\"edge24\" class=\"edge\">\n",
       "<title>17--24</title>\n",
       "<path fill=\"none\" stroke=\"black\" d=\"M683,-575C683,-575 818.56,-543.1 877.34,-529.27\"/>\n",
       "</g>\n",
       "<!-- 19 -->\n",
       "<g id=\"node20\" class=\"node\">\n",
       "<title>19</title>\n",
       "<text text-anchor=\"middle\" x=\"564\" y=\"-444.95\" font-family=\"Courier,monospace\" font-size=\"14.00\" fill=\"#008040\">&quot;c&quot;</text>\n",
       "</g>\n",
       "<!-- 18&#45;&#45;19 -->\n",
       "<g id=\"edge19\" class=\"edge\">\n",
       "<title>18--19</title>\n",
       "<path fill=\"none\" stroke=\"black\" d=\"M630,-503C630,-503 604.54,-482.94 585.25,-467.74\"/>\n",
       "</g>\n",
       "<!-- 20 -->\n",
       "<g id=\"node21\" class=\"node\">\n",
       "<title>20</title>\n",
       "<text text-anchor=\"middle\" x=\"638\" y=\"-444.95\" font-family=\"Courier,monospace\" font-size=\"14.00\" fill=\"#008040\">Store</text>\n",
       "</g>\n",
       "<!-- 18&#45;&#45;20 -->\n",
       "<g id=\"edge20\" class=\"edge\">\n",
       "<title>18--20</title>\n",
       "<path fill=\"none\" stroke=\"black\" d=\"M630,-503C630,-503 633.09,-482.94 635.42,-467.74\"/>\n",
       "</g>\n",
       "<!-- 22 -->\n",
       "<g id=\"node23\" class=\"node\">\n",
       "<title>22</title>\n",
       "<text text-anchor=\"middle\" x=\"712\" y=\"-444.95\" font-family=\"Courier,monospace\" font-size=\"14.00\" fill=\"#008040\">&quot;s&quot;</text>\n",
       "</g>\n",
       "<!-- 21&#45;&#45;22 -->\n",
       "<g id=\"edge22\" class=\"edge\">\n",
       "<title>21--22</title>\n",
       "<path fill=\"none\" stroke=\"black\" d=\"M719,-503C719,-503 716.3,-482.94 714.25,-467.74\"/>\n",
       "</g>\n",
       "<!-- 23 -->\n",
       "<g id=\"node24\" class=\"node\">\n",
       "<title>23</title>\n",
       "<text text-anchor=\"middle\" x=\"784\" y=\"-444.95\" font-family=\"Courier,monospace\" font-size=\"14.00\" fill=\"#008040\">Load</text>\n",
       "</g>\n",
       "<!-- 21&#45;&#45;23 -->\n",
       "<g id=\"edge23\" class=\"edge\">\n",
       "<title>21--23</title>\n",
       "<path fill=\"none\" stroke=\"black\" d=\"M719,-503C719,-503 744.07,-482.94 763.08,-467.74\"/>\n",
       "</g>\n",
       "<!-- 25 -->\n",
       "<g id=\"node26\" class=\"node\">\n",
       "<title>25</title>\n",
       "<text text-anchor=\"start\" x=\"837.25\" y=\"-445.95\" font-family=\"Courier,monospace\" font-weight=\"bold\" font-size=\"14.00\" fill=\"#004080\">BoolOp</text>\n",
       "</g>\n",
       "<!-- 24&#45;&#45;25 -->\n",
       "<g id=\"edge25\" class=\"edge\">\n",
       "<title>24--25</title>\n",
       "<path fill=\"none\" stroke=\"black\" d=\"M913,-503C913,-503 893.33,-482.94 878.42,-467.74\"/>\n",
       "</g>\n",
       "<!-- 39 -->\n",
       "<g id=\"node40\" class=\"node\">\n",
       "<title>39</title>\n",
       "<text text-anchor=\"start\" x=\"921.25\" y=\"-445.95\" font-family=\"Courier,monospace\" font-weight=\"bold\" font-size=\"14.00\" fill=\"#004080\">Assign</text>\n",
       "</g>\n",
       "<!-- 24&#45;&#45;39 -->\n",
       "<g id=\"edge39\" class=\"edge\">\n",
       "<title>24--39</title>\n",
       "<path fill=\"none\" stroke=\"black\" d=\"M913,-503C913,-503 925.73,-482.94 935.38,-467.74\"/>\n",
       "</g>\n",
       "<!-- 45 -->\n",
       "<g id=\"node46\" class=\"node\">\n",
       "<title>45</title>\n",
       "<text text-anchor=\"start\" x=\"1235.75\" y=\"-445.95\" font-family=\"Courier,monospace\" font-weight=\"bold\" font-size=\"14.00\" fill=\"#004080\">If</text>\n",
       "</g>\n",
       "<!-- 24&#45;&#45;45 -->\n",
       "<g id=\"edge45\" class=\"edge\">\n",
       "<title>24--45</title>\n",
       "<path fill=\"none\" stroke=\"black\" d=\"M913,-503C913,-503 1138.39,-467.59 1217.19,-455.21\"/>\n",
       "</g>\n",
       "<!-- 26 -->\n",
       "<g id=\"node27\" class=\"node\">\n",
       "<title>26</title>\n",
       "<text text-anchor=\"middle\" x=\"526\" y=\"-372.95\" font-family=\"Courier,monospace\" font-size=\"14.00\" fill=\"#008040\">And</text>\n",
       "</g>\n",
       "<!-- 25&#45;&#45;26 -->\n",
       "<g id=\"edge26\" class=\"edge\">\n",
       "<title>25--26</title>\n",
       "<path fill=\"none\" stroke=\"black\" d=\"M829,-436C829,-436 824.21,-433.2 820,-432 708.68,-400.18 672.95,-429.1 562,-396 558.95,-395.09 555.84,-393.96 552.78,-392.72\"/>\n",
       "</g>\n",
       "<!-- 27 -->\n",
       "<g id=\"node28\" class=\"node\">\n",
       "<title>27</title>\n",
       "<text text-anchor=\"start\" x=\"579.12\" y=\"-373.95\" font-family=\"Courier,monospace\" font-weight=\"bold\" font-size=\"14.00\" fill=\"#004080\">Compare</text>\n",
       "</g>\n",
       "<!-- 25&#45;&#45;27 -->\n",
       "<g id=\"edge27\" class=\"edge\">\n",
       "<title>25--27</title>\n",
       "<path fill=\"none\" stroke=\"black\" d=\"M829,-436C829,-436 824.14,-433.43 820,-432 759.74,-411.25 687.27,-394.91 644.57,-386.13\"/>\n",
       "</g>\n",
       "<!-- 34 -->\n",
       "<g id=\"node35\" class=\"node\">\n",
       "<title>34</title>\n",
       "<text text-anchor=\"start\" x=\"737.12\" y=\"-373.95\" font-family=\"Courier,monospace\" font-weight=\"bold\" font-size=\"14.00\" fill=\"#004080\">UnaryOp</text>\n",
       "</g>\n",
       "<!-- 25&#45;&#45;34 -->\n",
       "<g id=\"edge34\" class=\"edge\">\n",
       "<title>25--34</title>\n",
       "<path fill=\"none\" stroke=\"black\" d=\"M829,-436C829,-436 803.14,-412.61 784.56,-395.79\"/>\n",
       "</g>\n",
       "<!-- 28 -->\n",
       "<g id=\"node29\" class=\"node\">\n",
       "<title>28</title>\n",
       "<text text-anchor=\"start\" x=\"433.5\" y=\"-301.95\" font-family=\"Courier,monospace\" font-weight=\"bold\" font-size=\"14.00\" fill=\"#004080\">Name</text>\n",
       "</g>\n",
       "<!-- 27&#45;&#45;28 -->\n",
       "<g id=\"edge28\" class=\"edge\">\n",
       "<title>27--28</title>\n",
       "<path fill=\"none\" stroke=\"black\" d=\"M593,-359C593,-359 532.49,-342.5 486,-324 483.05,-322.82 479.99,-321.52 476.97,-320.18\"/>\n",
       "</g>\n",
       "<!-- 31 -->\n",
       "<g id=\"node32\" class=\"node\">\n",
       "<title>31</title>\n",
       "<text text-anchor=\"middle\" x=\"522\" y=\"-300.95\" font-family=\"Courier,monospace\" font-size=\"14.00\" fill=\"#008040\">Eq</text>\n",
       "</g>\n",
       "<!-- 27&#45;&#45;31 -->\n",
       "<g id=\"edge31\" class=\"edge\">\n",
       "<title>27--31</title>\n",
       "<path fill=\"none\" stroke=\"black\" d=\"M593,-359C593,-359 565.61,-338.94 544.86,-323.74\"/>\n",
       "</g>\n",
       "<!-- 32 -->\n",
       "<g id=\"node33\" class=\"node\">\n",
       "<title>32</title>\n",
       "<text text-anchor=\"start\" x=\"575\" y=\"-301.95\" font-family=\"Courier,monospace\" font-weight=\"bold\" font-size=\"14.00\" fill=\"#004080\">Constant</text>\n",
       "</g>\n",
       "<!-- 27&#45;&#45;32 -->\n",
       "<g id=\"edge32\" class=\"edge\">\n",
       "<title>27--32</title>\n",
       "<path fill=\"none\" stroke=\"black\" d=\"M593,-359C593,-359 598.79,-338.94 603.17,-323.74\"/>\n",
       "</g>\n",
       "<!-- 29 -->\n",
       "<g id=\"node30\" class=\"node\">\n",
       "<title>29</title>\n",
       "<text text-anchor=\"middle\" x=\"414\" y=\"-228.95\" font-family=\"Courier,monospace\" font-size=\"14.00\" fill=\"#008040\">&quot;c&quot;</text>\n",
       "</g>\n",
       "<!-- 28&#45;&#45;29 -->\n",
       "<g id=\"edge29\" class=\"edge\">\n",
       "<title>28--29</title>\n",
       "<path fill=\"none\" stroke=\"black\" d=\"M450,-287C450,-287 436.11,-266.94 425.59,-251.74\"/>\n",
       "</g>\n",
       "<!-- 30 -->\n",
       "<g id=\"node31\" class=\"node\">\n",
       "<title>30</title>\n",
       "<text text-anchor=\"middle\" x=\"486\" y=\"-228.95\" font-family=\"Courier,monospace\" font-size=\"14.00\" fill=\"#008040\">Load</text>\n",
       "</g>\n",
       "<!-- 28&#45;&#45;30 -->\n",
       "<g id=\"edge30\" class=\"edge\">\n",
       "<title>28--30</title>\n",
       "<path fill=\"none\" stroke=\"black\" d=\"M450,-287C450,-287 463.89,-266.94 474.41,-251.74\"/>\n",
       "</g>\n",
       "<!-- 33 -->\n",
       "<g id=\"node34\" class=\"node\">\n",
       "<title>33</title>\n",
       "<text text-anchor=\"middle\" x=\"608\" y=\"-228.95\" font-family=\"Courier,monospace\" font-size=\"14.00\" fill=\"#008040\">&quot;&lt;&quot;</text>\n",
       "</g>\n",
       "<!-- 32&#45;&#45;33 -->\n",
       "<g id=\"edge33\" class=\"edge\">\n",
       "<title>32--33</title>\n",
       "<path fill=\"none\" stroke=\"black\" d=\"M608,-288.05C608,-277.05 608,-262.76 608,-251.79\"/>\n",
       "</g>\n",
       "<!-- 35 -->\n",
       "<g id=\"node36\" class=\"node\">\n",
       "<title>35</title>\n",
       "<text text-anchor=\"middle\" x=\"694\" y=\"-300.95\" font-family=\"Courier,monospace\" font-size=\"14.00\" fill=\"#008040\">Not</text>\n",
       "</g>\n",
       "<!-- 34&#45;&#45;35 -->\n",
       "<g id=\"edge35\" class=\"edge\">\n",
       "<title>34--35</title>\n",
       "<path fill=\"none\" stroke=\"black\" d=\"M759,-359C759,-359 733.93,-338.94 714.92,-323.74\"/>\n",
       "</g>\n",
       "<!-- 36 -->\n",
       "<g id=\"node37\" class=\"node\">\n",
       "<title>36</title>\n",
       "<text text-anchor=\"start\" x=\"749.5\" y=\"-301.95\" font-family=\"Courier,monospace\" font-weight=\"bold\" font-size=\"14.00\" fill=\"#004080\">Name</text>\n",
       "</g>\n",
       "<!-- 34&#45;&#45;36 -->\n",
       "<g id=\"edge36\" class=\"edge\">\n",
       "<title>34--36</title>\n",
       "<path fill=\"none\" stroke=\"black\" d=\"M759,-359C759,-359 761.7,-338.94 763.75,-323.74\"/>\n",
       "</g>\n",
       "<!-- 37 -->\n",
       "<g id=\"node38\" class=\"node\">\n",
       "<title>37</title>\n",
       "<text text-anchor=\"middle\" x=\"728\" y=\"-228.95\" font-family=\"Courier,monospace\" font-size=\"14.00\" fill=\"#008040\">&quot;quote&quot;</text>\n",
       "</g>\n",
       "<!-- 36&#45;&#45;37 -->\n",
       "<g id=\"edge37\" class=\"edge\">\n",
       "<title>36--37</title>\n",
       "<path fill=\"none\" stroke=\"black\" d=\"M767,-287C767,-287 751.96,-266.94 740.55,-251.74\"/>\n",
       "</g>\n",
       "<!-- 38 -->\n",
       "<g id=\"node39\" class=\"node\">\n",
       "<title>38</title>\n",
       "<text text-anchor=\"middle\" x=\"810\" y=\"-228.95\" font-family=\"Courier,monospace\" font-size=\"14.00\" fill=\"#008040\">Load</text>\n",
       "</g>\n",
       "<!-- 36&#45;&#45;38 -->\n",
       "<g id=\"edge38\" class=\"edge\">\n",
       "<title>36--38</title>\n",
       "<path fill=\"none\" stroke=\"black\" d=\"M767,-287C767,-287 783.59,-266.94 796.16,-251.74\"/>\n",
       "</g>\n",
       "<!-- 40 -->\n",
       "<g id=\"node41\" class=\"node\">\n",
       "<title>40</title>\n",
       "<text text-anchor=\"start\" x=\"886.5\" y=\"-373.95\" font-family=\"Courier,monospace\" font-weight=\"bold\" font-size=\"14.00\" fill=\"#004080\">Name</text>\n",
       "</g>\n",
       "<!-- 39&#45;&#45;40 -->\n",
       "<g id=\"edge40\" class=\"edge\">\n",
       "<title>39--40</title>\n",
       "<path fill=\"none\" stroke=\"black\" d=\"M946,-431C946,-431 929.41,-410.94 916.84,-395.74\"/>\n",
       "</g>\n",
       "<!-- 43 -->\n",
       "<g id=\"node44\" class=\"node\">\n",
       "<title>43</title>\n",
       "<text text-anchor=\"start\" x=\"956\" y=\"-373.95\" font-family=\"Courier,monospace\" font-weight=\"bold\" font-size=\"14.00\" fill=\"#004080\">Constant</text>\n",
       "</g>\n",
       "<!-- 39&#45;&#45;43 -->\n",
       "<g id=\"edge43\" class=\"edge\">\n",
       "<title>39--43</title>\n",
       "<path fill=\"none\" stroke=\"black\" d=\"M946,-431C946,-431 962.59,-410.94 975.16,-395.74\"/>\n",
       "</g>\n",
       "<!-- 41 -->\n",
       "<g id=\"node42\" class=\"node\">\n",
       "<title>41</title>\n",
       "<text text-anchor=\"middle\" x=\"840\" y=\"-300.95\" font-family=\"Courier,monospace\" font-size=\"14.00\" fill=\"#008040\">&quot;tag&quot;</text>\n",
       "</g>\n",
       "<!-- 40&#45;&#45;41 -->\n",
       "<g id=\"edge41\" class=\"edge\">\n",
       "<title>40--41</title>\n",
       "<path fill=\"none\" stroke=\"black\" d=\"M898,-359C898,-359 875.63,-338.94 858.67,-323.74\"/>\n",
       "</g>\n",
       "<!-- 42 -->\n",
       "<g id=\"node43\" class=\"node\">\n",
       "<title>42</title>\n",
       "<text text-anchor=\"middle\" x=\"915\" y=\"-300.95\" font-family=\"Courier,monospace\" font-size=\"14.00\" fill=\"#008040\">Store</text>\n",
       "</g>\n",
       "<!-- 40&#45;&#45;42 -->\n",
       "<g id=\"edge42\" class=\"edge\">\n",
       "<title>40--42</title>\n",
       "<path fill=\"none\" stroke=\"black\" d=\"M898,-359C898,-359 904.56,-338.94 909.53,-323.74\"/>\n",
       "</g>\n",
       "<!-- 44 -->\n",
       "<g id=\"node45\" class=\"node\">\n",
       "<title>44</title>\n",
       "<text text-anchor=\"middle\" x=\"989\" y=\"-300.95\" font-family=\"Courier,monospace\" font-size=\"14.00\" fill=\"#008040\">True</text>\n",
       "</g>\n",
       "<!-- 43&#45;&#45;44 -->\n",
       "<g id=\"edge44\" class=\"edge\">\n",
       "<title>43--44</title>\n",
       "<path fill=\"none\" stroke=\"black\" d=\"M989,-360.05C989,-349.05 989,-334.76 989,-323.79\"/>\n",
       "</g>\n",
       "<!-- 46 -->\n",
       "<g id=\"node47\" class=\"node\">\n",
       "<title>46</title>\n",
       "<text text-anchor=\"start\" x=\"1164.25\" y=\"-373.95\" font-family=\"Courier,monospace\" font-weight=\"bold\" font-size=\"14.00\" fill=\"#004080\">BoolOp</text>\n",
       "</g>\n",
       "<!-- 45&#45;&#45;46 -->\n",
       "<g id=\"edge46\" class=\"edge\">\n",
       "<title>45--46</title>\n",
       "<path fill=\"none\" stroke=\"black\" d=\"M1258,-431C1258,-431 1231.38,-410.94 1211.21,-395.74\"/>\n",
       "</g>\n",
       "<!-- 60 -->\n",
       "<g id=\"node61\" class=\"node\">\n",
       "<title>60</title>\n",
       "<text text-anchor=\"start\" x=\"1320.25\" y=\"-373.95\" font-family=\"Courier,monospace\" font-weight=\"bold\" font-size=\"14.00\" fill=\"#004080\">Assign</text>\n",
       "</g>\n",
       "<!-- 45&#45;&#45;60 -->\n",
       "<g id=\"edge60\" class=\"edge\">\n",
       "<title>45--60</title>\n",
       "<path fill=\"none\" stroke=\"black\" d=\"M1258,-431C1258,-431 1291.56,-410.94 1316.99,-395.74\"/>\n",
       "</g>\n",
       "<!-- 66 -->\n",
       "<g id=\"node67\" class=\"node\">\n",
       "<title>66</title>\n",
       "<text text-anchor=\"start\" x=\"1712.75\" y=\"-373.95\" font-family=\"Courier,monospace\" font-weight=\"bold\" font-size=\"14.00\" fill=\"#004080\">If</text>\n",
       "</g>\n",
       "<!-- 45&#45;&#45;66 -->\n",
       "<g id=\"edge66\" class=\"edge\">\n",
       "<title>45--66</title>\n",
       "<path fill=\"none\" stroke=\"black\" d=\"M1258,-431C1258,-431 1595.29,-393.12 1694.11,-382.02\"/>\n",
       "</g>\n",
       "<!-- 47 -->\n",
       "<g id=\"node48\" class=\"node\">\n",
       "<title>47</title>\n",
       "<text text-anchor=\"middle\" x=\"1061\" y=\"-300.95\" font-family=\"Courier,monospace\" font-size=\"14.00\" fill=\"#008040\">And</text>\n",
       "</g>\n",
       "<!-- 46&#45;&#45;47 -->\n",
       "<g id=\"edge47\" class=\"edge\">\n",
       "<title>46--47</title>\n",
       "<path fill=\"none\" stroke=\"black\" d=\"M1182,-359C1182,-359 1134.37,-340.51 1097,-324 1093.97,-322.66 1090.8,-321.22 1087.67,-319.78\"/>\n",
       "</g>\n",
       "<!-- 48 -->\n",
       "<g id=\"node49\" class=\"node\">\n",
       "<title>48</title>\n",
       "<text text-anchor=\"start\" x=\"1114.12\" y=\"-301.95\" font-family=\"Courier,monospace\" font-weight=\"bold\" font-size=\"14.00\" fill=\"#004080\">Compare</text>\n",
       "</g>\n",
       "<!-- 46&#45;&#45;48 -->\n",
       "<g id=\"edge48\" class=\"edge\">\n",
       "<title>46--48</title>\n",
       "<path fill=\"none\" stroke=\"black\" d=\"M1182,-359C1182,-359 1166.96,-338.94 1155.55,-323.74\"/>\n",
       "</g>\n",
       "<!-- 55 -->\n",
       "<g id=\"node56\" class=\"node\">\n",
       "<title>55</title>\n",
       "<text text-anchor=\"start\" x=\"1206.12\" y=\"-301.95\" font-family=\"Courier,monospace\" font-weight=\"bold\" font-size=\"14.00\" fill=\"#004080\">UnaryOp</text>\n",
       "</g>\n",
       "<!-- 46&#45;&#45;55 -->\n",
       "<g id=\"edge55\" class=\"edge\">\n",
       "<title>46--55</title>\n",
       "<path fill=\"none\" stroke=\"black\" d=\"M1182,-359C1182,-359 1202.45,-338.94 1217.94,-323.74\"/>\n",
       "</g>\n",
       "<!-- 49 -->\n",
       "<g id=\"node50\" class=\"node\">\n",
       "<title>49</title>\n",
       "<text text-anchor=\"start\" x=\"902.5\" y=\"-229.95\" font-family=\"Courier,monospace\" font-weight=\"bold\" font-size=\"14.00\" fill=\"#004080\">Name</text>\n",
       "</g>\n",
       "<!-- 48&#45;&#45;49 -->\n",
       "<g id=\"edge49\" class=\"edge\">\n",
       "<title>48--49</title>\n",
       "<path fill=\"none\" stroke=\"black\" d=\"M1112,-287C1112,-287 1022.63,-275.18 955,-252 951.99,-250.97 948.9,-249.76 945.86,-248.47\"/>\n",
       "</g>\n",
       "<!-- 52 -->\n",
       "<g id=\"node53\" class=\"node\">\n",
       "<title>52</title>\n",
       "<text text-anchor=\"middle\" x=\"991\" y=\"-228.95\" font-family=\"Courier,monospace\" font-size=\"14.00\" fill=\"#008040\">Eq</text>\n",
       "</g>\n",
       "<!-- 48&#45;&#45;52 -->\n",
       "<g id=\"edge52\" class=\"edge\">\n",
       "<title>48--52</title>\n",
       "<path fill=\"none\" stroke=\"black\" d=\"M1112,-287C1112,-287 1064.37,-268.51 1027,-252 1023.97,-250.66 1020.8,-249.22 1017.67,-247.78\"/>\n",
       "</g>\n",
       "<!-- 53 -->\n",
       "<g id=\"node54\" class=\"node\">\n",
       "<title>53</title>\n",
       "<text text-anchor=\"start\" x=\"1044\" y=\"-229.95\" font-family=\"Courier,monospace\" font-weight=\"bold\" font-size=\"14.00\" fill=\"#004080\">Constant</text>\n",
       "</g>\n",
       "<!-- 48&#45;&#45;53 -->\n",
       "<g id=\"edge53\" class=\"edge\">\n",
       "<title>48--53</title>\n",
       "<path fill=\"none\" stroke=\"black\" d=\"M1112,-287C1112,-287 1098.5,-266.94 1088.27,-251.74\"/>\n",
       "</g>\n",
       "<!-- 50 -->\n",
       "<g id=\"node51\" class=\"node\">\n",
       "<title>50</title>\n",
       "<text text-anchor=\"middle\" x=\"883\" y=\"-156.95\" font-family=\"Courier,monospace\" font-size=\"14.00\" fill=\"#008040\">&quot;c&quot;</text>\n",
       "</g>\n",
       "<!-- 49&#45;&#45;50 -->\n",
       "<g id=\"edge50\" class=\"edge\">\n",
       "<title>49--50</title>\n",
       "<path fill=\"none\" stroke=\"black\" d=\"M919,-215C919,-215 905.11,-194.94 894.59,-179.74\"/>\n",
       "</g>\n",
       "<!-- 51 -->\n",
       "<g id=\"node52\" class=\"node\">\n",
       "<title>51</title>\n",
       "<text text-anchor=\"middle\" x=\"955\" y=\"-156.95\" font-family=\"Courier,monospace\" font-size=\"14.00\" fill=\"#008040\">Load</text>\n",
       "</g>\n",
       "<!-- 49&#45;&#45;51 -->\n",
       "<g id=\"edge51\" class=\"edge\">\n",
       "<title>49--51</title>\n",
       "<path fill=\"none\" stroke=\"black\" d=\"M919,-215C919,-215 932.89,-194.94 943.41,-179.74\"/>\n",
       "</g>\n",
       "<!-- 54 -->\n",
       "<g id=\"node55\" class=\"node\">\n",
       "<title>54</title>\n",
       "<text text-anchor=\"middle\" x=\"1077\" y=\"-156.95\" font-family=\"Courier,monospace\" font-size=\"14.00\" fill=\"#008040\">&quot;&gt;&quot;</text>\n",
       "</g>\n",
       "<!-- 53&#45;&#45;54 -->\n",
       "<g id=\"edge54\" class=\"edge\">\n",
       "<title>53--54</title>\n",
       "<path fill=\"none\" stroke=\"black\" d=\"M1077,-216.05C1077,-205.05 1077,-190.76 1077,-179.79\"/>\n",
       "</g>\n",
       "<!-- 56 -->\n",
       "<g id=\"node57\" class=\"node\">\n",
       "<title>56</title>\n",
       "<text text-anchor=\"middle\" x=\"1163\" y=\"-228.95\" font-family=\"Courier,monospace\" font-size=\"14.00\" fill=\"#008040\">Not</text>\n",
       "</g>\n",
       "<!-- 55&#45;&#45;56 -->\n",
       "<g id=\"edge56\" class=\"edge\">\n",
       "<title>55--56</title>\n",
       "<path fill=\"none\" stroke=\"black\" d=\"M1228,-287C1228,-287 1202.93,-266.94 1183.92,-251.74\"/>\n",
       "</g>\n",
       "<!-- 57 -->\n",
       "<g id=\"node58\" class=\"node\">\n",
       "<title>57</title>\n",
       "<text text-anchor=\"start\" x=\"1218.5\" y=\"-229.95\" font-family=\"Courier,monospace\" font-weight=\"bold\" font-size=\"14.00\" fill=\"#004080\">Name</text>\n",
       "</g>\n",
       "<!-- 55&#45;&#45;57 -->\n",
       "<g id=\"edge57\" class=\"edge\">\n",
       "<title>55--57</title>\n",
       "<path fill=\"none\" stroke=\"black\" d=\"M1228,-287C1228,-287 1230.7,-266.94 1232.75,-251.74\"/>\n",
       "</g>\n",
       "<!-- 58 -->\n",
       "<g id=\"node59\" class=\"node\">\n",
       "<title>58</title>\n",
       "<text text-anchor=\"middle\" x=\"1191\" y=\"-156.95\" font-family=\"Courier,monospace\" font-size=\"14.00\" fill=\"#008040\">&quot;quote&quot;</text>\n",
       "</g>\n",
       "<!-- 57&#45;&#45;58 -->\n",
       "<g id=\"edge58\" class=\"edge\">\n",
       "<title>57--58</title>\n",
       "<path fill=\"none\" stroke=\"black\" d=\"M1234,-215C1234,-215 1217.41,-194.94 1204.84,-179.74\"/>\n",
       "</g>\n",
       "<!-- 59 -->\n",
       "<g id=\"node60\" class=\"node\">\n",
       "<title>59</title>\n",
       "<text text-anchor=\"middle\" x=\"1273\" y=\"-156.95\" font-family=\"Courier,monospace\" font-size=\"14.00\" fill=\"#008040\">Load</text>\n",
       "</g>\n",
       "<!-- 57&#45;&#45;59 -->\n",
       "<g id=\"edge59\" class=\"edge\">\n",
       "<title>57--59</title>\n",
       "<path fill=\"none\" stroke=\"black\" d=\"M1234,-215C1234,-215 1249.04,-194.94 1260.45,-179.74\"/>\n",
       "</g>\n",
       "<!-- 61 -->\n",
       "<g id=\"node62\" class=\"node\">\n",
       "<title>61</title>\n",
       "<text text-anchor=\"start\" x=\"1328.5\" y=\"-301.95\" font-family=\"Courier,monospace\" font-weight=\"bold\" font-size=\"14.00\" fill=\"#004080\">Name</text>\n",
       "</g>\n",
       "<!-- 60&#45;&#45;61 -->\n",
       "<g id=\"edge61\" class=\"edge\">\n",
       "<title>60--61</title>\n",
       "<path fill=\"none\" stroke=\"black\" d=\"M1354,-359C1354,-359 1350.53,-338.94 1347.9,-323.74\"/>\n",
       "</g>\n",
       "<!-- 64 -->\n",
       "<g id=\"node65\" class=\"node\">\n",
       "<title>64</title>\n",
       "<text text-anchor=\"start\" x=\"1412\" y=\"-301.95\" font-family=\"Courier,monospace\" font-weight=\"bold\" font-size=\"14.00\" fill=\"#004080\">Constant</text>\n",
       "</g>\n",
       "<!-- 60&#45;&#45;64 -->\n",
       "<g id=\"edge64\" class=\"edge\">\n",
       "<title>60--64</title>\n",
       "<path fill=\"none\" stroke=\"black\" d=\"M1354,-359C1354,-359 1388.88,-339.07 1415.45,-323.88\"/>\n",
       "</g>\n",
       "<!-- 62 -->\n",
       "<g id=\"node63\" class=\"node\">\n",
       "<title>62</title>\n",
       "<text text-anchor=\"middle\" x=\"1309\" y=\"-228.95\" font-family=\"Courier,monospace\" font-size=\"14.00\" fill=\"#008040\">&quot;tag&quot;</text>\n",
       "</g>\n",
       "<!-- 61&#45;&#45;62 -->\n",
       "<g id=\"edge62\" class=\"edge\">\n",
       "<title>61--62</title>\n",
       "<path fill=\"none\" stroke=\"black\" d=\"M1345,-287C1345,-287 1331.11,-266.94 1320.59,-251.74\"/>\n",
       "</g>\n",
       "<!-- 63 -->\n",
       "<g id=\"node64\" class=\"node\">\n",
       "<title>63</title>\n",
       "<text text-anchor=\"middle\" x=\"1384\" y=\"-228.95\" font-family=\"Courier,monospace\" font-size=\"14.00\" fill=\"#008040\">Store</text>\n",
       "</g>\n",
       "<!-- 61&#45;&#45;63 -->\n",
       "<g id=\"edge63\" class=\"edge\">\n",
       "<title>61--63</title>\n",
       "<path fill=\"none\" stroke=\"black\" d=\"M1345,-287C1345,-287 1360.04,-266.94 1371.45,-251.74\"/>\n",
       "</g>\n",
       "<!-- 65 -->\n",
       "<g id=\"node66\" class=\"node\">\n",
       "<title>65</title>\n",
       "<text text-anchor=\"middle\" x=\"1459\" y=\"-228.95\" font-family=\"Courier,monospace\" font-size=\"14.00\" fill=\"#008040\">False</text>\n",
       "</g>\n",
       "<!-- 64&#45;&#45;65 -->\n",
       "<g id=\"edge65\" class=\"edge\">\n",
       "<title>64--65</title>\n",
       "<path fill=\"none\" stroke=\"black\" d=\"M1448.39,-288.05C1450.59,-277.05 1453.45,-262.76 1455.64,-251.79\"/>\n",
       "</g>\n",
       "<!-- 67 -->\n",
       "<g id=\"node68\" class=\"node\">\n",
       "<title>67</title>\n",
       "<text text-anchor=\"start\" x=\"1628.25\" y=\"-301.95\" font-family=\"Courier,monospace\" font-weight=\"bold\" font-size=\"14.00\" fill=\"#004080\">BoolOp</text>\n",
       "</g>\n",
       "<!-- 66&#45;&#45;67 -->\n",
       "<g id=\"edge67\" class=\"edge\">\n",
       "<title>66--67</title>\n",
       "<path fill=\"none\" stroke=\"black\" d=\"M1732,-359C1732,-359 1701.53,-338.94 1678.43,-323.74\"/>\n",
       "</g>\n",
       "<!-- 88 -->\n",
       "<g id=\"node89\" class=\"node\">\n",
       "<title>88</title>\n",
       "<text text-anchor=\"start\" x=\"1788.25\" y=\"-301.95\" font-family=\"Courier,monospace\" font-weight=\"bold\" font-size=\"14.00\" fill=\"#004080\">Assign</text>\n",
       "</g>\n",
       "<!-- 66&#45;&#45;88 -->\n",
       "<g id=\"edge88\" class=\"edge\">\n",
       "<title>66--88</title>\n",
       "<path fill=\"none\" stroke=\"black\" d=\"M1732,-359C1732,-359 1763.25,-338.94 1786.93,-323.74\"/>\n",
       "</g>\n",
       "<!-- 97 -->\n",
       "<g id=\"node98\" class=\"node\">\n",
       "<title>97</title>\n",
       "<text text-anchor=\"start\" x=\"1882.75\" y=\"-301.95\" font-family=\"Courier,monospace\" font-weight=\"bold\" font-size=\"14.00\" fill=\"#004080\">If</text>\n",
       "</g>\n",
       "<!-- 66&#45;&#45;97 -->\n",
       "<g id=\"edge97\" class=\"edge\">\n",
       "<title>66--97</title>\n",
       "<path fill=\"none\" stroke=\"black\" d=\"M1732,-359C1732,-359 1801.79,-343.98 1855,-324 1857.98,-322.88 1861.05,-321.62 1864.08,-320.29\"/>\n",
       "</g>\n",
       "<!-- 68 -->\n",
       "<g id=\"node69\" class=\"node\">\n",
       "<title>68</title>\n",
       "<text text-anchor=\"middle\" x=\"1533\" y=\"-228.95\" font-family=\"Courier,monospace\" font-size=\"14.00\" fill=\"#008040\">Or</text>\n",
       "</g>\n",
       "<!-- 67&#45;&#45;68 -->\n",
       "<g id=\"edge68\" class=\"edge\">\n",
       "<title>67--68</title>\n",
       "<path fill=\"none\" stroke=\"black\" d=\"M1647,-287C1647,-287 1603.51,-267.89 1569,-252 1565.99,-250.61 1562.84,-249.15 1559.71,-247.68\"/>\n",
       "</g>\n",
       "<!-- 69 -->\n",
       "<g id=\"node70\" class=\"node\">\n",
       "<title>69</title>\n",
       "<text text-anchor=\"start\" x=\"1586.12\" y=\"-229.95\" font-family=\"Courier,monospace\" font-weight=\"bold\" font-size=\"14.00\" fill=\"#004080\">Compare</text>\n",
       "</g>\n",
       "<!-- 67&#45;&#45;69 -->\n",
       "<g id=\"edge69\" class=\"edge\">\n",
       "<title>67--69</title>\n",
       "<path fill=\"none\" stroke=\"black\" d=\"M1647,-287C1647,-287 1634.66,-266.94 1625.3,-251.74\"/>\n",
       "</g>\n",
       "<!-- 76 -->\n",
       "<g id=\"node77\" class=\"node\">\n",
       "<title>76</title>\n",
       "<text text-anchor=\"start\" x=\"1678.25\" y=\"-229.95\" font-family=\"Courier,monospace\" font-weight=\"bold\" font-size=\"14.00\" fill=\"#004080\">BoolOp</text>\n",
       "</g>\n",
       "<!-- 67&#45;&#45;76 -->\n",
       "<g id=\"edge76\" class=\"edge\">\n",
       "<title>67--76</title>\n",
       "<path fill=\"none\" stroke=\"black\" d=\"M1647,-287C1647,-287 1668.6,-266.94 1684.97,-251.74\"/>\n",
       "</g>\n",
       "<!-- 70 -->\n",
       "<g id=\"node71\" class=\"node\">\n",
       "<title>70</title>\n",
       "<text text-anchor=\"start\" x=\"1344.5\" y=\"-157.95\" font-family=\"Courier,monospace\" font-weight=\"bold\" font-size=\"14.00\" fill=\"#004080\">Name</text>\n",
       "</g>\n",
       "<!-- 69&#45;&#45;70 -->\n",
       "<g id=\"edge70\" class=\"edge\">\n",
       "<title>69--70</title>\n",
       "<path fill=\"none\" stroke=\"black\" d=\"M1578,-216C1578,-216 1474.89,-205.7 1397,-180 1393.98,-179 1390.88,-177.82 1387.84,-176.54\"/>\n",
       "</g>\n",
       "<!-- 73 -->\n",
       "<g id=\"node74\" class=\"node\">\n",
       "<title>73</title>\n",
       "<text text-anchor=\"middle\" x=\"1433\" y=\"-156.95\" font-family=\"Courier,monospace\" font-size=\"14.00\" fill=\"#008040\">Eq</text>\n",
       "</g>\n",
       "<!-- 69&#45;&#45;73 -->\n",
       "<g id=\"edge73\" class=\"edge\">\n",
       "<title>69--73</title>\n",
       "<path fill=\"none\" stroke=\"black\" d=\"M1578,-216C1578,-216 1516.38,-198.93 1469,-180 1466.05,-178.82 1462.99,-177.52 1459.97,-176.17\"/>\n",
       "</g>\n",
       "<!-- 74 -->\n",
       "<g id=\"node75\" class=\"node\">\n",
       "<title>74</title>\n",
       "<text text-anchor=\"start\" x=\"1486\" y=\"-157.95\" font-family=\"Courier,monospace\" font-weight=\"bold\" font-size=\"14.00\" fill=\"#004080\">Constant</text>\n",
       "</g>\n",
       "<!-- 69&#45;&#45;74 -->\n",
       "<g id=\"edge74\" class=\"edge\">\n",
       "<title>69--74</title>\n",
       "<path fill=\"none\" stroke=\"black\" d=\"M1578,-216C1578,-216 1554.95,-195.3 1537.67,-179.77\"/>\n",
       "</g>\n",
       "<!-- 71 -->\n",
       "<g id=\"node72\" class=\"node\">\n",
       "<title>71</title>\n",
       "<text text-anchor=\"middle\" x=\"1301\" y=\"-84.95\" font-family=\"Courier,monospace\" font-size=\"14.00\" fill=\"#008040\">&quot;c&quot;</text>\n",
       "</g>\n",
       "<!-- 70&#45;&#45;71 -->\n",
       "<g id=\"edge71\" class=\"edge\">\n",
       "<title>70--71</title>\n",
       "<path fill=\"none\" stroke=\"black\" d=\"M1356,-143C1356,-143 1334.78,-122.94 1318.71,-107.74\"/>\n",
       "</g>\n",
       "<!-- 72 -->\n",
       "<g id=\"node73\" class=\"node\">\n",
       "<title>72</title>\n",
       "<text text-anchor=\"middle\" x=\"1373\" y=\"-84.95\" font-family=\"Courier,monospace\" font-size=\"14.00\" fill=\"#008040\">Load</text>\n",
       "</g>\n",
       "<!-- 70&#45;&#45;72 -->\n",
       "<g id=\"edge72\" class=\"edge\">\n",
       "<title>70--72</title>\n",
       "<path fill=\"none\" stroke=\"black\" d=\"M1356,-143C1356,-143 1362.56,-122.94 1367.53,-107.74\"/>\n",
       "</g>\n",
       "<!-- 75 -->\n",
       "<g id=\"node76\" class=\"node\">\n",
       "<title>75</title>\n",
       "<text text-anchor=\"middle\" x=\"1488\" y=\"-84.95\" font-family=\"Courier,monospace\" font-size=\"14.00\" fill=\"#008040\">&quot;&quot;&quot;</text>\n",
       "</g>\n",
       "<!-- 74&#45;&#45;75 -->\n",
       "<g id=\"edge75\" class=\"edge\">\n",
       "<title>74--75</title>\n",
       "<path fill=\"none\" stroke=\"black\" d=\"M1511.5,-144.05C1506.62,-133.05 1500.3,-118.76 1495.44,-107.79\"/>\n",
       "</g>\n",
       "<!-- 77 -->\n",
       "<g id=\"node78\" class=\"node\">\n",
       "<title>77</title>\n",
       "<text text-anchor=\"middle\" x=\"1605\" y=\"-156.95\" font-family=\"Courier,monospace\" font-size=\"14.00\" fill=\"#008040\">And</text>\n",
       "</g>\n",
       "<!-- 76&#45;&#45;77 -->\n",
       "<g id=\"edge77\" class=\"edge\">\n",
       "<title>76--77</title>\n",
       "<path fill=\"none\" stroke=\"black\" d=\"M1700,-215C1700,-215 1660.06,-193.14 1631.97,-177.76\"/>\n",
       "</g>\n",
       "<!-- 78 -->\n",
       "<g id=\"node79\" class=\"node\">\n",
       "<title>78</title>\n",
       "<text text-anchor=\"start\" x=\"1658.12\" y=\"-157.95\" font-family=\"Courier,monospace\" font-weight=\"bold\" font-size=\"14.00\" fill=\"#004080\">Compare</text>\n",
       "</g>\n",
       "<!-- 76&#45;&#45;78 -->\n",
       "<g id=\"edge78\" class=\"edge\">\n",
       "<title>76--78</title>\n",
       "<path fill=\"none\" stroke=\"black\" d=\"M1700,-215C1700,-215 1694.99,-194.94 1691.18,-179.74\"/>\n",
       "</g>\n",
       "<!-- 85 -->\n",
       "<g id=\"node86\" class=\"node\">\n",
       "<title>85</title>\n",
       "<text text-anchor=\"start\" x=\"1752.5\" y=\"-157.95\" font-family=\"Courier,monospace\" font-weight=\"bold\" font-size=\"14.00\" fill=\"#004080\">Name</text>\n",
       "</g>\n",
       "<!-- 76&#45;&#45;85 -->\n",
       "<g id=\"edge85\" class=\"edge\">\n",
       "<title>76--85</title>\n",
       "<path fill=\"none\" stroke=\"black\" d=\"M1700,-215C1700,-215 1726.62,-194.94 1746.79,-179.74\"/>\n",
       "</g>\n",
       "<!-- 79 -->\n",
       "<g id=\"node80\" class=\"node\">\n",
       "<title>79</title>\n",
       "<text text-anchor=\"start\" x=\"1543.5\" y=\"-85.95\" font-family=\"Courier,monospace\" font-weight=\"bold\" font-size=\"14.00\" fill=\"#004080\">Name</text>\n",
       "</g>\n",
       "<!-- 78&#45;&#45;79 -->\n",
       "<g id=\"edge79\" class=\"edge\">\n",
       "<title>78--79</title>\n",
       "<path fill=\"none\" stroke=\"black\" d=\"M1678,-143C1678,-143 1632.14,-124.24 1596,-108 1592.97,-106.64 1589.82,-105.19 1586.68,-103.74\"/>\n",
       "</g>\n",
       "<!-- 82 -->\n",
       "<g id=\"node83\" class=\"node\">\n",
       "<title>82</title>\n",
       "<text text-anchor=\"middle\" x=\"1632\" y=\"-84.95\" font-family=\"Courier,monospace\" font-size=\"14.00\" fill=\"#008040\">Eq</text>\n",
       "</g>\n",
       "<!-- 78&#45;&#45;82 -->\n",
       "<g id=\"edge82\" class=\"edge\">\n",
       "<title>78--82</title>\n",
       "<path fill=\"none\" stroke=\"black\" d=\"M1678,-143C1678,-143 1660.26,-122.94 1646.81,-107.74\"/>\n",
       "</g>\n",
       "<!-- 83 -->\n",
       "<g id=\"node84\" class=\"node\">\n",
       "<title>83</title>\n",
       "<text text-anchor=\"start\" x=\"1685\" y=\"-85.95\" font-family=\"Courier,monospace\" font-weight=\"bold\" font-size=\"14.00\" fill=\"#004080\">Constant</text>\n",
       "</g>\n",
       "<!-- 78&#45;&#45;83 -->\n",
       "<g id=\"edge83\" class=\"edge\">\n",
       "<title>78--83</title>\n",
       "<path fill=\"none\" stroke=\"black\" d=\"M1678,-143C1678,-143 1693.43,-122.94 1705.12,-107.74\"/>\n",
       "</g>\n",
       "<!-- 80 -->\n",
       "<g id=\"node81\" class=\"node\">\n",
       "<title>80</title>\n",
       "<text text-anchor=\"middle\" x=\"1524\" y=\"-12.95\" font-family=\"Courier,monospace\" font-size=\"14.00\" fill=\"#008040\">&quot;c&quot;</text>\n",
       "</g>\n",
       "<!-- 79&#45;&#45;80 -->\n",
       "<g id=\"edge80\" class=\"edge\">\n",
       "<title>79--80</title>\n",
       "<path fill=\"none\" stroke=\"black\" d=\"M1560,-71C1560,-71 1546.11,-50.94 1535.59,-35.74\"/>\n",
       "</g>\n",
       "<!-- 81 -->\n",
       "<g id=\"node82\" class=\"node\">\n",
       "<title>81</title>\n",
       "<text text-anchor=\"middle\" x=\"1596\" y=\"-12.95\" font-family=\"Courier,monospace\" font-size=\"14.00\" fill=\"#008040\">Load</text>\n",
       "</g>\n",
       "<!-- 79&#45;&#45;81 -->\n",
       "<g id=\"edge81\" class=\"edge\">\n",
       "<title>79--81</title>\n",
       "<path fill=\"none\" stroke=\"black\" d=\"M1560,-71C1560,-71 1573.89,-50.94 1584.41,-35.74\"/>\n",
       "</g>\n",
       "<!-- 84 -->\n",
       "<g id=\"node85\" class=\"node\">\n",
       "<title>84</title>\n",
       "<text text-anchor=\"middle\" x=\"1718\" y=\"-12.95\" font-family=\"Courier,monospace\" font-size=\"14.00\" fill=\"#008040\">&quot;'&quot;</text>\n",
       "</g>\n",
       "<!-- 83&#45;&#45;84 -->\n",
       "<g id=\"edge84\" class=\"edge\">\n",
       "<title>83--84</title>\n",
       "<path fill=\"none\" stroke=\"black\" d=\"M1718,-72.05C1718,-61.05 1718,-46.76 1718,-35.79\"/>\n",
       "</g>\n",
       "<!-- 86 -->\n",
       "<g id=\"node87\" class=\"node\">\n",
       "<title>86</title>\n",
       "<text text-anchor=\"middle\" x=\"1806\" y=\"-84.95\" font-family=\"Courier,monospace\" font-size=\"14.00\" fill=\"#008040\">&quot;tag&quot;</text>\n",
       "</g>\n",
       "<!-- 85&#45;&#45;86 -->\n",
       "<g id=\"edge86\" class=\"edge\">\n",
       "<title>85--86</title>\n",
       "<path fill=\"none\" stroke=\"black\" d=\"M1785,-143C1785,-143 1793.1,-122.94 1799.24,-107.74\"/>\n",
       "</g>\n",
       "<!-- 87 -->\n",
       "<g id=\"node88\" class=\"node\">\n",
       "<title>87</title>\n",
       "<text text-anchor=\"middle\" x=\"1880\" y=\"-84.95\" font-family=\"Courier,monospace\" font-size=\"14.00\" fill=\"#008040\">Load</text>\n",
       "</g>\n",
       "<!-- 85&#45;&#45;87 -->\n",
       "<g id=\"edge87\" class=\"edge\">\n",
       "<title>85--87</title>\n",
       "<path fill=\"none\" stroke=\"black\" d=\"M1785,-143C1785,-143 1824.94,-121.14 1853.03,-105.76\"/>\n",
       "</g>\n",
       "<!-- 89 -->\n",
       "<g id=\"node90\" class=\"node\">\n",
       "<title>89</title>\n",
       "<text text-anchor=\"start\" x=\"1834.5\" y=\"-229.95\" font-family=\"Courier,monospace\" font-weight=\"bold\" font-size=\"14.00\" fill=\"#004080\">Name</text>\n",
       "</g>\n",
       "<!-- 88&#45;&#45;89 -->\n",
       "<g id=\"edge89\" class=\"edge\">\n",
       "<title>88--89</title>\n",
       "<path fill=\"none\" stroke=\"black\" d=\"M1833,-287C1833,-287 1839.94,-266.94 1845.21,-251.74\"/>\n",
       "</g>\n",
       "<!-- 92 -->\n",
       "<g id=\"node93\" class=\"node\">\n",
       "<title>92</title>\n",
       "<text text-anchor=\"start\" x=\"1980.12\" y=\"-229.95\" font-family=\"Courier,monospace\" font-weight=\"bold\" font-size=\"14.00\" fill=\"#004080\">UnaryOp</text>\n",
       "</g>\n",
       "<!-- 88&#45;&#45;92 -->\n",
       "<g id=\"edge92\" class=\"edge\">\n",
       "<title>88--92</title>\n",
       "<path fill=\"none\" stroke=\"black\" d=\"M1833,-287C1833,-287 1920.98,-261.01 1972.53,-245.77\"/>\n",
       "</g>\n",
       "<!-- 90 -->\n",
       "<g id=\"node91\" class=\"node\">\n",
       "<title>90</title>\n",
       "<text text-anchor=\"middle\" x=\"1851\" y=\"-156.95\" font-family=\"Courier,monospace\" font-size=\"14.00\" fill=\"#008040\">&quot;quote&quot;</text>\n",
       "</g>\n",
       "<!-- 89&#45;&#45;90 -->\n",
       "<g id=\"edge90\" class=\"edge\">\n",
       "<title>89--90</title>\n",
       "<path fill=\"none\" stroke=\"black\" d=\"M1859,-215C1859,-215 1855.91,-194.94 1853.58,-179.74\"/>\n",
       "</g>\n",
       "<!-- 91 -->\n",
       "<g id=\"node92\" class=\"node\">\n",
       "<title>91</title>\n",
       "<text text-anchor=\"middle\" x=\"1935\" y=\"-156.95\" font-family=\"Courier,monospace\" font-size=\"14.00\" fill=\"#008040\">Store</text>\n",
       "</g>\n",
       "<!-- 89&#45;&#45;91 -->\n",
       "<g id=\"edge91\" class=\"edge\">\n",
       "<title>89--91</title>\n",
       "<path fill=\"none\" stroke=\"black\" d=\"M1859,-215C1859,-215 1888.32,-194.94 1910.53,-179.74\"/>\n",
       "</g>\n",
       "<!-- 93 -->\n",
       "<g id=\"node94\" class=\"node\">\n",
       "<title>93</title>\n",
       "<text text-anchor=\"middle\" x=\"2009\" y=\"-156.95\" font-family=\"Courier,monospace\" font-size=\"14.00\" fill=\"#008040\">Not</text>\n",
       "</g>\n",
       "<!-- 92&#45;&#45;93 -->\n",
       "<g id=\"edge93\" class=\"edge\">\n",
       "<title>92--93</title>\n",
       "<path fill=\"none\" stroke=\"black\" d=\"M2016,-215C2016,-215 2013.3,-194.94 2011.25,-179.74\"/>\n",
       "</g>\n",
       "<!-- 94 -->\n",
       "<g id=\"node95\" class=\"node\">\n",
       "<title>94</title>\n",
       "<text text-anchor=\"start\" x=\"2064.5\" y=\"-157.95\" font-family=\"Courier,monospace\" font-weight=\"bold\" font-size=\"14.00\" fill=\"#004080\">Name</text>\n",
       "</g>\n",
       "<!-- 92&#45;&#45;94 -->\n",
       "<g id=\"edge94\" class=\"edge\">\n",
       "<title>92--94</title>\n",
       "<path fill=\"none\" stroke=\"black\" d=\"M2016,-215C2016,-215 2041.07,-194.94 2060.08,-179.74\"/>\n",
       "</g>\n",
       "<!-- 95 -->\n",
       "<g id=\"node96\" class=\"node\">\n",
       "<title>95</title>\n",
       "<text text-anchor=\"middle\" x=\"1999\" y=\"-84.95\" font-family=\"Courier,monospace\" font-size=\"14.00\" fill=\"#008040\">&quot;quote&quot;</text>\n",
       "</g>\n",
       "<!-- 94&#45;&#45;95 -->\n",
       "<g id=\"edge95\" class=\"edge\">\n",
       "<title>94--95</title>\n",
       "<path fill=\"none\" stroke=\"black\" d=\"M2073,-143C2073,-143 2044.45,-122.94 2022.82,-107.74\"/>\n",
       "</g>\n",
       "<!-- 96 -->\n",
       "<g id=\"node97\" class=\"node\">\n",
       "<title>96</title>\n",
       "<text text-anchor=\"middle\" x=\"2081\" y=\"-84.95\" font-family=\"Courier,monospace\" font-size=\"14.00\" fill=\"#008040\">Load</text>\n",
       "</g>\n",
       "<!-- 94&#45;&#45;96 -->\n",
       "<g id=\"edge96\" class=\"edge\">\n",
       "<title>94--96</title>\n",
       "<path fill=\"none\" stroke=\"black\" d=\"M2073,-143C2073,-143 2076.09,-122.94 2078.42,-107.74\"/>\n",
       "</g>\n",
       "<!-- 98 -->\n",
       "<g id=\"node99\" class=\"node\">\n",
       "<title>98</title>\n",
       "<text text-anchor=\"start\" x=\"2124.12\" y=\"-229.95\" font-family=\"Courier,monospace\" font-weight=\"bold\" font-size=\"14.00\" fill=\"#004080\">UnaryOp</text>\n",
       "</g>\n",
       "<!-- 97&#45;&#45;98 -->\n",
       "<g id=\"edge98\" class=\"edge\">\n",
       "<title>97--98</title>\n",
       "<path fill=\"none\" stroke=\"black\" d=\"M1918,-299C1918,-299 1921.64,-291.34 1927,-288 1943.03,-278 2056.81,-254.22 2116.56,-242.21\"/>\n",
       "</g>\n",
       "<!-- 103 -->\n",
       "<g id=\"node104\" class=\"node\">\n",
       "<title>103</title>\n",
       "<text text-anchor=\"start\" x=\"2315.25\" y=\"-229.95\" font-family=\"Courier,monospace\" font-weight=\"bold\" font-size=\"14.00\" fill=\"#004080\">Assign</text>\n",
       "</g>\n",
       "<!-- 97&#45;&#45;103 -->\n",
       "<g id=\"edge103\" class=\"edge\">\n",
       "<title>97--103</title>\n",
       "<path fill=\"none\" stroke=\"black\" d=\"M1918,-299C1918,-299 1921.48,-291.06 1927,-288 1931.18,-285.68 2210.35,-251.02 2307.28,-239.04\"/>\n",
       "</g>\n",
       "<!-- 99 -->\n",
       "<g id=\"node100\" class=\"node\">\n",
       "<title>99</title>\n",
       "<text text-anchor=\"middle\" x=\"2153\" y=\"-156.95\" font-family=\"Courier,monospace\" font-size=\"14.00\" fill=\"#008040\">Not</text>\n",
       "</g>\n",
       "<!-- 98&#45;&#45;99 -->\n",
       "<g id=\"edge99\" class=\"edge\">\n",
       "<title>98--99</title>\n",
       "<path fill=\"none\" stroke=\"black\" d=\"M2160,-215C2160,-215 2157.3,-194.94 2155.25,-179.74\"/>\n",
       "</g>\n",
       "<!-- 100 -->\n",
       "<g id=\"node101\" class=\"node\">\n",
       "<title>100</title>\n",
       "<text text-anchor=\"start\" x=\"2208.5\" y=\"-157.95\" font-family=\"Courier,monospace\" font-weight=\"bold\" font-size=\"14.00\" fill=\"#004080\">Name</text>\n",
       "</g>\n",
       "<!-- 98&#45;&#45;100 -->\n",
       "<g id=\"edge100\" class=\"edge\">\n",
       "<title>98--100</title>\n",
       "<path fill=\"none\" stroke=\"black\" d=\"M2160,-215C2160,-215 2185.07,-194.94 2204.08,-179.74\"/>\n",
       "</g>\n",
       "<!-- 101 -->\n",
       "<g id=\"node102\" class=\"node\">\n",
       "<title>101</title>\n",
       "<text text-anchor=\"middle\" x=\"2155\" y=\"-84.95\" font-family=\"Courier,monospace\" font-size=\"14.00\" fill=\"#008040\">&quot;tag&quot;</text>\n",
       "</g>\n",
       "<!-- 100&#45;&#45;101 -->\n",
       "<g id=\"edge101\" class=\"edge\">\n",
       "<title>100--101</title>\n",
       "<path fill=\"none\" stroke=\"black\" d=\"M2218,-143C2218,-143 2193.7,-122.94 2175.28,-107.74\"/>\n",
       "</g>\n",
       "<!-- 102 -->\n",
       "<g id=\"node103\" class=\"node\">\n",
       "<title>102</title>\n",
       "<text text-anchor=\"middle\" x=\"2229\" y=\"-84.95\" font-family=\"Courier,monospace\" font-size=\"14.00\" fill=\"#008040\">Load</text>\n",
       "</g>\n",
       "<!-- 100&#45;&#45;102 -->\n",
       "<g id=\"edge102\" class=\"edge\">\n",
       "<title>100--102</title>\n",
       "<path fill=\"none\" stroke=\"black\" d=\"M2218,-143C2218,-143 2222.24,-122.94 2225.46,-107.74\"/>\n",
       "</g>\n",
       "<!-- 104 -->\n",
       "<g id=\"node105\" class=\"node\">\n",
       "<title>104</title>\n",
       "<text text-anchor=\"start\" x=\"2323.5\" y=\"-157.95\" font-family=\"Courier,monospace\" font-weight=\"bold\" font-size=\"14.00\" fill=\"#004080\">Name</text>\n",
       "</g>\n",
       "<!-- 103&#45;&#45;104 -->\n",
       "<g id=\"edge104\" class=\"edge\">\n",
       "<title>103--104</title>\n",
       "<path fill=\"none\" stroke=\"black\" d=\"M2351,-215C2351,-215 2346.76,-194.94 2343.54,-179.74\"/>\n",
       "</g>\n",
       "<!-- 107 -->\n",
       "<g id=\"node108\" class=\"node\">\n",
       "<title>107</title>\n",
       "<text text-anchor=\"start\" x=\"2467.38\" y=\"-157.95\" font-family=\"Courier,monospace\" font-weight=\"bold\" font-size=\"14.00\" fill=\"#004080\">BinOp</text>\n",
       "</g>\n",
       "<!-- 103&#45;&#45;107 -->\n",
       "<g id=\"edge107\" class=\"edge\">\n",
       "<title>103--107</title>\n",
       "<path fill=\"none\" stroke=\"black\" d=\"M2351,-215C2351,-215 2419.49,-189.01 2459.61,-173.77\"/>\n",
       "</g>\n",
       "<!-- 105 -->\n",
       "<g id=\"node106\" class=\"node\">\n",
       "<title>105</title>\n",
       "<text text-anchor=\"middle\" x=\"2303\" y=\"-84.95\" font-family=\"Courier,monospace\" font-size=\"14.00\" fill=\"#008040\">&quot;out&quot;</text>\n",
       "</g>\n",
       "<!-- 104&#45;&#45;105 -->\n",
       "<g id=\"edge105\" class=\"edge\">\n",
       "<title>104--105</title>\n",
       "<path fill=\"none\" stroke=\"black\" d=\"M2340,-143C2340,-143 2325.73,-122.94 2314.91,-107.74\"/>\n",
       "</g>\n",
       "<!-- 106 -->\n",
       "<g id=\"node107\" class=\"node\">\n",
       "<title>106</title>\n",
       "<text text-anchor=\"middle\" x=\"2378\" y=\"-84.95\" font-family=\"Courier,monospace\" font-size=\"14.00\" fill=\"#008040\">Store</text>\n",
       "</g>\n",
       "<!-- 104&#45;&#45;106 -->\n",
       "<g id=\"edge106\" class=\"edge\">\n",
       "<title>104--106</title>\n",
       "<path fill=\"none\" stroke=\"black\" d=\"M2340,-143C2340,-143 2354.66,-122.94 2365.77,-107.74\"/>\n",
       "</g>\n",
       "<!-- 108 -->\n",
       "<g id=\"node109\" class=\"node\">\n",
       "<title>108</title>\n",
       "<text text-anchor=\"start\" x=\"2435.5\" y=\"-85.95\" font-family=\"Courier,monospace\" font-weight=\"bold\" font-size=\"14.00\" fill=\"#004080\">Name</text>\n",
       "</g>\n",
       "<!-- 107&#45;&#45;108 -->\n",
       "<g id=\"edge108\" class=\"edge\">\n",
       "<title>107--108</title>\n",
       "<path fill=\"none\" stroke=\"black\" d=\"M2494,-143C2494,-143 2477.8,-122.94 2465.52,-107.74\"/>\n",
       "</g>\n",
       "<!-- 111 -->\n",
       "<g id=\"node112\" class=\"node\">\n",
       "<title>111</title>\n",
       "<text text-anchor=\"middle\" x=\"2524\" y=\"-84.95\" font-family=\"Courier,monospace\" font-size=\"14.00\" fill=\"#008040\">Add</text>\n",
       "</g>\n",
       "<!-- 107&#45;&#45;111 -->\n",
       "<g id=\"edge111\" class=\"edge\">\n",
       "<title>107--111</title>\n",
       "<path fill=\"none\" stroke=\"black\" d=\"M2494,-143C2494,-143 2505.57,-122.94 2514.34,-107.74\"/>\n",
       "</g>\n",
       "<!-- 112 -->\n",
       "<g id=\"node113\" class=\"node\">\n",
       "<title>112</title>\n",
       "<text text-anchor=\"start\" x=\"2579.5\" y=\"-85.95\" font-family=\"Courier,monospace\" font-weight=\"bold\" font-size=\"14.00\" fill=\"#004080\">Name</text>\n",
       "</g>\n",
       "<!-- 107&#45;&#45;112 -->\n",
       "<g id=\"edge112\" class=\"edge\">\n",
       "<title>107--112</title>\n",
       "<path fill=\"none\" stroke=\"black\" d=\"M2494,-143C2494,-143 2538.98,-120.07 2569.2,-104.66\"/>\n",
       "</g>\n",
       "<!-- 109 -->\n",
       "<g id=\"node110\" class=\"node\">\n",
       "<title>109</title>\n",
       "<text text-anchor=\"middle\" x=\"2396\" y=\"-12.95\" font-family=\"Courier,monospace\" font-size=\"14.00\" fill=\"#008040\">&quot;out&quot;</text>\n",
       "</g>\n",
       "<!-- 108&#45;&#45;109 -->\n",
       "<g id=\"edge109\" class=\"edge\">\n",
       "<title>108--109</title>\n",
       "<path fill=\"none\" stroke=\"black\" d=\"M2448,-71C2448,-71 2427.94,-50.94 2412.74,-35.74\"/>\n",
       "</g>\n",
       "<!-- 110 -->\n",
       "<g id=\"node111\" class=\"node\">\n",
       "<title>110</title>\n",
       "<text text-anchor=\"middle\" x=\"2470\" y=\"-12.95\" font-family=\"Courier,monospace\" font-size=\"14.00\" fill=\"#008040\">Load</text>\n",
       "</g>\n",
       "<!-- 108&#45;&#45;110 -->\n",
       "<g id=\"edge110\" class=\"edge\">\n",
       "<title>108--110</title>\n",
       "<path fill=\"none\" stroke=\"black\" d=\"M2448,-71C2448,-71 2456.49,-50.94 2462.92,-35.74\"/>\n",
       "</g>\n",
       "<!-- 113 -->\n",
       "<g id=\"node114\" class=\"node\">\n",
       "<title>113</title>\n",
       "<text text-anchor=\"middle\" x=\"2578\" y=\"-12.95\" font-family=\"Courier,monospace\" font-size=\"14.00\" fill=\"#008040\">&quot;c&quot;</text>\n",
       "</g>\n",
       "<!-- 112&#45;&#45;113 -->\n",
       "<g id=\"edge113\" class=\"edge\">\n",
       "<title>112--113</title>\n",
       "<path fill=\"none\" stroke=\"black\" d=\"M2600,-71C2600,-71 2591.51,-50.94 2585.08,-35.74\"/>\n",
       "</g>\n",
       "<!-- 114 -->\n",
       "<g id=\"node115\" class=\"node\">\n",
       "<title>114</title>\n",
       "<text text-anchor=\"middle\" x=\"2650\" y=\"-12.95\" font-family=\"Courier,monospace\" font-size=\"14.00\" fill=\"#008040\">Load</text>\n",
       "</g>\n",
       "<!-- 112&#45;&#45;114 -->\n",
       "<g id=\"edge114\" class=\"edge\">\n",
       "<title>112--114</title>\n",
       "<path fill=\"none\" stroke=\"black\" d=\"M2600,-71C2600,-71 2619.29,-50.94 2633.9,-35.74\"/>\n",
       "</g>\n",
       "<!-- 116 -->\n",
       "<g id=\"node117\" class=\"node\">\n",
       "<title>116</title>\n",
       "<text text-anchor=\"start\" x=\"1927.25\" y=\"-517.95\" font-family=\"Courier,monospace\" font-weight=\"bold\" font-size=\"14.00\" fill=\"#004080\">BoolOp</text>\n",
       "</g>\n",
       "<!-- 115&#45;&#45;116 -->\n",
       "<g id=\"edge116\" class=\"edge\">\n",
       "<title>115--116</title>\n",
       "<path fill=\"none\" stroke=\"black\" d=\"M1368.68,-589.29C1475.39,-577.16 1812.8,-538.82 1919.39,-526.71\"/>\n",
       "</g>\n",
       "<!-- 117 -->\n",
       "<g id=\"node118\" class=\"node\">\n",
       "<title>117</title>\n",
       "<text text-anchor=\"middle\" x=\"1911\" y=\"-444.95\" font-family=\"Courier,monospace\" font-size=\"14.00\" fill=\"#008040\">And</text>\n",
       "</g>\n",
       "<!-- 116&#45;&#45;117 -->\n",
       "<g id=\"edge117\" class=\"edge\">\n",
       "<title>116--117</title>\n",
       "<path fill=\"none\" stroke=\"black\" d=\"M1960,-503C1960,-503 1941.1,-482.94 1926.77,-467.74\"/>\n",
       "</g>\n",
       "<!-- 118 -->\n",
       "<g id=\"node119\" class=\"node\">\n",
       "<title>118</title>\n",
       "<text text-anchor=\"start\" x=\"1964.12\" y=\"-445.95\" font-family=\"Courier,monospace\" font-weight=\"bold\" font-size=\"14.00\" fill=\"#004080\">Compare</text>\n",
       "</g>\n",
       "<!-- 116&#45;&#45;118 -->\n",
       "<g id=\"edge118\" class=\"edge\">\n",
       "<title>116--118</title>\n",
       "<path fill=\"none\" stroke=\"black\" d=\"M1960,-503C1960,-503 1972.73,-482.94 1982.38,-467.74\"/>\n",
       "</g>\n",
       "<!-- 125 -->\n",
       "<g id=\"node126\" class=\"node\">\n",
       "<title>125</title>\n",
       "<text text-anchor=\"start\" x=\"2124.12\" y=\"-445.95\" font-family=\"Courier,monospace\" font-weight=\"bold\" font-size=\"14.00\" fill=\"#004080\">Compare</text>\n",
       "</g>\n",
       "<!-- 116&#45;&#45;125 -->\n",
       "<g id=\"edge125\" class=\"edge\">\n",
       "<title>116--125</title>\n",
       "<path fill=\"none\" stroke=\"black\" d=\"M1960,-503C1960,-503 2060.25,-475.99 2116.24,-460.9\"/>\n",
       "</g>\n",
       "<!-- 119 -->\n",
       "<g id=\"node120\" class=\"node\">\n",
       "<title>119</title>\n",
       "<text text-anchor=\"start\" x=\"1872\" y=\"-373.95\" font-family=\"Courier,monospace\" font-weight=\"bold\" font-size=\"14.00\" fill=\"#004080\">Constant</text>\n",
       "</g>\n",
       "<!-- 118&#45;&#45;119 -->\n",
       "<g id=\"edge119\" class=\"edge\">\n",
       "<title>118--119</title>\n",
       "<path fill=\"none\" stroke=\"black\" d=\"M1993,-431C1993,-431 1959.05,-410.94 1933.33,-395.74\"/>\n",
       "</g>\n",
       "<!-- 121 -->\n",
       "<g id=\"node122\" class=\"node\">\n",
       "<title>121</title>\n",
       "<text text-anchor=\"middle\" x=\"1993\" y=\"-372.95\" font-family=\"Courier,monospace\" font-size=\"14.00\" fill=\"#008040\">NotIn</text>\n",
       "</g>\n",
       "<!-- 118&#45;&#45;121 -->\n",
       "<g id=\"edge121\" class=\"edge\">\n",
       "<title>118--121</title>\n",
       "<path fill=\"none\" stroke=\"black\" d=\"M1993,-431C1993,-431 1993,-410.94 1993,-395.74\"/>\n",
       "</g>\n",
       "<!-- 122 -->\n",
       "<g id=\"node123\" class=\"node\">\n",
       "<title>122</title>\n",
       "<text text-anchor=\"start\" x=\"2050.5\" y=\"-373.95\" font-family=\"Courier,monospace\" font-weight=\"bold\" font-size=\"14.00\" fill=\"#004080\">Name</text>\n",
       "</g>\n",
       "<!-- 118&#45;&#45;122 -->\n",
       "<g id=\"edge122\" class=\"edge\">\n",
       "<title>118--122</title>\n",
       "<path fill=\"none\" stroke=\"black\" d=\"M1993,-431C1993,-431 2021.55,-410.94 2043.18,-395.74\"/>\n",
       "</g>\n",
       "<!-- 120 -->\n",
       "<g id=\"node121\" class=\"node\">\n",
       "<title>120</title>\n",
       "<text text-anchor=\"middle\" x=\"1963\" y=\"-300.95\" font-family=\"Courier,monospace\" font-size=\"14.00\" fill=\"#008040\">&quot;&lt;&quot;</text>\n",
       "</g>\n",
       "<!-- 119&#45;&#45;120 -->\n",
       "<g id=\"edge120\" class=\"edge\">\n",
       "<title>119--120</title>\n",
       "<path fill=\"none\" stroke=\"black\" d=\"M1919.04,-360.05C1928.16,-349.05 1940,-334.76 1949.09,-323.79\"/>\n",
       "</g>\n",
       "<!-- 123 -->\n",
       "<g id=\"node124\" class=\"node\">\n",
       "<title>123</title>\n",
       "<text text-anchor=\"middle\" x=\"2037\" y=\"-300.95\" font-family=\"Courier,monospace\" font-size=\"14.00\" fill=\"#008040\">&quot;out&quot;</text>\n",
       "</g>\n",
       "<!-- 122&#45;&#45;123 -->\n",
       "<g id=\"edge123\" class=\"edge\">\n",
       "<title>122--123</title>\n",
       "<path fill=\"none\" stroke=\"black\" d=\"M2068,-359C2068,-359 2056.04,-338.94 2046.98,-323.74\"/>\n",
       "</g>\n",
       "<!-- 124 -->\n",
       "<g id=\"node125\" class=\"node\">\n",
       "<title>124</title>\n",
       "<text text-anchor=\"middle\" x=\"2111\" y=\"-300.95\" font-family=\"Courier,monospace\" font-size=\"14.00\" fill=\"#008040\">Load</text>\n",
       "</g>\n",
       "<!-- 122&#45;&#45;124 -->\n",
       "<g id=\"edge124\" class=\"edge\">\n",
       "<title>122--124</title>\n",
       "<path fill=\"none\" stroke=\"black\" d=\"M2068,-359C2068,-359 2084.59,-338.94 2097.16,-323.74\"/>\n",
       "</g>\n",
       "<!-- 126 -->\n",
       "<g id=\"node127\" class=\"node\">\n",
       "<title>126</title>\n",
       "<text text-anchor=\"start\" x=\"2120\" y=\"-373.95\" font-family=\"Courier,monospace\" font-weight=\"bold\" font-size=\"14.00\" fill=\"#004080\">Constant</text>\n",
       "</g>\n",
       "<!-- 125&#45;&#45;126 -->\n",
       "<g id=\"edge126\" class=\"edge\">\n",
       "<title>125--126</title>\n",
       "<path fill=\"none\" stroke=\"black\" d=\"M2168,-431C2168,-431 2162.21,-410.94 2157.83,-395.74\"/>\n",
       "</g>\n",
       "<!-- 128 -->\n",
       "<g id=\"node129\" class=\"node\">\n",
       "<title>128</title>\n",
       "<text text-anchor=\"middle\" x=\"2241\" y=\"-372.95\" font-family=\"Courier,monospace\" font-size=\"14.00\" fill=\"#008040\">NotIn</text>\n",
       "</g>\n",
       "<!-- 125&#45;&#45;128 -->\n",
       "<g id=\"edge128\" class=\"edge\">\n",
       "<title>125--128</title>\n",
       "<path fill=\"none\" stroke=\"black\" d=\"M2168,-431C2168,-431 2196.16,-410.94 2217.5,-395.74\"/>\n",
       "</g>\n",
       "<!-- 129 -->\n",
       "<g id=\"node130\" class=\"node\">\n",
       "<title>129</title>\n",
       "<text text-anchor=\"start\" x=\"2298.5\" y=\"-373.95\" font-family=\"Courier,monospace\" font-weight=\"bold\" font-size=\"14.00\" fill=\"#004080\">Name</text>\n",
       "</g>\n",
       "<!-- 125&#45;&#45;129 -->\n",
       "<g id=\"edge129\" class=\"edge\">\n",
       "<title>125--129</title>\n",
       "<path fill=\"none\" stroke=\"black\" d=\"M2168,-431C2168,-431 2230.84,-414.87 2279,-396 2281.96,-394.84 2285.02,-393.55 2288.05,-392.21\"/>\n",
       "</g>\n",
       "<!-- 127 -->\n",
       "<g id=\"node128\" class=\"node\">\n",
       "<title>127</title>\n",
       "<text text-anchor=\"middle\" x=\"2183\" y=\"-300.95\" font-family=\"Courier,monospace\" font-size=\"14.00\" fill=\"#008040\">&quot;&gt;&quot;</text>\n",
       "</g>\n",
       "<!-- 126&#45;&#45;127 -->\n",
       "<g id=\"edge127\" class=\"edge\">\n",
       "<title>126--127</title>\n",
       "<path fill=\"none\" stroke=\"black\" d=\"M2160.26,-360.05C2164.98,-349.05 2171.1,-334.76 2175.8,-323.79\"/>\n",
       "</g>\n",
       "<!-- 130 -->\n",
       "<g id=\"node131\" class=\"node\">\n",
       "<title>130</title>\n",
       "<text text-anchor=\"middle\" x=\"2271\" y=\"-300.95\" font-family=\"Courier,monospace\" font-size=\"14.00\" fill=\"#008040\">&quot;out&quot;</text>\n",
       "</g>\n",
       "<!-- 129&#45;&#45;130 -->\n",
       "<g id=\"edge130\" class=\"edge\">\n",
       "<title>129--130</title>\n",
       "<path fill=\"none\" stroke=\"black\" d=\"M2314,-359C2314,-359 2297.41,-338.94 2284.84,-323.74\"/>\n",
       "</g>\n",
       "<!-- 131 -->\n",
       "<g id=\"node132\" class=\"node\">\n",
       "<title>131</title>\n",
       "<text text-anchor=\"middle\" x=\"2345\" y=\"-300.95\" font-family=\"Courier,monospace\" font-size=\"14.00\" fill=\"#008040\">Load</text>\n",
       "</g>\n",
       "<!-- 129&#45;&#45;131 -->\n",
       "<g id=\"edge131\" class=\"edge\">\n",
       "<title>129--131</title>\n",
       "<path fill=\"none\" stroke=\"black\" d=\"M2314,-359C2314,-359 2325.96,-338.94 2335.02,-323.74\"/>\n",
       "</g>\n",
       "<!-- 133 -->\n",
       "<g id=\"node134\" class=\"node\">\n",
       "<title>133</title>\n",
       "<text text-anchor=\"start\" x=\"2220.5\" y=\"-517.95\" font-family=\"Courier,monospace\" font-weight=\"bold\" font-size=\"14.00\" fill=\"#004080\">Name</text>\n",
       "</g>\n",
       "<!-- 132&#45;&#45;133 -->\n",
       "<g id=\"edge133\" class=\"edge\">\n",
       "<title>132--133</title>\n",
       "<path fill=\"none\" stroke=\"black\" d=\"M1823.43,-587.91C1907.73,-574.68 2132.52,-539.4 2210.17,-527.21\"/>\n",
       "</g>\n",
       "<!-- 134 -->\n",
       "<g id=\"node135\" class=\"node\">\n",
       "<title>134</title>\n",
       "<text text-anchor=\"middle\" x=\"2237\" y=\"-444.95\" font-family=\"Courier,monospace\" font-size=\"14.00\" fill=\"#008040\">&quot;out&quot;</text>\n",
       "</g>\n",
       "<!-- 133&#45;&#45;134 -->\n",
       "<g id=\"edge134\" class=\"edge\">\n",
       "<title>133--134</title>\n",
       "<path fill=\"none\" stroke=\"black\" d=\"M2245,-503C2245,-503 2241.91,-482.94 2239.58,-467.74\"/>\n",
       "</g>\n",
       "<!-- 135 -->\n",
       "<g id=\"node136\" class=\"node\">\n",
       "<title>135</title>\n",
       "<text text-anchor=\"middle\" x=\"2311\" y=\"-444.95\" font-family=\"Courier,monospace\" font-size=\"14.00\" fill=\"#008040\">Load</text>\n",
       "</g>\n",
       "<!-- 133&#45;&#45;135 -->\n",
       "<g id=\"edge135\" class=\"edge\">\n",
       "<title>133--135</title>\n",
       "<path fill=\"none\" stroke=\"black\" d=\"M2245,-503C2245,-503 2270.46,-482.94 2289.75,-467.74\"/>\n",
       "</g>\n",
       "</g>\n",
       "</svg>"
      ],
      "text/plain": [
       "<IPython.core.display.SVG object>"
      ]
     },
     "metadata": {},
     "output_type": "display_data"
    }
   ],
   "source": [
    "new_fun_tree = cast(ast.Module, copy_and_reduce(fun_tree, keep_list))\n",
    "show_ast(new_fun_tree)"
   ]
  },
  {
   "cell_type": "markdown",
   "metadata": {
    "slideshow": {
     "slide_type": "subslide"
    }
   },
   "source": [
    "The new tree no longer contains the initial assignment to `tag`:"
   ]
  },
  {
   "cell_type": "code",
   "execution_count": 165,
   "metadata": {
    "execution": {
     "iopub.execute_input": "2023-11-12T12:40:50.077378Z",
     "iopub.status.busy": "2023-11-12T12:40:50.077062Z",
     "iopub.status.idle": "2023-11-12T12:40:50.113121Z",
     "shell.execute_reply": "2023-11-12T12:40:50.112807Z"
    },
    "slideshow": {
     "slide_type": "subslide"
    }
   },
   "outputs": [
    {
     "name": "stdout",
     "output_type": "stream",
     "text": [
      "\u001b[34mdef\u001b[39;49;00m \u001b[32mremove_html_markup\u001b[39;49;00m(s):\u001b[37m\u001b[39;49;00m\n",
      "    quote = \u001b[34mFalse\u001b[39;49;00m\u001b[37m\u001b[39;49;00m\n",
      "    out = \u001b[33m'\u001b[39;49;00m\u001b[33m'\u001b[39;49;00m\u001b[37m\u001b[39;49;00m\n",
      "    \u001b[34mfor\u001b[39;49;00m c \u001b[35min\u001b[39;49;00m s:\u001b[37m\u001b[39;49;00m\n",
      "        \u001b[34mif\u001b[39;49;00m c == \u001b[33m'\u001b[39;49;00m\u001b[33m<\u001b[39;49;00m\u001b[33m'\u001b[39;49;00m \u001b[35mand\u001b[39;49;00m (\u001b[35mnot\u001b[39;49;00m quote):\u001b[37m\u001b[39;49;00m\n",
      "            tag = \u001b[34mTrue\u001b[39;49;00m\u001b[37m\u001b[39;49;00m\n",
      "        \u001b[34melif\u001b[39;49;00m c == \u001b[33m'\u001b[39;49;00m\u001b[33m>\u001b[39;49;00m\u001b[33m'\u001b[39;49;00m \u001b[35mand\u001b[39;49;00m (\u001b[35mnot\u001b[39;49;00m quote):\u001b[37m\u001b[39;49;00m\n",
      "            tag = \u001b[34mFalse\u001b[39;49;00m\u001b[37m\u001b[39;49;00m\n",
      "        \u001b[34melif\u001b[39;49;00m c == \u001b[33m'\u001b[39;49;00m\u001b[33m\"\u001b[39;49;00m\u001b[33m'\u001b[39;49;00m \u001b[35mor\u001b[39;49;00m (c == \u001b[33m\"\u001b[39;49;00m\u001b[33m'\u001b[39;49;00m\u001b[33m\"\u001b[39;49;00m \u001b[35mand\u001b[39;49;00m tag):\u001b[37m\u001b[39;49;00m\n",
      "            quote = \u001b[35mnot\u001b[39;49;00m quote\u001b[37m\u001b[39;49;00m\n",
      "        \u001b[34melif\u001b[39;49;00m \u001b[35mnot\u001b[39;49;00m tag:\u001b[37m\u001b[39;49;00m\n",
      "            out = out + c\u001b[37m\u001b[39;49;00m\n",
      "    \u001b[34massert\u001b[39;49;00m \u001b[33m'\u001b[39;49;00m\u001b[33m<\u001b[39;49;00m\u001b[33m'\u001b[39;49;00m \u001b[35mnot\u001b[39;49;00m \u001b[35min\u001b[39;49;00m out \u001b[35mand\u001b[39;49;00m \u001b[33m'\u001b[39;49;00m\u001b[33m>\u001b[39;49;00m\u001b[33m'\u001b[39;49;00m \u001b[35mnot\u001b[39;49;00m \u001b[35min\u001b[39;49;00m out\u001b[37m\u001b[39;49;00m\n",
      "    \u001b[34mreturn\u001b[39;49;00m out\u001b[37m\u001b[39;49;00m"
     ]
    }
   ],
   "source": [
    "print_content(ast.unparse(new_fun_tree), '.py')"
   ]
  },
  {
   "cell_type": "markdown",
   "metadata": {
    "slideshow": {
     "slide_type": "subslide"
    }
   },
   "source": [
    "If we add our tests and then execute this code, we get an error, as `tag` is now no longer initialized:"
   ]
  },
  {
   "cell_type": "code",
   "execution_count": 166,
   "metadata": {
    "execution": {
     "iopub.execute_input": "2023-11-12T12:40:50.114789Z",
     "iopub.status.busy": "2023-11-12T12:40:50.114635Z",
     "iopub.status.idle": "2023-11-12T12:40:50.116750Z",
     "shell.execute_reply": "2023-11-12T12:40:50.116336Z"
    },
    "slideshow": {
     "slide_type": "fragment"
    }
   },
   "outputs": [],
   "source": [
    "new_fun_tree.body += test_tree.body"
   ]
  },
  {
   "cell_type": "code",
   "execution_count": 167,
   "metadata": {
    "execution": {
     "iopub.execute_input": "2023-11-12T12:40:50.118555Z",
     "iopub.status.busy": "2023-11-12T12:40:50.118403Z",
     "iopub.status.idle": "2023-11-12T12:40:50.120471Z",
     "shell.execute_reply": "2023-11-12T12:40:50.120202Z"
    },
    "slideshow": {
     "slide_type": "fragment"
    }
   },
   "outputs": [],
   "source": [
    "fun_code = compile(new_fun_tree, \"<string>\", 'exec')"
   ]
  },
  {
   "cell_type": "code",
   "execution_count": 168,
   "metadata": {
    "execution": {
     "iopub.execute_input": "2023-11-12T12:40:50.121921Z",
     "iopub.status.busy": "2023-11-12T12:40:50.121808Z",
     "iopub.status.idle": "2023-11-12T12:40:50.123749Z",
     "shell.execute_reply": "2023-11-12T12:40:50.123517Z"
    },
    "slideshow": {
     "slide_type": "fragment"
    }
   },
   "outputs": [
    {
     "name": "stderr",
     "output_type": "stream",
     "text": [
      "Traceback (most recent call last):\n",
      "  File \"/var/folders/n2/xd9445p97rb3xh7m1dfx8_4h0006ts/T/ipykernel_25735/2411822553.py\", line 2, in <cell line: 1>\n",
      "    exec(fun_code, {}, {})\n",
      "  File \"<string>\", line 3, in <module>\n",
      "  File \"<string>\", line 13, in remove_html_markup\n",
      "UnboundLocalError: local variable 'tag' referenced before assignment (expected)\n"
     ]
    }
   ],
   "source": [
    "with ExpectError(UnboundLocalError):\n",
    "    exec(fun_code, {}, {})"
   ]
  },
  {
   "cell_type": "markdown",
   "metadata": {
    "slideshow": {
     "slide_type": "fragment"
    }
   },
   "source": [
    "If we have _no_ node in the keep list, the whole tree gets deleted:"
   ]
  },
  {
   "cell_type": "code",
   "execution_count": 169,
   "metadata": {
    "execution": {
     "iopub.execute_input": "2023-11-12T12:40:50.125989Z",
     "iopub.status.busy": "2023-11-12T12:40:50.125825Z",
     "iopub.status.idle": "2023-11-12T12:40:50.128446Z",
     "shell.execute_reply": "2023-11-12T12:40:50.128177Z"
    },
    "slideshow": {
     "slide_type": "fragment"
    }
   },
   "outputs": [],
   "source": [
    "empty_tree = copy_and_reduce(fun_tree, [])"
   ]
  },
  {
   "cell_type": "code",
   "execution_count": 170,
   "metadata": {
    "execution": {
     "iopub.execute_input": "2023-11-12T12:40:50.130082Z",
     "iopub.status.busy": "2023-11-12T12:40:50.129940Z",
     "iopub.status.idle": "2023-11-12T12:40:50.132553Z",
     "shell.execute_reply": "2023-11-12T12:40:50.132218Z"
    },
    "slideshow": {
     "slide_type": "subslide"
    }
   },
   "outputs": [
    {
     "data": {
      "text/plain": [
       "''"
      ]
     },
     "execution_count": 170,
     "metadata": {},
     "output_type": "execute_result"
    }
   ],
   "source": [
    "ast.unparse(empty_tree)"
   ]
  },
  {
   "cell_type": "markdown",
   "metadata": {
    "slideshow": {
     "slide_type": "subslide"
    }
   },
   "source": [
    "#### Reducing Trees\n",
    "\n",
    "We can put all these steps together in a single function. `compile_and_test_ast()` takes a tree and a list of nodes, reduces the tree to those nodes in the list, and then compiles and runs the reduced AST."
   ]
  },
  {
   "cell_type": "code",
   "execution_count": 171,
   "metadata": {
    "execution": {
     "iopub.execute_input": "2023-11-12T12:40:50.134149Z",
     "iopub.status.busy": "2023-11-12T12:40:50.134029Z",
     "iopub.status.idle": "2023-11-12T12:40:50.136447Z",
     "shell.execute_reply": "2023-11-12T12:40:50.136181Z"
    },
    "slideshow": {
     "slide_type": "subslide"
    }
   },
   "outputs": [],
   "source": [
    "def compile_and_test_ast(tree: ast.Module, keep_list: List[AST], \n",
    "                         test_tree: Optional[ast.Module] = None) -> None:\n",
    "    new_tree = cast(ast.Module, copy_and_reduce(tree, keep_list))\n",
    "    # print(ast.unparse(new_tree))\n",
    "\n",
    "    if test_tree is not None:\n",
    "        new_tree.body += test_tree.body\n",
    "\n",
    "    try:\n",
    "        code_object = compile(new_tree, '<string>', 'exec')\n",
    "    except Exception:\n",
    "        raise SyntaxError(\"Cannot compile\")\n",
    "\n",
    "    exec(code_object, {}, {})"
   ]
  },
  {
   "cell_type": "code",
   "execution_count": 172,
   "metadata": {
    "execution": {
     "iopub.execute_input": "2023-11-12T12:40:50.137827Z",
     "iopub.status.busy": "2023-11-12T12:40:50.137720Z",
     "iopub.status.idle": "2023-11-12T12:40:50.140423Z",
     "shell.execute_reply": "2023-11-12T12:40:50.140140Z"
    },
    "slideshow": {
     "slide_type": "subslide"
    }
   },
   "outputs": [
    {
     "name": "stderr",
     "output_type": "stream",
     "text": [
      "Traceback (most recent call last):\n",
      "  File \"/var/folders/n2/xd9445p97rb3xh7m1dfx8_4h0006ts/T/ipykernel_25735/2588008834.py\", line 2, in <cell line: 1>\n",
      "    compile_and_test_ast(fun_tree, fun_nodes, test_tree)\n",
      "  File \"/var/folders/n2/xd9445p97rb3xh7m1dfx8_4h0006ts/T/ipykernel_25735/1107678207.py\", line 14, in compile_and_test_ast\n",
      "    exec(code_object, {}, {})\n",
      "  File \"<string>\", line 3, in <module>\n",
      "AssertionError: My Test (expected)\n"
     ]
    }
   ],
   "source": [
    "with ExpectError(AssertionError):\n",
    "    compile_and_test_ast(fun_tree, fun_nodes, test_tree)"
   ]
  },
  {
   "cell_type": "markdown",
   "metadata": {
    "slideshow": {
     "slide_type": "fragment"
    }
   },
   "source": [
    "When we run our delta debugger on the AST, this is the list of remaining nodes we obtain:"
   ]
  },
  {
   "cell_type": "code",
   "execution_count": 173,
   "metadata": {
    "execution": {
     "iopub.execute_input": "2023-11-12T12:40:50.142721Z",
     "iopub.status.busy": "2023-11-12T12:40:50.142516Z",
     "iopub.status.idle": "2023-11-12T12:40:50.145559Z",
     "shell.execute_reply": "2023-11-12T12:40:50.145218Z"
    },
    "slideshow": {
     "slide_type": "fragment"
    }
   },
   "outputs": [],
   "source": [
    "with DeltaDebugger() as dd:\n",
    "    compile_and_test_ast(fun_tree, fun_nodes, test_tree)"
   ]
  },
  {
   "cell_type": "code",
   "execution_count": 174,
   "metadata": {
    "execution": {
     "iopub.execute_input": "2023-11-12T12:40:50.147126Z",
     "iopub.status.busy": "2023-11-12T12:40:50.147034Z",
     "iopub.status.idle": "2023-11-12T12:40:50.355730Z",
     "shell.execute_reply": "2023-11-12T12:40:50.355428Z"
    },
    "slideshow": {
     "slide_type": "subslide"
    }
   },
   "outputs": [
    {
     "data": {
      "text/plain": [
       "57"
      ]
     },
     "execution_count": 174,
     "metadata": {},
     "output_type": "execute_result"
    }
   ],
   "source": [
    "reduced_nodes = dd.min_args()['keep_list']\n",
    "len(reduced_nodes)"
   ]
  },
  {
   "cell_type": "markdown",
   "metadata": {
    "slideshow": {
     "slide_type": "fragment"
    }
   },
   "source": [
    "This is the associated tree:"
   ]
  },
  {
   "cell_type": "code",
   "execution_count": 175,
   "metadata": {
    "execution": {
     "iopub.execute_input": "2023-11-12T12:40:50.357518Z",
     "iopub.status.busy": "2023-11-12T12:40:50.357291Z",
     "iopub.status.idle": "2023-11-12T12:40:50.897503Z",
     "shell.execute_reply": "2023-11-12T12:40:50.896916Z"
    },
    "slideshow": {
     "slide_type": "fragment"
    }
   },
   "outputs": [
    {
     "data": {
      "image/svg+xml": [
       "<svg xmlns=\"http://www.w3.org/2000/svg\" xmlns:xlink=\"http://www.w3.org/1999/xlink\" width=\"3115pt\" height=\"692pt\" viewBox=\"0.00 0.00 3115.00 692.00\">\n",
       "<g id=\"graph0\" class=\"graph\" transform=\"scale(1 1) rotate(0) translate(4 688)\">\n",
       "<polygon fill=\"white\" stroke=\"none\" points=\"-4,4 -4,-688 3111,-688 3111,4 -4,4\"/>\n",
       "<!-- 0 -->\n",
       "<g id=\"node1\" class=\"node\">\n",
       "<title>0</title>\n",
       "<text text-anchor=\"start\" x=\"405.62\" y=\"-661.95\" font-family=\"Courier,monospace\" font-weight=\"bold\" font-size=\"14.00\" fill=\"#004080\">FunctionDef</text>\n",
       "</g>\n",
       "<!-- 1 -->\n",
       "<g id=\"node2\" class=\"node\">\n",
       "<title>1</title>\n",
       "<text text-anchor=\"middle\" x=\"101\" y=\"-588.95\" font-family=\"Courier,monospace\" font-size=\"14.00\" fill=\"#008040\">&quot;remove_html_markup&quot;</text>\n",
       "</g>\n",
       "<!-- 0&#45;&#45;1 -->\n",
       "<g id=\"edge1\" class=\"edge\">\n",
       "<title>0--1</title>\n",
       "<path fill=\"none\" stroke=\"black\" d=\"M452,-647C452,-647 312.31,-629.22 201,-612 197.87,-611.52 194.68,-611.01 191.46,-610.5\"/>\n",
       "</g>\n",
       "<!-- 2 -->\n",
       "<g id=\"node3\" class=\"node\">\n",
       "<title>2</title>\n",
       "<text text-anchor=\"start\" x=\"217.88\" y=\"-589.95\" font-family=\"Courier,monospace\" font-weight=\"bold\" font-size=\"14.00\" fill=\"#004080\">arguments</text>\n",
       "</g>\n",
       "<!-- 0&#45;&#45;2 -->\n",
       "<g id=\"edge2\" class=\"edge\">\n",
       "<title>0--2</title>\n",
       "<path fill=\"none\" stroke=\"black\" d=\"M452,-647C452,-647 372.02,-629.61 309,-612 306.07,-611.18 303.05,-610.31 300.02,-609.41\"/>\n",
       "</g>\n",
       "<!-- 5 -->\n",
       "<g id=\"node6\" class=\"node\">\n",
       "<title>5</title>\n",
       "<text text-anchor=\"start\" x=\"326.25\" y=\"-589.95\" font-family=\"Courier,monospace\" font-weight=\"bold\" font-size=\"14.00\" fill=\"#004080\">Assign</text>\n",
       "</g>\n",
       "<!-- 0&#45;&#45;5 -->\n",
       "<g id=\"edge5\" class=\"edge\">\n",
       "<title>0--5</title>\n",
       "<path fill=\"none\" stroke=\"black\" d=\"M452,-647C452,-647 413.04,-626.94 383.51,-611.74\"/>\n",
       "</g>\n",
       "<!-- 11 -->\n",
       "<g id=\"node12\" class=\"node\">\n",
       "<title>11</title>\n",
       "<text text-anchor=\"start\" x=\"426.25\" y=\"-589.95\" font-family=\"Courier,monospace\" font-weight=\"bold\" font-size=\"14.00\" fill=\"#004080\">Assign</text>\n",
       "</g>\n",
       "<!-- 0&#45;&#45;11 -->\n",
       "<g id=\"edge11\" class=\"edge\">\n",
       "<title>0--11</title>\n",
       "<path fill=\"none\" stroke=\"black\" d=\"M452,-647C452,-647 451.61,-626.94 451.32,-611.74\"/>\n",
       "</g>\n",
       "<!-- 17 -->\n",
       "<g id=\"node18\" class=\"node\">\n",
       "<title>17</title>\n",
       "<text text-anchor=\"start\" x=\"568.25\" y=\"-589.95\" font-family=\"Courier,monospace\" font-weight=\"bold\" font-size=\"14.00\" fill=\"#004080\">Assign</text>\n",
       "</g>\n",
       "<!-- 0&#45;&#45;17 -->\n",
       "<g id=\"edge17\" class=\"edge\">\n",
       "<title>0--17</title>\n",
       "<path fill=\"none\" stroke=\"black\" d=\"M452,-647C452,-647 518.64,-622.42 560.3,-607.06\"/>\n",
       "</g>\n",
       "<!-- 23 -->\n",
       "<g id=\"node24\" class=\"node\">\n",
       "<title>23</title>\n",
       "<text text-anchor=\"start\" x=\"888.62\" y=\"-589.95\" font-family=\"Courier,monospace\" font-weight=\"bold\" font-size=\"14.00\" fill=\"#004080\">For</text>\n",
       "</g>\n",
       "<!-- 0&#45;&#45;23 -->\n",
       "<g id=\"edge23\" class=\"edge\">\n",
       "<title>0--23</title>\n",
       "<path fill=\"none\" stroke=\"black\" d=\"M452,-647C452,-647 777.6,-609.29 874.26,-598.1\"/>\n",
       "</g>\n",
       "<!-- 121 -->\n",
       "<g id=\"node122\" class=\"node\">\n",
       "<title>121</title>\n",
       "<text text-anchor=\"start\" x=\"1239.25\" y=\"-589.95\" font-family=\"Courier,monospace\" font-weight=\"bold\" font-size=\"14.00\" fill=\"#004080\">Return</text>\n",
       "</g>\n",
       "<!-- 0&#45;&#45;121 -->\n",
       "<g id=\"edge121\" class=\"edge\">\n",
       "<title>0--121</title>\n",
       "<path fill=\"none\" stroke=\"black\" d=\"M452,-647C452,-647 1079.95,-606.79 1231.42,-597.09\"/>\n",
       "</g>\n",
       "<!-- 3 -->\n",
       "<g id=\"node4\" class=\"node\">\n",
       "<title>3</title>\n",
       "<text text-anchor=\"start\" x=\"53.62\" y=\"-517.95\" font-family=\"Courier,monospace\" font-weight=\"bold\" font-size=\"14.00\" fill=\"#004080\">arg</text>\n",
       "</g>\n",
       "<!-- 2&#45;&#45;3 -->\n",
       "<g id=\"edge3\" class=\"edge\">\n",
       "<title>2--3</title>\n",
       "<path fill=\"none\" stroke=\"black\" d=\"M210.21,-576.41C173.75,-562.91 123.49,-544.29 92.95,-532.98\"/>\n",
       "</g>\n",
       "<!-- 4 -->\n",
       "<g id=\"node5\" class=\"node\">\n",
       "<title>4</title>\n",
       "<text text-anchor=\"middle\" x=\"27\" y=\"-444.95\" font-family=\"Courier,monospace\" font-size=\"14.00\" fill=\"#008040\">&quot;s&quot;</text>\n",
       "</g>\n",
       "<!-- 3&#45;&#45;4 -->\n",
       "<g id=\"edge4\" class=\"edge\">\n",
       "<title>3--4</title>\n",
       "<path fill=\"none\" stroke=\"black\" d=\"M56.56,-504.05C50.43,-493.05 42.47,-478.76 36.35,-467.79\"/>\n",
       "</g>\n",
       "<!-- 6 -->\n",
       "<g id=\"node7\" class=\"node\">\n",
       "<title>6</title>\n",
       "<text text-anchor=\"start\" x=\"159.5\" y=\"-517.95\" font-family=\"Courier,monospace\" font-weight=\"bold\" font-size=\"14.00\" fill=\"#004080\">Name</text>\n",
       "</g>\n",
       "<!-- 5&#45;&#45;6 -->\n",
       "<g id=\"edge6\" class=\"edge\">\n",
       "<title>5--6</title>\n",
       "<path fill=\"none\" stroke=\"black\" d=\"M327,-575C327,-575 246.43,-547.25 203,-532.3\"/>\n",
       "</g>\n",
       "<!-- 9 -->\n",
       "<g id=\"node10\" class=\"node\">\n",
       "<title>9</title>\n",
       "<text text-anchor=\"start\" x=\"259\" y=\"-517.95\" font-family=\"Courier,monospace\" font-weight=\"bold\" font-size=\"14.00\" fill=\"#004080\">Constant</text>\n",
       "</g>\n",
       "<!-- 5&#45;&#45;9 -->\n",
       "<g id=\"edge9\" class=\"edge\">\n",
       "<title>5--9</title>\n",
       "<path fill=\"none\" stroke=\"black\" d=\"M327,-575C327,-575 313.5,-554.94 303.27,-539.74\"/>\n",
       "</g>\n",
       "<!-- 7 -->\n",
       "<g id=\"node8\" class=\"node\">\n",
       "<title>7</title>\n",
       "<text text-anchor=\"middle\" x=\"101\" y=\"-444.95\" font-family=\"Courier,monospace\" font-size=\"14.00\" fill=\"#008040\">&quot;tag&quot;</text>\n",
       "</g>\n",
       "<!-- 6&#45;&#45;7 -->\n",
       "<g id=\"edge7\" class=\"edge\">\n",
       "<title>6--7</title>\n",
       "<path fill=\"none\" stroke=\"black\" d=\"M168,-503C168,-503 142.15,-482.94 122.57,-467.74\"/>\n",
       "</g>\n",
       "<!-- 8 -->\n",
       "<g id=\"node9\" class=\"node\">\n",
       "<title>8</title>\n",
       "<text text-anchor=\"middle\" x=\"176\" y=\"-444.95\" font-family=\"Courier,monospace\" font-size=\"14.00\" fill=\"#008040\">Store</text>\n",
       "</g>\n",
       "<!-- 6&#45;&#45;8 -->\n",
       "<g id=\"edge8\" class=\"edge\">\n",
       "<title>6--8</title>\n",
       "<path fill=\"none\" stroke=\"black\" d=\"M168,-503C168,-503 171.09,-482.94 173.42,-467.74\"/>\n",
       "</g>\n",
       "<!-- 10 -->\n",
       "<g id=\"node11\" class=\"node\">\n",
       "<title>10</title>\n",
       "<text text-anchor=\"middle\" x=\"251\" y=\"-444.95\" font-family=\"Courier,monospace\" font-size=\"14.00\" fill=\"#008040\">False</text>\n",
       "</g>\n",
       "<!-- 9&#45;&#45;10 -->\n",
       "<g id=\"edge10\" class=\"edge\">\n",
       "<title>9--10</title>\n",
       "<path fill=\"none\" stroke=\"black\" d=\"M282.08,-504.05C275.63,-493.05 267.26,-478.76 260.83,-467.79\"/>\n",
       "</g>\n",
       "<!-- 12 -->\n",
       "<g id=\"node13\" class=\"node\">\n",
       "<title>12</title>\n",
       "<text text-anchor=\"start\" x=\"391.5\" y=\"-517.95\" font-family=\"Courier,monospace\" font-weight=\"bold\" font-size=\"14.00\" fill=\"#004080\">Name</text>\n",
       "</g>\n",
       "<!-- 11&#45;&#45;12 -->\n",
       "<g id=\"edge12\" class=\"edge\">\n",
       "<title>11--12</title>\n",
       "<path fill=\"none\" stroke=\"black\" d=\"M451,-575C451,-575 434.41,-554.94 421.84,-539.74\"/>\n",
       "</g>\n",
       "<!-- 15 -->\n",
       "<g id=\"node16\" class=\"node\">\n",
       "<title>15</title>\n",
       "<text text-anchor=\"start\" x=\"461\" y=\"-517.95\" font-family=\"Courier,monospace\" font-weight=\"bold\" font-size=\"14.00\" fill=\"#004080\">Constant</text>\n",
       "</g>\n",
       "<!-- 11&#45;&#45;15 -->\n",
       "<g id=\"edge15\" class=\"edge\">\n",
       "<title>11--15</title>\n",
       "<path fill=\"none\" stroke=\"black\" d=\"M451,-575C451,-575 467.59,-554.94 480.16,-539.74\"/>\n",
       "</g>\n",
       "<!-- 13 -->\n",
       "<g id=\"node14\" class=\"node\">\n",
       "<title>13</title>\n",
       "<text text-anchor=\"middle\" x=\"335\" y=\"-444.95\" font-family=\"Courier,monospace\" font-size=\"14.00\" fill=\"#008040\">&quot;quote&quot;</text>\n",
       "</g>\n",
       "<!-- 12&#45;&#45;13 -->\n",
       "<g id=\"edge13\" class=\"edge\">\n",
       "<title>12--13</title>\n",
       "<path fill=\"none\" stroke=\"black\" d=\"M402,-503C402,-503 376.15,-482.94 356.57,-467.74\"/>\n",
       "</g>\n",
       "<!-- 14 -->\n",
       "<g id=\"node15\" class=\"node\">\n",
       "<title>14</title>\n",
       "<text text-anchor=\"middle\" x=\"419\" y=\"-444.95\" font-family=\"Courier,monospace\" font-size=\"14.00\" fill=\"#008040\">Store</text>\n",
       "</g>\n",
       "<!-- 12&#45;&#45;14 -->\n",
       "<g id=\"edge14\" class=\"edge\">\n",
       "<title>12--14</title>\n",
       "<path fill=\"none\" stroke=\"black\" d=\"M402,-503C402,-503 408.56,-482.94 413.53,-467.74\"/>\n",
       "</g>\n",
       "<!-- 16 -->\n",
       "<g id=\"node17\" class=\"node\">\n",
       "<title>16</title>\n",
       "<text text-anchor=\"middle\" x=\"494\" y=\"-444.95\" font-family=\"Courier,monospace\" font-size=\"14.00\" fill=\"#008040\">False</text>\n",
       "</g>\n",
       "<!-- 15&#45;&#45;16 -->\n",
       "<g id=\"edge16\" class=\"edge\">\n",
       "<title>15--16</title>\n",
       "<path fill=\"none\" stroke=\"black\" d=\"M494,-504.05C494,-493.05 494,-478.76 494,-467.79\"/>\n",
       "</g>\n",
       "<!-- 18 -->\n",
       "<g id=\"node19\" class=\"node\">\n",
       "<title>18</title>\n",
       "<text text-anchor=\"start\" x=\"576.5\" y=\"-517.95\" font-family=\"Courier,monospace\" font-weight=\"bold\" font-size=\"14.00\" fill=\"#004080\">Name</text>\n",
       "</g>\n",
       "<!-- 17&#45;&#45;18 -->\n",
       "<g id=\"edge18\" class=\"edge\">\n",
       "<title>17--18</title>\n",
       "<path fill=\"none\" stroke=\"black\" d=\"M603,-575C603,-575 599.14,-554.94 596.22,-539.74\"/>\n",
       "</g>\n",
       "<!-- 21 -->\n",
       "<g id=\"node22\" class=\"node\">\n",
       "<title>21</title>\n",
       "<text text-anchor=\"start\" x=\"672\" y=\"-517.95\" font-family=\"Courier,monospace\" font-weight=\"bold\" font-size=\"14.00\" fill=\"#004080\">Constant</text>\n",
       "</g>\n",
       "<!-- 17&#45;&#45;21 -->\n",
       "<g id=\"edge21\" class=\"edge\">\n",
       "<title>17--21</title>\n",
       "<path fill=\"none\" stroke=\"black\" d=\"M603,-575C603,-575 642.1,-555.07 671.88,-539.88\"/>\n",
       "</g>\n",
       "<!-- 19 -->\n",
       "<g id=\"node20\" class=\"node\">\n",
       "<title>19</title>\n",
       "<text text-anchor=\"middle\" x=\"569\" y=\"-444.95\" font-family=\"Courier,monospace\" font-size=\"14.00\" fill=\"#008040\">&quot;out&quot;</text>\n",
       "</g>\n",
       "<!-- 18&#45;&#45;19 -->\n",
       "<g id=\"edge19\" class=\"edge\">\n",
       "<title>18--19</title>\n",
       "<path fill=\"none\" stroke=\"black\" d=\"M596,-503C596,-503 585.58,-482.94 577.69,-467.74\"/>\n",
       "</g>\n",
       "<!-- 20 -->\n",
       "<g id=\"node21\" class=\"node\">\n",
       "<title>20</title>\n",
       "<text text-anchor=\"middle\" x=\"644\" y=\"-444.95\" font-family=\"Courier,monospace\" font-size=\"14.00\" fill=\"#008040\">Store</text>\n",
       "</g>\n",
       "<!-- 18&#45;&#45;20 -->\n",
       "<g id=\"edge20\" class=\"edge\">\n",
       "<title>18--20</title>\n",
       "<path fill=\"none\" stroke=\"black\" d=\"M596,-503C596,-503 614.52,-482.94 628.55,-467.74\"/>\n",
       "</g>\n",
       "<!-- 22 -->\n",
       "<g id=\"node23\" class=\"node\">\n",
       "<title>22</title>\n",
       "<text text-anchor=\"middle\" x=\"718\" y=\"-444.95\" font-family=\"Courier,monospace\" font-size=\"14.00\" fill=\"#008040\">&quot;&quot;</text>\n",
       "</g>\n",
       "<!-- 21&#45;&#45;22 -->\n",
       "<g id=\"edge22\" class=\"edge\">\n",
       "<title>21--22</title>\n",
       "<path fill=\"none\" stroke=\"black\" d=\"M708.15,-504.05C710.19,-493.05 712.84,-478.76 714.88,-467.79\"/>\n",
       "</g>\n",
       "<!-- 24 -->\n",
       "<g id=\"node25\" class=\"node\">\n",
       "<title>24</title>\n",
       "<text text-anchor=\"start\" x=\"847.5\" y=\"-517.95\" font-family=\"Courier,monospace\" font-weight=\"bold\" font-size=\"14.00\" fill=\"#004080\">Name</text>\n",
       "</g>\n",
       "<!-- 23&#45;&#45;24 -->\n",
       "<g id=\"edge24\" class=\"edge\">\n",
       "<title>23--24</title>\n",
       "<path fill=\"none\" stroke=\"black\" d=\"M909,-575C909,-575 891.64,-554.94 878.49,-539.74\"/>\n",
       "</g>\n",
       "<!-- 27 -->\n",
       "<g id=\"node28\" class=\"node\">\n",
       "<title>27</title>\n",
       "<text text-anchor=\"start\" x=\"921.5\" y=\"-517.95\" font-family=\"Courier,monospace\" font-weight=\"bold\" font-size=\"14.00\" fill=\"#004080\">Name</text>\n",
       "</g>\n",
       "<!-- 23&#45;&#45;27 -->\n",
       "<g id=\"edge27\" class=\"edge\">\n",
       "<title>23--27</title>\n",
       "<path fill=\"none\" stroke=\"black\" d=\"M909,-575C909,-575 920.19,-554.94 928.66,-539.74\"/>\n",
       "</g>\n",
       "<!-- 30 -->\n",
       "<g id=\"node31\" class=\"node\">\n",
       "<title>30</title>\n",
       "<text text-anchor=\"start\" x=\"1134.75\" y=\"-517.95\" font-family=\"Courier,monospace\" font-weight=\"bold\" font-size=\"14.00\" fill=\"#004080\">If</text>\n",
       "</g>\n",
       "<!-- 23&#45;&#45;30 -->\n",
       "<g id=\"edge30\" class=\"edge\">\n",
       "<title>23--30</title>\n",
       "<path fill=\"none\" stroke=\"black\" d=\"M909,-575C909,-575 1054.69,-542.62 1116.16,-528.97\"/>\n",
       "</g>\n",
       "<!-- 25 -->\n",
       "<g id=\"node26\" class=\"node\">\n",
       "<title>25</title>\n",
       "<text text-anchor=\"middle\" x=\"790\" y=\"-444.95\" font-family=\"Courier,monospace\" font-size=\"14.00\" fill=\"#008040\">&quot;c&quot;</text>\n",
       "</g>\n",
       "<!-- 24&#45;&#45;25 -->\n",
       "<g id=\"edge25\" class=\"edge\">\n",
       "<title>24--25</title>\n",
       "<path fill=\"none\" stroke=\"black\" d=\"M856,-503C856,-503 830.54,-482.94 811.25,-467.74\"/>\n",
       "</g>\n",
       "<!-- 26 -->\n",
       "<g id=\"node27\" class=\"node\">\n",
       "<title>26</title>\n",
       "<text text-anchor=\"middle\" x=\"864\" y=\"-444.95\" font-family=\"Courier,monospace\" font-size=\"14.00\" fill=\"#008040\">Store</text>\n",
       "</g>\n",
       "<!-- 24&#45;&#45;26 -->\n",
       "<g id=\"edge26\" class=\"edge\">\n",
       "<title>24--26</title>\n",
       "<path fill=\"none\" stroke=\"black\" d=\"M856,-503C856,-503 859.09,-482.94 861.42,-467.74\"/>\n",
       "</g>\n",
       "<!-- 28 -->\n",
       "<g id=\"node29\" class=\"node\">\n",
       "<title>28</title>\n",
       "<text text-anchor=\"middle\" x=\"938\" y=\"-444.95\" font-family=\"Courier,monospace\" font-size=\"14.00\" fill=\"#008040\">&quot;s&quot;</text>\n",
       "</g>\n",
       "<!-- 27&#45;&#45;28 -->\n",
       "<g id=\"edge28\" class=\"edge\">\n",
       "<title>27--28</title>\n",
       "<path fill=\"none\" stroke=\"black\" d=\"M945,-503C945,-503 942.3,-482.94 940.25,-467.74\"/>\n",
       "</g>\n",
       "<!-- 29 -->\n",
       "<g id=\"node30\" class=\"node\">\n",
       "<title>29</title>\n",
       "<text text-anchor=\"middle\" x=\"1010\" y=\"-444.95\" font-family=\"Courier,monospace\" font-size=\"14.00\" fill=\"#008040\">Load</text>\n",
       "</g>\n",
       "<!-- 27&#45;&#45;29 -->\n",
       "<g id=\"edge29\" class=\"edge\">\n",
       "<title>27--29</title>\n",
       "<path fill=\"none\" stroke=\"black\" d=\"M945,-503C945,-503 970.07,-482.94 989.08,-467.74\"/>\n",
       "</g>\n",
       "<!-- 31 -->\n",
       "<g id=\"node32\" class=\"node\">\n",
       "<title>31</title>\n",
       "<text text-anchor=\"start\" x=\"1063.25\" y=\"-445.95\" font-family=\"Courier,monospace\" font-weight=\"bold\" font-size=\"14.00\" fill=\"#004080\">BoolOp</text>\n",
       "</g>\n",
       "<!-- 30&#45;&#45;31 -->\n",
       "<g id=\"edge31\" class=\"edge\">\n",
       "<title>30--31</title>\n",
       "<path fill=\"none\" stroke=\"black\" d=\"M1153,-503C1153,-503 1127.93,-482.94 1108.92,-467.74\"/>\n",
       "</g>\n",
       "<!-- 45 -->\n",
       "<g id=\"node46\" class=\"node\">\n",
       "<title>45</title>\n",
       "<text text-anchor=\"start\" x=\"1173.25\" y=\"-445.95\" font-family=\"Courier,monospace\" font-weight=\"bold\" font-size=\"14.00\" fill=\"#004080\">Assign</text>\n",
       "</g>\n",
       "<!-- 30&#45;&#45;45 -->\n",
       "<g id=\"edge45\" class=\"edge\">\n",
       "<title>30--45</title>\n",
       "<path fill=\"none\" stroke=\"black\" d=\"M1153,-503C1153,-503 1170.36,-482.94 1183.51,-467.74\"/>\n",
       "</g>\n",
       "<!-- 51 -->\n",
       "<g id=\"node52\" class=\"node\">\n",
       "<title>51</title>\n",
       "<text text-anchor=\"start\" x=\"1449.75\" y=\"-445.95\" font-family=\"Courier,monospace\" font-weight=\"bold\" font-size=\"14.00\" fill=\"#004080\">If</text>\n",
       "</g>\n",
       "<!-- 30&#45;&#45;51 -->\n",
       "<g id=\"edge51\" class=\"edge\">\n",
       "<title>30--51</title>\n",
       "<path fill=\"none\" stroke=\"black\" d=\"M1153,-503C1153,-503 1356.77,-468.26 1431.2,-455.57\"/>\n",
       "</g>\n",
       "<!-- 32 -->\n",
       "<g id=\"node33\" class=\"node\">\n",
       "<title>32</title>\n",
       "<text text-anchor=\"middle\" x=\"841\" y=\"-372.95\" font-family=\"Courier,monospace\" font-size=\"14.00\" fill=\"#008040\">And</text>\n",
       "</g>\n",
       "<!-- 31&#45;&#45;32 -->\n",
       "<g id=\"edge32\" class=\"edge\">\n",
       "<title>31--32</title>\n",
       "<path fill=\"none\" stroke=\"black\" d=\"M1067,-431C1067,-431 958.73,-422.33 877,-396 873.97,-395.03 870.87,-393.85 867.82,-392.58\"/>\n",
       "</g>\n",
       "<!-- 33 -->\n",
       "<g id=\"node34\" class=\"node\">\n",
       "<title>33</title>\n",
       "<text text-anchor=\"start\" x=\"894.12\" y=\"-373.95\" font-family=\"Courier,monospace\" font-weight=\"bold\" font-size=\"14.00\" fill=\"#004080\">Compare</text>\n",
       "</g>\n",
       "<!-- 31&#45;&#45;33 -->\n",
       "<g id=\"edge33\" class=\"edge\">\n",
       "<title>31--33</title>\n",
       "<path fill=\"none\" stroke=\"black\" d=\"M1067,-431C1067,-431 1002.37,-407.66 959.71,-392.26\"/>\n",
       "</g>\n",
       "<!-- 40 -->\n",
       "<g id=\"node41\" class=\"node\">\n",
       "<title>40</title>\n",
       "<text text-anchor=\"start\" x=\"1052.12\" y=\"-373.95\" font-family=\"Courier,monospace\" font-weight=\"bold\" font-size=\"14.00\" fill=\"#004080\">UnaryOp</text>\n",
       "</g>\n",
       "<!-- 31&#45;&#45;40 -->\n",
       "<g id=\"edge40\" class=\"edge\">\n",
       "<title>31--40</title>\n",
       "<path fill=\"none\" stroke=\"black\" d=\"M1067,-431C1067,-431 1072.4,-410.94 1076.49,-395.74\"/>\n",
       "</g>\n",
       "<!-- 34 -->\n",
       "<g id=\"node35\" class=\"node\">\n",
       "<title>34</title>\n",
       "<text text-anchor=\"start\" x=\"748.5\" y=\"-301.95\" font-family=\"Courier,monospace\" font-weight=\"bold\" font-size=\"14.00\" fill=\"#004080\">Name</text>\n",
       "</g>\n",
       "<!-- 33&#45;&#45;34 -->\n",
       "<g id=\"edge34\" class=\"edge\">\n",
       "<title>33--34</title>\n",
       "<path fill=\"none\" stroke=\"black\" d=\"M908,-359C908,-359 847.49,-342.5 801,-324 798.05,-322.82 794.99,-321.52 791.97,-320.18\"/>\n",
       "</g>\n",
       "<!-- 37 -->\n",
       "<g id=\"node38\" class=\"node\">\n",
       "<title>37</title>\n",
       "<text text-anchor=\"middle\" x=\"837\" y=\"-300.95\" font-family=\"Courier,monospace\" font-size=\"14.00\" fill=\"#008040\">Eq</text>\n",
       "</g>\n",
       "<!-- 33&#45;&#45;37 -->\n",
       "<g id=\"edge37\" class=\"edge\">\n",
       "<title>33--37</title>\n",
       "<path fill=\"none\" stroke=\"black\" d=\"M908,-359C908,-359 880.61,-338.94 859.86,-323.74\"/>\n",
       "</g>\n",
       "<!-- 38 -->\n",
       "<g id=\"node39\" class=\"node\">\n",
       "<title>38</title>\n",
       "<text text-anchor=\"start\" x=\"890\" y=\"-301.95\" font-family=\"Courier,monospace\" font-weight=\"bold\" font-size=\"14.00\" fill=\"#004080\">Constant</text>\n",
       "</g>\n",
       "<!-- 33&#45;&#45;38 -->\n",
       "<g id=\"edge38\" class=\"edge\">\n",
       "<title>33--38</title>\n",
       "<path fill=\"none\" stroke=\"black\" d=\"M908,-359C908,-359 913.79,-338.94 918.17,-323.74\"/>\n",
       "</g>\n",
       "<!-- 35 -->\n",
       "<g id=\"node36\" class=\"node\">\n",
       "<title>35</title>\n",
       "<text text-anchor=\"middle\" x=\"729\" y=\"-228.95\" font-family=\"Courier,monospace\" font-size=\"14.00\" fill=\"#008040\">&quot;c&quot;</text>\n",
       "</g>\n",
       "<!-- 34&#45;&#45;35 -->\n",
       "<g id=\"edge35\" class=\"edge\">\n",
       "<title>34--35</title>\n",
       "<path fill=\"none\" stroke=\"black\" d=\"M765,-287C765,-287 751.11,-266.94 740.59,-251.74\"/>\n",
       "</g>\n",
       "<!-- 36 -->\n",
       "<g id=\"node37\" class=\"node\">\n",
       "<title>36</title>\n",
       "<text text-anchor=\"middle\" x=\"801\" y=\"-228.95\" font-family=\"Courier,monospace\" font-size=\"14.00\" fill=\"#008040\">Load</text>\n",
       "</g>\n",
       "<!-- 34&#45;&#45;36 -->\n",
       "<g id=\"edge36\" class=\"edge\">\n",
       "<title>34--36</title>\n",
       "<path fill=\"none\" stroke=\"black\" d=\"M765,-287C765,-287 778.89,-266.94 789.41,-251.74\"/>\n",
       "</g>\n",
       "<!-- 39 -->\n",
       "<g id=\"node40\" class=\"node\">\n",
       "<title>39</title>\n",
       "<text text-anchor=\"middle\" x=\"923\" y=\"-228.95\" font-family=\"Courier,monospace\" font-size=\"14.00\" fill=\"#008040\">&quot;&lt;&quot;</text>\n",
       "</g>\n",
       "<!-- 38&#45;&#45;39 -->\n",
       "<g id=\"edge39\" class=\"edge\">\n",
       "<title>38--39</title>\n",
       "<path fill=\"none\" stroke=\"black\" d=\"M923,-288.05C923,-277.05 923,-262.76 923,-251.79\"/>\n",
       "</g>\n",
       "<!-- 41 -->\n",
       "<g id=\"node42\" class=\"node\">\n",
       "<title>41</title>\n",
       "<text text-anchor=\"middle\" x=\"1009\" y=\"-300.95\" font-family=\"Courier,monospace\" font-size=\"14.00\" fill=\"#008040\">Not</text>\n",
       "</g>\n",
       "<!-- 40&#45;&#45;41 -->\n",
       "<g id=\"edge41\" class=\"edge\">\n",
       "<title>40--41</title>\n",
       "<path fill=\"none\" stroke=\"black\" d=\"M1074,-359C1074,-359 1048.93,-338.94 1029.92,-323.74\"/>\n",
       "</g>\n",
       "<!-- 42 -->\n",
       "<g id=\"node43\" class=\"node\">\n",
       "<title>42</title>\n",
       "<text text-anchor=\"start\" x=\"1064.5\" y=\"-301.95\" font-family=\"Courier,monospace\" font-weight=\"bold\" font-size=\"14.00\" fill=\"#004080\">Name</text>\n",
       "</g>\n",
       "<!-- 40&#45;&#45;42 -->\n",
       "<g id=\"edge42\" class=\"edge\">\n",
       "<title>40--42</title>\n",
       "<path fill=\"none\" stroke=\"black\" d=\"M1074,-359C1074,-359 1076.7,-338.94 1078.75,-323.74\"/>\n",
       "</g>\n",
       "<!-- 43 -->\n",
       "<g id=\"node44\" class=\"node\">\n",
       "<title>43</title>\n",
       "<text text-anchor=\"middle\" x=\"1043\" y=\"-228.95\" font-family=\"Courier,monospace\" font-size=\"14.00\" fill=\"#008040\">&quot;quote&quot;</text>\n",
       "</g>\n",
       "<!-- 42&#45;&#45;43 -->\n",
       "<g id=\"edge43\" class=\"edge\">\n",
       "<title>42--43</title>\n",
       "<path fill=\"none\" stroke=\"black\" d=\"M1082,-287C1082,-287 1066.96,-266.94 1055.55,-251.74\"/>\n",
       "</g>\n",
       "<!-- 44 -->\n",
       "<g id=\"node45\" class=\"node\">\n",
       "<title>44</title>\n",
       "<text text-anchor=\"middle\" x=\"1125\" y=\"-228.95\" font-family=\"Courier,monospace\" font-size=\"14.00\" fill=\"#008040\">Load</text>\n",
       "</g>\n",
       "<!-- 42&#45;&#45;44 -->\n",
       "<g id=\"edge44\" class=\"edge\">\n",
       "<title>42--44</title>\n",
       "<path fill=\"none\" stroke=\"black\" d=\"M1082,-287C1082,-287 1098.59,-266.94 1111.16,-251.74\"/>\n",
       "</g>\n",
       "<!-- 46 -->\n",
       "<g id=\"node47\" class=\"node\">\n",
       "<title>46</title>\n",
       "<text text-anchor=\"start\" x=\"1181.5\" y=\"-373.95\" font-family=\"Courier,monospace\" font-weight=\"bold\" font-size=\"14.00\" fill=\"#004080\">Name</text>\n",
       "</g>\n",
       "<!-- 45&#45;&#45;46 -->\n",
       "<g id=\"edge46\" class=\"edge\">\n",
       "<title>45--46</title>\n",
       "<path fill=\"none\" stroke=\"black\" d=\"M1207,-431C1207,-431 1203.53,-410.94 1200.9,-395.74\"/>\n",
       "</g>\n",
       "<!-- 49 -->\n",
       "<g id=\"node50\" class=\"node\">\n",
       "<title>49</title>\n",
       "<text text-anchor=\"start\" x=\"1264\" y=\"-373.95\" font-family=\"Courier,monospace\" font-weight=\"bold\" font-size=\"14.00\" fill=\"#004080\">Constant</text>\n",
       "</g>\n",
       "<!-- 45&#45;&#45;49 -->\n",
       "<g id=\"edge49\" class=\"edge\">\n",
       "<title>45--49</title>\n",
       "<path fill=\"none\" stroke=\"black\" d=\"M1207,-431C1207,-431 1241.72,-410.94 1268.03,-395.74\"/>\n",
       "</g>\n",
       "<!-- 47 -->\n",
       "<g id=\"node48\" class=\"node\">\n",
       "<title>47</title>\n",
       "<text text-anchor=\"middle\" x=\"1155\" y=\"-300.95\" font-family=\"Courier,monospace\" font-size=\"14.00\" fill=\"#008040\">&quot;tag&quot;</text>\n",
       "</g>\n",
       "<!-- 46&#45;&#45;47 -->\n",
       "<g id=\"edge47\" class=\"edge\">\n",
       "<title>46--47</title>\n",
       "<path fill=\"none\" stroke=\"black\" d=\"M1197,-359C1197,-359 1180.8,-338.94 1168.52,-323.74\"/>\n",
       "</g>\n",
       "<!-- 48 -->\n",
       "<g id=\"node49\" class=\"node\">\n",
       "<title>48</title>\n",
       "<text text-anchor=\"middle\" x=\"1230\" y=\"-300.95\" font-family=\"Courier,monospace\" font-size=\"14.00\" fill=\"#008040\">Store</text>\n",
       "</g>\n",
       "<!-- 46&#45;&#45;48 -->\n",
       "<g id=\"edge48\" class=\"edge\">\n",
       "<title>46--48</title>\n",
       "<path fill=\"none\" stroke=\"black\" d=\"M1197,-359C1197,-359 1209.73,-338.94 1219.38,-323.74\"/>\n",
       "</g>\n",
       "<!-- 50 -->\n",
       "<g id=\"node51\" class=\"node\">\n",
       "<title>50</title>\n",
       "<text text-anchor=\"middle\" x=\"1304\" y=\"-300.95\" font-family=\"Courier,monospace\" font-size=\"14.00\" fill=\"#008040\">True</text>\n",
       "</g>\n",
       "<!-- 49&#45;&#45;50 -->\n",
       "<g id=\"edge50\" class=\"edge\">\n",
       "<title>49--50</title>\n",
       "<path fill=\"none\" stroke=\"black\" d=\"M1298.69,-360.05C1299.8,-349.05 1301.22,-334.76 1302.32,-323.79\"/>\n",
       "</g>\n",
       "<!-- 52 -->\n",
       "<g id=\"node53\" class=\"node\">\n",
       "<title>52</title>\n",
       "<text text-anchor=\"start\" x=\"1433.25\" y=\"-373.95\" font-family=\"Courier,monospace\" font-weight=\"bold\" font-size=\"14.00\" fill=\"#004080\">BoolOp</text>\n",
       "</g>\n",
       "<!-- 51&#45;&#45;52 -->\n",
       "<g id=\"edge52\" class=\"edge\">\n",
       "<title>51--52</title>\n",
       "<path fill=\"none\" stroke=\"black\" d=\"M1483,-431C1483,-431 1473.36,-410.94 1466.05,-395.74\"/>\n",
       "</g>\n",
       "<!-- 66 -->\n",
       "<g id=\"node67\" class=\"node\">\n",
       "<title>66</title>\n",
       "<text text-anchor=\"start\" x=\"1681.25\" y=\"-373.95\" font-family=\"Courier,monospace\" font-weight=\"bold\" font-size=\"14.00\" fill=\"#004080\">Assign</text>\n",
       "</g>\n",
       "<!-- 51&#45;&#45;66 -->\n",
       "<g id=\"edge66\" class=\"edge\">\n",
       "<title>51--66</title>\n",
       "<path fill=\"none\" stroke=\"black\" d=\"M1483,-431C1483,-431 1611.73,-400.98 1673.57,-386.56\"/>\n",
       "</g>\n",
       "<!-- 72 -->\n",
       "<g id=\"node73\" class=\"node\">\n",
       "<title>72</title>\n",
       "<text text-anchor=\"start\" x=\"2217.75\" y=\"-373.95\" font-family=\"Courier,monospace\" font-weight=\"bold\" font-size=\"14.00\" fill=\"#004080\">If</text>\n",
       "</g>\n",
       "<!-- 51&#45;&#45;72 -->\n",
       "<g id=\"edge72\" class=\"edge\">\n",
       "<title>51--72</title>\n",
       "<path fill=\"none\" stroke=\"black\" d=\"M1483,-431C1483,-431 2065.91,-390.2 2199.12,-380.88\"/>\n",
       "</g>\n",
       "<!-- 53 -->\n",
       "<g id=\"node54\" class=\"node\">\n",
       "<title>53</title>\n",
       "<text text-anchor=\"middle\" x=\"1376\" y=\"-300.95\" font-family=\"Courier,monospace\" font-size=\"14.00\" fill=\"#008040\">And</text>\n",
       "</g>\n",
       "<!-- 52&#45;&#45;53 -->\n",
       "<g id=\"edge53\" class=\"edge\">\n",
       "<title>52--53</title>\n",
       "<path fill=\"none\" stroke=\"black\" d=\"M1458,-359C1458,-359 1426.37,-338.94 1402.4,-323.74\"/>\n",
       "</g>\n",
       "<!-- 54 -->\n",
       "<g id=\"node55\" class=\"node\">\n",
       "<title>54</title>\n",
       "<text text-anchor=\"start\" x=\"1429.12\" y=\"-301.95\" font-family=\"Courier,monospace\" font-weight=\"bold\" font-size=\"14.00\" fill=\"#004080\">Compare</text>\n",
       "</g>\n",
       "<!-- 52&#45;&#45;54 -->\n",
       "<g id=\"edge54\" class=\"edge\">\n",
       "<title>52--54</title>\n",
       "<path fill=\"none\" stroke=\"black\" d=\"M1458,-359C1458,-359 1458,-338.94 1458,-323.74\"/>\n",
       "</g>\n",
       "<!-- 61 -->\n",
       "<g id=\"node62\" class=\"node\">\n",
       "<title>61</title>\n",
       "<text text-anchor=\"start\" x=\"1521.12\" y=\"-301.95\" font-family=\"Courier,monospace\" font-weight=\"bold\" font-size=\"14.00\" fill=\"#004080\">UnaryOp</text>\n",
       "</g>\n",
       "<!-- 52&#45;&#45;61 -->\n",
       "<g id=\"edge61\" class=\"edge\">\n",
       "<title>52--61</title>\n",
       "<path fill=\"none\" stroke=\"black\" d=\"M1458,-359C1458,-359 1493.27,-339.07 1520.13,-323.88\"/>\n",
       "</g>\n",
       "<!-- 55 -->\n",
       "<g id=\"node56\" class=\"node\">\n",
       "<title>55</title>\n",
       "<text text-anchor=\"start\" x=\"1283.5\" y=\"-229.95\" font-family=\"Courier,monospace\" font-weight=\"bold\" font-size=\"14.00\" fill=\"#004080\">Name</text>\n",
       "</g>\n",
       "<!-- 54&#45;&#45;55 -->\n",
       "<g id=\"edge55\" class=\"edge\">\n",
       "<title>54--55</title>\n",
       "<path fill=\"none\" stroke=\"black\" d=\"M1443,-287C1443,-287 1382.49,-270.5 1336,-252 1333.05,-250.82 1329.99,-249.52 1326.97,-248.18\"/>\n",
       "</g>\n",
       "<!-- 58 -->\n",
       "<g id=\"node59\" class=\"node\">\n",
       "<title>58</title>\n",
       "<text text-anchor=\"middle\" x=\"1372\" y=\"-228.95\" font-family=\"Courier,monospace\" font-size=\"14.00\" fill=\"#008040\">Eq</text>\n",
       "</g>\n",
       "<!-- 54&#45;&#45;58 -->\n",
       "<g id=\"edge58\" class=\"edge\">\n",
       "<title>54--58</title>\n",
       "<path fill=\"none\" stroke=\"black\" d=\"M1443,-287C1443,-287 1415.61,-266.94 1394.86,-251.74\"/>\n",
       "</g>\n",
       "<!-- 59 -->\n",
       "<g id=\"node60\" class=\"node\">\n",
       "<title>59</title>\n",
       "<text text-anchor=\"start\" x=\"1425\" y=\"-229.95\" font-family=\"Courier,monospace\" font-weight=\"bold\" font-size=\"14.00\" fill=\"#004080\">Constant</text>\n",
       "</g>\n",
       "<!-- 54&#45;&#45;59 -->\n",
       "<g id=\"edge59\" class=\"edge\">\n",
       "<title>54--59</title>\n",
       "<path fill=\"none\" stroke=\"black\" d=\"M1443,-287C1443,-287 1448.79,-266.94 1453.17,-251.74\"/>\n",
       "</g>\n",
       "<!-- 56 -->\n",
       "<g id=\"node57\" class=\"node\">\n",
       "<title>56</title>\n",
       "<text text-anchor=\"middle\" x=\"1264\" y=\"-156.95\" font-family=\"Courier,monospace\" font-size=\"14.00\" fill=\"#008040\">&quot;c&quot;</text>\n",
       "</g>\n",
       "<!-- 55&#45;&#45;56 -->\n",
       "<g id=\"edge56\" class=\"edge\">\n",
       "<title>55--56</title>\n",
       "<path fill=\"none\" stroke=\"black\" d=\"M1300,-215C1300,-215 1286.11,-194.94 1275.59,-179.74\"/>\n",
       "</g>\n",
       "<!-- 57 -->\n",
       "<g id=\"node58\" class=\"node\">\n",
       "<title>57</title>\n",
       "<text text-anchor=\"middle\" x=\"1336\" y=\"-156.95\" font-family=\"Courier,monospace\" font-size=\"14.00\" fill=\"#008040\">Load</text>\n",
       "</g>\n",
       "<!-- 55&#45;&#45;57 -->\n",
       "<g id=\"edge57\" class=\"edge\">\n",
       "<title>55--57</title>\n",
       "<path fill=\"none\" stroke=\"black\" d=\"M1300,-215C1300,-215 1313.89,-194.94 1324.41,-179.74\"/>\n",
       "</g>\n",
       "<!-- 60 -->\n",
       "<g id=\"node61\" class=\"node\">\n",
       "<title>60</title>\n",
       "<text text-anchor=\"middle\" x=\"1458\" y=\"-156.95\" font-family=\"Courier,monospace\" font-size=\"14.00\" fill=\"#008040\">&quot;&gt;&quot;</text>\n",
       "</g>\n",
       "<!-- 59&#45;&#45;60 -->\n",
       "<g id=\"edge60\" class=\"edge\">\n",
       "<title>59--60</title>\n",
       "<path fill=\"none\" stroke=\"black\" d=\"M1458,-216.05C1458,-205.05 1458,-190.76 1458,-179.79\"/>\n",
       "</g>\n",
       "<!-- 62 -->\n",
       "<g id=\"node63\" class=\"node\">\n",
       "<title>62</title>\n",
       "<text text-anchor=\"middle\" x=\"1544\" y=\"-228.95\" font-family=\"Courier,monospace\" font-size=\"14.00\" fill=\"#008040\">Not</text>\n",
       "</g>\n",
       "<!-- 61&#45;&#45;62 -->\n",
       "<g id=\"edge62\" class=\"edge\">\n",
       "<title>61--62</title>\n",
       "<path fill=\"none\" stroke=\"black\" d=\"M1556,-287C1556,-287 1551.37,-266.94 1547.86,-251.74\"/>\n",
       "</g>\n",
       "<!-- 63 -->\n",
       "<g id=\"node64\" class=\"node\">\n",
       "<title>63</title>\n",
       "<text text-anchor=\"start\" x=\"1599.5\" y=\"-229.95\" font-family=\"Courier,monospace\" font-weight=\"bold\" font-size=\"14.00\" fill=\"#004080\">Name</text>\n",
       "</g>\n",
       "<!-- 61&#45;&#45;63 -->\n",
       "<g id=\"edge63\" class=\"edge\">\n",
       "<title>61--63</title>\n",
       "<path fill=\"none\" stroke=\"black\" d=\"M1556,-287C1556,-287 1579.15,-266.94 1596.69,-251.74\"/>\n",
       "</g>\n",
       "<!-- 64 -->\n",
       "<g id=\"node65\" class=\"node\">\n",
       "<title>64</title>\n",
       "<text text-anchor=\"middle\" x=\"1605\" y=\"-156.95\" font-family=\"Courier,monospace\" font-size=\"14.00\" fill=\"#008040\">&quot;quote&quot;</text>\n",
       "</g>\n",
       "<!-- 63&#45;&#45;64 -->\n",
       "<g id=\"edge64\" class=\"edge\">\n",
       "<title>63--64</title>\n",
       "<path fill=\"none\" stroke=\"black\" d=\"M1622,-215C1622,-215 1615.44,-194.94 1610.47,-179.74\"/>\n",
       "</g>\n",
       "<!-- 65 -->\n",
       "<g id=\"node66\" class=\"node\">\n",
       "<title>65</title>\n",
       "<text text-anchor=\"middle\" x=\"1687\" y=\"-156.95\" font-family=\"Courier,monospace\" font-size=\"14.00\" fill=\"#008040\">Load</text>\n",
       "</g>\n",
       "<!-- 63&#45;&#45;65 -->\n",
       "<g id=\"edge65\" class=\"edge\">\n",
       "<title>63--65</title>\n",
       "<path fill=\"none\" stroke=\"black\" d=\"M1622,-215C1622,-215 1647.07,-194.94 1666.08,-179.74\"/>\n",
       "</g>\n",
       "<!-- 67 -->\n",
       "<g id=\"node68\" class=\"node\">\n",
       "<title>67</title>\n",
       "<text text-anchor=\"start\" x=\"1689.5\" y=\"-301.95\" font-family=\"Courier,monospace\" font-weight=\"bold\" font-size=\"14.00\" fill=\"#004080\">Name</text>\n",
       "</g>\n",
       "<!-- 66&#45;&#45;67 -->\n",
       "<g id=\"edge67\" class=\"edge\">\n",
       "<title>66--67</title>\n",
       "<path fill=\"none\" stroke=\"black\" d=\"M1716,-359C1716,-359 1712.14,-338.94 1709.22,-323.74\"/>\n",
       "</g>\n",
       "<!-- 70 -->\n",
       "<g id=\"node71\" class=\"node\">\n",
       "<title>70</title>\n",
       "<text text-anchor=\"start\" x=\"1791\" y=\"-301.95\" font-family=\"Courier,monospace\" font-weight=\"bold\" font-size=\"14.00\" fill=\"#004080\">Constant</text>\n",
       "</g>\n",
       "<!-- 66&#45;&#45;70 -->\n",
       "<g id=\"edge70\" class=\"edge\">\n",
       "<title>66--70</title>\n",
       "<path fill=\"none\" stroke=\"black\" d=\"M1716,-359C1716,-359 1757.4,-339.07 1788.94,-323.88\"/>\n",
       "</g>\n",
       "<!-- 68 -->\n",
       "<g id=\"node69\" class=\"node\">\n",
       "<title>68</title>\n",
       "<text text-anchor=\"middle\" x=\"1690\" y=\"-228.95\" font-family=\"Courier,monospace\" font-size=\"14.00\" fill=\"#008040\">&quot;tag&quot;</text>\n",
       "</g>\n",
       "<!-- 67&#45;&#45;68 -->\n",
       "<g id=\"edge68\" class=\"edge\">\n",
       "<title>67--68</title>\n",
       "<path fill=\"none\" stroke=\"black\" d=\"M1710,-287C1710,-287 1702.28,-266.94 1696.44,-251.74\"/>\n",
       "</g>\n",
       "<!-- 69 -->\n",
       "<g id=\"node70\" class=\"node\">\n",
       "<title>69</title>\n",
       "<text text-anchor=\"middle\" x=\"1765\" y=\"-228.95\" font-family=\"Courier,monospace\" font-size=\"14.00\" fill=\"#008040\">Store</text>\n",
       "</g>\n",
       "<!-- 67&#45;&#45;69 -->\n",
       "<g id=\"edge69\" class=\"edge\">\n",
       "<title>67--69</title>\n",
       "<path fill=\"none\" stroke=\"black\" d=\"M1710,-287C1710,-287 1731.22,-266.94 1747.29,-251.74\"/>\n",
       "</g>\n",
       "<!-- 71 -->\n",
       "<g id=\"node72\" class=\"node\">\n",
       "<title>71</title>\n",
       "<text text-anchor=\"middle\" x=\"1840\" y=\"-228.95\" font-family=\"Courier,monospace\" font-size=\"14.00\" fill=\"#008040\">False</text>\n",
       "</g>\n",
       "<!-- 70&#45;&#45;71 -->\n",
       "<g id=\"edge71\" class=\"edge\">\n",
       "<title>70--71</title>\n",
       "<path fill=\"none\" stroke=\"black\" d=\"M1827.87,-288.05C1830.39,-277.05 1833.65,-262.76 1836.16,-251.79\"/>\n",
       "</g>\n",
       "<!-- 73 -->\n",
       "<g id=\"node74\" class=\"node\">\n",
       "<title>73</title>\n",
       "<text text-anchor=\"start\" x=\"2026.25\" y=\"-301.95\" font-family=\"Courier,monospace\" font-weight=\"bold\" font-size=\"14.00\" fill=\"#004080\">BoolOp</text>\n",
       "</g>\n",
       "<!-- 72&#45;&#45;73 -->\n",
       "<g id=\"edge73\" class=\"edge\">\n",
       "<title>72--73</title>\n",
       "<path fill=\"none\" stroke=\"black\" d=\"M2239,-359C2239,-359 2137.61,-330.96 2083.75,-316.06\"/>\n",
       "</g>\n",
       "<!-- 94 -->\n",
       "<g id=\"node95\" class=\"node\">\n",
       "<title>94</title>\n",
       "<text text-anchor=\"start\" x=\"2294.25\" y=\"-301.95\" font-family=\"Courier,monospace\" font-weight=\"bold\" font-size=\"14.00\" fill=\"#004080\">Assign</text>\n",
       "</g>\n",
       "<!-- 72&#45;&#45;94 -->\n",
       "<g id=\"edge94\" class=\"edge\">\n",
       "<title>72--94</title>\n",
       "<path fill=\"none\" stroke=\"black\" d=\"M2239,-359C2239,-359 2269.86,-338.94 2293.25,-323.74\"/>\n",
       "</g>\n",
       "<!-- 103 -->\n",
       "<g id=\"node104\" class=\"node\">\n",
       "<title>103</title>\n",
       "<text text-anchor=\"start\" x=\"2612.75\" y=\"-301.95\" font-family=\"Courier,monospace\" font-weight=\"bold\" font-size=\"14.00\" fill=\"#004080\">If</text>\n",
       "</g>\n",
       "<!-- 72&#45;&#45;103 -->\n",
       "<g id=\"edge103\" class=\"edge\">\n",
       "<title>72--103</title>\n",
       "<path fill=\"none\" stroke=\"black\" d=\"M2239,-359C2239,-359 2507.19,-322.49 2594.14,-310.66\"/>\n",
       "</g>\n",
       "<!-- 74 -->\n",
       "<g id=\"node75\" class=\"node\">\n",
       "<title>74</title>\n",
       "<text text-anchor=\"middle\" x=\"1914\" y=\"-228.95\" font-family=\"Courier,monospace\" font-size=\"14.00\" fill=\"#008040\">Or</text>\n",
       "</g>\n",
       "<!-- 73&#45;&#45;74 -->\n",
       "<g id=\"edge74\" class=\"edge\">\n",
       "<title>73--74</title>\n",
       "<path fill=\"none\" stroke=\"black\" d=\"M2043,-287C2043,-287 1990.67,-269.22 1950,-252 1946.94,-250.71 1943.77,-249.3 1940.63,-247.87\"/>\n",
       "</g>\n",
       "<!-- 75 -->\n",
       "<g id=\"node76\" class=\"node\">\n",
       "<title>75</title>\n",
       "<text text-anchor=\"start\" x=\"1967.12\" y=\"-229.95\" font-family=\"Courier,monospace\" font-weight=\"bold\" font-size=\"14.00\" fill=\"#004080\">Compare</text>\n",
       "</g>\n",
       "<!-- 73&#45;&#45;75 -->\n",
       "<g id=\"edge75\" class=\"edge\">\n",
       "<title>73--75</title>\n",
       "<path fill=\"none\" stroke=\"black\" d=\"M2043,-287C2043,-287 2024.87,-266.94 2011.13,-251.74\"/>\n",
       "</g>\n",
       "<!-- 82 -->\n",
       "<g id=\"node83\" class=\"node\">\n",
       "<title>82</title>\n",
       "<text text-anchor=\"start\" x=\"2081.25\" y=\"-229.95\" font-family=\"Courier,monospace\" font-weight=\"bold\" font-size=\"14.00\" fill=\"#004080\">BoolOp</text>\n",
       "</g>\n",
       "<!-- 73&#45;&#45;82 -->\n",
       "<g id=\"edge82\" class=\"edge\">\n",
       "<title>73--82</title>\n",
       "<path fill=\"none\" stroke=\"black\" d=\"M2043,-287C2043,-287 2067.3,-266.94 2085.72,-251.74\"/>\n",
       "</g>\n",
       "<!-- 76 -->\n",
       "<g id=\"node77\" class=\"node\">\n",
       "<title>76</title>\n",
       "<text text-anchor=\"start\" x=\"1774.5\" y=\"-157.95\" font-family=\"Courier,monospace\" font-weight=\"bold\" font-size=\"14.00\" fill=\"#004080\">Name</text>\n",
       "</g>\n",
       "<!-- 75&#45;&#45;76 -->\n",
       "<g id=\"edge76\" class=\"edge\">\n",
       "<title>75--76</title>\n",
       "<path fill=\"none\" stroke=\"black\" d=\"M1970,-215C1970,-215 1888.67,-201.86 1827,-180 1824,-178.94 1820.92,-177.71 1817.88,-176.41\"/>\n",
       "</g>\n",
       "<!-- 79 -->\n",
       "<g id=\"node80\" class=\"node\">\n",
       "<title>79</title>\n",
       "<text text-anchor=\"middle\" x=\"1863\" y=\"-156.95\" font-family=\"Courier,monospace\" font-size=\"14.00\" fill=\"#008040\">Eq</text>\n",
       "</g>\n",
       "<!-- 75&#45;&#45;79 -->\n",
       "<g id=\"edge79\" class=\"edge\">\n",
       "<title>75--79</title>\n",
       "<path fill=\"none\" stroke=\"black\" d=\"M1970,-215C1970,-215 1921.42,-191.39 1889.72,-175.99\"/>\n",
       "</g>\n",
       "<!-- 80 -->\n",
       "<g id=\"node81\" class=\"node\">\n",
       "<title>80</title>\n",
       "<text text-anchor=\"start\" x=\"1916\" y=\"-157.95\" font-family=\"Courier,monospace\" font-weight=\"bold\" font-size=\"14.00\" fill=\"#004080\">Constant</text>\n",
       "</g>\n",
       "<!-- 75&#45;&#45;80 -->\n",
       "<g id=\"edge80\" class=\"edge\">\n",
       "<title>75--80</title>\n",
       "<path fill=\"none\" stroke=\"black\" d=\"M1970,-215C1970,-215 1961.9,-194.94 1955.76,-179.74\"/>\n",
       "</g>\n",
       "<!-- 77 -->\n",
       "<g id=\"node78\" class=\"node\">\n",
       "<title>77</title>\n",
       "<text text-anchor=\"middle\" x=\"1755\" y=\"-84.95\" font-family=\"Courier,monospace\" font-size=\"14.00\" fill=\"#008040\">&quot;c&quot;</text>\n",
       "</g>\n",
       "<!-- 76&#45;&#45;77 -->\n",
       "<g id=\"edge77\" class=\"edge\">\n",
       "<title>76--77</title>\n",
       "<path fill=\"none\" stroke=\"black\" d=\"M1791,-143C1791,-143 1777.11,-122.94 1766.59,-107.74\"/>\n",
       "</g>\n",
       "<!-- 78 -->\n",
       "<g id=\"node79\" class=\"node\">\n",
       "<title>78</title>\n",
       "<text text-anchor=\"middle\" x=\"1827\" y=\"-84.95\" font-family=\"Courier,monospace\" font-size=\"14.00\" fill=\"#008040\">Load</text>\n",
       "</g>\n",
       "<!-- 76&#45;&#45;78 -->\n",
       "<g id=\"edge78\" class=\"edge\">\n",
       "<title>76--78</title>\n",
       "<path fill=\"none\" stroke=\"black\" d=\"M1791,-143C1791,-143 1804.89,-122.94 1815.41,-107.74\"/>\n",
       "</g>\n",
       "<!-- 81 -->\n",
       "<g id=\"node82\" class=\"node\">\n",
       "<title>81</title>\n",
       "<text text-anchor=\"middle\" x=\"1942\" y=\"-84.95\" font-family=\"Courier,monospace\" font-size=\"14.00\" fill=\"#008040\">&quot;&quot;&quot;</text>\n",
       "</g>\n",
       "<!-- 80&#45;&#45;81 -->\n",
       "<g id=\"edge81\" class=\"edge\">\n",
       "<title>80--81</title>\n",
       "<path fill=\"none\" stroke=\"black\" d=\"M1947.31,-144.05C1946.2,-133.05 1944.78,-118.76 1943.68,-107.79\"/>\n",
       "</g>\n",
       "<!-- 83 -->\n",
       "<g id=\"node84\" class=\"node\">\n",
       "<title>83</title>\n",
       "<text text-anchor=\"middle\" x=\"2035\" y=\"-156.95\" font-family=\"Courier,monospace\" font-size=\"14.00\" fill=\"#008040\">And</text>\n",
       "</g>\n",
       "<!-- 82&#45;&#45;83 -->\n",
       "<g id=\"edge83\" class=\"edge\">\n",
       "<title>82--83</title>\n",
       "<path fill=\"none\" stroke=\"black\" d=\"M2108,-215C2108,-215 2079.84,-194.94 2058.5,-179.74\"/>\n",
       "</g>\n",
       "<!-- 84 -->\n",
       "<g id=\"node85\" class=\"node\">\n",
       "<title>84</title>\n",
       "<text text-anchor=\"start\" x=\"2088.12\" y=\"-157.95\" font-family=\"Courier,monospace\" font-weight=\"bold\" font-size=\"14.00\" fill=\"#004080\">Compare</text>\n",
       "</g>\n",
       "<!-- 82&#45;&#45;84 -->\n",
       "<g id=\"edge84\" class=\"edge\">\n",
       "<title>82--84</title>\n",
       "<path fill=\"none\" stroke=\"black\" d=\"M2108,-215C2108,-215 2111.47,-194.94 2114.1,-179.74\"/>\n",
       "</g>\n",
       "<!-- 91 -->\n",
       "<g id=\"node92\" class=\"node\">\n",
       "<title>91</title>\n",
       "<text text-anchor=\"start\" x=\"2182.5\" y=\"-157.95\" font-family=\"Courier,monospace\" font-weight=\"bold\" font-size=\"14.00\" fill=\"#004080\">Name</text>\n",
       "</g>\n",
       "<!-- 82&#45;&#45;91 -->\n",
       "<g id=\"edge91\" class=\"edge\">\n",
       "<title>82--91</title>\n",
       "<path fill=\"none\" stroke=\"black\" d=\"M2108,-215C2108,-215 2145.35,-193.66 2172.19,-178.32\"/>\n",
       "</g>\n",
       "<!-- 85 -->\n",
       "<g id=\"node86\" class=\"node\">\n",
       "<title>85</title>\n",
       "<text text-anchor=\"start\" x=\"1997.5\" y=\"-85.95\" font-family=\"Courier,monospace\" font-weight=\"bold\" font-size=\"14.00\" fill=\"#004080\">Name</text>\n",
       "</g>\n",
       "<!-- 84&#45;&#45;85 -->\n",
       "<g id=\"edge85\" class=\"edge\">\n",
       "<title>84--85</title>\n",
       "<path fill=\"none\" stroke=\"black\" d=\"M2112,-143C2112,-143 2069.79,-120.61 2040.78,-105.21\"/>\n",
       "</g>\n",
       "<!-- 88 -->\n",
       "<g id=\"node89\" class=\"node\">\n",
       "<title>88</title>\n",
       "<text text-anchor=\"middle\" x=\"2086\" y=\"-84.95\" font-family=\"Courier,monospace\" font-size=\"14.00\" fill=\"#008040\">Eq</text>\n",
       "</g>\n",
       "<!-- 84&#45;&#45;88 -->\n",
       "<g id=\"edge88\" class=\"edge\">\n",
       "<title>84--88</title>\n",
       "<path fill=\"none\" stroke=\"black\" d=\"M2112,-143C2112,-143 2101.97,-122.94 2094.37,-107.74\"/>\n",
       "</g>\n",
       "<!-- 89 -->\n",
       "<g id=\"node90\" class=\"node\">\n",
       "<title>89</title>\n",
       "<text text-anchor=\"start\" x=\"2139\" y=\"-85.95\" font-family=\"Courier,monospace\" font-weight=\"bold\" font-size=\"14.00\" fill=\"#004080\">Constant</text>\n",
       "</g>\n",
       "<!-- 84&#45;&#45;89 -->\n",
       "<g id=\"edge89\" class=\"edge\">\n",
       "<title>84--89</title>\n",
       "<path fill=\"none\" stroke=\"black\" d=\"M2112,-143C2112,-143 2135.15,-122.94 2152.69,-107.74\"/>\n",
       "</g>\n",
       "<!-- 86 -->\n",
       "<g id=\"node87\" class=\"node\">\n",
       "<title>86</title>\n",
       "<text text-anchor=\"middle\" x=\"1978\" y=\"-12.95\" font-family=\"Courier,monospace\" font-size=\"14.00\" fill=\"#008040\">&quot;c&quot;</text>\n",
       "</g>\n",
       "<!-- 85&#45;&#45;86 -->\n",
       "<g id=\"edge86\" class=\"edge\">\n",
       "<title>85--86</title>\n",
       "<path fill=\"none\" stroke=\"black\" d=\"M2014,-71C2014,-71 2000.11,-50.94 1989.59,-35.74\"/>\n",
       "</g>\n",
       "<!-- 87 -->\n",
       "<g id=\"node88\" class=\"node\">\n",
       "<title>87</title>\n",
       "<text text-anchor=\"middle\" x=\"2050\" y=\"-12.95\" font-family=\"Courier,monospace\" font-size=\"14.00\" fill=\"#008040\">Load</text>\n",
       "</g>\n",
       "<!-- 85&#45;&#45;87 -->\n",
       "<g id=\"edge87\" class=\"edge\">\n",
       "<title>85--87</title>\n",
       "<path fill=\"none\" stroke=\"black\" d=\"M2014,-71C2014,-71 2027.89,-50.94 2038.41,-35.74\"/>\n",
       "</g>\n",
       "<!-- 90 -->\n",
       "<g id=\"node91\" class=\"node\">\n",
       "<title>90</title>\n",
       "<text text-anchor=\"middle\" x=\"2172\" y=\"-12.95\" font-family=\"Courier,monospace\" font-size=\"14.00\" fill=\"#008040\">&quot;'&quot;</text>\n",
       "</g>\n",
       "<!-- 89&#45;&#45;90 -->\n",
       "<g id=\"edge90\" class=\"edge\">\n",
       "<title>89--90</title>\n",
       "<path fill=\"none\" stroke=\"black\" d=\"M2172,-72.05C2172,-61.05 2172,-46.76 2172,-35.79\"/>\n",
       "</g>\n",
       "<!-- 92 -->\n",
       "<g id=\"node93\" class=\"node\">\n",
       "<title>92</title>\n",
       "<text text-anchor=\"middle\" x=\"2260\" y=\"-84.95\" font-family=\"Courier,monospace\" font-size=\"14.00\" fill=\"#008040\">&quot;tag&quot;</text>\n",
       "</g>\n",
       "<!-- 91&#45;&#45;92 -->\n",
       "<g id=\"edge92\" class=\"edge\">\n",
       "<title>91--92</title>\n",
       "<path fill=\"none\" stroke=\"black\" d=\"M2221,-143C2221,-143 2236.04,-122.94 2247.45,-107.74\"/>\n",
       "</g>\n",
       "<!-- 93 -->\n",
       "<g id=\"node94\" class=\"node\">\n",
       "<title>93</title>\n",
       "<text text-anchor=\"middle\" x=\"2334\" y=\"-84.95\" font-family=\"Courier,monospace\" font-size=\"14.00\" fill=\"#008040\">Load</text>\n",
       "</g>\n",
       "<!-- 91&#45;&#45;93 -->\n",
       "<g id=\"edge93\" class=\"edge\">\n",
       "<title>91--93</title>\n",
       "<path fill=\"none\" stroke=\"black\" d=\"M2221,-143C2221,-143 2263.89,-123.8 2298,-108 2301.01,-106.61 2304.16,-105.14 2307.28,-103.67\"/>\n",
       "</g>\n",
       "<!-- 95 -->\n",
       "<g id=\"node96\" class=\"node\">\n",
       "<title>95</title>\n",
       "<text text-anchor=\"start\" x=\"2302.5\" y=\"-229.95\" font-family=\"Courier,monospace\" font-weight=\"bold\" font-size=\"14.00\" fill=\"#004080\">Name</text>\n",
       "</g>\n",
       "<!-- 94&#45;&#45;95 -->\n",
       "<g id=\"edge95\" class=\"edge\">\n",
       "<title>94--95</title>\n",
       "<path fill=\"none\" stroke=\"black\" d=\"M2329,-287C2329,-287 2325.14,-266.94 2322.22,-251.74\"/>\n",
       "</g>\n",
       "<!-- 98 -->\n",
       "<g id=\"node99\" class=\"node\">\n",
       "<title>98</title>\n",
       "<text text-anchor=\"start\" x=\"2410.12\" y=\"-229.95\" font-family=\"Courier,monospace\" font-weight=\"bold\" font-size=\"14.00\" fill=\"#004080\">UnaryOp</text>\n",
       "</g>\n",
       "<!-- 94&#45;&#45;98 -->\n",
       "<g id=\"edge98\" class=\"edge\">\n",
       "<title>94--98</title>\n",
       "<path fill=\"none\" stroke=\"black\" d=\"M2329,-287C2329,-287 2371.17,-267.07 2403.29,-251.88\"/>\n",
       "</g>\n",
       "<!-- 96 -->\n",
       "<g id=\"node97\" class=\"node\">\n",
       "<title>96</title>\n",
       "<text text-anchor=\"middle\" x=\"2281\" y=\"-156.95\" font-family=\"Courier,monospace\" font-size=\"14.00\" fill=\"#008040\">&quot;quote&quot;</text>\n",
       "</g>\n",
       "<!-- 95&#45;&#45;96 -->\n",
       "<g id=\"edge96\" class=\"edge\">\n",
       "<title>95--96</title>\n",
       "<path fill=\"none\" stroke=\"black\" d=\"M2320,-215C2320,-215 2304.96,-194.94 2293.55,-179.74\"/>\n",
       "</g>\n",
       "<!-- 97 -->\n",
       "<g id=\"node98\" class=\"node\">\n",
       "<title>97</title>\n",
       "<text text-anchor=\"middle\" x=\"2365\" y=\"-156.95\" font-family=\"Courier,monospace\" font-size=\"14.00\" fill=\"#008040\">Store</text>\n",
       "</g>\n",
       "<!-- 95&#45;&#45;97 -->\n",
       "<g id=\"edge97\" class=\"edge\">\n",
       "<title>95--97</title>\n",
       "<path fill=\"none\" stroke=\"black\" d=\"M2320,-215C2320,-215 2337.36,-194.94 2350.51,-179.74\"/>\n",
       "</g>\n",
       "<!-- 99 -->\n",
       "<g id=\"node100\" class=\"node\">\n",
       "<title>99</title>\n",
       "<text text-anchor=\"middle\" x=\"2439\" y=\"-156.95\" font-family=\"Courier,monospace\" font-size=\"14.00\" fill=\"#008040\">Not</text>\n",
       "</g>\n",
       "<!-- 98&#45;&#45;99 -->\n",
       "<g id=\"edge99\" class=\"edge\">\n",
       "<title>98--99</title>\n",
       "<path fill=\"none\" stroke=\"black\" d=\"M2446,-215C2446,-215 2443.3,-194.94 2441.25,-179.74\"/>\n",
       "</g>\n",
       "<!-- 100 -->\n",
       "<g id=\"node101\" class=\"node\">\n",
       "<title>100</title>\n",
       "<text text-anchor=\"start\" x=\"2494.5\" y=\"-157.95\" font-family=\"Courier,monospace\" font-weight=\"bold\" font-size=\"14.00\" fill=\"#004080\">Name</text>\n",
       "</g>\n",
       "<!-- 98&#45;&#45;100 -->\n",
       "<g id=\"edge100\" class=\"edge\">\n",
       "<title>98--100</title>\n",
       "<path fill=\"none\" stroke=\"black\" d=\"M2446,-215C2446,-215 2471.07,-194.94 2490.08,-179.74\"/>\n",
       "</g>\n",
       "<!-- 101 -->\n",
       "<g id=\"node102\" class=\"node\">\n",
       "<title>101</title>\n",
       "<text text-anchor=\"middle\" x=\"2429\" y=\"-84.95\" font-family=\"Courier,monospace\" font-size=\"14.00\" fill=\"#008040\">&quot;quote&quot;</text>\n",
       "</g>\n",
       "<!-- 100&#45;&#45;101 -->\n",
       "<g id=\"edge101\" class=\"edge\">\n",
       "<title>100--101</title>\n",
       "<path fill=\"none\" stroke=\"black\" d=\"M2503,-143C2503,-143 2474.45,-122.94 2452.82,-107.74\"/>\n",
       "</g>\n",
       "<!-- 102 -->\n",
       "<g id=\"node103\" class=\"node\">\n",
       "<title>102</title>\n",
       "<text text-anchor=\"middle\" x=\"2511\" y=\"-84.95\" font-family=\"Courier,monospace\" font-size=\"14.00\" fill=\"#008040\">Load</text>\n",
       "</g>\n",
       "<!-- 100&#45;&#45;102 -->\n",
       "<g id=\"edge102\" class=\"edge\">\n",
       "<title>100--102</title>\n",
       "<path fill=\"none\" stroke=\"black\" d=\"M2503,-143C2503,-143 2506.09,-122.94 2508.42,-107.74\"/>\n",
       "</g>\n",
       "<!-- 104 -->\n",
       "<g id=\"node105\" class=\"node\">\n",
       "<title>104</title>\n",
       "<text text-anchor=\"start\" x=\"2592.12\" y=\"-229.95\" font-family=\"Courier,monospace\" font-weight=\"bold\" font-size=\"14.00\" fill=\"#004080\">UnaryOp</text>\n",
       "</g>\n",
       "<!-- 103&#45;&#45;104 -->\n",
       "<g id=\"edge104\" class=\"edge\">\n",
       "<title>103--104</title>\n",
       "<path fill=\"none\" stroke=\"black\" d=\"M2632,-287C2632,-287 2627.76,-266.94 2624.54,-251.74\"/>\n",
       "</g>\n",
       "<!-- 109 -->\n",
       "<g id=\"node110\" class=\"node\">\n",
       "<title>109</title>\n",
       "<text text-anchor=\"start\" x=\"2745.25\" y=\"-229.95\" font-family=\"Courier,monospace\" font-weight=\"bold\" font-size=\"14.00\" fill=\"#004080\">Assign</text>\n",
       "</g>\n",
       "<!-- 103&#45;&#45;109 -->\n",
       "<g id=\"edge109\" class=\"edge\">\n",
       "<title>103--109</title>\n",
       "<path fill=\"none\" stroke=\"black\" d=\"M2632,-287C2632,-287 2696.49,-262.7 2737.3,-247.32\"/>\n",
       "</g>\n",
       "<!-- 105 -->\n",
       "<g id=\"node106\" class=\"node\">\n",
       "<title>105</title>\n",
       "<text text-anchor=\"middle\" x=\"2585\" y=\"-156.95\" font-family=\"Courier,monospace\" font-size=\"14.00\" fill=\"#008040\">Not</text>\n",
       "</g>\n",
       "<!-- 104&#45;&#45;105 -->\n",
       "<g id=\"edge105\" class=\"edge\">\n",
       "<title>104--105</title>\n",
       "<path fill=\"none\" stroke=\"black\" d=\"M2621,-215C2621,-215 2607.11,-194.94 2596.59,-179.74\"/>\n",
       "</g>\n",
       "<!-- 106 -->\n",
       "<g id=\"node107\" class=\"node\">\n",
       "<title>106</title>\n",
       "<text text-anchor=\"start\" x=\"2640.5\" y=\"-157.95\" font-family=\"Courier,monospace\" font-weight=\"bold\" font-size=\"14.00\" fill=\"#004080\">Name</text>\n",
       "</g>\n",
       "<!-- 104&#45;&#45;106 -->\n",
       "<g id=\"edge106\" class=\"edge\">\n",
       "<title>104--106</title>\n",
       "<path fill=\"none\" stroke=\"black\" d=\"M2621,-215C2621,-215 2634.89,-194.94 2645.41,-179.74\"/>\n",
       "</g>\n",
       "<!-- 107 -->\n",
       "<g id=\"node108\" class=\"node\">\n",
       "<title>107</title>\n",
       "<text text-anchor=\"middle\" x=\"2585\" y=\"-84.95\" font-family=\"Courier,monospace\" font-size=\"14.00\" fill=\"#008040\">&quot;tag&quot;</text>\n",
       "</g>\n",
       "<!-- 106&#45;&#45;107 -->\n",
       "<g id=\"edge107\" class=\"edge\">\n",
       "<title>106--107</title>\n",
       "<path fill=\"none\" stroke=\"black\" d=\"M2650,-143C2650,-143 2624.93,-122.94 2605.92,-107.74\"/>\n",
       "</g>\n",
       "<!-- 108 -->\n",
       "<g id=\"node109\" class=\"node\">\n",
       "<title>108</title>\n",
       "<text text-anchor=\"middle\" x=\"2659\" y=\"-84.95\" font-family=\"Courier,monospace\" font-size=\"14.00\" fill=\"#008040\">Load</text>\n",
       "</g>\n",
       "<!-- 106&#45;&#45;108 -->\n",
       "<g id=\"edge108\" class=\"edge\">\n",
       "<title>106--108</title>\n",
       "<path fill=\"none\" stroke=\"black\" d=\"M2650,-143C2650,-143 2653.47,-122.94 2656.1,-107.74\"/>\n",
       "</g>\n",
       "<!-- 110 -->\n",
       "<g id=\"node111\" class=\"node\">\n",
       "<title>110</title>\n",
       "<text text-anchor=\"start\" x=\"2753.5\" y=\"-157.95\" font-family=\"Courier,monospace\" font-weight=\"bold\" font-size=\"14.00\" fill=\"#004080\">Name</text>\n",
       "</g>\n",
       "<!-- 109&#45;&#45;110 -->\n",
       "<g id=\"edge110\" class=\"edge\">\n",
       "<title>109--110</title>\n",
       "<path fill=\"none\" stroke=\"black\" d=\"M2781,-215C2781,-215 2776.76,-194.94 2773.54,-179.74\"/>\n",
       "</g>\n",
       "<!-- 113 -->\n",
       "<g id=\"node114\" class=\"node\">\n",
       "<title>113</title>\n",
       "<text text-anchor=\"start\" x=\"2897.38\" y=\"-157.95\" font-family=\"Courier,monospace\" font-weight=\"bold\" font-size=\"14.00\" fill=\"#004080\">BinOp</text>\n",
       "</g>\n",
       "<!-- 109&#45;&#45;113 -->\n",
       "<g id=\"edge113\" class=\"edge\">\n",
       "<title>109--113</title>\n",
       "<path fill=\"none\" stroke=\"black\" d=\"M2781,-215C2781,-215 2849.49,-189.01 2889.61,-173.77\"/>\n",
       "</g>\n",
       "<!-- 111 -->\n",
       "<g id=\"node112\" class=\"node\">\n",
       "<title>111</title>\n",
       "<text text-anchor=\"middle\" x=\"2733\" y=\"-84.95\" font-family=\"Courier,monospace\" font-size=\"14.00\" fill=\"#008040\">&quot;out&quot;</text>\n",
       "</g>\n",
       "<!-- 110&#45;&#45;111 -->\n",
       "<g id=\"edge111\" class=\"edge\">\n",
       "<title>110--111</title>\n",
       "<path fill=\"none\" stroke=\"black\" d=\"M2770,-143C2770,-143 2755.73,-122.94 2744.91,-107.74\"/>\n",
       "</g>\n",
       "<!-- 112 -->\n",
       "<g id=\"node113\" class=\"node\">\n",
       "<title>112</title>\n",
       "<text text-anchor=\"middle\" x=\"2808\" y=\"-84.95\" font-family=\"Courier,monospace\" font-size=\"14.00\" fill=\"#008040\">Store</text>\n",
       "</g>\n",
       "<!-- 110&#45;&#45;112 -->\n",
       "<g id=\"edge112\" class=\"edge\">\n",
       "<title>110--112</title>\n",
       "<path fill=\"none\" stroke=\"black\" d=\"M2770,-143C2770,-143 2784.66,-122.94 2795.77,-107.74\"/>\n",
       "</g>\n",
       "<!-- 114 -->\n",
       "<g id=\"node115\" class=\"node\">\n",
       "<title>114</title>\n",
       "<text text-anchor=\"start\" x=\"2865.5\" y=\"-85.95\" font-family=\"Courier,monospace\" font-weight=\"bold\" font-size=\"14.00\" fill=\"#004080\">Name</text>\n",
       "</g>\n",
       "<!-- 113&#45;&#45;114 -->\n",
       "<g id=\"edge114\" class=\"edge\">\n",
       "<title>113--114</title>\n",
       "<path fill=\"none\" stroke=\"black\" d=\"M2924,-143C2924,-143 2907.8,-122.94 2895.52,-107.74\"/>\n",
       "</g>\n",
       "<!-- 117 -->\n",
       "<g id=\"node118\" class=\"node\">\n",
       "<title>117</title>\n",
       "<text text-anchor=\"middle\" x=\"2954\" y=\"-84.95\" font-family=\"Courier,monospace\" font-size=\"14.00\" fill=\"#008040\">Add</text>\n",
       "</g>\n",
       "<!-- 113&#45;&#45;117 -->\n",
       "<g id=\"edge117\" class=\"edge\">\n",
       "<title>113--117</title>\n",
       "<path fill=\"none\" stroke=\"black\" d=\"M2924,-143C2924,-143 2935.57,-122.94 2944.34,-107.74\"/>\n",
       "</g>\n",
       "<!-- 118 -->\n",
       "<g id=\"node119\" class=\"node\">\n",
       "<title>118</title>\n",
       "<text text-anchor=\"start\" x=\"3009.5\" y=\"-85.95\" font-family=\"Courier,monospace\" font-weight=\"bold\" font-size=\"14.00\" fill=\"#004080\">Name</text>\n",
       "</g>\n",
       "<!-- 113&#45;&#45;118 -->\n",
       "<g id=\"edge118\" class=\"edge\">\n",
       "<title>113--118</title>\n",
       "<path fill=\"none\" stroke=\"black\" d=\"M2924,-143C2924,-143 2968.98,-120.07 2999.2,-104.66\"/>\n",
       "</g>\n",
       "<!-- 115 -->\n",
       "<g id=\"node116\" class=\"node\">\n",
       "<title>115</title>\n",
       "<text text-anchor=\"middle\" x=\"2826\" y=\"-12.95\" font-family=\"Courier,monospace\" font-size=\"14.00\" fill=\"#008040\">&quot;out&quot;</text>\n",
       "</g>\n",
       "<!-- 114&#45;&#45;115 -->\n",
       "<g id=\"edge115\" class=\"edge\">\n",
       "<title>114--115</title>\n",
       "<path fill=\"none\" stroke=\"black\" d=\"M2878,-71C2878,-71 2857.94,-50.94 2842.74,-35.74\"/>\n",
       "</g>\n",
       "<!-- 116 -->\n",
       "<g id=\"node117\" class=\"node\">\n",
       "<title>116</title>\n",
       "<text text-anchor=\"middle\" x=\"2900\" y=\"-12.95\" font-family=\"Courier,monospace\" font-size=\"14.00\" fill=\"#008040\">Load</text>\n",
       "</g>\n",
       "<!-- 114&#45;&#45;116 -->\n",
       "<g id=\"edge116\" class=\"edge\">\n",
       "<title>114--116</title>\n",
       "<path fill=\"none\" stroke=\"black\" d=\"M2878,-71C2878,-71 2886.49,-50.94 2892.92,-35.74\"/>\n",
       "</g>\n",
       "<!-- 119 -->\n",
       "<g id=\"node120\" class=\"node\">\n",
       "<title>119</title>\n",
       "<text text-anchor=\"middle\" x=\"3008\" y=\"-12.95\" font-family=\"Courier,monospace\" font-size=\"14.00\" fill=\"#008040\">&quot;c&quot;</text>\n",
       "</g>\n",
       "<!-- 118&#45;&#45;119 -->\n",
       "<g id=\"edge119\" class=\"edge\">\n",
       "<title>118--119</title>\n",
       "<path fill=\"none\" stroke=\"black\" d=\"M3030,-71C3030,-71 3021.51,-50.94 3015.08,-35.74\"/>\n",
       "</g>\n",
       "<!-- 120 -->\n",
       "<g id=\"node121\" class=\"node\">\n",
       "<title>120</title>\n",
       "<text text-anchor=\"middle\" x=\"3080\" y=\"-12.95\" font-family=\"Courier,monospace\" font-size=\"14.00\" fill=\"#008040\">Load</text>\n",
       "</g>\n",
       "<!-- 118&#45;&#45;120 -->\n",
       "<g id=\"edge120\" class=\"edge\">\n",
       "<title>118--120</title>\n",
       "<path fill=\"none\" stroke=\"black\" d=\"M3030,-71C3030,-71 3049.29,-50.94 3063.9,-35.74\"/>\n",
       "</g>\n",
       "<!-- 122 -->\n",
       "<g id=\"node123\" class=\"node\">\n",
       "<title>122</title>\n",
       "<text text-anchor=\"start\" x=\"1515.5\" y=\"-517.95\" font-family=\"Courier,monospace\" font-weight=\"bold\" font-size=\"14.00\" fill=\"#004080\">Name</text>\n",
       "</g>\n",
       "<!-- 121&#45;&#45;122 -->\n",
       "<g id=\"edge122\" class=\"edge\">\n",
       "<title>121--122</title>\n",
       "<path fill=\"none\" stroke=\"black\" d=\"M1296.59,-584.49C1350.16,-570.5 1455.79,-542.9 1505.26,-529.98\"/>\n",
       "</g>\n",
       "<!-- 123 -->\n",
       "<g id=\"node124\" class=\"node\">\n",
       "<title>123</title>\n",
       "<text text-anchor=\"middle\" x=\"1532\" y=\"-444.95\" font-family=\"Courier,monospace\" font-size=\"14.00\" fill=\"#008040\">&quot;out&quot;</text>\n",
       "</g>\n",
       "<!-- 122&#45;&#45;123 -->\n",
       "<g id=\"edge123\" class=\"edge\">\n",
       "<title>122--123</title>\n",
       "<path fill=\"none\" stroke=\"black\" d=\"M1540,-503C1540,-503 1536.91,-482.94 1534.58,-467.74\"/>\n",
       "</g>\n",
       "<!-- 124 -->\n",
       "<g id=\"node125\" class=\"node\">\n",
       "<title>124</title>\n",
       "<text text-anchor=\"middle\" x=\"1606\" y=\"-444.95\" font-family=\"Courier,monospace\" font-size=\"14.00\" fill=\"#008040\">Load</text>\n",
       "</g>\n",
       "<!-- 122&#45;&#45;124 -->\n",
       "<g id=\"edge124\" class=\"edge\">\n",
       "<title>122--124</title>\n",
       "<path fill=\"none\" stroke=\"black\" d=\"M1540,-503C1540,-503 1565.46,-482.94 1584.75,-467.74\"/>\n",
       "</g>\n",
       "</g>\n",
       "</svg>"
      ],
      "text/plain": [
       "<IPython.core.display.SVG object>"
      ]
     },
     "metadata": {},
     "output_type": "display_data"
    }
   ],
   "source": [
    "reduced_fun_tree = copy_and_reduce(fun_tree, reduced_nodes)\n",
    "show_ast(reduced_fun_tree)"
   ]
  },
  {
   "cell_type": "markdown",
   "metadata": {
    "slideshow": {
     "slide_type": "fragment"
    }
   },
   "source": [
    "And this is its textual representation:"
   ]
  },
  {
   "cell_type": "code",
   "execution_count": 176,
   "metadata": {
    "execution": {
     "iopub.execute_input": "2023-11-12T12:40:50.899409Z",
     "iopub.status.busy": "2023-11-12T12:40:50.899280Z",
     "iopub.status.idle": "2023-11-12T12:40:50.933790Z",
     "shell.execute_reply": "2023-11-12T12:40:50.933494Z"
    },
    "slideshow": {
     "slide_type": "subslide"
    }
   },
   "outputs": [
    {
     "name": "stdout",
     "output_type": "stream",
     "text": [
      "\u001b[34mdef\u001b[39;49;00m \u001b[32mremove_html_markup\u001b[39;49;00m(s):\u001b[37m\u001b[39;49;00m\n",
      "    tag = \u001b[34mFalse\u001b[39;49;00m\u001b[37m\u001b[39;49;00m\n",
      "    quote = \u001b[34mFalse\u001b[39;49;00m\u001b[37m\u001b[39;49;00m\n",
      "    out = \u001b[33m'\u001b[39;49;00m\u001b[33m'\u001b[39;49;00m\u001b[37m\u001b[39;49;00m\n",
      "    \u001b[34mfor\u001b[39;49;00m c \u001b[35min\u001b[39;49;00m s:\u001b[37m\u001b[39;49;00m\n",
      "        \u001b[34mif\u001b[39;49;00m c == \u001b[33m'\u001b[39;49;00m\u001b[33m<\u001b[39;49;00m\u001b[33m'\u001b[39;49;00m \u001b[35mand\u001b[39;49;00m (\u001b[35mnot\u001b[39;49;00m quote):\u001b[37m\u001b[39;49;00m\n",
      "            tag = \u001b[34mTrue\u001b[39;49;00m\u001b[37m\u001b[39;49;00m\n",
      "        \u001b[34melif\u001b[39;49;00m c == \u001b[33m'\u001b[39;49;00m\u001b[33m>\u001b[39;49;00m\u001b[33m'\u001b[39;49;00m \u001b[35mand\u001b[39;49;00m (\u001b[35mnot\u001b[39;49;00m quote):\u001b[37m\u001b[39;49;00m\n",
      "            tag = \u001b[34mFalse\u001b[39;49;00m\u001b[37m\u001b[39;49;00m\n",
      "        \u001b[34melif\u001b[39;49;00m c == \u001b[33m'\u001b[39;49;00m\u001b[33m\"\u001b[39;49;00m\u001b[33m'\u001b[39;49;00m \u001b[35mor\u001b[39;49;00m (c == \u001b[33m\"\u001b[39;49;00m\u001b[33m'\u001b[39;49;00m\u001b[33m\"\u001b[39;49;00m \u001b[35mand\u001b[39;49;00m tag):\u001b[37m\u001b[39;49;00m\n",
      "            quote = \u001b[35mnot\u001b[39;49;00m quote\u001b[37m\u001b[39;49;00m\n",
      "        \u001b[34melif\u001b[39;49;00m \u001b[35mnot\u001b[39;49;00m tag:\u001b[37m\u001b[39;49;00m\n",
      "            out = out + c\u001b[37m\u001b[39;49;00m\n",
      "    \u001b[34mreturn\u001b[39;49;00m out\u001b[37m\u001b[39;49;00m"
     ]
    }
   ],
   "source": [
    "print_content(ast.unparse(reduced_fun_tree), '.py')"
   ]
  },
  {
   "cell_type": "code",
   "execution_count": 177,
   "metadata": {
    "execution": {
     "iopub.execute_input": "2023-11-12T12:40:50.935384Z",
     "iopub.status.busy": "2023-11-12T12:40:50.935268Z",
     "iopub.status.idle": "2023-11-12T12:40:50.937423Z",
     "shell.execute_reply": "2023-11-12T12:40:50.937006Z"
    },
    "slideshow": {
     "slide_type": "subslide"
    }
   },
   "outputs": [
    {
     "data": {
      "text/plain": [
       "310"
      ]
     },
     "execution_count": 177,
     "metadata": {},
     "output_type": "execute_result"
    }
   ],
   "source": [
    "dd.tests"
   ]
  },
  {
   "cell_type": "markdown",
   "metadata": {
    "slideshow": {
     "slide_type": "fragment"
    }
   },
   "source": [
    "We see that some code was deleted – notably the assertion at the end – but otherwise, our deletion strategy was not particularly effective. This is because in Python, one cannot simply delete the single statement in a controlled body – this raises a syntax error. One would have to replace it with `pass` (or some other statement with no effect) to stay syntactically valid. Still, the syntax-based reduction would still single out `remove_html_markup()` from the `Assertions` source code – and do so even faster, as it would apply on one definition (rather than one line) after another."
   ]
  },
  {
   "cell_type": "markdown",
   "metadata": {
    "slideshow": {
     "slide_type": "subslide"
    }
   },
   "source": [
    "#### Transforming Nodes\n",
    "\n",
    "To further boost our syntactic reduction strategy, we implement a set of additional reduction operators. First, as already discussed, we do not simply delete an assignment, but we replace it with a `pass` statement. To obtain the tree for `pass`, we simply parse it and access the subtree."
   ]
  },
  {
   "cell_type": "code",
   "execution_count": 178,
   "metadata": {
    "execution": {
     "iopub.execute_input": "2023-11-12T12:40:50.939276Z",
     "iopub.status.busy": "2023-11-12T12:40:50.939126Z",
     "iopub.status.idle": "2023-11-12T12:40:50.941429Z",
     "shell.execute_reply": "2023-11-12T12:40:50.941138Z"
    },
    "slideshow": {
     "slide_type": "fragment"
    }
   },
   "outputs": [],
   "source": [
    "class NodeReducer(NodeReducer):\n",
    "    PASS_TREE = ast.parse(\"pass\").body[0]\n",
    "\n",
    "    def visit_Assign(self, node: ast.Assign) -> AST:\n",
    "        if node.marked:  # type: ignore\n",
    "            # Replace by pass\n",
    "            return self.PASS_TREE\n",
    "        return super().generic_visit(node)"
   ]
  },
  {
   "cell_type": "markdown",
   "metadata": {
    "slideshow": {
     "slide_type": "subslide"
    }
   },
   "source": [
    "In a similar vein, we can replace comparison operators with `False`:"
   ]
  },
  {
   "cell_type": "code",
   "execution_count": 179,
   "metadata": {
    "execution": {
     "iopub.execute_input": "2023-11-12T12:40:50.943062Z",
     "iopub.status.busy": "2023-11-12T12:40:50.942938Z",
     "iopub.status.idle": "2023-11-12T12:40:50.945222Z",
     "shell.execute_reply": "2023-11-12T12:40:50.944897Z"
    },
    "slideshow": {
     "slide_type": "fragment"
    }
   },
   "outputs": [],
   "source": [
    "class NodeReducer(NodeReducer):\n",
    "    FALSE_TREE = ast.parse(\"False\").body[0].value  # type: ignore\n",
    "\n",
    "    def visit_Compare(self, node: ast.Compare) -> AST:\n",
    "        if node.marked:  # type: ignore\n",
    "            # Replace by False\n",
    "            return self.FALSE_TREE\n",
    "        return super().generic_visit(node)"
   ]
  },
  {
   "cell_type": "markdown",
   "metadata": {
    "slideshow": {
     "slide_type": "fragment"
    }
   },
   "source": [
    "If we have a Boolean operator, we attempt to replace it with its left operand:"
   ]
  },
  {
   "cell_type": "code",
   "execution_count": 180,
   "metadata": {
    "execution": {
     "iopub.execute_input": "2023-11-12T12:40:50.947064Z",
     "iopub.status.busy": "2023-11-12T12:40:50.946921Z",
     "iopub.status.idle": "2023-11-12T12:40:50.949038Z",
     "shell.execute_reply": "2023-11-12T12:40:50.948746Z"
    },
    "slideshow": {
     "slide_type": "subslide"
    }
   },
   "outputs": [],
   "source": [
    "class NodeReducer(NodeReducer):\n",
    "    def visit_BoolOp(self, node: ast.BoolOp) -> AST:\n",
    "        if node.marked:  # type: ignore\n",
    "            # Replace by left operator\n",
    "            return node.values[0]\n",
    "        return super().generic_visit(node)"
   ]
  },
  {
   "cell_type": "markdown",
   "metadata": {
    "slideshow": {
     "slide_type": "fragment"
    }
   },
   "source": [
    "And if we find an `If` clause, we attempt to replace it by its body:"
   ]
  },
  {
   "cell_type": "code",
   "execution_count": 181,
   "metadata": {
    "execution": {
     "iopub.execute_input": "2023-11-12T12:40:50.950478Z",
     "iopub.status.busy": "2023-11-12T12:40:50.950371Z",
     "iopub.status.idle": "2023-11-12T12:40:50.952432Z",
     "shell.execute_reply": "2023-11-12T12:40:50.952171Z"
    },
    "slideshow": {
     "slide_type": "fragment"
    }
   },
   "outputs": [],
   "source": [
    "class NodeReducer(NodeReducer):\n",
    "    def visit_If(self, node: ast.If) -> Union[AST, List[ast.stmt]]:\n",
    "        if node.marked:  # type: ignore\n",
    "            # Replace by body\n",
    "            return node.body\n",
    "        return super().generic_visit(node)"
   ]
  },
  {
   "cell_type": "markdown",
   "metadata": {
    "slideshow": {
     "slide_type": "fragment"
    }
   },
   "source": [
    "Let us try to reduce our code with these additional reducers enabled:"
   ]
  },
  {
   "cell_type": "code",
   "execution_count": 182,
   "metadata": {
    "execution": {
     "iopub.execute_input": "2023-11-12T12:40:50.954010Z",
     "iopub.status.busy": "2023-11-12T12:40:50.953854Z",
     "iopub.status.idle": "2023-11-12T12:40:50.956669Z",
     "shell.execute_reply": "2023-11-12T12:40:50.956379Z"
    },
    "slideshow": {
     "slide_type": "subslide"
    }
   },
   "outputs": [],
   "source": [
    "with DeltaDebugger() as dd:\n",
    "    compile_and_test_ast(fun_tree, fun_nodes, test_tree)"
   ]
  },
  {
   "cell_type": "markdown",
   "metadata": {
    "slideshow": {
     "slide_type": "fragment"
    }
   },
   "source": [
    "This is the reduced code we get. We see that all references to `quote` have gone, as has the handling of single quotes – none of this is relevant for the failure:"
   ]
  },
  {
   "cell_type": "code",
   "execution_count": 183,
   "metadata": {
    "execution": {
     "iopub.execute_input": "2023-11-12T12:40:50.958354Z",
     "iopub.status.busy": "2023-11-12T12:40:50.958227Z",
     "iopub.status.idle": "2023-11-12T12:40:51.180757Z",
     "shell.execute_reply": "2023-11-12T12:40:51.180302Z"
    },
    "slideshow": {
     "slide_type": "subslide"
    }
   },
   "outputs": [
    {
     "name": "stdout",
     "output_type": "stream",
     "text": [
      "\u001b[34mdef\u001b[39;49;00m \u001b[32mremove_html_markup\u001b[39;49;00m(s):\u001b[37m\u001b[39;49;00m\n",
      "    tag = \u001b[34mFalse\u001b[39;49;00m\u001b[37m\u001b[39;49;00m\n",
      "    \u001b[34mpass\u001b[39;49;00m\u001b[37m\u001b[39;49;00m\n",
      "    out = \u001b[33m'\u001b[39;49;00m\u001b[33m'\u001b[39;49;00m\u001b[37m\u001b[39;49;00m\n",
      "    \u001b[34mfor\u001b[39;49;00m c \u001b[35min\u001b[39;49;00m s:\u001b[37m\u001b[39;49;00m\n",
      "        \u001b[34mif\u001b[39;49;00m c == \u001b[33m'\u001b[39;49;00m\u001b[33m<\u001b[39;49;00m\u001b[33m'\u001b[39;49;00m:\u001b[37m\u001b[39;49;00m\n",
      "            tag = \u001b[34mTrue\u001b[39;49;00m\u001b[37m\u001b[39;49;00m\n",
      "        \u001b[34melif\u001b[39;49;00m c == \u001b[33m'\u001b[39;49;00m\u001b[33m>\u001b[39;49;00m\u001b[33m'\u001b[39;49;00m:\u001b[37m\u001b[39;49;00m\n",
      "            tag = \u001b[34mFalse\u001b[39;49;00m\u001b[37m\u001b[39;49;00m\n",
      "        \u001b[34melif\u001b[39;49;00m c == \u001b[33m'\u001b[39;49;00m\u001b[33m\"\u001b[39;49;00m\u001b[33m'\u001b[39;49;00m:\u001b[37m\u001b[39;49;00m\n",
      "            \u001b[34mpass\u001b[39;49;00m\u001b[37m\u001b[39;49;00m\n",
      "        \u001b[34melif\u001b[39;49;00m \u001b[35mnot\u001b[39;49;00m tag:\u001b[37m\u001b[39;49;00m\n",
      "            out = out + c\u001b[37m\u001b[39;49;00m\n",
      "    \u001b[34mreturn\u001b[39;49;00m out\u001b[37m\u001b[39;49;00m"
     ]
    }
   ],
   "source": [
    "reduced_nodes = dd.min_args()['keep_list']\n",
    "reduced_fun_tree = copy_and_reduce(fun_tree, reduced_nodes)\n",
    "print_content(ast.unparse(reduced_fun_tree), '.py')"
   ]
  },
  {
   "cell_type": "markdown",
   "metadata": {
    "slideshow": {
     "slide_type": "subslide"
    }
   },
   "source": [
    "Again, the best insights come from comparing this reduced version to the original implementation – and we learn that the problem is not related to the `quote` variable, or to the handling of single quotes; the problem is simply that when the input contains double quotes, these are not added to the final string."
   ]
  },
  {
   "cell_type": "markdown",
   "metadata": {
    "slideshow": {
     "slide_type": "fragment"
    }
   },
   "source": [
    "With our reduction code, however, we only touch the surface of what could actually be possible. So far, we implement exactly one reduction per node – but of course, there are many alternatives an expression or statement could be reduced to. We will explore some of these in the [exercises](#Exercises), below; also be sure to check out the [background](#Background) on code reduction."
   ]
  },
  {
   "cell_type": "markdown",
   "metadata": {
    "slideshow": {
     "slide_type": "slide"
    }
   },
   "source": [
    "## Synopsis\n",
    "\n",
    "A _reducer_ takes a failure-inducing input and reduces it to the minimum that still reproduces the failure.  This chapter provides a `DeltaDebugger` class that implements such a reducer."
   ]
  },
  {
   "cell_type": "markdown",
   "metadata": {
    "slideshow": {
     "slide_type": "fragment"
    }
   },
   "source": [
    "Here is a simple example: An arithmetic expression causes an error in the Python interpreter:"
   ]
  },
  {
   "cell_type": "code",
   "execution_count": 184,
   "metadata": {
    "execution": {
     "iopub.execute_input": "2023-11-12T12:40:51.183213Z",
     "iopub.status.busy": "2023-11-12T12:40:51.183048Z",
     "iopub.status.idle": "2023-11-12T12:40:51.185020Z",
     "shell.execute_reply": "2023-11-12T12:40:51.184684Z"
    },
    "slideshow": {
     "slide_type": "fragment"
    }
   },
   "outputs": [],
   "source": [
    "def myeval(inp: str) -> Any:\n",
    "    return eval(inp)"
   ]
  },
  {
   "cell_type": "code",
   "execution_count": 185,
   "metadata": {
    "execution": {
     "iopub.execute_input": "2023-11-12T12:40:51.187521Z",
     "iopub.status.busy": "2023-11-12T12:40:51.187366Z",
     "iopub.status.idle": "2023-11-12T12:40:51.191291Z",
     "shell.execute_reply": "2023-11-12T12:40:51.190293Z"
    },
    "slideshow": {
     "slide_type": "subslide"
    }
   },
   "outputs": [
    {
     "name": "stderr",
     "output_type": "stream",
     "text": [
      "Traceback (most recent call last):\n",
      "  File \"/var/folders/n2/xd9445p97rb3xh7m1dfx8_4h0006ts/T/ipykernel_25735/4002351332.py\", line 2, in <cell line: 1>\n",
      "    myeval('1 + 2 * 3 / 0')\n",
      "  File \"/var/folders/n2/xd9445p97rb3xh7m1dfx8_4h0006ts/T/ipykernel_25735/2200911420.py\", line 2, in myeval\n",
      "    return eval(inp)\n",
      "  File \"<string>\", line 1, in <module>\n",
      "ZeroDivisionError: division by zero (expected)\n"
     ]
    }
   ],
   "source": [
    "with ExpectError(ZeroDivisionError):\n",
    "    myeval('1 + 2 * 3 / 0')"
   ]
  },
  {
   "cell_type": "markdown",
   "metadata": {
    "slideshow": {
     "slide_type": "subslide"
    }
   },
   "source": [
    "Can we reduce this input to a minimum? _Delta Debugging_ is a simple and robust reduction algorithm. We provide a `DeltaDebugger` class that is used in conjunction with a (failing) function call:\n",
    "\n",
    "```python\n",
    "with DeltaDebugger() as dd:\n",
    "    fun(args...)\n",
    "dd\n",
    "```\n",
    "\n",
    "The class automatically determines minimal arguments that cause the function to fail with the same exception as the original. Printing out the class object reveals the minimized call."
   ]
  },
  {
   "cell_type": "code",
   "execution_count": 186,
   "metadata": {
    "execution": {
     "iopub.execute_input": "2023-11-12T12:40:51.194601Z",
     "iopub.status.busy": "2023-11-12T12:40:51.194125Z",
     "iopub.status.idle": "2023-11-12T12:40:51.197808Z",
     "shell.execute_reply": "2023-11-12T12:40:51.197473Z"
    },
    "slideshow": {
     "slide_type": "subslide"
    }
   },
   "outputs": [
    {
     "data": {
      "text/plain": [
       "myeval(inp='3/0')"
      ]
     },
     "execution_count": 186,
     "metadata": {},
     "output_type": "execute_result"
    }
   ],
   "source": [
    "with DeltaDebugger() as dd:\n",
    "    myeval('1 + 2 * 3 / 0')\n",
    "dd"
   ]
  },
  {
   "cell_type": "markdown",
   "metadata": {
    "slideshow": {
     "slide_type": "fragment"
    }
   },
   "source": [
    "The input is reduced to the minimum: We get the essence of the division by zero."
   ]
  },
  {
   "cell_type": "markdown",
   "metadata": {
    "slideshow": {
     "slide_type": "fragment"
    }
   },
   "source": [
    "There also is an interface to access the reduced input(s) programmatically. The method `min_args()` returns a dictionary in which all function arguments are minimized:"
   ]
  },
  {
   "cell_type": "code",
   "execution_count": 187,
   "metadata": {
    "execution": {
     "iopub.execute_input": "2023-11-12T12:40:51.199767Z",
     "iopub.status.busy": "2023-11-12T12:40:51.199656Z",
     "iopub.status.idle": "2023-11-12T12:40:51.202462Z",
     "shell.execute_reply": "2023-11-12T12:40:51.202163Z"
    },
    "slideshow": {
     "slide_type": "fragment"
    }
   },
   "outputs": [
    {
     "data": {
      "text/plain": [
       "{'inp': '3/0'}"
      ]
     },
     "execution_count": 187,
     "metadata": {},
     "output_type": "execute_result"
    }
   ],
   "source": [
    "dd.min_args()"
   ]
  },
  {
   "cell_type": "markdown",
   "metadata": {
    "slideshow": {
     "slide_type": "fragment"
    }
   },
   "source": [
    "In contrast, `max_args()` returns a dictionary in which all function arguments are maximized, but still pass:"
   ]
  },
  {
   "cell_type": "code",
   "execution_count": 188,
   "metadata": {
    "execution": {
     "iopub.execute_input": "2023-11-12T12:40:51.204207Z",
     "iopub.status.busy": "2023-11-12T12:40:51.204089Z",
     "iopub.status.idle": "2023-11-12T12:40:51.206656Z",
     "shell.execute_reply": "2023-11-12T12:40:51.206356Z"
    },
    "slideshow": {
     "slide_type": "fragment"
    }
   },
   "outputs": [
    {
     "data": {
      "text/plain": [
       "{'inp': '1 + 2 * 3  '}"
      ]
     },
     "execution_count": 188,
     "metadata": {},
     "output_type": "execute_result"
    }
   ],
   "source": [
    "dd.max_args()"
   ]
  },
  {
   "cell_type": "markdown",
   "metadata": {
    "slideshow": {
     "slide_type": "subslide"
    }
   },
   "source": [
    "The method `min_arg_diff()` returns a triple of \n",
    "* passing input,\n",
    "* failing input, and\n",
    "* their minimal failure-inducing difference:"
   ]
  },
  {
   "cell_type": "code",
   "execution_count": 189,
   "metadata": {
    "execution": {
     "iopub.execute_input": "2023-11-12T12:40:51.208490Z",
     "iopub.status.busy": "2023-11-12T12:40:51.208363Z",
     "iopub.status.idle": "2023-11-12T12:40:51.211080Z",
     "shell.execute_reply": "2023-11-12T12:40:51.210792Z"
    },
    "slideshow": {
     "slide_type": "fragment"
    }
   },
   "outputs": [
    {
     "data": {
      "text/plain": [
       "({'inp': ' 3 '}, {'inp': ' 3 /0'}, {'inp': '/0'})"
      ]
     },
     "execution_count": 189,
     "metadata": {},
     "output_type": "execute_result"
    }
   ],
   "source": [
    "dd.min_arg_diff()"
   ]
  },
  {
   "cell_type": "markdown",
   "metadata": {
    "slideshow": {
     "slide_type": "fragment"
    }
   },
   "source": [
    "And you can also access the function itself, as well as its original arguments."
   ]
  },
  {
   "cell_type": "code",
   "execution_count": 190,
   "metadata": {
    "execution": {
     "iopub.execute_input": "2023-11-12T12:40:51.212835Z",
     "iopub.status.busy": "2023-11-12T12:40:51.212707Z",
     "iopub.status.idle": "2023-11-12T12:40:51.215261Z",
     "shell.execute_reply": "2023-11-12T12:40:51.214899Z"
    },
    "slideshow": {
     "slide_type": "fragment"
    }
   },
   "outputs": [
    {
     "data": {
      "text/plain": [
       "('myeval', {'inp': '1 + 2 * 3 / 0'})"
      ]
     },
     "execution_count": 190,
     "metadata": {},
     "output_type": "execute_result"
    }
   ],
   "source": [
    "dd.function().__name__, dd.args()"
   ]
  },
  {
   "cell_type": "markdown",
   "metadata": {
    "slideshow": {
     "slide_type": "fragment"
    }
   },
   "source": [
    "`DeltaDebugger` processes (i.e., minimizes or maximizes) all arguments that support a `len()` operation and that can be indexed – notably _strings_ and _lists_. If a function has multiple arguments, all arguments that can be processed will be processed."
   ]
  },
  {
   "cell_type": "markdown",
   "metadata": {
    "slideshow": {
     "slide_type": "subslide"
    }
   },
   "source": [
    "This chapter also provides a number of superclasses to `DeltaDebugger`, notably `CallCollector`, which obtains the first function call for `DeltaDebugger`. `CallReducer` classes allow for implementing alternate call reduction strategies."
   ]
  },
  {
   "cell_type": "code",
   "execution_count": 191,
   "metadata": {
    "execution": {
     "iopub.execute_input": "2023-11-12T12:40:51.217067Z",
     "iopub.status.busy": "2023-11-12T12:40:51.216908Z",
     "iopub.status.idle": "2023-11-12T12:40:51.218841Z",
     "shell.execute_reply": "2023-11-12T12:40:51.218460Z"
    },
    "slideshow": {
     "slide_type": "fragment"
    }
   },
   "outputs": [],
   "source": [
    "# ignore\n",
    "from ClassDiagram import display_class_hierarchy"
   ]
  },
  {
   "cell_type": "code",
   "execution_count": 192,
   "metadata": {
    "execution": {
     "iopub.execute_input": "2023-11-12T12:40:51.220537Z",
     "iopub.status.busy": "2023-11-12T12:40:51.220354Z",
     "iopub.status.idle": "2023-11-12T12:40:51.927286Z",
     "shell.execute_reply": "2023-11-12T12:40:51.925868Z"
    },
    "slideshow": {
     "slide_type": "subslide"
    }
   },
   "outputs": [
    {
     "data": {
      "image/svg+xml": [
       "<?xml version=\"1.0\" encoding=\"UTF-8\" standalone=\"no\"?>\n",
       "<!DOCTYPE svg PUBLIC \"-//W3C//DTD SVG 1.1//EN\"\n",
       " \"http://www.w3.org/Graphics/SVG/1.1/DTD/svg11.dtd\">\n",
       "<!-- Generated by graphviz version 9.0.0 (20230911.1827)\n",
       " -->\n",
       "<!-- Pages: 1 -->\n",
       "<svg width=\"306pt\" height=\"748pt\"\n",
       " viewBox=\"0.00 0.00 305.62 747.50\" xmlns=\"http://www.w3.org/2000/svg\" xmlns:xlink=\"http://www.w3.org/1999/xlink\">\n",
       "<g id=\"graph0\" class=\"graph\" transform=\"scale(1 1) rotate(0) translate(4 743.5)\">\n",
       "<g id=\"a_graph0\"><a xlink:title=\"DeltaDebugger class hierarchy\">\n",
       "<polygon fill=\"white\" stroke=\"none\" points=\"-4,4 -4,-743.5 301.62,-743.5 301.62,4 -4,4\"/>\n",
       "</a>\n",
       "</g>\n",
       "<!-- DeltaDebugger -->\n",
       "<g id=\"node1\" class=\"node\">\n",
       "<title>DeltaDebugger</title>\n",
       "<g id=\"a_node1\"><a xlink:href=\"#\" xlink:title=\"class DeltaDebugger:&#10;Like CallReducer, but cache test outcomes.\">\n",
       "<polygon fill=\"none\" stroke=\"black\" points=\"6,-0.5 6,-123.75 160,-123.75 160,-0.5 6,-0.5\"/>\n",
       "<text text-anchor=\"start\" x=\"34.62\" y=\"-107.45\" font-family=\"Raleway, Helvetica, Arial, sans-serif\" font-weight=\"bold\" font-size=\"14.00\" fill=\"#6a0dad\">DeltaDebugger</text>\n",
       "<polyline fill=\"none\" stroke=\"black\" points=\"6,-98.5 160,-98.5\"/>\n",
       "<g id=\"a_node1_0\"><a xlink:href=\"#\" xlink:title=\"DeltaDebugger\">\n",
       "<g id=\"a_node1_1\"><a xlink:href=\"#\" xlink:title=\"__repr__(self) &#45;&gt; str:&#10;Return a string representation of the minimized call.\">\n",
       "<text text-anchor=\"start\" x=\"14\" y=\"-86\" font-family=\"'Fira Mono', 'Source Code Pro', 'Courier', monospace\" font-weight=\"bold\" font-size=\"10.00\">__repr__()</text>\n",
       "</a>\n",
       "</g>\n",
       "<g id=\"a_node1_2\"><a xlink:href=\"#\" xlink:title=\"dd(self, var_to_be_reduced: str, fail_args: Dict[str, Any], *, mode: str = &#39;&#45;&#39;) &#45;&gt; Tuple[Sequence, Sequence, Sequence]:&#10;General Delta Debugging.&#10;`var_to_be_reduced` &#45; the name of the variable to reduce.&#10;`fail_args` &#45; a dict of (failure&#45;inducing) function arguments,&#10;with `fail_args[var_to_be_reduced]` &#45; the input to apply dd on.&#10;`mode`&#45; how the algorithm should operate:&#10;&#39;&#45;&#39; (default): minimize input (`ddmin`),&#10;&#39;+&#39;: maximizing input (`ddmax`),&#10;&#39;+&#45;&#39;: minimizing pass/fail difference (`dd`)&#10;Returns a triple (`pass`, `fail`, `diff`) with&#10;* maximized passing input (`pass`),&#10;* minimized failing input (`fail`), and&#10;* their difference `diff`&#10;(elems that are in `fail`, but not in `pass`).\">\n",
       "<text text-anchor=\"start\" x=\"14\" y=\"-74.75\" font-family=\"'Fira Mono', 'Source Code Pro', 'Courier', monospace\" font-weight=\"bold\" font-size=\"10.00\">dd()</text>\n",
       "</a>\n",
       "</g>\n",
       "<g id=\"a_node1_3\"><a xlink:href=\"#\" xlink:title=\"max_args(self) &#45;&gt; Dict[str, Any]:&#10;Return 1&#45;maximal arguments.\">\n",
       "<text text-anchor=\"start\" x=\"14\" y=\"-63.5\" font-family=\"'Fira Mono', 'Source Code Pro', 'Courier', monospace\" font-weight=\"bold\" font-size=\"10.00\">max_args()</text>\n",
       "</a>\n",
       "</g>\n",
       "<g id=\"a_node1_4\"><a xlink:href=\"#\" xlink:title=\"min_arg_diff(self) &#45;&gt; Tuple[Dict[str, Any], Dict[str, Any], Dict[str, Any]]:&#10;Return 1&#45;minimal difference between arguments.\">\n",
       "<text text-anchor=\"start\" x=\"14\" y=\"-52.25\" font-family=\"'Fira Mono', 'Source Code Pro', 'Courier', monospace\" font-weight=\"bold\" font-size=\"10.00\">min_arg_diff()</text>\n",
       "</a>\n",
       "</g>\n",
       "<g id=\"a_node1_5\"><a xlink:href=\"#\" xlink:title=\"min_args(self) &#45;&gt; Dict[str, Any]:&#10;Return 1&#45;minimal arguments.\">\n",
       "<text text-anchor=\"start\" x=\"14\" y=\"-41\" font-family=\"'Fira Mono', 'Source Code Pro', 'Courier', monospace\" font-weight=\"bold\" font-size=\"10.00\">min_args()</text>\n",
       "</a>\n",
       "</g>\n",
       "<g id=\"a_node1_6\"><a xlink:href=\"#\" xlink:title=\"after_collection(self) &#45;&gt; None:&#10;Called after collection. To be defined in subclasses.\">\n",
       "<text text-anchor=\"start\" x=\"14\" y=\"-29.75\" font-family=\"'Fira Mono', 'Source Code Pro', 'Courier', monospace\" font-style=\"italic\" font-size=\"10.00\">after_collection()</text>\n",
       "</a>\n",
       "</g>\n",
       "<g id=\"a_node1_7\"><a xlink:href=\"#\" xlink:title=\"check_reproducibility(self) &#45;&gt; None\">\n",
       "<text text-anchor=\"start\" x=\"14\" y=\"-17.5\" font-family=\"'Fira Mono', 'Source Code Pro', 'Courier', monospace\" font-size=\"10.00\">check_reproducibility()</text>\n",
       "</a>\n",
       "</g>\n",
       "<g id=\"a_node1_8\"><a xlink:href=\"#\" xlink:title=\"process_args(self, strategy: Callable, **strategy_args: Any) &#45;&gt; Tuple[Dict[str, Any], Dict[str, Any], Dict[str, Any]]:&#10;Reduce all reducible arguments, using `strategy`(var, `strategy_args`).&#10;Can be overloaded in subclasses.\">\n",
       "<text text-anchor=\"start\" x=\"14\" y=\"-7.25\" font-family=\"'Fira Mono', 'Source Code Pro', 'Courier', monospace\" font-style=\"italic\" font-size=\"10.00\">process_args()</text>\n",
       "</a>\n",
       "</g>\n",
       "</a>\n",
       "</g>\n",
       "</a>\n",
       "</g>\n",
       "</g>\n",
       "<!-- CachingCallReducer -->\n",
       "<g id=\"node2\" class=\"node\">\n",
       "<title>CachingCallReducer</title>\n",
       "<g id=\"a_node2\"><a xlink:href=\"#\" xlink:title=\"class CachingCallReducer:&#10;Like CallReducer, but cache test outcomes.\">\n",
       "<polygon fill=\"none\" stroke=\"black\" points=\"10.12,-160.75 10.12,-216.5 155.88,-216.5 155.88,-160.75 10.12,-160.75\"/>\n",
       "<text text-anchor=\"start\" x=\"18.12\" y=\"-200.2\" font-family=\"Raleway, Helvetica, Arial, sans-serif\" font-weight=\"bold\" font-size=\"14.00\" fill=\"#6a0dad\">CachingCallReducer</text>\n",
       "<polyline fill=\"none\" stroke=\"black\" points=\"10.12,-191.25 155.88,-191.25\"/>\n",
       "<g id=\"a_node2_9\"><a xlink:href=\"#\" xlink:title=\"CachingCallReducer\">\n",
       "<g id=\"a_node2_10\"><a xlink:href=\"#\" xlink:title=\"init(self) &#45;&gt; None:&#10;Reset for new collection.\">\n",
       "<text text-anchor=\"start\" x=\"65\" y=\"-178.75\" font-family=\"'Fira Mono', 'Source Code Pro', 'Courier', monospace\" font-style=\"italic\" font-size=\"10.00\">init()</text>\n",
       "</a>\n",
       "</g>\n",
       "<g id=\"a_node2_11\"><a xlink:href=\"#\" xlink:title=\"test(self, args: Dict[str, Any]) &#45;&gt; str:&#10;Like run(), but also log detail and keep statistics.\">\n",
       "<text text-anchor=\"start\" x=\"65\" y=\"-167.5\" font-family=\"'Fira Mono', 'Source Code Pro', 'Courier', monospace\" font-style=\"italic\" font-size=\"10.00\">test()</text>\n",
       "</a>\n",
       "</g>\n",
       "</a>\n",
       "</g>\n",
       "</a>\n",
       "</g>\n",
       "</g>\n",
       "<!-- DeltaDebugger&#45;&gt;CachingCallReducer -->\n",
       "<g id=\"edge1\" class=\"edge\">\n",
       "<title>DeltaDebugger&#45;&gt;CachingCallReducer</title>\n",
       "<path fill=\"none\" stroke=\"black\" d=\"M83,-123.92C83,-132.54 83,-141.21 83,-149.24\"/>\n",
       "<polygon fill=\"none\" stroke=\"black\" points=\"79.5,-148.98 83,-158.98 86.5,-148.98 79.5,-148.98\"/>\n",
       "</g>\n",
       "<!-- CallReducer -->\n",
       "<g id=\"node3\" class=\"node\">\n",
       "<title>CallReducer</title>\n",
       "<g id=\"a_node3\"><a xlink:href=\"#\" xlink:title=\"class CallReducer:&#10;Collect an exception&#45;raising function call f().&#10;Use as `with CallCollector(): f()`\">\n",
       "<polygon fill=\"none\" stroke=\"black\" points=\"36.38,-253.5 36.38,-343 129.62,-343 129.62,-253.5 36.38,-253.5\"/>\n",
       "<text text-anchor=\"start\" x=\"44.38\" y=\"-326.7\" font-family=\"Raleway, Helvetica, Arial, sans-serif\" font-weight=\"bold\" font-size=\"14.00\" fill=\"#6a0dad\">CallReducer</text>\n",
       "<polyline fill=\"none\" stroke=\"black\" points=\"36.38,-317.75 129.62,-317.75\"/>\n",
       "<g id=\"a_node3_12\"><a xlink:href=\"#\" xlink:title=\"CallReducer\">\n",
       "<g id=\"a_node3_13\"><a xlink:href=\"#\" xlink:title=\"__init__(self, *, log: Union[bool, int] = False) &#45;&gt; None:&#10;Initialize. If `log` is True, enable logging.\">\n",
       "<text text-anchor=\"start\" x=\"47\" y=\"-305.25\" font-family=\"'Fira Mono', 'Source Code Pro', 'Courier', monospace\" font-weight=\"bold\" font-style=\"italic\" font-size=\"10.00\">__init__()</text>\n",
       "</a>\n",
       "</g>\n",
       "<g id=\"a_node3_14\"><a xlink:href=\"#\" xlink:title=\"reduce_arg(self, var_to_be_reduced: str, args: Dict[str, Any]) &#45;&gt; Sequence:&#10;Determine and return a minimal value for var_to_be_reduced.&#10;To be overloaded in subclasses.\">\n",
       "<text text-anchor=\"start\" x=\"47\" y=\"-294\" font-family=\"'Fira Mono', 'Source Code Pro', 'Courier', monospace\" font-weight=\"bold\" font-style=\"italic\" font-size=\"10.00\">reduce_arg()</text>\n",
       "</a>\n",
       "</g>\n",
       "<g id=\"a_node3_15\"><a xlink:href=\"#\" xlink:title=\"reset(self) &#45;&gt; None:&#10;Reset the number of tests.\">\n",
       "<text text-anchor=\"start\" x=\"47\" y=\"-281.75\" font-family=\"'Fira Mono', 'Source Code Pro', 'Courier', monospace\" font-size=\"10.00\">reset()</text>\n",
       "</a>\n",
       "</g>\n",
       "<g id=\"a_node3_16\"><a xlink:href=\"#\" xlink:title=\"run(self, args: Dict[str, Any]) &#45;&gt; str:&#10;Run collected function with `args`. Return&#10;* PASS if no exception occurred&#10;* FAIL if the collected exception occurred&#10;* UNRESOLVED if some other exception occurred.&#10;Not to be used directly; can be overloaded in subclasses.\">\n",
       "<text text-anchor=\"start\" x=\"47\" y=\"-271.5\" font-family=\"'Fira Mono', 'Source Code Pro', 'Courier', monospace\" font-style=\"italic\" font-size=\"10.00\">run()</text>\n",
       "</a>\n",
       "</g>\n",
       "<g id=\"a_node3_17\"><a xlink:href=\"#\" xlink:title=\"test(self, args: Dict[str, Any]) &#45;&gt; str:&#10;Like run(), but also log detail and keep statistics.\">\n",
       "<text text-anchor=\"start\" x=\"47\" y=\"-260.25\" font-family=\"'Fira Mono', 'Source Code Pro', 'Courier', monospace\" font-style=\"italic\" font-size=\"10.00\">test()</text>\n",
       "</a>\n",
       "</g>\n",
       "</a>\n",
       "</g>\n",
       "</a>\n",
       "</g>\n",
       "</g>\n",
       "<!-- CachingCallReducer&#45;&gt;CallReducer -->\n",
       "<g id=\"edge2\" class=\"edge\">\n",
       "<title>CachingCallReducer&#45;&gt;CallReducer</title>\n",
       "<path fill=\"none\" stroke=\"black\" d=\"M83,-216.78C83,-224.49 83,-233.17 83,-241.91\"/>\n",
       "<polygon fill=\"none\" stroke=\"black\" points=\"79.5,-241.84 83,-251.84 86.5,-241.84 79.5,-241.84\"/>\n",
       "</g>\n",
       "<!-- CallCollector -->\n",
       "<g id=\"node4\" class=\"node\">\n",
       "<title>CallCollector</title>\n",
       "<g id=\"a_node4\"><a xlink:href=\"#\" xlink:title=\"class CallCollector:&#10;Collect an exception&#45;raising function call f().&#10;Use as `with CallCollector(): f()`\">\n",
       "<polygon fill=\"none\" stroke=\"black\" points=\"21,-380 21,-548.25 145,-548.25 145,-380 21,-380\"/>\n",
       "<text text-anchor=\"start\" x=\"43.25\" y=\"-531.95\" font-family=\"Raleway, Helvetica, Arial, sans-serif\" font-weight=\"bold\" font-size=\"14.00\" fill=\"#6a0dad\">CallCollector</text>\n",
       "<polyline fill=\"none\" stroke=\"black\" points=\"21,-523 145,-523\"/>\n",
       "<g id=\"a_node4_18\"><a xlink:href=\"#\" xlink:title=\"CallCollector\">\n",
       "<g id=\"a_node4_19\"><a xlink:href=\"#\" xlink:title=\"__enter__(self) &#45;&gt; Any:&#10;Called at begin of `with` block. Turn tracing on.\">\n",
       "<text text-anchor=\"start\" x=\"29\" y=\"-510.5\" font-family=\"'Fira Mono', 'Source Code Pro', 'Courier', monospace\" font-weight=\"bold\" font-size=\"10.00\">__enter__()</text>\n",
       "</a>\n",
       "</g>\n",
       "<g id=\"a_node4_20\"><a xlink:href=\"#\" xlink:title=\"__exit__(self, exc_tp: Type, exc_value: BaseException, exc_traceback: traceback) &#45;&gt; Optional[bool]:&#10;Called at end of `with` block. Turn tracing off.\">\n",
       "<text text-anchor=\"start\" x=\"29\" y=\"-499.25\" font-family=\"'Fira Mono', 'Source Code Pro', 'Courier', monospace\" font-weight=\"bold\" font-size=\"10.00\">__exit__()</text>\n",
       "</a>\n",
       "</g>\n",
       "<g id=\"a_node4_21\"><a xlink:href=\"#\" xlink:title=\"__init__(self) &#45;&gt; None:&#10;Initialize collector\">\n",
       "<text text-anchor=\"start\" x=\"29\" y=\"-488\" font-family=\"'Fira Mono', 'Source Code Pro', 'Courier', monospace\" font-weight=\"bold\" font-style=\"italic\" font-size=\"10.00\">__init__()</text>\n",
       "</a>\n",
       "</g>\n",
       "<g id=\"a_node4_22\"><a xlink:href=\"#\" xlink:title=\"args(self) &#45;&gt; Dict[str, Any]:&#10;Return the dictionary of collected arguments.\">\n",
       "<text text-anchor=\"start\" x=\"29\" y=\"-476.75\" font-family=\"'Fira Mono', 'Source Code Pro', 'Courier', monospace\" font-weight=\"bold\" font-size=\"10.00\">args()</text>\n",
       "</a>\n",
       "</g>\n",
       "<g id=\"a_node4_23\"><a xlink:href=\"#\" xlink:title=\"call(self, new_args: Optional[Dict[str, Any]] = None) &#45;&gt; Any:&#10;Call collected function. If `new_args` is given,&#10;override arguments from its {var: value} entries.\">\n",
       "<text text-anchor=\"start\" x=\"29\" y=\"-465.5\" font-family=\"'Fira Mono', 'Source Code Pro', 'Courier', monospace\" font-weight=\"bold\" font-size=\"10.00\">call()</text>\n",
       "</a>\n",
       "</g>\n",
       "<g id=\"a_node4_24\"><a xlink:href=\"#\" xlink:title=\"exception(self) &#45;&gt; Optional[BaseException]:&#10;Return the exception produced, or `None` if none.\">\n",
       "<text text-anchor=\"start\" x=\"29\" y=\"-454.25\" font-family=\"'Fira Mono', 'Source Code Pro', 'Courier', monospace\" font-weight=\"bold\" font-size=\"10.00\">exception()</text>\n",
       "</a>\n",
       "</g>\n",
       "<g id=\"a_node4_25\"><a xlink:href=\"#\" xlink:title=\"function(self) &#45;&gt; Callable:&#10;Return the function called.\">\n",
       "<text text-anchor=\"start\" x=\"29\" y=\"-443\" font-family=\"'Fira Mono', 'Source Code Pro', 'Courier', monospace\" font-weight=\"bold\" font-size=\"10.00\">function()</text>\n",
       "</a>\n",
       "</g>\n",
       "<g id=\"a_node4_26\"><a xlink:href=\"#\" xlink:title=\"after_collection(self) &#45;&gt; None:&#10;Called after collection. To be defined in subclasses.\">\n",
       "<text text-anchor=\"start\" x=\"29\" y=\"-431.75\" font-family=\"'Fira Mono', 'Source Code Pro', 'Courier', monospace\" font-style=\"italic\" font-size=\"10.00\">after_collection()</text>\n",
       "</a>\n",
       "</g>\n",
       "<g id=\"a_node4_27\"><a xlink:href=\"#\" xlink:title=\"format_call(self, args: Optional[Dict[str, Any]] = None) &#45;&gt; str:&#10;Return a string representing a call of the function with given args.\">\n",
       "<text text-anchor=\"start\" x=\"29\" y=\"-419.5\" font-family=\"'Fira Mono', 'Source Code Pro', 'Courier', monospace\" font-size=\"10.00\">format_call()</text>\n",
       "</a>\n",
       "</g>\n",
       "<g id=\"a_node4_28\"><a xlink:href=\"#\" xlink:title=\"format_exception(self, exc: Optional[BaseException] = None) &#45;&gt; str:&#10;Return a string representing the given exception.\">\n",
       "<text text-anchor=\"start\" x=\"29\" y=\"-408.25\" font-family=\"'Fira Mono', 'Source Code Pro', 'Courier', monospace\" font-size=\"10.00\">format_exception()</text>\n",
       "</a>\n",
       "</g>\n",
       "<g id=\"a_node4_29\"><a xlink:href=\"#\" xlink:title=\"init(self) &#45;&gt; None:&#10;Reset for new collection.\">\n",
       "<text text-anchor=\"start\" x=\"29\" y=\"-398\" font-family=\"'Fira Mono', 'Source Code Pro', 'Courier', monospace\" font-style=\"italic\" font-size=\"10.00\">init()</text>\n",
       "</a>\n",
       "</g>\n",
       "<g id=\"a_node4_30\"><a xlink:href=\"#\" xlink:title=\"traceit(self, frame: frame, event: str, arg: Any) &#45;&gt; None:&#10;Tracing function. Collect first call, then turn tracing off.\">\n",
       "<text text-anchor=\"start\" x=\"29\" y=\"-385.75\" font-family=\"'Fira Mono', 'Source Code Pro', 'Courier', monospace\" font-size=\"10.00\">traceit()</text>\n",
       "</a>\n",
       "</g>\n",
       "</a>\n",
       "</g>\n",
       "</a>\n",
       "</g>\n",
       "</g>\n",
       "<!-- CallReducer&#45;&gt;CallCollector -->\n",
       "<g id=\"edge3\" class=\"edge\">\n",
       "<title>CallReducer&#45;&gt;CallCollector</title>\n",
       "<path fill=\"none\" stroke=\"black\" d=\"M83,-343.17C83,-351.01 83,-359.45 83,-368.09\"/>\n",
       "<polygon fill=\"none\" stroke=\"black\" points=\"79.5,-368.02 83,-378.02 86.5,-368.02 79.5,-368.02\"/>\n",
       "</g>\n",
       "<!-- StackInspector -->\n",
       "<g id=\"node5\" class=\"node\">\n",
       "<title>StackInspector</title>\n",
       "<g id=\"a_node5\"><a xlink:href=\"StackInspector.ipynb\" xlink:title=\"class StackInspector:&#10;Provide functions to inspect the stack\">\n",
       "<polygon fill=\"none\" stroke=\"black\" points=\"0,-585.25 0,-739 166,-739 166,-585.25 0,-585.25\"/>\n",
       "<text text-anchor=\"start\" x=\"36.5\" y=\"-722.7\" font-family=\"Raleway, Helvetica, Arial, sans-serif\" font-weight=\"bold\" font-size=\"14.00\" fill=\"#6a0dad\">StackInspector</text>\n",
       "<polyline fill=\"none\" stroke=\"black\" points=\"0,-713.75 166,-713.75\"/>\n",
       "<g id=\"a_node5_31\"><a xlink:href=\"#\" xlink:title=\"StackInspector\">\n",
       "<g id=\"a_node5_32\"><a xlink:href=\"StackInspector.ipynb\" xlink:title=\"_generated_function_cache = {}\">\n",
       "<text text-anchor=\"start\" x=\"8\" y=\"-700.25\" font-family=\"'Fira Mono', 'Source Code Pro', 'Courier', monospace\" font-size=\"10.00\">_generated_function_cache</text>\n",
       "</a>\n",
       "</g>\n",
       "</a>\n",
       "</g>\n",
       "<polyline fill=\"none\" stroke=\"black\" points=\"0,-694.5 166,-694.5\"/>\n",
       "<g id=\"a_node5_33\"><a xlink:href=\"#\" xlink:title=\"StackInspector\">\n",
       "<g id=\"a_node5_34\"><a xlink:href=\"StackInspector.ipynb\" xlink:title=\"caller_frame(self) &#45;&gt; frame:&#10;Return the frame of the caller.\">\n",
       "<text text-anchor=\"start\" x=\"26\" y=\"-682\" font-family=\"'Fira Mono', 'Source Code Pro', 'Courier', monospace\" font-weight=\"bold\" font-size=\"10.00\">caller_frame()</text>\n",
       "</a>\n",
       "</g>\n",
       "<g id=\"a_node5_35\"><a xlink:href=\"StackInspector.ipynb\" xlink:title=\"caller_function(self) &#45;&gt; Callable:&#10;Return the calling function\">\n",
       "<text text-anchor=\"start\" x=\"26\" y=\"-670.75\" font-family=\"'Fira Mono', 'Source Code Pro', 'Courier', monospace\" font-weight=\"bold\" font-size=\"10.00\">caller_function()</text>\n",
       "</a>\n",
       "</g>\n",
       "<g id=\"a_node5_36\"><a xlink:href=\"StackInspector.ipynb\" xlink:title=\"caller_globals(self) &#45;&gt; Dict[str, Any]:&#10;Return the globals() environment of the caller.\">\n",
       "<text text-anchor=\"start\" x=\"26\" y=\"-659.5\" font-family=\"'Fira Mono', 'Source Code Pro', 'Courier', monospace\" font-weight=\"bold\" font-size=\"10.00\">caller_globals()</text>\n",
       "</a>\n",
       "</g>\n",
       "<g id=\"a_node5_37\"><a xlink:href=\"StackInspector.ipynb\" xlink:title=\"caller_locals(self) &#45;&gt; Dict[str, Any]:&#10;Return the locals() environment of the caller.\">\n",
       "<text text-anchor=\"start\" x=\"26\" y=\"-648.25\" font-family=\"'Fira Mono', 'Source Code Pro', 'Courier', monospace\" font-weight=\"bold\" font-size=\"10.00\">caller_locals()</text>\n",
       "</a>\n",
       "</g>\n",
       "<g id=\"a_node5_38\"><a xlink:href=\"StackInspector.ipynb\" xlink:title=\"caller_location(self) &#45;&gt; Tuple[Callable, int]:&#10;Return the location (func, lineno) of the caller.\">\n",
       "<text text-anchor=\"start\" x=\"26\" y=\"-637\" font-family=\"'Fira Mono', 'Source Code Pro', 'Courier', monospace\" font-weight=\"bold\" font-size=\"10.00\">caller_location()</text>\n",
       "</a>\n",
       "</g>\n",
       "<g id=\"a_node5_39\"><a xlink:href=\"StackInspector.ipynb\" xlink:title=\"is_internal_error(self, exc_tp: Type, exc_value: BaseException, exc_traceback: traceback) &#45;&gt; bool:&#10;Return True if exception was raised from `StackInspector` or a subclass.\">\n",
       "<text text-anchor=\"start\" x=\"26\" y=\"-625.75\" font-family=\"'Fira Mono', 'Source Code Pro', 'Courier', monospace\" font-weight=\"bold\" font-size=\"10.00\">is_internal_error()</text>\n",
       "</a>\n",
       "</g>\n",
       "<g id=\"a_node5_40\"><a xlink:href=\"StackInspector.ipynb\" xlink:title=\"our_frame(self, frame: frame) &#45;&gt; bool:&#10;Return true if `frame` is in the current (inspecting) class.\">\n",
       "<text text-anchor=\"start\" x=\"26\" y=\"-614.5\" font-family=\"'Fira Mono', 'Source Code Pro', 'Courier', monospace\" font-weight=\"bold\" font-size=\"10.00\">our_frame()</text>\n",
       "</a>\n",
       "</g>\n",
       "<g id=\"a_node5_41\"><a xlink:href=\"StackInspector.ipynb\" xlink:title=\"search_frame(self, name: str, frame: Optional[frame] = None) &#45;&gt; Tuple[Optional[frame], Optional[Callable]]:&#10;Return a pair (`frame`, `item`)&#10;in which the function `name` is defined as `item`.\">\n",
       "<text text-anchor=\"start\" x=\"26\" y=\"-603.25\" font-family=\"'Fira Mono', 'Source Code Pro', 'Courier', monospace\" font-weight=\"bold\" font-size=\"10.00\">search_frame()</text>\n",
       "</a>\n",
       "</g>\n",
       "<g id=\"a_node5_42\"><a xlink:href=\"StackInspector.ipynb\" xlink:title=\"search_func(self, name: str, frame: Optional[frame] = None) &#45;&gt; Optional[Callable]:&#10;Search in callers for a definition of the function `name`\">\n",
       "<text text-anchor=\"start\" x=\"26\" y=\"-592\" font-family=\"'Fira Mono', 'Source Code Pro', 'Courier', monospace\" font-weight=\"bold\" font-size=\"10.00\">search_func()</text>\n",
       "</a>\n",
       "</g>\n",
       "</a>\n",
       "</g>\n",
       "</a>\n",
       "</g>\n",
       "</g>\n",
       "<!-- CallCollector&#45;&gt;StackInspector -->\n",
       "<g id=\"edge4\" class=\"edge\">\n",
       "<title>CallCollector&#45;&gt;StackInspector</title>\n",
       "<path fill=\"none\" stroke=\"black\" d=\"M83,-548.53C83,-556.84 83,-565.29 83,-573.64\"/>\n",
       "<polygon fill=\"none\" stroke=\"black\" points=\"79.5,-573.43 83,-583.43 86.5,-573.43 79.5,-573.43\"/>\n",
       "</g>\n",
       "<!-- Legend -->\n",
       "<g id=\"node6\" class=\"node\">\n",
       "<title>Legend</title>\n",
       "<text text-anchor=\"start\" x=\"178.38\" y=\"-78.12\" font-family=\"Raleway, Helvetica, Arial, sans-serif\" font-weight=\"bold\" font-size=\"10.00\" fill=\"#6a0dad\">Legend</text>\n",
       "<text text-anchor=\"start\" x=\"178.38\" y=\"-68.12\" font-family=\"Raleway, Helvetica, Arial, sans-serif\" font-size=\"10.00\">• </text>\n",
       "<text text-anchor=\"start\" x=\"184.38\" y=\"-68.12\" font-family=\"'Fira Mono', 'Source Code Pro', 'Courier', monospace\" font-weight=\"bold\" font-size=\"8.00\">public_method()</text>\n",
       "<text text-anchor=\"start\" x=\"178.38\" y=\"-58.12\" font-family=\"Raleway, Helvetica, Arial, sans-serif\" font-size=\"10.00\">• </text>\n",
       "<text text-anchor=\"start\" x=\"184.38\" y=\"-58.12\" font-family=\"'Fira Mono', 'Source Code Pro', 'Courier', monospace\" font-size=\"8.00\">private_method()</text>\n",
       "<text text-anchor=\"start\" x=\"178.38\" y=\"-48.12\" font-family=\"Raleway, Helvetica, Arial, sans-serif\" font-size=\"10.00\">• </text>\n",
       "<text text-anchor=\"start\" x=\"184.38\" y=\"-48.12\" font-family=\"'Fira Mono', 'Source Code Pro', 'Courier', monospace\" font-style=\"italic\" font-size=\"8.00\">overloaded_method()</text>\n",
       "<text text-anchor=\"start\" x=\"178.38\" y=\"-39.08\" font-family=\"Helvetica,sans-Serif\" font-size=\"9.00\">Hover over names to see doc</text>\n",
       "</g>\n",
       "</g>\n",
       "</svg>\n"
      ],
      "text/plain": [
       "<graphviz.graphs.Digraph at 0x1061a1d50>"
      ]
     },
     "execution_count": 192,
     "metadata": {},
     "output_type": "execute_result"
    }
   ],
   "source": [
    "# ignore\n",
    "display_class_hierarchy([DeltaDebugger],\n",
    "                        public_methods=[\n",
    "                            StackInspector.caller_frame,\n",
    "                            StackInspector.caller_function,\n",
    "                            StackInspector.caller_globals,\n",
    "                            StackInspector.caller_locals,\n",
    "                            StackInspector.caller_location,\n",
    "                            StackInspector.search_frame,\n",
    "                            StackInspector.search_func,\n",
    "                            StackInspector.is_internal_error,\n",
    "                            StackInspector.our_frame,\n",
    "                            CallCollector.__init__,\n",
    "                            CallCollector.__enter__,\n",
    "                            CallCollector.__exit__,\n",
    "                            CallCollector.function,\n",
    "                            CallCollector.args,\n",
    "                            CallCollector.exception,\n",
    "                            CallCollector.call,\n",
    "                            CallReducer.__init__,\n",
    "                            CallReducer.reduce_arg,\n",
    "                            DeltaDebugger.dd,\n",
    "                            DeltaDebugger.min_args,\n",
    "                            DeltaDebugger.max_args,\n",
    "                            DeltaDebugger.min_arg_diff,\n",
    "                            DeltaDebugger.__repr__\n",
    "                        ],\n",
    "                        project='debuggingbook')"
   ]
  },
  {
   "attachments": {},
   "cell_type": "markdown",
   "metadata": {
    "button": false,
    "new_sheet": true,
    "run_control": {
     "read_only": false
    },
    "slideshow": {
     "slide_type": "slide"
    }
   },
   "source": [
    "## Lessons Learned\n",
    "\n",
    "* Reducing failure-inducing inputs to a minimum is helpful for testing and debugging.\n",
    "* _Delta debugging_ is a simple and robust algorithm to easily reduce inputs of test cases, as well as their code.\n",
    "* Precisely specifying failure conditions helps to avoid false diagnoses."
   ]
  },
  {
   "cell_type": "markdown",
   "metadata": {
    "button": false,
    "new_sheet": false,
    "run_control": {
     "read_only": false
    },
    "slideshow": {
     "slide_type": "slide"
    }
   },
   "source": [
    "## Next Steps\n",
    "\n",
    "Our next chapter focuses on [finding _failure-inducing code changes_](ChangeDebugger.ipynb), using delta debugging and version control systems."
   ]
  },
  {
   "attachments": {},
   "cell_type": "markdown",
   "metadata": {
    "slideshow": {
     "slide_type": "slide"
    }
   },
   "source": [
    "## Background\n",
    "\n",
    "The \"lexical\" delta debugging algorithm discussed here – both in its simplifying `ddmin` and in its general `dd` form – stem from \\cite{Zeller2002}; actually, `ddmin` is the exact Python implementation as used by Zeller in 2002. The `ddmax` variant was first evaluated in \\cite{Kirschner2020}. This chapter is the first to show how both `ddmin` and `ddmax` can be implemented as small variations of `dd`."
   ]
  },
  {
   "attachments": {},
   "cell_type": "markdown",
   "metadata": {
    "slideshow": {
     "slide_type": "fragment"
    }
   },
   "source": [
    "The idea of systematically reducing inputs has been discovered a number of times, although not as automatic and generic as delta debugging. \\cite{Slutz1998}, for instance, discusses systematic reduction of SQL statements for SQL databases; the general process as manual work is well described by \\cite{Kernighan1999}."
   ]
  },
  {
   "cell_type": "markdown",
   "metadata": {
    "slideshow": {
     "slide_type": "subslide"
    }
   },
   "source": [
    "The deficits of delta debugging as it comes to syntactically complex inputs were first discussed in *compiler testing*, and _reducing tree inputs_ rather than string inputs was quickly discovered as an alternative.  *Hierarchical Delta Debugging* (*HDD*) \\cite{Misherghi2006} applies delta debugging on subtrees of a parse tree, systematically reducing a parse tree to a minimum.  _Generalized Tree Reduction_ \\cite{Herfert2017} generalizes this idea to apply arbitrary _patterns_ such as replacing a term by a compatible term in a subtree.  Using _grammars_ to reduce inputs was first implemented in the _Perses_ tool \\cite{Sun2018}. [A Python implementation of grammar-based input reduction](https://www.fuzzingbook.org/html/Reducer.html#Grammar-Based-Input-Reduction) is part of \"The Fuzzing Book\"."
   ]
  },
  {
   "cell_type": "markdown",
   "metadata": {
    "slideshow": {
     "slide_type": "subslide"
    }
   },
   "source": [
    "While applying delta debugging to code lines does a decent job, _syntactic_ and especially _language-specific_ approaches can do a much better job for the programming language at hand:\n",
    "\n",
    "* *C-Reduce* \\cite{Regehr2012} is a reducer specifically targeting the reduction of programming languages.  Besides reductions in the style of delta debugging or tree transformations, C-Reduce comes with more than 30 source-to-source transformations that replace aggregates by scalars, remove function parameters at a definition and all call sites, change functions to return `void` and deleting all `return` statements, and many more.  While specifically instantiated for the C language (and used for testing C compilers), these principles extend to arbitrary programming languages following an ALGOL-like syntax.\n",
    "\n",
    "* Kalhauge and Palsberg \\cite{Kalhauge2019} introduce *binary reduction of dependency graphs*, a general solution for reducing arbitrary inputs with dependencies. Their *J-Reduce* tool specifically targets Java programs, and again is much faster than delta debugging and achieves a higher reduction rate."
   ]
  },
  {
   "cell_type": "markdown",
   "metadata": {
    "slideshow": {
     "slide_type": "subslide"
    }
   },
   "source": [
    "Reducing inputs also works well in the context of _property-based testing_; that is, generating data structures for individual functions, which can then be reduced (\"shrunk\") upon failure. The [Hypothesis](https://hypothesis.works) fuzzer has a number of type-specific shrinking strategies; this [blog article](https://hypothesis.works/articles/integrated-shrinking/) discusses some of its features."
   ]
  },
  {
   "cell_type": "markdown",
   "metadata": {
    "slideshow": {
     "slide_type": "fragment"
    }
   },
   "source": [
    "This [blog post](https://www.drmaciver.com/2019/01/notes-on-test-case-reduction/) by David McIver contains lots of insights on how to apply reduction in practice, in particular multiple runs with different abstraction levels."
   ]
  },
  {
   "cell_type": "markdown",
   "metadata": {
    "button": false,
    "new_sheet": true,
    "run_control": {
     "read_only": false
    },
    "slideshow": {
     "slide_type": "slide"
    }
   },
   "source": [
    "## Exercises\n",
    "\n",
    "How to best reduce inputs is still an underdeveloped field of research, with lots of opportunities."
   ]
  },
  {
   "cell_type": "markdown",
   "metadata": {
    "button": false,
    "new_sheet": false,
    "run_control": {
     "read_only": false
    },
    "slideshow": {
     "slide_type": "subslide"
    },
    "solution": "hidden",
    "solution2": "hidden",
    "solution2_first": true,
    "solution_first": true
   },
   "source": [
    "### Exercise 1: Advanced Syntactic Code Reduction\n",
    "\n",
    "Extend the code in [\"Transforming Nodes\"](#Transforming-Nodes) such that _multiple_ reduction possibilities for a node are being considered. For instance:\n",
    "\n",
    "* Replace a `BoolOp` node by `True`.\n",
    "* Replace a `BoolOp` node by `False`.\n",
    "* Replace a `BoolOp` node by its left operand.\n",
    "* Replace a `BoolOp` node by its right operand.\n",
    "\n",
    "or:\n",
    "\n",
    "* Replace an `If` node by its \"then\" body.\n",
    "* Replace an `If` node by its \"else\" body.\n",
    "\n",
    "or:\n",
    "\n",
    "* Replace all instances of a variable by a constant.\n",
    "\n",
    "or:\n",
    "\n",
    "* Replace expressions by a constant.\n",
    "\n",
    "Have a look at the [official Python `ast` reference](http://docs.python.org/3/library/ast) for a list of nodes (and some ideas on what to replace them by). The documentation [\"Green Tree Snakes - the missing Python AST docs\"](https://greentreesnakes.readthedocs.io/en/latest/) provides an excellent introduction on visitors and transformers. Make copious use of AST visualization and tests to ensure your syntax trees are still correct.\n",
    "\n",
    "Strategy-wise, you should first create a list of _possible_ reductions; and then pass to Delta Debugging a \"keep list\" of reductions that should _not_ be applied. When Delta Debugging minimizes this list, it will apply as many reductions as possible."
   ]
  }
 ],
 "metadata": {
  "ipub": {
   "bibliography": "fuzzingbook.bib",
   "toc": true
  },
  "kernelspec": {
   "display_name": "Python 3 (ipykernel)",
   "language": "python",
   "name": "python3"
  },
  "language_info": {
   "codemirror_mode": {
    "name": "ipython",
    "version": 3
   },
   "file_extension": ".py",
   "mimetype": "text/x-python",
   "name": "python",
   "nbconvert_exporter": "python",
   "pygments_lexer": "ipython3",
   "version": "3.10.2"
  },
  "toc": {
   "base_numbering": 1,
   "nav_menu": {},
   "number_sections": true,
   "sideBar": true,
   "skip_h1_title": true,
   "title_cell": "",
   "title_sidebar": "Contents",
   "toc_cell": false,
   "toc_position": {},
   "toc_section_display": true,
   "toc_window_display": true
  },
  "toc-autonumbering": false,
  "varInspector": {
   "cols": {
    "lenName": 16,
    "lenType": 16,
    "lenVar": 40
   },
   "kernels_config": {
    "python": {
     "delete_cmd_postfix": "",
     "delete_cmd_prefix": "del ",
     "library": "var_list.py",
     "varRefreshCmd": "print(var_dic_list())"
    },
    "r": {
     "delete_cmd_postfix": ") ",
     "delete_cmd_prefix": "rm(",
     "library": "var_list.r",
     "varRefreshCmd": "cat(var_dic_list()) "
    }
   },
   "types_to_exclude": [
    "module",
    "function",
    "builtin_function_or_method",
    "instance",
    "_Feature"
   ],
   "window_display": false
  }
 },
 "nbformat": 4,
 "nbformat_minor": 4
}